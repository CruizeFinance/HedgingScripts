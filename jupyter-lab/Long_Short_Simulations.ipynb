{
 "cells": [
  {
   "cell_type": "code",
   "execution_count": 2,
   "metadata": {},
   "outputs": [
    {
     "name": "stdout",
     "output_type": "stream",
     "text": [
      "Requirement already satisfied: pandas in /home/ubuntu/cruize/env/lib/python3.10/site-packages (1.5.0)\n",
      "Requirement already satisfied: scipy in /home/ubuntu/cruize/env/lib/python3.10/site-packages (1.9.1)\n",
      "Requirement already satisfied: pygsheets in /home/ubuntu/cruize/env/lib/python3.10/site-packages (2.0.5)\n",
      "Requirement already satisfied: matplotlib in /home/ubuntu/cruize/env/lib/python3.10/site-packages (3.6.0)\n",
      "Requirement already satisfied: python-dateutil>=2.8.1 in /home/ubuntu/cruize/env/lib/python3.10/site-packages (from pandas) (2.8.2)\n",
      "Requirement already satisfied: numpy>=1.21.0 in /home/ubuntu/cruize/env/lib/python3.10/site-packages (from pandas) (1.23.3)\n",
      "Requirement already satisfied: pytz>=2020.1 in /home/ubuntu/cruize/env/lib/python3.10/site-packages (from pandas) (2022.2.1)\n",
      "Requirement already satisfied: google-auth-oauthlib in /home/ubuntu/cruize/env/lib/python3.10/site-packages (from pygsheets) (0.5.3)\n",
      "Requirement already satisfied: google-api-python-client>=1.5.5 in /home/ubuntu/cruize/env/lib/python3.10/site-packages (from pygsheets) (2.63.0)\n",
      "Requirement already satisfied: contourpy>=1.0.1 in /home/ubuntu/cruize/env/lib/python3.10/site-packages (from matplotlib) (1.0.5)\n",
      "Requirement already satisfied: pyparsing>=2.2.1 in /home/ubuntu/cruize/env/lib/python3.10/site-packages (from matplotlib) (3.0.9)\n",
      "Requirement already satisfied: kiwisolver>=1.0.1 in /home/ubuntu/cruize/env/lib/python3.10/site-packages (from matplotlib) (1.4.4)\n",
      "Requirement already satisfied: fonttools>=4.22.0 in /home/ubuntu/cruize/env/lib/python3.10/site-packages (from matplotlib) (4.37.3)\n",
      "Requirement already satisfied: pillow>=6.2.0 in /home/ubuntu/cruize/env/lib/python3.10/site-packages (from matplotlib) (9.2.0)\n",
      "Requirement already satisfied: cycler>=0.10 in /home/ubuntu/cruize/env/lib/python3.10/site-packages (from matplotlib) (0.11.0)\n",
      "Requirement already satisfied: packaging>=20.0 in /home/ubuntu/cruize/env/lib/python3.10/site-packages (from matplotlib) (21.3)\n",
      "Requirement already satisfied: google-api-core!=2.0.*,!=2.1.*,!=2.2.*,!=2.3.0,<3.0.0dev,>=1.31.5 in /home/ubuntu/cruize/env/lib/python3.10/site-packages (from google-api-python-client>=1.5.5->pygsheets) (2.10.1)\n",
      "Requirement already satisfied: uritemplate<5,>=3.0.1 in /home/ubuntu/cruize/env/lib/python3.10/site-packages (from google-api-python-client>=1.5.5->pygsheets) (4.1.1)\n",
      "Requirement already satisfied: httplib2<1dev,>=0.15.0 in /home/ubuntu/cruize/env/lib/python3.10/site-packages (from google-api-python-client>=1.5.5->pygsheets) (0.20.4)\n",
      "Requirement already satisfied: google-auth<3.0.0dev,>=1.19.0 in /home/ubuntu/cruize/env/lib/python3.10/site-packages (from google-api-python-client>=1.5.5->pygsheets) (2.12.0)\n",
      "Requirement already satisfied: google-auth-httplib2>=0.1.0 in /home/ubuntu/cruize/env/lib/python3.10/site-packages (from google-api-python-client>=1.5.5->pygsheets) (0.1.0)\n",
      "Requirement already satisfied: six>=1.5 in /home/ubuntu/cruize/env/lib/python3.10/site-packages (from python-dateutil>=2.8.1->pandas) (1.16.0)\n",
      "Requirement already satisfied: requests-oauthlib>=0.7.0 in /home/ubuntu/cruize/env/lib/python3.10/site-packages (from google-auth-oauthlib->pygsheets) (1.3.1)\n",
      "Requirement already satisfied: requests<3.0.0dev,>=2.18.0 in /home/ubuntu/cruize/env/lib/python3.10/site-packages (from google-api-core!=2.0.*,!=2.1.*,!=2.2.*,!=2.3.0,<3.0.0dev,>=1.31.5->google-api-python-client>=1.5.5->pygsheets) (2.28.1)\n",
      "Requirement already satisfied: googleapis-common-protos<2.0dev,>=1.56.2 in /home/ubuntu/cruize/env/lib/python3.10/site-packages (from google-api-core!=2.0.*,!=2.1.*,!=2.2.*,!=2.3.0,<3.0.0dev,>=1.31.5->google-api-python-client>=1.5.5->pygsheets) (1.56.4)\n",
      "Requirement already satisfied: protobuf<5.0.0dev,>=3.20.1 in /home/ubuntu/cruize/env/lib/python3.10/site-packages (from google-api-core!=2.0.*,!=2.1.*,!=2.2.*,!=2.3.0,<3.0.0dev,>=1.31.5->google-api-python-client>=1.5.5->pygsheets) (4.21.7)\n",
      "Requirement already satisfied: pyasn1-modules>=0.2.1 in /home/ubuntu/cruize/env/lib/python3.10/site-packages (from google-auth<3.0.0dev,>=1.19.0->google-api-python-client>=1.5.5->pygsheets) (0.2.8)\n",
      "Requirement already satisfied: cachetools<6.0,>=2.0.0 in /home/ubuntu/cruize/env/lib/python3.10/site-packages (from google-auth<3.0.0dev,>=1.19.0->google-api-python-client>=1.5.5->pygsheets) (5.2.0)\n",
      "Requirement already satisfied: rsa<5,>=3.1.4 in /home/ubuntu/cruize/env/lib/python3.10/site-packages (from google-auth<3.0.0dev,>=1.19.0->google-api-python-client>=1.5.5->pygsheets) (4.9)\n",
      "Requirement already satisfied: oauthlib>=3.0.0 in /home/ubuntu/cruize/env/lib/python3.10/site-packages (from requests-oauthlib>=0.7.0->google-auth-oauthlib->pygsheets) (3.2.1)\n",
      "Requirement already satisfied: pyasn1<0.5.0,>=0.4.6 in /home/ubuntu/cruize/env/lib/python3.10/site-packages (from pyasn1-modules>=0.2.1->google-auth<3.0.0dev,>=1.19.0->google-api-python-client>=1.5.5->pygsheets) (0.4.8)\n",
      "Requirement already satisfied: urllib3<1.27,>=1.21.1 in /home/ubuntu/cruize/env/lib/python3.10/site-packages (from requests<3.0.0dev,>=2.18.0->google-api-core!=2.0.*,!=2.1.*,!=2.2.*,!=2.3.0,<3.0.0dev,>=1.31.5->google-api-python-client>=1.5.5->pygsheets) (1.26.12)\n",
      "Requirement already satisfied: certifi>=2017.4.17 in /home/ubuntu/cruize/env/lib/python3.10/site-packages (from requests<3.0.0dev,>=2.18.0->google-api-core!=2.0.*,!=2.1.*,!=2.2.*,!=2.3.0,<3.0.0dev,>=1.31.5->google-api-python-client>=1.5.5->pygsheets) (2022.9.24)\n",
      "Requirement already satisfied: idna<4,>=2.5 in /home/ubuntu/cruize/env/lib/python3.10/site-packages (from requests<3.0.0dev,>=2.18.0->google-api-core!=2.0.*,!=2.1.*,!=2.2.*,!=2.3.0,<3.0.0dev,>=1.31.5->google-api-python-client>=1.5.5->pygsheets) (3.4)\n",
      "Requirement already satisfied: charset-normalizer<3,>=2 in /home/ubuntu/cruize/env/lib/python3.10/site-packages (from requests<3.0.0dev,>=2.18.0->google-api-core!=2.0.*,!=2.1.*,!=2.2.*,!=2.3.0,<3.0.0dev,>=1.31.5->google-api-python-client>=1.5.5->pygsheets) (2.1.1)\n"
     ]
    }
   ],
   "source": [
    "!pip install pandas scipy pygsheets matplotlib\n",
    "\n",
    "import os\n",
    "import pygsheets\n",
    "import matplotlib.pyplot as plt\n",
    "from scipy.stats import norm\n",
    "import csv\n",
    "import pandas as pd\n",
    "import numpy as np\n",
    "import json\n",
    "import math\n",
    "import random"
   ]
  },
  {
   "cell_type": "markdown",
   "metadata": {
    "tags": []
   },
   "source": [
    "# Classes"
   ]
  },
  {
   "cell_type": "markdown",
   "metadata": {
    "jp-MarkdownHeadingCollapsed": true,
    "tags": []
   },
   "source": [
    "## StgyApp"
   ]
  },
  {
   "cell_type": "markdown",
   "metadata": {},
   "source": [
    "The main class for initializing everything and running simulations through reading prices in the dataset, updating all the parameters involved and executing the needed actions."
   ]
  },
  {
   "cell_type": "code",
   "execution_count": 14,
   "metadata": {
    "tags": []
   },
   "outputs": [],
   "source": [
    "class StgyApp(object):\n",
    "\n",
    "    def __init__(self, config):\n",
    "\n",
    "        self.stk = config[\"stk\"]\n",
    "        self.total_costs_from_aave_n_dydx = 0\n",
    "        self.total_pnl = 0\n",
    "        self.gas_fees = 0\n",
    "\n",
    "        # prices and intervals\n",
    "        self.trigger_prices = {}\n",
    "        self.intervals = {}\n",
    "\n",
    "        # clients for data\n",
    "        # self.binance_client = binance_client_.BinanceClient(config[\"binance_client\"])\n",
    "        # self.dydx_client = dydx_client.DydxClient(config[\"dydx_client\"])\n",
    "        # self.sm_interactor = sm_interactor.SmInteractor(config[\"sm_interactor\"])\n",
    "        # self.historical_data =\n",
    "\n",
    "        # We create attributes to fill later\n",
    "        self.aave = None\n",
    "        self.aave_features = None\n",
    "        self.aave_rates = None\n",
    "\n",
    "        self.dydx = None\n",
    "        self.dydx_features = None\n",
    "\n",
    "        # self.volatility_calculator = None\n",
    "\n",
    "        self.parameter_manager = ParameterManager()\n",
    "\n",
    "        self.historical_data = None\n",
    "\n",
    "\n",
    "        self.data_dumper = DataDamperNPlotter()\n",
    "\n",
    "    def launch(self, config):\n",
    "        # self.call_binance_data_loader()\n",
    "        self.initialize_aave(config['initial_parameters']['aave'])\n",
    "        self.initialize_dydx(config['initial_parameters']['dydx'])\n",
    "\n",
    "    # call clients functions\n",
    "    def get_historical_data(self, symbol, freq,\n",
    "                                 initial_date, save):\n",
    "        eth_historical = self.binance_client.get_all_binance(symbol=symbol, freq=freq,\n",
    "                                                             initial_date=initial_date, save=save)\n",
    "        # self.historical_data = eth_historical\n",
    "        self.historical_data = eth_historical[\"close\"]\n",
    "        for i in range(len(self.historical_data)):\n",
    "            self.historical_data[i] = float(self.historical_data[i])\n",
    "        # self.load_intervals()\n",
    "\n",
    "    # initialize classes\n",
    "    def initialize_aave(self, config):\n",
    "        # We initialize aave and dydx classes instances\n",
    "        self.aave = Aave(config)\n",
    "        # We load methods and attributes for aave and dydx to use later\n",
    "        self.aave_features = {\"methods\": [func for func in dir(self.aave)\n",
    "                                          if (callable(getattr(self.aave, func))) & (not func.startswith('__'))],\n",
    "                              \"attributes\": {\"values\": list(self.aave.__dict__.values()),\n",
    "                                             \"keys\": list(self.aave.__dict__.keys())}}\n",
    "        # We create an attribute for historical data\n",
    "        self.aave_historical_data = []\n",
    "\n",
    "    def initialize_dydx(self, config):\n",
    "        self.dydx = Dydx(config)\n",
    "        self.dydx_features = {\"methods\": [func for func in dir(self.dydx)\n",
    "                                          if (callable(getattr(self.dydx, func))) & (not func.startswith('__'))],\n",
    "                              \"attributes\": {\"values\": list(self.dydx.__dict__.values()),\n",
    "                                             \"keys\": list(self.dydx.__dict__.keys())}}\n",
    "        self.dydx_historical_data = []"
   ]
  },
  {
   "cell_type": "markdown",
   "metadata": {
    "jp-MarkdownHeadingCollapsed": true,
    "tags": []
   },
   "source": [
    "## Aave and DyDx modules"
   ]
  },
  {
   "cell_type": "markdown",
   "metadata": {},
   "source": [
    "Modules with parameters for the protocols involved in the strategy (Aave and DyDx), methods for updating all the parameters given a new price read by the bot and methods for executing the actions needed."
   ]
  },
  {
   "cell_type": "markdown",
   "metadata": {
    "tags": []
   },
   "source": [
    "### Aave"
   ]
  },
  {
   "cell_type": "code",
   "execution_count": 15,
   "metadata": {},
   "outputs": [],
   "source": [
    "class Aave(object):\n",
    "\n",
    "    def __init__(self, config):\n",
    "        # assert self.dydx_class_instance == isinstance(dydx)\n",
    "        # assert config['debt'] == config['collateral_eth'] * config['borrowed_pcg']\n",
    "        self.market_price = config['market_price']\n",
    "\n",
    "        self.entry_price = config['entry_price']\n",
    "\n",
    "        self.collateral_eth_initial = config['collateral_eth']\n",
    "        self.collateral_eth = config['collateral_eth']\n",
    "        self.collateral_usdc = config['collateral_usdc']\n",
    "\n",
    "        self.reserve_margin_eth = 0\n",
    "        self.reserve_margin_usdc = 0\n",
    "\n",
    "        self.borrowed_percentage = config['borrowed_pcg']\n",
    "        self.usdc_status = config['usdc_status']\n",
    "\n",
    "        self.debt = config['debt']\n",
    "        self.debt_initial = config['debt']\n",
    "\n",
    "        self.ltv = config['ltv']\n",
    "        self.price_to_ltv_limit = config['price_to_ltv_limit']\n",
    "\n",
    "        self.lending_rate = 0\n",
    "        self.lending_rate_hourly = 0\n",
    "        self.interest_on_lending_eth = 0  # aggregated fees\n",
    "        self.interest_on_lending_usd = 0\n",
    "        self.lending_fees_eth = 0 # fees between last 2 prices\n",
    "        self.lending_fees_usd = 0\n",
    "\n",
    "        self.borrowing_rate = 0\n",
    "        self.borrowing_rate_hourly = 0\n",
    "        self.interest_on_borrowing = 0 # aggregated fees\n",
    "        self.borrowing_fees = 0 # fees between last 2 prices\n",
    "\n",
    "        self.lend_minus_borrow_interest = 0\n",
    "\n",
    "        self.costs = 0\n",
    "        # self.historical = pd.DataFrame()\n",
    "        # self.dydx_class_instance = dydx_class_instance\n",
    "        # self.staked_in_protocol = stk\n",
    "\n",
    "    # def update_costs(self):\n",
    "    #     \"\"\"\n",
    "    #     it requires having called borrowing_fees_calc() in order to use updated values of last earned fees\n",
    "    #     \"\"\"\n",
    "    #     # We have to substract lend_minus_borrow in order to increase the cost (negative cost means profit)\n",
    "    #     self.costs = self.costs - self.lend_minus_borrow_interest\n",
    "\n",
    "    def collateral_usd(self):\n",
    "        return self.collateral_eth * self.market_price\n",
    "\n",
    "    def update_debt(self):\n",
    "        \"\"\"\n",
    "        it requires having called borrowing_fees_calc() in order to use updated values of last earned fees\n",
    "        \"\"\"\n",
    "        self.debt = self.debt + self.borrowing_fees\n",
    "\n",
    "    def update_collateral(self):\n",
    "        \"\"\"\n",
    "        it requires having called lending_fees_calc() in order to use updated values of last earned fees\n",
    "        \"\"\"\n",
    "        self.collateral_eth = self.collateral_eth + self.lending_fees_eth\n",
    "        self.collateral_usdc = self.collateral_usd()\n",
    "\n",
    "    def track_lend_borrow_interest(self):\n",
    "        \"\"\"\n",
    "        it requires having called borrowing_fees_calc() and lending_fees_calc()\n",
    "        in order to use updated values of last earned fees\n",
    "        \"\"\"\n",
    "        self.lend_minus_borrow_interest = self.interest_on_lending_usd - self.interest_on_borrowing\n",
    "\n",
    "    def lending_fees_calc(self, freq):\n",
    "        self.simulate_lending_rate()\n",
    "        self.lending_rate_freq = self.lending_rate / freq\n",
    "\n",
    "        # fees from lending are added to collateral? YES\n",
    "        # lending rate is applied to coll+lend fees every time or just to initial coll? COLL+LEND ie LAST VALUE\n",
    "        self.lending_fees_eth = self.collateral_eth * self.lending_rate_freq\n",
    "        self.lending_fees_usd = self.lending_fees_eth * self.market_price\n",
    "        self.interest_on_lending_eth = self.interest_on_lending_eth + self.lending_fees_eth\n",
    "        self.interest_on_lending_usd = self.interest_on_lending_usd + self.lending_fees_usd\n",
    "\n",
    "    def borrowing_fees_calc(self, freq):\n",
    "        self.simulate_borrowing_rate()\n",
    "        self.borrowing_rate_freq = self.borrowing_rate / freq\n",
    "\n",
    "        # fees from borrow are added to debt? YES\n",
    "        # borrowing rate is applied to debt+borrow fees every time or just to initial debt? DEBT+BORROW ie LAST VALUE\n",
    "        self.borrowing_fees = self.debt * self.borrowing_rate_freq\n",
    "        self.interest_on_borrowing = self.interest_on_borrowing + self.borrowing_fees\n",
    "\n",
    "    def simulate_lending_rate(self):\n",
    "        # self.lending_rate = round(random.choice(list(np.arange(0.5/100, 1.5/100, 0.25/100))), 6)  # config['lending_rate']\n",
    "\n",
    "        # best case\n",
    "        # self.lending_rate = 1.5 / 100\n",
    "\n",
    "        # worst case\n",
    "        self.lending_rate = 0.5 / 100\n",
    "\n",
    "    def simulate_borrowing_rate(self):\n",
    "        # self.borrowing_rate = round(random.choice(list(np.arange(1.5/100, 2.5/100, 0.25/100))), 6)  # config['borrowing_rate']\n",
    "\n",
    "        # best case\n",
    "        # self.borrowing_rate = 1.5/100\n",
    "\n",
    "        # worst case\n",
    "        self.borrowing_rate = 2.5/100\n",
    "\n",
    "    def ltv_calc(self):\n",
    "        if self.collateral_usd() == 0:\n",
    "            return 0\n",
    "        else:\n",
    "            return self.debt / self.collateral_usd()\n",
    "\n",
    "    def price_to_liquidation(self, dydx_class_instance):\n",
    "        return self.entry_price - (dydx_class_instance.short_pnl()\n",
    "                                   + self.debt - self.lend_minus_borrow_interest) / self.collateral_eth\n",
    "\n",
    "    def price_to_ltv_limit_calc(self):\n",
    "        return round(self.entry_price * self.borrowed_percentage / self.ltv_limit(), 3)\n",
    "\n",
    "    def buffer_for_repay(self):\n",
    "        return 0.01\n",
    "\n",
    "    def ltv_limit(self):\n",
    "        return 0.5\n",
    "\n",
    "    # Actions to take\n",
    "    def return_usdc(self, stgy_instance):\n",
    "        gas_fees = stgy_instance.gas_fees\n",
    "        time = 0\n",
    "        if self.usdc_status:\n",
    "            # simulate 2min delay for tx\n",
    "            # update parameters\n",
    "            # AAVE parameters\n",
    "            self.usdc_status = False\n",
    "            # self.collateral_eth = 0\n",
    "            # self.collateral_usdc = 0\n",
    "            self.debt = 0\n",
    "            self.ltv = 0\n",
    "            self.price_to_ltv_limit = 0\n",
    "            # self.lending_rate = 0\n",
    "            # self.borrowing_rate = 0\n",
    "\n",
    "            # fees\n",
    "            self.costs = self.costs + gas_fees\n",
    "\n",
    "            time = 1\n",
    "        return time\n",
    "\n",
    "    def repay_aave(self, stgy_instance):\n",
    "        gas_fees = stgy_instance.gas_fees\n",
    "        dydx_class_instance = stgy_instance.dydx\n",
    "        # aave_class_instance = stgy_instance.aave\n",
    "        # dydx_client_class_instance = stgy_instance.dydx_client\n",
    "        #\n",
    "        time = 0\n",
    "        if self.usdc_status:\n",
    "            # update parameters\n",
    "            short_size_for_debt = self.debt / (self.market_price - dydx_class_instance.short_entry_price)\n",
    "            new_short_size = dydx_class_instance.short_size - short_size_for_debt\n",
    "\n",
    "            # pnl_for_debt = dydx_class_instance.pnl()\n",
    "            # We have to repeat the calculations for pnl and notional methods, but using different size_eth\n",
    "            pnl_for_debt = short_size_for_debt * (self.market_price - dydx_class_instance.short_entry_price)\n",
    "            self.debt = self.debt - pnl_for_debt\n",
    "            self.ltv = self.ltv_calc()\n",
    "\n",
    "            self.price_to_ltv_limit = round(self.entry_price * (self.debt / self.collateral_usdc) / self.ltv_limit(), 3)\n",
    "            self.costs = self.costs + gas_fees\n",
    "\n",
    "            dydx_class_instance.short_size = new_short_size\n",
    "            dydx_class_instance.short_notional = dydx_class_instance.short_notional_calc()\n",
    "            dydx_class_instance.short_equity = dydx_class_instance.short_equity_calc()\n",
    "            dydx_class_instance.short_leverage = dydx_class_instance.short_leverage_calc()\n",
    "            dydx_class_instance.short_pnl = dydx_class_instance.short_pnl_calc()\n",
    "            # dydx_class_instance.price_to_liquidation = \\\n",
    "            #     dydx_class_instance.price_to_liquidation_calc(dydx_client_class_instance)\n",
    "\n",
    "            # fees\n",
    "            # withdrawal_fees = pnl_for_debt * dydx_class_instance.withdrawal_fees\n",
    "            dydx_class_instance.simulate_maker_taker_fees()\n",
    "            notional_for_fees = abs(short_size_for_debt) * self.market_price\n",
    "            dydx_class_instance.short_costs = dydx_class_instance.short_costs \\\n",
    "                                              + dydx_class_instance.maker_taker_fees * notional_for_fees \\\n",
    "                                              + pnl_for_debt * dydx_class_instance.withdrawal_fees\n",
    "\n",
    "            # Note that a negative self.debt is actually a profit\n",
    "            # We update the parameters\n",
    "            if self.debt > 0:\n",
    "                self.usdc_status = True\n",
    "            else:\n",
    "                self.usdc_status = False\n",
    "            # simulate 2min delay for tx\n",
    "            time = 1\n",
    "        return time"
   ]
  },
  {
   "cell_type": "markdown",
   "metadata": {
    "jp-MarkdownHeadingCollapsed": true,
    "tags": []
   },
   "source": [
    "### DyDx"
   ]
  },
  {
   "cell_type": "code",
   "execution_count": 16,
   "metadata": {},
   "outputs": [],
   "source": [
    "class Dydx(object):\n",
    "\n",
    "    def __init__(self, config):\n",
    "        # assert aave_class == isinstance(aave)\n",
    "        self.market_price = config['market_price']\n",
    "\n",
    "        # Short attributes\n",
    "        self.short_entry_price = config['entry_price']\n",
    "        self.short_size = config['short_size']\n",
    "        self.short_collateral = config['collateral']\n",
    "        self.short_notional = config['notional']\n",
    "        self.short_equity = config['equity']\n",
    "        self.short_leverage = config['leverage']\n",
    "        self.short_pnl = config['pnl']\n",
    "        self.short_collateral_status = config['collateral_status']\n",
    "        self.short_status = config['short_status']\n",
    "        self.short_costs = 0\n",
    "\n",
    "        # Long attributes\n",
    "        self.long_entry_price = config['entry_price']\n",
    "        self.long_size = config['short_size']\n",
    "        self.long_notional = config['notional']\n",
    "        # self.long_equity = config['equity']\n",
    "        # self.long_leverage = config['leverage']\n",
    "        self.long_pnl = config['pnl']\n",
    "        self.long_status = config['short_status']\n",
    "        self.long_costs = 0\n",
    "\n",
    "        self.order_status = True\n",
    "        self.withdrawal_fees = 0.01 / 100\n",
    "        self.funding_rates = 0\n",
    "        self.maker_taker_fees = 0\n",
    "        self.maker_fees_counter = 0\n",
    "\n",
    "\n",
    "    # auxiliary functions\n",
    "    # Short methods\n",
    "    def short_pnl_calc(self):\n",
    "        return self.short_size * (self.market_price - self.short_entry_price)\n",
    "\n",
    "    def short_notional_calc(self):\n",
    "        return abs(self.short_size) * self.market_price\n",
    "\n",
    "    def short_equity_calc(self):\n",
    "        return self.short_collateral + self.short_pnl_calc()\n",
    "\n",
    "    def short_leverage_calc(self):\n",
    "        if self.short_equity_calc() == 0:\n",
    "            return 0\n",
    "        else:\n",
    "            return self.short_notional_calc() / self.short_equity_calc()\n",
    "\n",
    "    # Long methods\n",
    "    def long_pnl_calc(self):\n",
    "        return self.long_size * (self.market_price - self.long_entry_price)\n",
    "\n",
    "    def long_notional_calc(self):\n",
    "        return abs(self.long_size) * self.market_price\n",
    "\n",
    "    def price_to_repay_aave_debt_calc(self, pcg_of_debt_to_cover, aave_class_instance):\n",
    "        return self.short_entry_price \\\n",
    "               + aave_class_instance.debt * pcg_of_debt_to_cover / self.short_size\n",
    "\n",
    "    @staticmethod\n",
    "    def price_to_liquidation_calc(dydx_client_class_instance):\n",
    "        return dydx_client_class_instance.dydx_margin_parameters[\"liquidation_price\"]\n",
    "\n",
    "    def add_funding_rates(self):\n",
    "        self.simulate_funding_rates()\n",
    "        self.short_costs = self.short_costs - self.funding_rates * self.short_notional\n",
    "\n",
    "    def simulate_funding_rates(self):\n",
    "        # self.funding_rates = round(random.choice(list(np.arange(-0.0075/100, 0.0075/100, 0.0005/100))), 6)\n",
    "\n",
    "        # best case\n",
    "        # self.funding_rates = 0.0075 / 100\n",
    "\n",
    "        # average -0.00443%\n",
    "\n",
    "        # worst case\n",
    "        self.funding_rates = -0.0075 / 100\n",
    "\n",
    "    def simulate_maker_taker_fees(self):\n",
    "        # We add a counter for how many times we call this function\n",
    "        # i.e. how many times we open and close the short\n",
    "        self.maker_fees_counter += 1\n",
    "        # self.maker_taker_fees = round(random.choice(list(np.arange(0.01/100, 0.035/100, 0.0025/100))), 6)\n",
    "\n",
    "        # maker fees\n",
    "        self.maker_taker_fees = 0.05 / 100  # <1M\n",
    "        # self.maker_taker_fees = 0.04 / 100 # <5M\n",
    "        # self.maker_taker_fees = 0.035 / 100 # <10M\n",
    "        # self.maker_taker_fees = 0.03 / 100 # <50M\n",
    "        # self.maker_taker_fees = 0.025 / 100 # <200M\n",
    "        # self.maker_taker_fees = 0.02 / 100  # >200M\n",
    "\n",
    "    # Actions to take\n",
    "    def remove_collateral(self, stgy_instance):\n",
    "        self.cancel_order()\n",
    "        time = 0\n",
    "        if self.short_collateral_status:\n",
    "            self.short_collateral_status = False\n",
    "            withdrawal_fees = self.short_collateral * self.withdrawal_fees\n",
    "            self.short_collateral = 0\n",
    "            # self.price_to_liquidation = 0\n",
    "\n",
    "            # fees\n",
    "            self.short_costs = self.short_costs + withdrawal_fees\n",
    "\n",
    "            time = 1\n",
    "        return time\n",
    "\n",
    "    def open_short(self, stgy_instance):\n",
    "        aave_class_instance = stgy_instance.aave\n",
    "        # dydx_client_class_instance = stgy_instance.dydx_client\n",
    "        if (not self.short_status) and self.order_status:\n",
    "            self.short_status = True\n",
    "            self.short_entry_price = self.market_price\n",
    "            self.short_size = -aave_class_instance.collateral_eth_initial\n",
    "            # self.collateral = aave_class_instance.debt_initial\n",
    "            self.short_notional = self.short_notional_calc()\n",
    "            self.short_equity = self.short_equity_calc()\n",
    "            self.short_leverage = self.short_leverage_calc()\n",
    "            # Simulate maker taker fees\n",
    "            self.simulate_maker_taker_fees()\n",
    "            # Add costs\n",
    "            self.short_costs = self.short_costs + self.maker_taker_fees * self.short_notional\n",
    "        return 0\n",
    "\n",
    "    def close_short(self, stgy_instance):\n",
    "        if self.short_status:\n",
    "            self.short_notional = self.short_notional_calc()\n",
    "            self.short_equity = self.short_equity_calc()\n",
    "            self.short_leverage = self.short_leverage_calc()\n",
    "            self.short_pnl = self.short_pnl_calc()\n",
    "            stgy_instance.total_pnl = stgy_instance.total_pnl + self.short_pnl\n",
    "            # We update short parameters after the calculation of pnl\n",
    "            self.short_entry_price = 0\n",
    "            self.short_status = False\n",
    "            self.short_size = 0\n",
    "            self.simulate_maker_taker_fees()\n",
    "            self.short_costs = self.short_costs + self.maker_taker_fees * self.short_notional\n",
    "        return 0\n",
    "\n",
    "    def open_long(self, stgy_instance):\n",
    "        aave_class_instance = stgy_instance.aave\n",
    "        # dydx_client_class_instance = stgy_instance.dydx_client\n",
    "        if not self.long_status:\n",
    "            self.long_status = True\n",
    "            self.long_entry_price = self.market_price\n",
    "            self.long_size = aave_class_instance.collateral_eth_initial\n",
    "            # self.collateral = aave_class_instance.debt_initial\n",
    "            self.long_notional = self.long_notional_calc()\n",
    "            # Simulate maker taker fees\n",
    "            self.simulate_maker_taker_fees()\n",
    "            # Add costs\n",
    "            self.long_costs = self.long_costs + self.maker_taker_fees * self.long_notional\n",
    "        return 0\n",
    "\n",
    "    def close_long(self, stgy_instance):\n",
    "        if self.long_status:\n",
    "            self.long_notional = self.long_notional_calc()\n",
    "            self.long_pnl = self.long_pnl_calc()\n",
    "            stgy_instance.total_pnl = stgy_instance.total_pnl + self.long_pnl\n",
    "            # We update short parameters after the calculation of pnl\n",
    "            self.long_entry_price = 0\n",
    "            self.long_status = False\n",
    "            self.long_size = 0\n",
    "            self.simulate_maker_taker_fees()\n",
    "            self.long_costs = self.long_costs + self.maker_taker_fees * self.long_notional\n",
    "        return 0\n",
    "\n",
    "    def place_order(self, price):\n",
    "        self.order_status = True\n",
    "        # self.\n",
    "\n",
    "    def cancel_order(self):\n",
    "        self.order_status = False"
   ]
  },
  {
   "cell_type": "markdown",
   "metadata": {
    "jp-MarkdownHeadingCollapsed": true,
    "tags": []
   },
   "source": [
    "## ParameterManager Module"
   ]
  },
  {
   "cell_type": "markdown",
   "metadata": {},
   "source": [
    "This module is in charge of defining trigger points and intervals, updating parameters given a new price, and fining/executing the needed actions."
   ]
  },
  {
   "cell_type": "code",
   "execution_count": 17,
   "metadata": {},
   "outputs": [],
   "source": [
    "class ParameterManager(object):\n",
    "    # auxiliary functions\n",
    "    @staticmethod\n",
    "    def define_target_prices(stgy_instance, slippage, vol, floor, pcg):\n",
    "        mu = vol[0]\n",
    "        sigma = vol[1]\n",
    "        roof = floor * (1+pcg)\n",
    "        start = (roof+floor)/2\n",
    "        ##########################################################\n",
    "        # We define the intervals\n",
    "        list_of_intervals = [\"roof\",\n",
    "                             \"start\",\n",
    "                             \"floor\"]\n",
    "        list_of_trigger_prices = [roof,\n",
    "                                  start,\n",
    "                                  floor]\n",
    "        # We define/update trigger prices\n",
    "        for i in range(len(list_of_intervals)):\n",
    "            interval_name = list_of_intervals[i]\n",
    "            trigger_price = list_of_trigger_prices[i]\n",
    "            stgy_instance.trigger_prices[interval_name] = trigger_price\n",
    "\n",
    "    @staticmethod\n",
    "    def calc_vol(last_date, data):\n",
    "        periods_for_vol = [6 * 30 * 24 * 60, 3 * 30 * 24 * 60, 1 * 30 * 24 * 60]\n",
    "        last_six_months = data.loc[:last_date][-periods_for_vol[0]:]\n",
    "        for i in range(len(periods_for_vol)):\n",
    "            N = periods_for_vol[i]\n",
    "            log_returns = np.log(last_six_months[-N:]['close']) - np.log(last_six_months[-N:]['close'].shift(1))\n",
    "            globals()['sigma_' + str(i)] = log_returns.ewm(alpha=0.8, adjust=False).std().mean()\n",
    "            globals()['mu_' + str(i)] = log_returns.ewm(alpha=0.8, adjust=False).mean().mean()\n",
    "        mu = mu_0 * 0.1 + mu_1 * 0.3 + mu_2 * 0.6\n",
    "        sigma = sigma_0 * 0.1 + sigma_1 * 0.3 + sigma_2 * 0.6\n",
    "        vol = [mu, sigma]\n",
    "        return vol\n",
    "\n",
    "    @staticmethod\n",
    "    # Checking and updating data\n",
    "    def update_parameters(stgy_instance, new_market_price):\n",
    "        # AAVE\n",
    "        stgy_instance.aave.market_price = new_market_price\n",
    "        # Before updating collateral and debt we have to calculate last earned fees + update interests earned until now\n",
    "        # As we are using hourly data we have to convert anual rate interest into hourly interest, therefore freq=365*24\n",
    "        stgy_instance.aave.lending_fees_calc(freq=365 * 24 * 60)\n",
    "        stgy_instance.aave.borrowing_fees_calc(freq=365 * 24 * 60)\n",
    "        # We have to execute track_ first because we need the fees for current collateral and debt values\n",
    "        stgy_instance.aave.track_lend_borrow_interest()\n",
    "        # stgy_instance.aave.update_costs() # we add lend_borrow_interest to costs\n",
    "        stgy_instance.aave.update_debt()  # we add the last borrowing fees to the debt\n",
    "        stgy_instance.aave.update_collateral()  # we add the last lending fees to the collateral and update both eth and usd values\n",
    "        stgy_instance.aave.ltv = stgy_instance.aave.ltv_calc()\n",
    "\n",
    "        # DYDX\n",
    "        stgy_instance.dydx.market_price = new_market_price\n",
    "        # Short updates\n",
    "        stgy_instance.dydx.short_notional = stgy_instance.dydx.short_notional_calc()\n",
    "        stgy_instance.dydx.short_equity = stgy_instance.dydx.short_equity_calc()\n",
    "        stgy_instance.dydx.short_leverage = stgy_instance.dydx.short_leverage_calc()\n",
    "        stgy_instance.dydx.short_pnl = stgy_instance.dydx.short_pnl_calc()\n",
    "        # Long updates\n",
    "        stgy_instance.dydx.long_notional = stgy_instance.dydx.long_notional_calc()\n",
    "        stgy_instance.dydx.long_pnl = stgy_instance.dydx.long_pnl_calc()\n",
    "\n",
    "    @staticmethod\n",
    "    def reset_costs(stgy_instance):\n",
    "        # We reset the costs in order to always start in 0\n",
    "        stgy_instance.aave.costs = 0\n",
    "        stgy_instance.dydx.short_costs = 0\n",
    "        stgy_instance.dydx.long_costs = 0\n",
    "\n",
    "    def find_scenario(self, stgy_instance, market_price, previous_market_price):\n",
    "        self.simulate_fees(stgy_instance)\n",
    "        roof = stgy_instance.trigger_prices['roof']\n",
    "        start = stgy_instance.trigger_prices['start']\n",
    "        floor = stgy_instance.trigger_prices['floor']\n",
    "        # Case P crossing roof upwards: Close short\n",
    "        if (previous_market_price <= roof) and (market_price >= roof):\n",
    "            if stgy_instance.dydx.short_status:\n",
    "                stgy_instance.dydx.close_short(stgy_instance)\n",
    "        # Case P crossing start in any direction: Start both\n",
    "        elif ((previous_market_price <= start) and (market_price >= start)) or ((previous_market_price >= start) and (market_price <= start)):\n",
    "                stgy_instance.dydx.open_long(stgy_instance)\n",
    "                stgy_instance.dydx.open_short(stgy_instance)\n",
    "        # Case P crossing floor downwards: Close Long\n",
    "        elif (previous_market_price >= floor) and (market_price <= floor):\n",
    "            if stgy_instance.dydx.long_status:\n",
    "                stgy_instance.dydx.close_long(stgy_instance)\n",
    "\n",
    "    @staticmethod\n",
    "    def simulate_fees(stgy_instance):\n",
    "        # stgy_instance.gas_fees = round(random.choice(list(np.arange(1, 10, 0.5))), 6)\n",
    "\n",
    "        # best case\n",
    "        # stgy_instance.gas_fees = 1\n",
    "\n",
    "        # stgy_instance.gas_fees = 3\n",
    "\n",
    "        # stgy_instance.gas_fees = 6\n",
    "\n",
    "        # worst case\n",
    "        stgy_instance.gas_fees = 10\n",
    "\n",
    "    @staticmethod\n",
    "    def update_pnl(stgy_instance):\n",
    "        stgy_instance.total_pnl = stgy_instance.total_pnl - stgy_instance.aave.costs - stgy_instance.dydx.short_costs - stgy_instance.dydx.long_costs + stgy_instance.aave.lending_fees_usd - stgy_instance.aave.borrowing_fees\n",
    "\n",
    "    @staticmethod\n",
    "    def add_costs(stgy_instance):\n",
    "        stgy_instance.total_costs_from_aave_n_dydx = stgy_instance.total_costs_from_aave_n_dydx \\\n",
    "                                                     + stgy_instance.aave.costs + stgy_instance.dydx.short_costs +stgy_instance.dydx.long_costs"
   ]
  },
  {
   "cell_type": "markdown",
   "metadata": {
    "jp-MarkdownHeadingCollapsed": true,
    "tags": []
   },
   "source": [
    "## DataDamperNPlotter Module"
   ]
  },
  {
   "cell_type": "markdown",
   "metadata": {},
   "source": [
    "This module will write the results and is also used for plotting (for analysis porpuses)."
   ]
  },
  {
   "cell_type": "code",
   "execution_count": 18,
   "metadata": {},
   "outputs": [],
   "source": [
    "class DataDamperNPlotter:\n",
    "    def __init__(self):\n",
    "        self.historical_data = None\n",
    "\n",
    "    @staticmethod\n",
    "    def write_data(stgy_instance,\n",
    "                   period, floor,\n",
    "                   sheet=False):\n",
    "        aave_instance = stgy_instance.aave\n",
    "        dydx_instance = stgy_instance.dydx\n",
    "        data_aave = []\n",
    "        data_dydx = []\n",
    "        aave_wanted_keys = [\n",
    "            \"market_price\",\n",
    "            # \"interval_current\",\n",
    "            \"entry_price\",\n",
    "            \"collateral_eth\",\n",
    "            \"usdc_status\",\n",
    "            \"debt\",\n",
    "            \"ltv\",\n",
    "            \"lending_rate\",\n",
    "            \"interest_on_lending_usd\",\n",
    "            \"borrowing_rate\",\n",
    "            \"interest_on_borrowing\",\n",
    "            \"lend_minus_borrow_interest\",\n",
    "            \"costs\"]\n",
    "\n",
    "        for i in range(len(aave_instance.__dict__.values())):\n",
    "            if list(aave_instance.__dict__.keys())[i] in aave_wanted_keys:\n",
    "                    data_aave.append(str(list(aave_instance.__dict__.values())[i]))\n",
    "        for i in range(len(dydx_instance.__dict__.values())):\n",
    "                data_dydx.append(str(list(dydx_instance.__dict__.values())[i]))\n",
    "        # We add the index number of the appareance of market price in historical_data.csv order to find useful test values quicker\n",
    "        data_aave.append(stgy_instance.gas_fees)\n",
    "        data_aave.append(stgy_instance.total_costs_from_aave_n_dydx)\n",
    "        data_aave.append(stgy_instance.total_pnl)\n",
    "\n",
    "        data_dydx.append(stgy_instance.gas_fees)\n",
    "        data_dydx.append(stgy_instance.total_costs_from_aave_n_dydx)\n",
    "        data_dydx.append(stgy_instance.total_pnl)\n",
    "        if sheet == True:\n",
    "            gc = pygsheets.authorize(service_file=\n",
    "                                     'stgy-1-simulations-e0ee0453ddf8.json')\n",
    "            sh = gc.open('aave/dydx simulations')\n",
    "            sh[0].append_table(data_aave, end=None, dimension='ROWS', overwrite=False)\n",
    "            sh[1].append_table(data_dydx, end=None, dimension='ROWS', overwrite=False)\n",
    "        else:\n",
    "            path_to_aave = 'Files/From_%s_to_%s_open_close_at_%s/aave_results.csv' % (\n",
    "            period[0], period[1], int(floor))  # int(stgy_instance.trigger_prices['open_close']))\n",
    "            path_to_dydx = 'Files/From_%s_to_%s_open_close_at_%s/dydx_results.csv' % (\n",
    "            period[0], period[1], int(floor))  # int(stgy_instance.trigger_prices['open_close']))\n",
    "            with open(path_to_aave, 'a') as file:\n",
    "                writer = csv.writer(file, lineterminator='\\n')\n",
    "                writer.writerow(data_aave)\n",
    "            with open(path_to_dydx, 'a',\n",
    "                      newline='', encoding='utf-8') as file:\n",
    "                writer = csv.writer(file, lineterminator='\\n')\n",
    "                writer.writerow(data_dydx)\n",
    "\n",
    "    @staticmethod\n",
    "    def delete_results(period, floor):\n",
    "        file_aave = 'Files/From_%s_to_%s_open_close_at_%s/aave_results.csv' % (\n",
    "        period[0], period[1], int(floor))  # int(stgy_instance.trigger_prices['open_close']))\n",
    "        file_dydx = 'Files/From_%s_to_%s_open_close_at_%s/dydx_results.csv' % (\n",
    "        period[0], period[1], int(floor))  # int(stgy_instance.trigger_prices['open_close']))\n",
    "        if (os.path.exists(file_aave) and os.path.isfile(file_aave)):\n",
    "            os.remove(file_aave)\n",
    "        if (os.path.exists(file_dydx) and os.path.isfile(file_dydx)):\n",
    "            os.remove(file_dydx)\n",
    "\n",
    "    @staticmethod\n",
    "    def add_header(period, floor):\n",
    "        aave_headers = [\n",
    "            \"market_price\",\n",
    "            \"entry_price\",\n",
    "            \"collateral_eth\",\n",
    "            \"usdc_status\",\n",
    "            \"debt\",\n",
    "            \"ltv\",\n",
    "            \"lending_rate\",\n",
    "            \"interest_on_lending_usd\",\n",
    "            \"borrowing_rate\",\n",
    "            \"interest_on_borrowing\",\n",
    "            \"lend_minus_borrow_interest\",\n",
    "            \"costs\",\n",
    "            \"gas_fees\",\n",
    "            \"total_costs_from_aave_n_dydx\",\n",
    "            \"total_stgy_pnl\"]\n",
    "        dydx_headers = [\n",
    "            \"market_price\",\n",
    "            \"short_entry_price\",\n",
    "            \"short_size\",\n",
    "            \"short_collateral\",\n",
    "            \"short_notional\",\n",
    "            \"short_equity\",\n",
    "            \"short_leverage\",\n",
    "            \"short_pnl\",\n",
    "            \"short_collateral_status\",\n",
    "            \"short_status\",\n",
    "            \"short_costs\",\n",
    "            \"long_entry_price\",\n",
    "            \"long_size\",\n",
    "            \"long_notional\",\n",
    "            \"long_pnl\",\n",
    "            \"long_status\",\n",
    "            \"long_costs\",\n",
    "            \"order_status\",\n",
    "            \"withdrawal_fees\",\n",
    "            \"funding_rates\",\n",
    "            \"maker_taker_fees\",\n",
    "            \"maker_fees_counter\",\n",
    "            \"gas_fees\",\n",
    "            \"total_costs_from_aave_n_dydx\",\n",
    "            \"total_stgy_pnl\"]\n",
    "\n",
    "        path_to_aave = 'Files/From_%s_to_%s_open_close_at_%s/aave_results.csv' % (\n",
    "        period[0], period[1], int(floor))  # int(stgy_instance.trigger_prices['open_close']))\n",
    "        path_to_dydx = 'Files/From_%s_to_%s_open_close_at_%s/dydx_results.csv' % (\n",
    "        period[0], period[1], int(floor))  # int(stgy_instance.trigger_prices['open_close']))\n",
    "        with open(path_to_aave, 'a') as file:\n",
    "            writer = csv.writer(file, lineterminator='\\n')\n",
    "            writer.writerow(aave_headers)\n",
    "        with open(path_to_dydx, 'a',\n",
    "                  newline='', encoding='utf-8') as file:\n",
    "            writer = csv.writer(file, lineterminator='\\n')\n",
    "            writer.writerow(dydx_headers)"
   ]
  },
  {
   "cell_type": "markdown",
   "metadata": {
    "tags": []
   },
   "source": [
    "## Simulations"
   ]
  },
  {
   "cell_type": "markdown",
   "metadata": {},
   "source": [
    "Given that shorting involve executing too many txs, let's try combining it with a long position to get a delta neutral final strategy and at the same time giving room to the price to move laterally."
   ]
  },
  {
   "cell_type": "markdown",
   "metadata": {},
   "source": [
    "The idea is to \n",
    "- open a short and a long position (both leveraged) using the debt from AAVE at a certain price called start\n",
    "- if price reaches some point start + delta we will close the short position and stay with the long only\n",
    "- if price reaches floor (= start - delta) we will close the long and stay only with the short"
   ]
  },
  {
   "cell_type": "markdown",
   "metadata": {},
   "source": [
    "First of all lets read the dataset containing prices for ETH in minutes basis from 2019-09-01 to 2022-09-01."
   ]
  },
  {
   "cell_type": "code",
   "execution_count": 3,
   "metadata": {},
   "outputs": [],
   "source": [
    "# Track historical data\n",
    "# symbol = 'ETHUSDC'\n",
    "# freq = '1m'\n",
    "# initial_date = \"1 Jan 2019\"\n",
    "# stgy.get_historical_data(symbol=symbol, freq=freq,\n",
    "#                               initial_date=initial_date, save=True)\n",
    "\n",
    "# Load historical data if previously tracked and saved\n",
    "\n",
    "historical_data = pd.read_csv(\"Files/ETHUSDC-1m-data_since_1 Sep 2019.csv\")\n",
    "# # assign data to stgy instance + define index as dates\n",
    "timestamp = pd.to_datetime(historical_data['timestamp'])\n",
    "historical_data = pd.DataFrame(historical_data[\"close\"], columns=['close'])\n",
    "historical_data.index = timestamp\n",
    "#\n",
    "# #######################################################\n"
   ]
  },
  {
   "cell_type": "markdown",
   "metadata": {},
   "source": [
    "In order to test pnl/costs of the whole strategy let's find a period of time and a relevant price (i.e. a price that is crossed many times)."
   ]
  },
  {
   "cell_type": "code",
   "execution_count": 9,
   "metadata": {},
   "outputs": [],
   "source": [
    "# Period of Simulations\n",
    "period = [\"2020-05-01\",\"2020-11-01\"]\n",
    "data = historical_data.loc[period[0]+' 00:00:00':period[1]+' 00:00:00']\n"
   ]
  },
  {
   "cell_type": "markdown",
   "metadata": {},
   "source": [
    "Let's analyze historical 6month weighted volatility to check if 5% is enough space to move between OCs. We will compare \n",
    "$$5\\% \\text{ vs } (1+slippgae)(1+\\mu+2\\sigma),$$\n",
    "where $\\sigma=vol$."
   ]
  },
  {
   "cell_type": "code",
   "execution_count": 10,
   "metadata": {},
   "outputs": [
    {
     "name": "stdout",
     "output_type": "stream",
     "text": [
      "weighted mu:  1.4462763455814235e-05%\n",
      "weighted sigmas:  0.17999807112824498%\n",
      "[min_6m_change, max_6m_change]:  ['-6.786594905713236%', '9.135956592119358%']\n",
      "avg movement: (1+slip)(1+mu+2vol):  1.1305428909776651%\n"
     ]
    }
   ],
   "source": [
    "# First we calculate weighted vol\n",
    "last_date = \"2021-06-01\"\n",
    "slippage = 0.0005\n",
    "periods_for_vol = [6*30*24*60, 3*30*24*60, 1*30*24*60]\n",
    "data = historical_data.loc[:last_date][-periods_for_vol[0]:]\n",
    "for i in range(len(periods_for_vol)):\n",
    "    N = periods_for_vol[i]\n",
    "    log_returns = np.log(data[-N:]['close']) - np.log(data[-N:]['close'].shift(1))\n",
    "    globals()['sigma_'+str(i)] = log_returns.ewm(alpha=0.8, adjust=False).std().mean()\n",
    "    globals()['mu_'+str(i)] = log_returns.ewm(alpha=0.8, adjust=False).mean().mean()\n",
    "    globals()['mu_max_'+str(i)] = log_returns.ewm(alpha=0.8, adjust=False).mean().max()\n",
    "    globals()['mu_min_'+str(i)] = log_returns.ewm(alpha=0.8, adjust=False).mean().min()\n",
    "vol = sigma_0 * 0.1 + sigma_1 * 0.3 + sigma_2 * 0.6\n",
    "mu = mu_0 * 0.1 + mu_1 * 0.3 + mu_2 * 0.6\n",
    "print(\"weighted mu: \", str(mu*100)+'%')\n",
    "print(\"weighted sigmas: \", str(vol*100)+'%')\n",
    "print(\"[min_6m_change, max_6m_change]: \", [str(mu_min_0*100)+'%', str(mu_max_0*100)+'%'])\n",
    "print(\"avg movement: (1+slip)(1+mu+2vol): \", str((1+slippage)*(1+mu+6*vol)*100-100)+'%')\n",
    "# vol, mu, mu_max_0, mu_min_0, mu_0, (1+slippage)*(1+mu+2*vol)"
   ]
  },
  {
   "cell_type": "markdown",
   "metadata": {},
   "source": [
    "We conclude that 5% is several times higher than the common movement of price within 1 minute, so we should have spaced enough OCs to choose if we executed too many txs."
   ]
  },
  {
   "cell_type": "code",
   "execution_count": null,
   "metadata": {},
   "outputs": [
    {
     "data": {
      "text/plain": [
       "(0.0005989101310066664,\n",
       " 0.0011978202620133327,\n",
       " 0.0023956405240266655,\n",
       " 0.0035934607860399984)"
      ]
     },
     "execution_count": 13,
     "metadata": {},
     "output_type": "execute_result"
    }
   ],
   "source": [
    "# normal_std = std\n",
    "# medium_std = 2*std\n",
    "# high_std = 4*std\n",
    "# extreme_std = 6*std\n",
    "# normal_std, medium_std, high_std, extreme_std"
   ]
  },
  {
   "cell_type": "markdown",
   "metadata": {},
   "source": [
    "Let's find such a relevant price manually by taking a look at the price plot."
   ]
  },
  {
   "cell_type": "code",
   "execution_count": 12,
   "metadata": {},
   "outputs": [
    {
     "data": {
      "image/png": "[encoded data removed]",
      "text/plain": [
       "<Figure size 2100x700 with 1 Axes>"
      ]
     },
     "metadata": {},
     "output_type": "display_data"
    }
   ],
   "source": [
    "# Period of Simulations\n",
    "period = [\"2020-05-31\",\"2020-06-07\"]\n",
    "data = historical_data.loc[period[0]+' 00:00:00':period[1]+' 00:00:00']\n",
    "\n",
    "fig, axs = plt.subplots(1, 1, figsize=(21, 7))\n",
    "axs.plot(data['close'], color='tab:blue', label='market price')\n",
    "# axs.axhline(floor, color='darkgoldenrod', linestyle='--', label='floor')\n",
    "axs.axhline(y=240, color='red', linestyle='--', label='open_close')\n",
    "axs.axhline(y=247.2, color='red', linestyle='--', label='open_close2')\n",
    "# axs.axhline(y=390, color='red', linestyle='--', label='open_close')\n",
    "axs.grid()\n",
    "axs.legend(loc='lower left')\n",
    "plt.show()"
   ]
  },
  {
   "cell_type": "code",
   "execution_count": 15,
   "metadata": {},
   "outputs": [
    {
     "data": {
      "text/plain": [
       "1.1192477876106195"
      ]
     },
     "execution_count": 15,
     "metadata": {},
     "output_type": "execute_result"
    }
   ],
   "source": [
    "period = [\"2020-05-31\",\"2020-06-07\"]\n",
    "data = historical_data.loc[period[0]+' 00:00:00':period[1]+' 00:00:00']\n",
    "data['close'].max()/data['close'].min()"
   ]
  },
  {
   "cell_type": "markdown",
   "metadata": {},
   "source": [
    "Next we define a function that will\n",
    "- Initiallize the main module + loading the data + definning the floor in a way that the open_close we get is the relevant price previously mentioned + define trigger_prices and the intervals\n",
    "- Create a new directory \"Files/From_\"from period\"_to_\"to period\"_open_close_at_\"relevant price\" + save the historical_data with the intervals of every price added\n",
    "- Initiallize all the parameters for both protocols + add the trigger point price_to_ltv_limit + defining the first interval_old to be the first interval in the dataset stgy.historical_data\n",
    "- Call data_dumper to create aave_results.csv and dydx_results.csv only with the headers\n",
    "- Run through the code executing everything as discussed in the dev doc.\n",
    "\n",
    "This function is useful because we can run simulations for different periods of times and relevant prices (just by using a list of periods and relevant prices and looping thorugh it) and saving the results in descriptive directories."
   ]
  },
  {
   "cell_type": "code",
   "execution_count": 55,
   "metadata": {
    "tags": []
   },
   "outputs": [],
   "source": [
    "def run_sim(period, slippage, floor, pcg):\n",
    "    global ocs\n",
    "    # Initialize everything\n",
    "    with open(\"Files/StgyApp_config.json\") as json_file:\n",
    "        config = json.load(json_file)\n",
    "\n",
    "    # Initialize stgyApp\n",
    "    stgy = StgyApp(config)\n",
    "    # Period of Simulations\n",
    "    # period = [\"2019-09-01\",\"2019-12-31\"]\n",
    "    stgy.historical_data = historical_data.loc[period[0] + ' 00:00:00':period[1] + ' 00:00:00']\n",
    "    # For vol updates we take all data up to the last date\n",
    "    stgy.launch(config)\n",
    "    # Load target_prices + intervals in stgy.historical_data\n",
    "    # First we calculate weighted vol\n",
    "    last_date = period[1] + ' 00:00:00'\n",
    "    vol = stgy.parameter_manager.calc_vol(last_date, historical_data)\n",
    "    mu, sigma = vol\n",
    "    # floor just in order to get triger_price['open_close_1'] = open_close_1\n",
    "    # Now we define prices and intervals given K and vol\n",
    "    stgy.parameter_manager.define_target_prices(stgy, slippage, vol, floor, pcg)\n",
    "    #########################\n",
    "    # Save historical data with trigger prices and thresholds loaded\n",
    "    # checking if the directory demo_folder\n",
    "    # exist or not.\n",
    "    if not os.path.exists(\"Files/From_%s_to_%s_open_close_at_%s\" % (period[0], period[1], int(floor))):\n",
    "        # if the demo_folder directory is not present\n",
    "        # then create it.\n",
    "        os.makedirs(\"Files/From_%s_to_%s_open_close_at_%s\" % (period[0], period[1], int(floor)))\n",
    "    stgy.historical_data.to_csv(\"Files/From_%s_to_%s_open_close_at_%s/stgy.historical_data.csv\"\n",
    "                                % (period[0], period[1], int(floor)))\n",
    "    #########################\n",
    "    # Here we define initial parameters for AAVE and DyDx depending on the price at which we are starting simulations\n",
    "\n",
    "    # Define initial and final index if needed in order to only run simulations in periods of several trigger prices\n",
    "    # As we calculate vol using first week of data, we initialize simulations from that week on\n",
    "    initial_index = 1\n",
    "\n",
    "    # Stk eth\n",
    "    stgy.stk = 1000000 / stgy.historical_data['close'][initial_index]\n",
    "\n",
    "    # AAVE\n",
    "    stgy.aave.market_price = stgy.historical_data['close'][initial_index]\n",
    "\n",
    "    # What is the price at which we place the collateral in AAVE given our initial_index?\n",
    "    stgy.aave.entry_price = stgy.aave.market_price\n",
    "    # We place 90% of staked as collateral and save 10% as a reserve margin\n",
    "    stgy.aave.collateral_eth = round(stgy.stk * 0.9, 3)\n",
    "    stgy.aave.collateral_eth_initial = round(stgy.stk * 0.9, 3)\n",
    "    stgy.reserve_margin_eth = stgy.stk * 0.1\n",
    "    # We calculate collateral and reserve current value\n",
    "    stgy.aave.collateral_usdc = stgy.aave.collateral_eth * stgy.aave.market_price\n",
    "    stgy.reserve_margin_usdc = stgy.aave.reserve_margin_eth * stgy.aave.market_price\n",
    "\n",
    "    # What is the usdc_status for our initial_index?\n",
    "    stgy.aave.usdc_status = True\n",
    "    stgy.aave.debt = (stgy.aave.collateral_eth_initial * stgy.aave.entry_price) * stgy.aave.borrowed_percentage\n",
    "    stgy.aave.debt_initial = (stgy.aave.collateral_eth_initial * stgy.aave.entry_price) * stgy.aave.borrowed_percentage\n",
    "    # debt_initial\n",
    "    stgy.aave.price_to_ltv_limit = round(stgy.aave.entry_price * stgy.aave.borrowed_percentage / stgy.aave.ltv_limit(),\n",
    "                                         3)\n",
    "    # stgy.total_costs = 104\n",
    "\n",
    "    # DyDx\n",
    "    stgy.dydx.market_price = stgy.historical_data['close'][initial_index]\n",
    "    # stgy.dydx.interval_current = stgy.historical_data['interval'][initial_index]\n",
    "    stgy.dydx.short_collateral = stgy.aave.debt\n",
    "    stgy.dydx.short_equity = stgy.dydx.short_equity_calc()\n",
    "    stgy.dydx.short_collateral_status = True\n",
    "    \n",
    "    print(stgy.trigger_prices['roof'],stgy.trigger_prices['start'],stgy.trigger_prices['floor'])\n",
    "    print(stgy.dydx.market_price <= stgy.trigger_prices['start'])\n",
    "    print((stgy.dydx.market_price <= stgy.trigger_prices['start']) and (stgy.dydx.market_price > stgy.trigger_prices['floor']))\n",
    "    # print((stgy.dydx.market_price <= stgy.trigger_prices['start']) and (stgy.dydx.market_price > stgy.trigger_prices['floor']))\n",
    "    if (stgy.dydx.market_price <= stgy.trigger_prices['start']):\n",
    "        stgy.dydx.open_short(stgy)\n",
    "    if ((stgy.dydx.market_price <= stgy.trigger_prices['start']) and (stgy.dydx.market_price > stgy.trigger_prices['floor'])):\n",
    "        stgy.dydx.open_long(stgy)\n",
    "    #########################\n",
    "    # Clear previous csv data for aave and dydx\n",
    "    stgy.data_dumper.delete_results(period, floor)\n",
    "    #########################\n",
    "    # add header to csv of aave and dydx\n",
    "    stgy.data_dumper.add_header(period, floor)\n",
    "    ##################################\n",
    "    # Run through dataset\n",
    "    #########################\n",
    "    # import time\n",
    "    # # run simulations\n",
    "    # starttime = time.time()\n",
    "    # print('starttime:', starttime)\n",
    "    # for i in range(initial_index, len(stgy.historical_data)):\n",
    "    i = initial_index\n",
    "\n",
    "    maker_fees_counter = []\n",
    "    while (i < len(stgy.historical_data)):\n",
    "        # for i in range(initial_index, len(stgy.historical_data)):\n",
    "        # pass\n",
    "\n",
    "        # We reset costs in every instance\n",
    "        stgy.parameter_manager.reset_costs(stgy)\n",
    "        previous_market_price = stgy.historical_data[\"close\"][i-1]\n",
    "        market_price = stgy.historical_data[\"close\"][i]\n",
    "        #########################\n",
    "        # Update parameters\n",
    "        # First we update everything in order to execute scenarios with updated values\n",
    "        # We have to update\n",
    "        # AAVE: market_price, interval_current, lending and borrowing fees (and the diference),\n",
    "        # debt value, collateral value and ltv value\n",
    "        # DyDx: market_price, interval_current, notional, equity, leverage and pnl\n",
    "        stgy.parameter_manager.update_parameters(stgy, market_price)\n",
    "        ##############################\n",
    "        stgy.parameter_manager.find_scenario(stgy, market_price, previous_market_price)\n",
    "        ##############################\n",
    "        # Funding rates\n",
    "        # We add funding rates every 8hs (we need to express those 8hs based on our historical data time frequency)\n",
    "        # Moreover, we nee.named to call this method after find_scenarios in order to have all costs updated.\n",
    "        # Calling it before find_scenarios will overwrite the funding by 0\n",
    "        # We have to check all the indexes between old index i and next index i+time_used\n",
    "        # for index in range(i, i+time_used):\n",
    "        if (i % (8 * 60) == 0) and (stgy.dydx.short_status):\n",
    "            stgy.dydx.add_funding_rates()\n",
    "            # stgy.total_costs = stgy.total_costs + stgy.dydx.funding_rates\n",
    "        #########################\n",
    "        # Add costs\n",
    "        stgy.parameter_manager.add_costs(stgy)\n",
    "        stgy.parameter_manager.update_pnl(stgy)\n",
    "        #########################\n",
    "        # Write data\n",
    "        # We write the data into the google sheet or csv file acording to sheet value\n",
    "        # (sheet = True --> sheet, sheet = False --> csv)\n",
    "        stgy.data_dumper.write_data(stgy,\n",
    "                                    period, floor,\n",
    "                                    sheet=False)\n",
    "        #########################\n",
    "        # we increment index by the time consumed in executing actions\n",
    "        # i += time_used\n",
    "        i += 1\n",
    "    return maker_fees_counter"
   ]
  },
  {
   "cell_type": "code",
   "execution_count": 35,
   "metadata": {},
   "outputs": [
    {
     "data": {
      "text/plain": [
       "'2019-09-01 00:00:00'"
      ]
     },
     "execution_count": 35,
     "metadata": {},
     "output_type": "execute_result"
    }
   ],
   "source": [
    "str(historical_data.index[0])"
   ]
  },
  {
   "cell_type": "code",
   "execution_count": 14,
   "metadata": {},
   "outputs": [],
   "source": [
    "data = historical_data.loc[periods_n_open_close[0][0][0]+' 00:00:00':periods_n_open_close[0][0][1]+' 00:00:00']"
   ]
  },
  {
   "cell_type": "code",
   "execution_count": 15,
   "metadata": {},
   "outputs": [],
   "source": [
    "returns = data['close'].pct_change().dropna()\n",
    "log_returns = np.log(data['close']) \\\n",
    "        - np.log(data['close'].shift(1))"
   ]
  },
  {
   "cell_type": "code",
   "execution_count": 30,
   "metadata": {},
   "outputs": [],
   "source": [
    "std_ema_log_returns = log_returns.ewm(alpha=0.8, adjust=False).std().mean()\n",
    "std_ema_returns = returns.ewm(alpha=0.8, adjust=False).std().mean()\n",
    "mu_log_returns = log_returns.mean()\n",
    "mu_abs_log_returns = abs(log_returns).mean()\n",
    "std_ema_abs_log_returns = abs(log_returns).ewm(alpha=0.8, adjust=False).std().mean()\n",
    "mu_log_returns_max = log_returns.max()\n",
    "mu_log_returns_min = log_returns.min()\n",
    "mu_returns = returns.mean()\n",
    "mu_abs_returns = abs(returns).mean()\n",
    "mu_returns_max = returns.max()\n",
    "mu_returns_min = returns.min()"
   ]
  },
  {
   "cell_type": "code",
   "execution_count": 31,
   "metadata": {},
   "outputs": [
    {
     "data": {
      "text/plain": [
       "(0.01716814159292035, -0.034270575164515926)"
      ]
     },
     "execution_count": 31,
     "metadata": {},
     "output_type": "execute_result"
    }
   ],
   "source": [
    "mu_returns_max, mu_returns_min"
   ]
  },
  {
   "cell_type": "code",
   "execution_count": 2,
   "metadata": {},
   "outputs": [
    {
     "ename": "NameError",
     "evalue": "name 'mu_abs_log_returns' is not defined",
     "output_type": "error",
     "traceback": [
      "\u001b[0;31m---------------------------------------------------------------------------\u001b[0m",
      "\u001b[0;31mNameError\u001b[0m                                 Traceback (most recent call last)",
      "Cell \u001b[0;32mIn [2], line 2\u001b[0m\n\u001b[1;32m      1\u001b[0m K \u001b[38;5;241m=\u001b[39m \u001b[38;5;241m3\u001b[39m\n\u001b[0;32m----> 2\u001b[0m condition \u001b[38;5;241m=\u001b[39m (mu_abs_log_returns\u001b[38;5;241m-\u001b[39mK\u001b[38;5;241m*\u001b[39mstd_ema_log_returns\u001b[38;5;241m<\u001b[39mlog_returns)\u001b[38;5;241m&\u001b[39m(log_returns\u001b[38;5;241m<\u001b[39mmu_abs_log_returns\u001b[38;5;241m+\u001b[39mK\u001b[38;5;241m*\u001b[39mstd_ema_log_returns)\n",
      "\u001b[0;31mNameError\u001b[0m: name 'mu_abs_log_returns' is not defined"
     ]
    }
   ],
   "source": [
    "K = 3\n",
    "condition = (mu_abs_log_returns-K*std_ema_log_returns<log_returns)&(log_returns<mu_abs_log_returns+K*std_ema_log_returns)"
   ]
  },
  {
   "cell_type": "code",
   "execution_count": 29,
   "metadata": {},
   "outputs": [
    {
     "data": {
      "text/plain": [
       "0.00252015691537573"
      ]
     },
     "execution_count": 29,
     "metadata": {},
     "output_type": "execute_result"
    }
   ],
   "source": [
    "mu_abs_log_returns+K*std_ema_log_returns"
   ]
  },
  {
   "cell_type": "code",
   "execution_count": 1,
   "metadata": {},
   "outputs": [
    {
     "ename": "NameError",
     "evalue": "name 'log_returns' is not defined",
     "output_type": "error",
     "traceback": [
      "\u001b[0;31m---------------------------------------------------------------------------\u001b[0m",
      "\u001b[0;31mNameError\u001b[0m                                 Traceback (most recent call last)",
      "Cell \u001b[0;32mIn [1], line 1\u001b[0m\n\u001b[0;32m----> 1\u001b[0m \u001b[38;5;28mlen\u001b[39m(log_returns[condition]),\u001b[38;5;28mlen\u001b[39m(log_returns),\u001b[38;5;28mlen\u001b[39m(log_returns[condition])\u001b[38;5;241m/\u001b[39m\u001b[38;5;28mlen\u001b[39m(log_returns)\n",
      "\u001b[0;31mNameError\u001b[0m: name 'log_returns' is not defined"
     ]
    }
   ],
   "source": [
    "len(log_returns[condition]),len(log_returns),len(log_returns[condition])/len(log_returns)"
   ]
  },
  {
   "cell_type": "code",
   "execution_count": 74,
   "metadata": {},
   "outputs": [
    {
     "data": {
      "text/plain": [
       "(array([3.800e+01, 4.800e+01, 3.500e+01, 4.000e+01, 3.700e+01, 4.000e+01,\n",
       "        4.100e+01, 3.600e+01, 4.500e+01, 5.100e+01, 4.100e+01, 5.300e+01,\n",
       "        5.400e+01, 2.400e+01, 5.800e+01, 3.900e+01, 5.900e+01, 7.100e+01,\n",
       "        3.100e+01, 8.600e+01, 7.800e+01, 1.700e+01, 7.400e+01, 7.500e+01,\n",
       "        1.300e+01, 9.000e+01, 8.600e+01, 1.800e+01, 8.500e+01, 1.500e+01,\n",
       "        8.400e+01, 5.975e+03, 0.000e+00, 1.220e+02, 8.700e+01, 2.000e+00,\n",
       "        8.600e+01, 9.000e+01, 6.000e+00, 8.200e+01, 6.700e+01, 2.100e+01,\n",
       "        9.100e+01, 5.900e+01, 3.300e+01, 8.200e+01, 4.000e+01, 4.300e+01,\n",
       "        6.600e+01, 3.700e+01, 5.700e+01, 5.100e+01, 4.100e+01, 5.000e+01,\n",
       "        5.200e+01, 3.900e+01, 4.000e+01, 3.900e+01, 4.500e+01, 4.000e+01,\n",
       "        3.100e+01, 4.200e+01, 3.700e+01, 3.800e+01, 3.700e+01, 3.400e+01,\n",
       "        3.200e+01, 3.400e+01, 3.700e+01, 2.600e+01, 4.000e+01, 3.200e+01,\n",
       "        3.100e+01, 2.300e+01, 2.100e+01, 2.300e+01, 2.500e+01, 2.000e+01,\n",
       "        3.000e+01, 1.900e+01, 2.800e+01, 2.500e+01, 1.500e+01, 2.000e+01,\n",
       "        2.300e+01, 2.200e+01, 2.000e+01, 1.300e+01, 1.500e+01, 2.500e+01,\n",
       "        1.500e+01, 1.300e+01, 2.000e+01, 1.400e+01, 1.700e+01, 1.600e+01,\n",
       "        1.500e+01, 1.800e+01, 1.200e+01, 1.000e+01]),\n",
       " array([-8.50701880e-04, -8.23749587e-04, -7.96797295e-04, -7.69845002e-04,\n",
       "        -7.42892709e-04, -7.15940416e-04, -6.88988123e-04, -6.62035831e-04,\n",
       "        -6.35083538e-04, -6.08131245e-04, -5.81178952e-04, -5.54226659e-04,\n",
       "        -5.27274366e-04, -5.00322074e-04, -4.73369781e-04, -4.46417488e-04,\n",
       "        -4.19465195e-04, -3.92512902e-04, -3.65560610e-04, -3.38608317e-04,\n",
       "        -3.11656024e-04, -2.84703731e-04, -2.57751438e-04, -2.30799145e-04,\n",
       "        -2.03846853e-04, -1.76894560e-04, -1.49942267e-04, -1.22989974e-04,\n",
       "        -9.60376813e-05, -6.90853885e-05, -4.21330957e-05, -1.51808029e-05,\n",
       "         1.17714900e-05,  3.87237828e-05,  6.56760756e-05,  9.26283684e-05,\n",
       "         1.19580661e-04,  1.46532954e-04,  1.73485247e-04,  2.00437540e-04,\n",
       "         2.27389833e-04,  2.54342125e-04,  2.81294418e-04,  3.08246711e-04,\n",
       "         3.35199004e-04,  3.62151297e-04,  3.89103589e-04,  4.16055882e-04,\n",
       "         4.43008175e-04,  4.69960468e-04,  4.96912761e-04,  5.23865054e-04,\n",
       "         5.50817346e-04,  5.77769639e-04,  6.04721932e-04,  6.31674225e-04,\n",
       "         6.58626518e-04,  6.85578811e-04,  7.12531103e-04,  7.39483396e-04,\n",
       "         7.66435689e-04,  7.93387982e-04,  8.20340275e-04,  8.47292567e-04,\n",
       "         8.74244860e-04,  9.01197153e-04,  9.28149446e-04,  9.55101739e-04,\n",
       "         9.82054032e-04,  1.00900632e-03,  1.03595862e-03,  1.06291091e-03,\n",
       "         1.08986320e-03,  1.11681550e-03,  1.14376779e-03,  1.17072008e-03,\n",
       "         1.19767237e-03,  1.22462467e-03,  1.25157696e-03,  1.27852925e-03,\n",
       "         1.30548155e-03,  1.33243384e-03,  1.35938613e-03,  1.38633842e-03,\n",
       "         1.41329072e-03,  1.44024301e-03,  1.46719530e-03,  1.49414760e-03,\n",
       "         1.52109989e-03,  1.54805218e-03,  1.57500447e-03,  1.60195677e-03,\n",
       "         1.62890906e-03,  1.65586135e-03,  1.68281364e-03,  1.70976594e-03,\n",
       "         1.73671823e-03,  1.76367052e-03,  1.79062282e-03,  1.81757511e-03,\n",
       "         1.84452740e-03]),\n",
       " <a list of 100 Patch objects>)"
      ]
     },
     "execution_count": 74,
     "metadata": {},
     "output_type": "execute_result"
    },
    {
     "data": {
      "image/png": "[encoded data removed]",
      "text/plain": [
       "<Figure size 432x288 with 1 Axes>"
      ]
     },
     "metadata": {
      "needs_background": "light"
     },
     "output_type": "display_data"
    }
   ],
   "source": [
    "plt.hist(log_returns[condition], bins=100)"
   ]
  },
  {
   "cell_type": "code",
   "execution_count": 55,
   "metadata": {},
   "outputs": [
    {
     "data": {
      "text/plain": [
       "11521"
      ]
     },
     "execution_count": 55,
     "metadata": {},
     "output_type": "execute_result"
    }
   ],
   "source": [
    "len(log_returns)"
   ]
  },
  {
   "cell_type": "markdown",
   "metadata": {},
   "source": [
    "Now let's define a list with some periods of time and relevant prices to use for calling the previous function and run several simulations at once."
   ]
  },
  {
   "cell_type": "code",
   "execution_count": 45,
   "metadata": {},
   "outputs": [],
   "source": [
    "periods_n_open_close = [[[\"2019-09-01\",\"2019-12-31\"],148], [[\"2019-09-01\",\"2019-12-31\"],185], \n",
    "                        [[\"2020-01-01\",\"2020-05-01\"],135]]#, [[\"2020-05-01\",\"2020-09-01\"],240]]\n",
    "periods_n_open_close = [[[\"2019-09-01\",\"2019-12-31\"],185]]\n",
    "periods_n_open_close = [[[\"2020-05-01\",\"2020-09-01\"],240]]"
   ]
  },
  {
   "cell_type": "code",
   "execution_count": 56,
   "metadata": {
    "tags": []
   },
   "outputs": [
    {
     "name": "stdout",
     "output_type": "stream",
     "text": [
      "245.85365853658539 240.0 234.14634146341464\n",
      "True\n",
      "False\n"
     ]
    }
   ],
   "source": [
    "for period_n_open_close in periods_n_open_close:\n",
    "    period = period_n_open_close[0]\n",
    "    start = period_n_open_close[1]\n",
    "    pcg = 0.05\n",
    "    floor = start * (2/(2+pcg))\n",
    "    slippage = 0.0005\n",
    "    maker_fees_counter = run_sim(period, slippage, floor, pcg)"
   ]
  },
  {
   "cell_type": "code",
   "execution_count": 47,
   "metadata": {},
   "outputs": [
    {
     "data": {
      "image/png": "[encoded data removed]",
      "text/plain": [
       "<Figure size 2100x700 with 1 Axes>"
      ]
     },
     "metadata": {},
     "output_type": "display_data"
    }
   ],
   "source": [
    "# Period of Simulations\n",
    "period = periods_n_open_close[0][0]\n",
    "data = historical_data.loc[period[0]+' 00:00:00':period[1]+' 00:00:00']\n",
    "\n",
    "# roof, start, floor\n",
    "start = periods_n_open_close[0][1]\n",
    "pcg = 0.05\n",
    "floor = start * (2/(2+pcg))\n",
    "roof = floor * (1+pcg)\n",
    "\n",
    "fig, axs = plt.subplots(1, 1, figsize=(21, 7))\n",
    "axs.plot(data['close'], color='tab:blue', label='market price')\n",
    "axs.axhline(y=roof, color='green', linestyle='--', label='roof')\n",
    "axs.axhline(y=start, color='green', linestyle='--', label='start')\n",
    "axs.axhline(y=floor, color='green', linestyle='--', label='floor')\n",
    "axs.grid()\n",
    "axs.legend(loc='lower left')\n",
    "plt.show()"
   ]
  },
  {
   "cell_type": "code",
   "execution_count": 143,
   "metadata": {},
   "outputs": [
    {
     "data": {
      "text/plain": [
       "[{'oc': 186.11, 'txs': 9, 'date': '2019-09-14 16:44:00'},\n",
       " {'oc': 187.22665999999998, 'txs': 8, 'date': '2019-10-11 06:36:00'},\n",
       " {'oc': 188.35001996000003, 'txs': 8, 'date': '2019-10-14 18:11:00'},\n",
       " {'oc': 189.48012007975998, 'txs': 8, 'date': '2019-10-26 03:02:00'},\n",
       " {'oc': 188.35001996000003, 'txs': 9, 'date': '2019-10-28 01:20:00'},\n",
       " {'oc': 187.22665999999998, 'txs': 8, 'date': '2019-10-29 10:52:00'},\n",
       " {'oc': 186.11, 'txs': 8, 'date': '2019-10-29 12:57:00'},\n",
       " {'oc': 185.0, 'txs': 8, 'date': '2019-10-29 14:51:00'},\n",
       " {'oc': 186.11, 'txs': 9, 'date': '2019-11-02 17:36:00'},\n",
       " {'oc': 187.22665999999998, 'txs': 8, 'date': '2019-11-04 16:08:00'},\n",
       " {'oc': 188.35001996000003, 'txs': 8, 'date': '2019-11-04 21:02:00'},\n",
       " {'oc': 189.48012007975998, 'txs': 8, 'date': '2019-11-06 01:38:00'},\n",
       " {'oc': 188.35001996000003, 'txs': 9, 'date': '2019-11-06 16:31:00'},\n",
       " {'oc': 187.22665999999998, 'txs': 8, 'date': '2019-11-07 08:56:00'},\n",
       " {'oc': 186.11, 'txs': 8, 'date': '2019-11-08 01:04:00'},\n",
       " {'oc': 185.0, 'txs': 8, 'date': '2019-11-10 13:46:00'},\n",
       " {'oc': 186.11, 'txs': 9, 'date': '2019-11-11 23:06:00'},\n",
       " {'oc': 187.22665999999998, 'txs': 8, 'date': '2019-11-12 07:31:00'},\n",
       " {'oc': 188.35001996000003, 'txs': 8, 'date': '2019-11-13 10:47:00'},\n",
       " {'oc': 189.48012007975998, 'txs': 8, 'date': '2019-11-13 17:49:00'}]"
      ]
     },
     "execution_count": 143,
     "metadata": {},
     "output_type": "execute_result"
    }
   ],
   "source": [
    "maker_fees_counter"
   ]
  },
  {
   "cell_type": "code",
   "execution_count": 144,
   "metadata": {},
   "outputs": [
    {
     "data": {
      "text/plain": [
       "20"
      ]
     },
     "execution_count": 144,
     "metadata": {},
     "output_type": "execute_result"
    }
   ],
   "source": [
    "len(maker_fees_counter)"
   ]
  },
  {
   "cell_type": "code",
   "execution_count": null,
   "metadata": {},
   "outputs": [],
   "source": [
    "dydx_results = pd.read_csv(\"Files/From_2020-05-31_to_2020-06-07_open_close_at_240/dydx_results.csv\")\n",
    "dydx_results['total_stgy_pnl'][len(dydx_results)-1]"
   ]
  },
  {
   "cell_type": "code",
   "execution_count": 17,
   "metadata": {},
   "outputs": [
    {
     "data": {
      "text/plain": [
       "(239.4380835398584, 240.0, 247.20000000000002)"
      ]
     },
     "execution_count": 17,
     "metadata": {},
     "output_type": "execute_result"
    }
   ],
   "source": [
    "slippage = 0.0005\n",
    "K_1 = 2\n",
    "K_2 = 6\n",
    "mu = 0.0004973569978282845\n",
    "sigma = 0.0006742666391824819\n",
    "floor = 240 / ((1+slippage)*(1+mu+K_1*sigma))\n",
    "p_open_close_1 = floor * (1+slippage) * (1+mu+K_1*sigma)\n",
    "p_open_close_2 = p_open_close_1 * (1+K_2/K_1/100)\n",
    "floor, p_open_close_1, p_open_close_2"
   ]
  },
  {
   "cell_type": "code",
   "execution_count": 29,
   "metadata": {},
   "outputs": [
    {
     "data": {
      "text/plain": [
       "1.0050452283113396"
      ]
     },
     "execution_count": 29,
     "metadata": {},
     "output_type": "execute_result"
    }
   ],
   "source": [
    "(1+slippage)*(1+mu+6*sigma)"
   ]
  },
  {
   "cell_type": "code",
   "execution_count": 22,
   "metadata": {},
   "outputs": [],
   "source": [
    "max_loss = 0.05\n",
    "p_open_close_1 = floor * (1+slippage) * (1+mu+K_1*sigma)\n",
    "oc1 = p_open_close_1\n",
    "for i in range(1,5):\n",
    "    globals()['oc'+str(i+1)] = oc1 * 1.01**i # jumps of 1%"
   ]
  },
  {
   "cell_type": "code",
   "execution_count": 18,
   "metadata": {},
   "outputs": [
    {
     "data": {
      "text/plain": [
       "-0.029126213592233108"
      ]
     },
     "execution_count": 18,
     "metadata": {},
     "output_type": "execute_result"
    }
   ],
   "source": [
    "p_open_close_1/p_open_close_2-1"
   ]
  },
  {
   "cell_type": "markdown",
   "metadata": {},
   "source": [
    "## Extras"
   ]
  },
  {
   "cell_type": "markdown",
   "metadata": {},
   "source": [
    "Let's define a function to count how many times a given price is cross given a dataset."
   ]
  },
  {
   "cell_type": "code",
   "execution_count": 14,
   "metadata": {},
   "outputs": [],
   "source": [
    "def cross_counter(data_set, price):\n",
    "    crossed_down = 0\n",
    "    crossed_up = 0\n",
    "    index_up = []\n",
    "    index_down = []\n",
    "    for index in range(1,len(data_set)):\n",
    "        previous_price = data_set['close'][index-1]\n",
    "        current_price = data_set['close'][index]\n",
    "        if previous_price <= price < current_price:\n",
    "            crossed_up += 1\n",
    "            index_up.append(index-1)\n",
    "        elif previous_price >= price > current_price:\n",
    "            crossed_down += 1\n",
    "            index_down.append(index-1)\n",
    "    return {'down':\n",
    "                {'crossed_down': crossed_down,\n",
    "                'index_down': index_down},\n",
    "            'up':\n",
    "                {'crossed_up': crossed_up,\n",
    "                'index_up': index_up}}"
   ]
  },
  {
   "cell_type": "code",
   "execution_count": 15,
   "metadata": {},
   "outputs": [],
   "source": [
    "# Period of Simulations\n",
    "period = [\"2020-05-01\",\"2020-09-01\"]\n",
    "data_set = historical_data.loc[period[0]+' 00:00:00':period[1]+' 00:00:00']\n",
    "price = 240"
   ]
  },
  {
   "cell_type": "code",
   "execution_count": 16,
   "metadata": {},
   "outputs": [
    {
     "data": {
      "image/png": "[encoded data removed]",
      "text/plain": [
       "<Figure size 2100x700 with 1 Axes>"
      ]
     },
     "metadata": {},
     "output_type": "display_data"
    }
   ],
   "source": [
    "fig, axs = plt.subplots(1, 1, figsize=(21, 7))\n",
    "axs.plot(data_set['close'], color='tab:blue', label='market price')\n",
    "# axs.axhline(floor, color='darkgoldenrod', linestyle='--', label='floor')\n",
    "axs.axhline(y=240, color='red', linestyle='--', label='open_close')\n",
    "# axs.axhline(y=185, color='red', linestyle='--', label='open_close')\n",
    "# axs.axhline(y=390, color='red', linestyle='--', label='open_close')\n",
    "axs.grid()\n",
    "axs.legend(loc='lower left')\n",
    "plt.show()"
   ]
  },
  {
   "cell_type": "code",
   "execution_count": 17,
   "metadata": {
    "tags": []
   },
   "outputs": [],
   "source": [
    "crosses = cross_counter(data_set, 240)"
   ]
  },
  {
   "cell_type": "code",
   "execution_count": 18,
   "metadata": {},
   "outputs": [
    {
     "data": {
      "text/plain": [
       "312"
      ]
     },
     "execution_count": 18,
     "metadata": {},
     "output_type": "execute_result"
    }
   ],
   "source": [
    "crosses['down']['crossed_down'] + crosses['up']['crossed_up']"
   ]
  },
  {
   "cell_type": "code",
   "execution_count": 61,
   "metadata": {},
   "outputs": [],
   "source": [
    "dydx_results = pd.read_csv(\"Files/From_2020-05-01_to_2020-09-01_open_close_at_240/dydx_results.csv\")"
   ]
  },
  {
   "cell_type": "code",
   "execution_count": 62,
   "metadata": {},
   "outputs": [
    {
     "data": {
      "text/plain": [
       "market_price                    176910\n",
       "I_current                       176910\n",
       "I_old                           176910\n",
       "entry_price                      53220\n",
       "short_size                       53220\n",
       "collateral                      176910\n",
       "notional                         53375\n",
       "equity                          176910\n",
       "leverage                         53375\n",
       "pnl                              53066\n",
       "collateral_status               176910\n",
       "short_status                     53220\n",
       "order_status                    123690\n",
       "withdrawal_fees                 176910\n",
       "funding_rates                   176910\n",
       "maker_taker_fees                133516\n",
       "maker_fees_counter              133516\n",
       "costs                              421\n",
       "gas_fees                        176910\n",
       "total_costs_from_aave_n_dydx    133516\n",
       "total_stgy_pnl                  176910\n",
       "index_of_mkt_price              176910\n",
       "dtype: int64"
      ]
     },
     "execution_count": 62,
     "metadata": {},
     "output_type": "execute_result"
    }
   ],
   "source": [
    "dydx_results.astype(bool).sum(axis=0)"
   ]
  },
  {
   "cell_type": "markdown",
   "metadata": {},
   "source": [
    "Let's define a function to count down in which rows of the results a maker_fee is added. This will be helpful to analize the moments in which we close the short (therefore being able to calculate close_price - entry_price) and to compare if the amount of maker_fees is equal to the times the relevant price is crosses (both should coincide). "
   ]
  },
  {
   "cell_type": "code",
   "execution_count": 70,
   "metadata": {},
   "outputs": [],
   "source": [
    "def count_maker_fees_increment(data_set):\n",
    "    index_of_maker_fee = []\n",
    "    for index in range(1,len(data_set)):\n",
    "        previous_maker_fee_counter = data_set['maker_fees_counter'][index-1]\n",
    "        current_maker_fee_counter = data_set['maker_fees_counter'][index]\n",
    "        if previous_maker_fee_counter < current_maker_fee_counter:\n",
    "            index_of_maker_fee.append(index)\n",
    "    return {'indexes': index_of_maker_fee}"
   ]
  },
  {
   "cell_type": "code",
   "execution_count": 72,
   "metadata": {},
   "outputs": [],
   "source": [
    "results_maker_fee_counter= count_maker_fees_increment(dydx_results)"
   ]
  },
  {
   "cell_type": "markdown",
   "metadata": {},
   "source": [
    "Let's count down how many indexes in which price crossed relevant price downwards coincide with indexes in which a maker fee was added. Same for price crossing relevant price upwards."
   ]
  },
  {
   "cell_type": "code",
   "execution_count": 167,
   "metadata": {},
   "outputs": [],
   "source": [
    "matches_up = 0\n",
    "matches_down = 0\n",
    "for index_up in crosses['up']['index_up']:\n",
    "    if index_up in results_maker_fee_counter['indexes']:\n",
    "        matches_up += 1\n",
    "for index_down in crosses['down']['index_down']:\n",
    "    if index_down in results_maker_fee_counter['indexes']:\n",
    "        matches_down += 1"
   ]
  },
  {
   "cell_type": "code",
   "execution_count": 170,
   "metadata": {},
   "outputs": [
    {
     "data": {
      "text/plain": [
       "(155, 136, 291)"
      ]
     },
     "execution_count": 170,
     "metadata": {},
     "output_type": "execute_result"
    }
   ],
   "source": [
    "matches_up, matches_down, matches_up + matches_down"
   ]
  },
  {
   "cell_type": "code",
   "execution_count": 173,
   "metadata": {},
   "outputs": [
    {
     "data": {
      "text/plain": [
       "(156, 156)"
      ]
     },
     "execution_count": 173,
     "metadata": {},
     "output_type": "execute_result"
    }
   ],
   "source": [
    "len(crosses['up']['index_up']), len(crosses['down']['index_down'])"
   ]
  },
  {
   "cell_type": "markdown",
   "metadata": {},
   "source": [
    "So almost all indexes for which price goes above relevant price coincide with indexes in which a maker fee was added. It means that in order to get the rows in which we close the short, we can use index_up."
   ]
  },
  {
   "cell_type": "markdown",
   "metadata": {},
   "source": [
    "Let's now calculate the average value of close_price - entry_price to have a notion of for how much usually we miss and a notion of an average amount of loss coming from closing late."
   ]
  },
  {
   "cell_type": "markdown",
   "metadata": {},
   "source": [
    "First of all note that if we look at rows of results for indexes between [index_up -2, index_up+2] we realise that \n",
    "- entry_price and short_size can be found at index_up -1\n",
    "- close_price is market_price in index = index_up"
   ]
  },
  {
   "cell_type": "code",
   "execution_count": 176,
   "metadata": {},
   "outputs": [
    {
     "data": {
      "text/html": [
       "<div>\n",
       "<style scoped>\n",
       "    .dataframe tbody tr th:only-of-type {\n",
       "        vertical-align: middle;\n",
       "    }\n",
       "\n",
       "    .dataframe tbody tr th {\n",
       "        vertical-align: top;\n",
       "    }\n",
       "\n",
       "    .dataframe thead th {\n",
       "        text-align: right;\n",
       "    }\n",
       "</style>\n",
       "<table border=\"1\" class=\"dataframe\">\n",
       "  <thead>\n",
       "    <tr style=\"text-align: right;\">\n",
       "      <th></th>\n",
       "      <th>market_price</th>\n",
       "      <th>I_current</th>\n",
       "      <th>I_old</th>\n",
       "      <th>short_size</th>\n",
       "      <th>entry_price</th>\n",
       "      <th>pnl</th>\n",
       "      <th>maker_fees_counter</th>\n",
       "      <th>total_stgy_pnl</th>\n",
       "    </tr>\n",
       "  </thead>\n",
       "  <tbody>\n",
       "    <tr>\n",
       "      <th>43393</th>\n",
       "      <td>240.70</td>\n",
       "      <td>infty</td>\n",
       "      <td>minus_infty</td>\n",
       "      <td>0.000</td>\n",
       "      <td>0.00</td>\n",
       "      <td>0.0000</td>\n",
       "      <td>0</td>\n",
       "      <td>-2.879624</td>\n",
       "    </tr>\n",
       "    <tr>\n",
       "      <th>43394</th>\n",
       "      <td>239.74</td>\n",
       "      <td>minus_infty</td>\n",
       "      <td>infty</td>\n",
       "      <td>-4334.634</td>\n",
       "      <td>239.74</td>\n",
       "      <td>0.0000</td>\n",
       "      <td>1</td>\n",
       "      <td>-522.470891</td>\n",
       "    </tr>\n",
       "    <tr>\n",
       "      <th>43395</th>\n",
       "      <td>240.94</td>\n",
       "      <td>infty</td>\n",
       "      <td>minus_infty</td>\n",
       "      <td>0.000</td>\n",
       "      <td>0.00</td>\n",
       "      <td>-5201.5608</td>\n",
       "      <td>2</td>\n",
       "      <td>-6246.223689</td>\n",
       "    </tr>\n",
       "    <tr>\n",
       "      <th>43396</th>\n",
       "      <td>240.86</td>\n",
       "      <td>infty</td>\n",
       "      <td>minus_infty</td>\n",
       "      <td>0.000</td>\n",
       "      <td>0.00</td>\n",
       "      <td>0.0000</td>\n",
       "      <td>2</td>\n",
       "      <td>-6246.222332</td>\n",
       "    </tr>\n",
       "  </tbody>\n",
       "</table>\n",
       "</div>"
      ],
      "text/plain": [
       "       market_price    I_current        I_old  short_size  entry_price  \\\n",
       "43393        240.70        infty  minus_infty       0.000         0.00   \n",
       "43394        239.74  minus_infty        infty   -4334.634       239.74   \n",
       "43395        240.94        infty  minus_infty       0.000         0.00   \n",
       "43396        240.86        infty  minus_infty       0.000         0.00   \n",
       "\n",
       "             pnl  maker_fees_counter  total_stgy_pnl  \n",
       "43393     0.0000                   0       -2.879624  \n",
       "43394     0.0000                   1     -522.470891  \n",
       "43395 -5201.5608                   2    -6246.223689  \n",
       "43396     0.0000                   2    -6246.222332  "
      ]
     },
     "execution_count": 176,
     "metadata": {},
     "output_type": "execute_result"
    }
   ],
   "source": [
    "i = 1\n",
    "index = crosses['up']['index_up'][i]\n",
    "dydx_results.iloc[index-2:index+2][['market_price', 'I_current','I_old','short_size','entry_price','pnl','maker_fees_counter','total_stgy_pnl']]"
   ]
  },
  {
   "cell_type": "markdown",
   "metadata": {},
   "source": [
    "Let's calculate the difference close - open and the cost for each time we close the short (ie for every index_up)."
   ]
  },
  {
   "cell_type": "code",
   "execution_count": 177,
   "metadata": {},
   "outputs": [],
   "source": [
    "diff = []\n",
    "cost = []\n",
    "# we dont start the loop at i = 0 because the data_set started below open_close\n",
    "# so the first time price crossed open_close doesnt matter bc we didnt assume have the short position open\n",
    "for i in range(1,len(crosses['up']['index_up'])):\n",
    "    index_up = crosses['up']['index_up'][i]\n",
    "    if index_up in results_maker_fee_counter['indexes']:\n",
    "        entry_price = dydx_results.iloc[index-1]['entry_price']\n",
    "        close_price = dydx_results.iloc[index]['market_price']\n",
    "        short_size = dydx_results.iloc[index-1]['short_size']\n",
    "        diff.append(close_price-entry_price)\n",
    "        cost.append(short_size * (close_price-entry_price))"
   ]
  },
  {
   "cell_type": "code",
   "execution_count": 180,
   "metadata": {},
   "outputs": [
    {
     "data": {
      "text/plain": [
       "(1.1999999999999886, -5201.560799999951)"
      ]
     },
     "execution_count": 180,
     "metadata": {},
     "output_type": "execute_result"
    }
   ],
   "source": [
    "np.mean(diff), np.mean(cost)"
   ]
  }
 ],
 "metadata": {
  "kernelspec": {
   "display_name": "Python 3 (ipykernel)",
   "language": "python",
   "name": "python3"
  },
  "language_info": {
   "codemirror_mode": {
    "name": "ipython",
    "version": 3
   },
   "file_extension": ".py",
   "mimetype": "text/x-python",
   "name": "python",
   "nbconvert_exporter": "python",
   "pygments_lexer": "ipython3",
   "version": "3.10.6"
  }
 },
 "nbformat": 4,
 "nbformat_minor": 4
}
