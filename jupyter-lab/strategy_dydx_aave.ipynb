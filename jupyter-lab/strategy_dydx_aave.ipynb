{
  "nbformat": 4,
  "nbformat_minor": 0,
  "metadata": {
    "colab": {
      "name": "Strategy 1.ipynb",
      "provenance": [],
      "collapsed_sections": [
        "dqJhPe6PTc4N",
        "ufZfhFUEtiFm"
      ]
    },
    "kernelspec": {
      "name": "python3",
      "display_name": "Python 3"
    },
    "language_info": {
      "name": "python"
    }
  },
  "cells": [
    {
      "cell_type": "code",
      "source": [
        "!pip install web3"
      ],
      "metadata": {
        "id": "rkBk72gV7Ko0"
      },
      "execution_count": null,
      "outputs": []
    },
    {
      "cell_type": "code",
      "execution_count": null,
      "metadata": {
        "id": "oKLbI_uWww5E"
      },
      "outputs": [],
      "source": [
        "import numpy as np\n",
        "import pandas as pd\n",
        "import matplotlib.pyplot as plt"
      ]
    },
    {
      "cell_type": "markdown",
      "source": [
        "## Historical data from binance"
      ],
      "metadata": {
        "id": "dqJhPe6PTc4N"
      }
    },
    {
      "cell_type": "markdown",
      "source": [
        "In this section we define a function to request historical data from Binance for a variety of frequencies (\"1m\", \"5m\", \"10m\", \"15m\", \"1h\", \"6h\", \"12h\", \"1d\"). We set initial_date = '31 Mar 2021' but we can change it.\n",
        "[I use my private api keys]"
      ],
      "metadata": {
        "id": "rD0zjDFXnlGN"
      }
    },
    {
      "cell_type": "code",
      "source": [
        "!pip install python-binance"
      ],
      "metadata": {
        "colab": {
          "base_uri": "https://localhost:8080/"
        },
        "id": "RC3BvJrzp7ab",
        "outputId": "763a2f02-bada-46a9-d6e3-415bfd9ed4e8"
      },
      "execution_count": null,
      "outputs": [
        {
          "output_type": "stream",
          "name": "stdout",
          "text": [
            "Looking in indexes: https://pypi.org/simple, https://us-python.pkg.dev/colab-wheels/public/simple/\n",
            "Collecting python-binance\n",
            "  Downloading python_binance-1.0.16-py2.py3-none-any.whl (65 kB)\n",
            "\u001b[K     |████████████████████████████████| 65 kB 2.1 MB/s \n",
            "\u001b[?25hCollecting ujson\n",
            "  Downloading ujson-5.3.0-cp37-cp37m-manylinux_2_17_x86_64.manylinux2014_x86_64.whl (45 kB)\n",
            "\u001b[K     |████████████████████████████████| 45 kB 2.2 MB/s \n",
            "\u001b[?25hRequirement already satisfied: aiohttp in /usr/local/lib/python3.7/dist-packages (from python-binance) (3.8.1)\n",
            "Requirement already satisfied: requests in /usr/local/lib/python3.7/dist-packages (from python-binance) (2.23.0)\n",
            "Requirement already satisfied: websockets in /usr/local/lib/python3.7/dist-packages (from python-binance) (9.1)\n",
            "Collecting dateparser\n",
            "  Downloading dateparser-1.1.1-py2.py3-none-any.whl (288 kB)\n",
            "\u001b[K     |████████████████████████████████| 288 kB 17.1 MB/s \n",
            "\u001b[?25hRequirement already satisfied: six in /usr/local/lib/python3.7/dist-packages (from python-binance) (1.15.0)\n",
            "Requirement already satisfied: charset-normalizer<3.0,>=2.0 in /usr/local/lib/python3.7/dist-packages (from aiohttp->python-binance) (2.0.12)\n",
            "Requirement already satisfied: multidict<7.0,>=4.5 in /usr/local/lib/python3.7/dist-packages (from aiohttp->python-binance) (6.0.2)\n",
            "Requirement already satisfied: typing-extensions>=3.7.4 in /usr/local/lib/python3.7/dist-packages (from aiohttp->python-binance) (4.1.1)\n",
            "Requirement already satisfied: aiosignal>=1.1.2 in /usr/local/lib/python3.7/dist-packages (from aiohttp->python-binance) (1.2.0)\n",
            "Requirement already satisfied: async-timeout<5.0,>=4.0.0a3 in /usr/local/lib/python3.7/dist-packages (from aiohttp->python-binance) (4.0.2)\n",
            "Requirement already satisfied: frozenlist>=1.1.1 in /usr/local/lib/python3.7/dist-packages (from aiohttp->python-binance) (1.3.0)\n",
            "Requirement already satisfied: attrs>=17.3.0 in /usr/local/lib/python3.7/dist-packages (from aiohttp->python-binance) (21.4.0)\n",
            "Requirement already satisfied: asynctest==0.13.0 in /usr/local/lib/python3.7/dist-packages (from aiohttp->python-binance) (0.13.0)\n",
            "Requirement already satisfied: yarl<2.0,>=1.0 in /usr/local/lib/python3.7/dist-packages (from aiohttp->python-binance) (1.7.2)\n",
            "Requirement already satisfied: idna>=2.0 in /usr/local/lib/python3.7/dist-packages (from yarl<2.0,>=1.0->aiohttp->python-binance) (2.10)\n",
            "Requirement already satisfied: pytz in /usr/local/lib/python3.7/dist-packages (from dateparser->python-binance) (2022.1)\n",
            "Requirement already satisfied: python-dateutil in /usr/local/lib/python3.7/dist-packages (from dateparser->python-binance) (2.8.2)\n",
            "Collecting regex!=2019.02.19,!=2021.8.27,<2022.3.15\n",
            "  Downloading regex-2022.3.2-cp37-cp37m-manylinux_2_17_x86_64.manylinux2014_x86_64.whl (749 kB)\n",
            "\u001b[K     |████████████████████████████████| 749 kB 8.1 MB/s \n",
            "\u001b[?25hRequirement already satisfied: tzlocal in /usr/local/lib/python3.7/dist-packages (from dateparser->python-binance) (1.5.1)\n",
            "Requirement already satisfied: urllib3!=1.25.0,!=1.25.1,<1.26,>=1.21.1 in /usr/local/lib/python3.7/dist-packages (from requests->python-binance) (1.24.3)\n",
            "Requirement already satisfied: chardet<4,>=3.0.2 in /usr/local/lib/python3.7/dist-packages (from requests->python-binance) (3.0.4)\n",
            "Requirement already satisfied: certifi>=2017.4.17 in /usr/local/lib/python3.7/dist-packages (from requests->python-binance) (2022.6.15)\n",
            "Installing collected packages: regex, ujson, dateparser, python-binance\n",
            "  Attempting uninstall: regex\n",
            "    Found existing installation: regex 2022.6.2\n",
            "    Uninstalling regex-2022.6.2:\n",
            "      Successfully uninstalled regex-2022.6.2\n",
            "Successfully installed dateparser-1.1.1 python-binance-1.0.16 regex-2022.3.2 ujson-5.3.0\n"
          ]
        }
      ]
    },
    {
      "cell_type": "code",
      "source": [
        "import pandas as pd\n",
        "import math\n",
        "import os.path\n",
        "import time\n",
        "from binance.client import Client\n",
        "from datetime import timedelta, datetime\n",
        "from dateutil import parser\n",
        "from tqdm import tqdm_notebook #(Optional, used for progress-bars)\n",
        "\n",
        "### API\n",
        "binance_api_key = '9zFIgetckRO80d4RciWs8jc4XSwAMEnFIuwVhAoaYIstQ9RWlfqiV6zcAGu0Ta8R'    #Enter your own API-key here\n",
        "binance_api_secret = 'Uu8vtNEmH1PPDPDchX51jivxBENEbNwDmDcQrnhPJBJwFcbqjnvxL2MeQJuTc4Kg' #Enter your own API-secret here\n",
        "\n",
        "### CONSTANTS\n",
        "binsizes = {\"1m\": 1, \"5m\": 5, \"10m\": 10, \"15m\": 15, \"1h\": 60, \"6h\": 360, \"12h\": 720, \"1d\": 1440}\n",
        "\n",
        "batch_size = 750\n",
        "binance_client = Client(api_key=binance_api_key, api_secret=binance_api_secret)\n",
        "\n",
        "# initial_date = '1 Jan 2017'\n",
        "initial_date = '31 Mar 2021'\n",
        "### FUNCTIONS\n",
        "def minutes_of_new_data(symbol, kline_size, data, source):\n",
        "    if len(data) > 0:  old = parser.parse(data[\"timestamp\"].iloc[-1])\n",
        "    elif source == \"binance\": old = datetime.strptime(initial_date, '%d %b %Y')\n",
        "    if source == \"binance\": new = pd.to_datetime(binance_client.get_klines(symbol=symbol, interval=kline_size)[-1][0], unit='ms')\n",
        "    return old, new\n",
        "\n",
        "def get_all_binance(symbol, kline_size, save = False):\n",
        "    filename = '%s-%s-data.csv' % (symbol, kline_size)\n",
        "    if os.path.isfile(filename): data_df = pd.read_csv(filename)\n",
        "    else: data_df = pd.DataFrame()\n",
        "    oldest_point, newest_point = minutes_of_new_data(symbol, kline_size, data_df, source = \"binance\")\n",
        "    delta_min = (newest_point - oldest_point).total_seconds()/60\n",
        "    available_data = math.ceil(delta_min/binsizes[kline_size])\n",
        "    if oldest_point == datetime.strptime(initial_date, '%d %b %Y'): print('Downloading all available %s data for %s. Be patient..!' % (kline_size, symbol))\n",
        "    else: print('Downloading %d minutes of new data available for %s, i.e. %d instances of %s data.' % (delta_min, symbol, available_data, kline_size))\n",
        "    klines = binance_client.get_historical_klines(symbol, kline_size, oldest_point.strftime(\"%d %b %Y %H:%M:%S\"), newest_point.strftime(\"%d %b %Y %H:%M:%S\"))\n",
        "    data = pd.DataFrame(klines, columns = ['timestamp', 'open', 'high', 'low', 'close', 'volume', 'close_time', 'quote_av', 'trades', 'tb_base_av', 'tb_quote_av', 'ignore' ])\n",
        "    data['timestamp'] = pd.to_datetime(data['timestamp'], unit='ms')\n",
        "    if len(data_df) > 0:\n",
        "        temp_df = pd.DataFrame(data)\n",
        "        data_df = data_df.append(temp_df)\n",
        "    else: data_df = data\n",
        "    data_df.set_index('timestamp', inplace=True)\n",
        "    if save: data_df.to_csv(filename)\n",
        "    print('All caught up..!')\n",
        "    return data_df\n"
      ],
      "metadata": {
        "id": "u2Z1IoPsU8zm"
      },
      "execution_count": null,
      "outputs": []
    },
    {
      "cell_type": "markdown",
      "source": [
        "We request historical data for ETHUSDC with 5m frequency."
      ],
      "metadata": {
        "id": "LNCkEKyanznF"
      }
    },
    {
      "cell_type": "code",
      "source": [
        "# lista = [\"ETHUSDC\"]\n",
        "\n",
        "# BTC ETH MATIC UNI COMP AAVE YFI CRV MKR LINK KP3R SFI SUSHI 1INCH CAKE \n",
        "symbol = \"ETHUSDC\"\n",
        "# Frecuencia: 1m, 5m, 10m, 15m, 1h, 1d, 1m\n",
        "freq = \"5m\"\n",
        "\n",
        "# Descarga de datos\n",
        "ETH_historical = get_all_binance(symbol, freq, save = True)"
      ],
      "metadata": {
        "id": "TzBMvBB_VD2B",
        "colab": {
          "base_uri": "https://localhost:8080/"
        },
        "outputId": "f391ce11-5080-4c8c-af46-347e85894d5d"
      },
      "execution_count": null,
      "outputs": [
        {
          "output_type": "stream",
          "name": "stdout",
          "text": [
            "Downloading all available 5m data for ETHUSDC. Be patient..!\n",
            "All caught up..!\n"
          ]
        }
      ]
    },
    {
      "cell_type": "code",
      "source": [
        "len(ETH_historical)"
      ],
      "metadata": {
        "colab": {
          "base_uri": "https://localhost:8080/"
        },
        "id": "CDEicxyQoLGD",
        "outputId": "dcf2438f-6147-4f2b-86be-bbfe239bd341"
      },
      "execution_count": null,
      "outputs": [
        {
          "output_type": "execute_result",
          "data": {
            "text/plain": [
              "131277"
            ]
          },
          "metadata": {},
          "execution_count": 6
        }
      ]
    },
    {
      "cell_type": "code",
      "source": [
        "ETH_historical"
      ],
      "metadata": {
        "colab": {
          "base_uri": "https://localhost:8080/"
        },
        "id": "xdVZi1ZtwTz4",
        "outputId": "ce14458d-c4a9-422c-bfe1-db07c5de1d80"
      },
      "execution_count": null,
      "outputs": [
        {
          "output_type": "execute_result",
          "data": {
            "text/plain": [
              "                              open           high            low  \\\n",
              "timestamp                                                          \n",
              "2021-03-31 00:00:00  1841.29000000  1845.35000000  1841.12000000   \n",
              "2021-03-31 00:05:00  1844.39000000  1847.08000000  1843.99000000   \n",
              "2021-03-31 00:10:00  1845.54000000  1849.53000000  1845.54000000   \n",
              "2021-03-31 00:15:00  1848.96000000  1850.35000000  1847.50000000   \n",
              "2021-03-31 00:20:00  1848.12000000  1849.12000000  1846.00000000   \n",
              "...                            ...            ...            ...   \n",
              "2022-06-30 09:00:00  1047.77000000  1049.73000000  1043.93000000   \n",
              "2022-06-30 09:05:00  1044.86000000  1045.89000000  1027.01000000   \n",
              "2022-06-30 09:10:00  1031.04000000  1034.60000000  1027.18000000   \n",
              "2022-06-30 09:15:00  1031.38000000  1033.44000000  1022.00000000   \n",
              "2022-06-30 09:20:00  1025.60000000  1026.59000000  1022.82000000   \n",
              "\n",
              "                             close         volume     close_time  \\\n",
              "timestamp                                                          \n",
              "2021-03-31 00:00:00  1845.35000000    13.45650000  1617149099999   \n",
              "2021-03-31 00:05:00  1846.29000000    54.69818000  1617149399999   \n",
              "2021-03-31 00:10:00  1848.96000000    10.56434000  1617149699999   \n",
              "2021-03-31 00:15:00  1847.50000000   126.93107000  1617149999999   \n",
              "2021-03-31 00:20:00  1846.00000000    16.03979000  1617150299999   \n",
              "...                            ...            ...            ...   \n",
              "2022-06-30 09:00:00  1044.98000000    89.34740000  1656579899999   \n",
              "2022-06-30 09:05:00  1031.05000000  1255.30980000  1656580199999   \n",
              "2022-06-30 09:10:00  1031.57000000   657.32350000  1656580499999   \n",
              "2022-06-30 09:15:00  1025.86000000   412.19010000  1656580799999   \n",
              "2022-06-30 09:20:00  1024.52000000   209.62910000  1656581099999   \n",
              "\n",
              "                             quote_av  trades    tb_base_av      tb_quote_av  \\\n",
              "timestamp                                                                      \n",
              "2021-03-31 00:00:00    24811.47621960      39    4.46207000    8228.10868710   \n",
              "2021-03-31 00:05:00   100898.41600010      50   18.71127000   34521.30106140   \n",
              "2021-03-31 00:10:00    19523.84183440      31    6.35202000   11739.72432620   \n",
              "2021-03-31 00:15:00   234808.65135190     117   70.35710000  130155.06817220   \n",
              "2021-03-31 00:20:00    29631.68322550      61    3.04496000    5630.11817930   \n",
              "...                               ...     ...           ...              ...   \n",
              "2022-06-30 09:00:00    93600.59516200     286   41.33610000   43316.53086700   \n",
              "2022-06-30 09:05:00  1301546.44966900    1255  531.65880000  552359.80033400   \n",
              "2022-06-30 09:10:00   677439.13450400     867  226.92000000  234032.62150300   \n",
              "2022-06-30 09:15:00   423044.39174000     903  164.64950000  169092.17367600   \n",
              "2022-06-30 09:20:00   214843.13485000     478   96.15590000   98534.17775800   \n",
              "\n",
              "                    ignore  \n",
              "timestamp                   \n",
              "2021-03-31 00:00:00      0  \n",
              "2021-03-31 00:05:00      0  \n",
              "2021-03-31 00:10:00      0  \n",
              "2021-03-31 00:15:00      0  \n",
              "2021-03-31 00:20:00      0  \n",
              "...                    ...  \n",
              "2022-06-30 09:00:00      0  \n",
              "2022-06-30 09:05:00      0  \n",
              "2022-06-30 09:10:00      0  \n",
              "2022-06-30 09:15:00      0  \n",
              "2022-06-30 09:20:00      0  \n",
              "\n",
              "[131277 rows x 11 columns]"
            ],
            "text/html": [
              "\n",
              "  <div id=\"df-bf116fde-ae34-4b6e-95b1-9ce85309d731\">\n",
              "    <div class=\"colab-df-container\">\n",
              "      <div>\n",
              "<style scoped>\n",
              "    .dataframe tbody tr th:only-of-type {\n",
              "        vertical-align: middle;\n",
              "    }\n",
              "\n",
              "    .dataframe tbody tr th {\n",
              "        vertical-align: top;\n",
              "    }\n",
              "\n",
              "    .dataframe thead th {\n",
              "        text-align: right;\n",
              "    }\n",
              "</style>\n",
              "<table border=\"1\" class=\"dataframe\">\n",
              "  <thead>\n",
              "    <tr style=\"text-align: right;\">\n",
              "      <th></th>\n",
              "      <th>open</th>\n",
              "      <th>high</th>\n",
              "      <th>low</th>\n",
              "      <th>close</th>\n",
              "      <th>volume</th>\n",
              "      <th>close_time</th>\n",
              "      <th>quote_av</th>\n",
              "      <th>trades</th>\n",
              "      <th>tb_base_av</th>\n",
              "      <th>tb_quote_av</th>\n",
              "      <th>ignore</th>\n",
              "    </tr>\n",
              "    <tr>\n",
              "      <th>timestamp</th>\n",
              "      <th></th>\n",
              "      <th></th>\n",
              "      <th></th>\n",
              "      <th></th>\n",
              "      <th></th>\n",
              "      <th></th>\n",
              "      <th></th>\n",
              "      <th></th>\n",
              "      <th></th>\n",
              "      <th></th>\n",
              "      <th></th>\n",
              "    </tr>\n",
              "  </thead>\n",
              "  <tbody>\n",
              "    <tr>\n",
              "      <th>2021-03-31 00:00:00</th>\n",
              "      <td>1841.29000000</td>\n",
              "      <td>1845.35000000</td>\n",
              "      <td>1841.12000000</td>\n",
              "      <td>1845.35000000</td>\n",
              "      <td>13.45650000</td>\n",
              "      <td>1617149099999</td>\n",
              "      <td>24811.47621960</td>\n",
              "      <td>39</td>\n",
              "      <td>4.46207000</td>\n",
              "      <td>8228.10868710</td>\n",
              "      <td>0</td>\n",
              "    </tr>\n",
              "    <tr>\n",
              "      <th>2021-03-31 00:05:00</th>\n",
              "      <td>1844.39000000</td>\n",
              "      <td>1847.08000000</td>\n",
              "      <td>1843.99000000</td>\n",
              "      <td>1846.29000000</td>\n",
              "      <td>54.69818000</td>\n",
              "      <td>1617149399999</td>\n",
              "      <td>100898.41600010</td>\n",
              "      <td>50</td>\n",
              "      <td>18.71127000</td>\n",
              "      <td>34521.30106140</td>\n",
              "      <td>0</td>\n",
              "    </tr>\n",
              "    <tr>\n",
              "      <th>2021-03-31 00:10:00</th>\n",
              "      <td>1845.54000000</td>\n",
              "      <td>1849.53000000</td>\n",
              "      <td>1845.54000000</td>\n",
              "      <td>1848.96000000</td>\n",
              "      <td>10.56434000</td>\n",
              "      <td>1617149699999</td>\n",
              "      <td>19523.84183440</td>\n",
              "      <td>31</td>\n",
              "      <td>6.35202000</td>\n",
              "      <td>11739.72432620</td>\n",
              "      <td>0</td>\n",
              "    </tr>\n",
              "    <tr>\n",
              "      <th>2021-03-31 00:15:00</th>\n",
              "      <td>1848.96000000</td>\n",
              "      <td>1850.35000000</td>\n",
              "      <td>1847.50000000</td>\n",
              "      <td>1847.50000000</td>\n",
              "      <td>126.93107000</td>\n",
              "      <td>1617149999999</td>\n",
              "      <td>234808.65135190</td>\n",
              "      <td>117</td>\n",
              "      <td>70.35710000</td>\n",
              "      <td>130155.06817220</td>\n",
              "      <td>0</td>\n",
              "    </tr>\n",
              "    <tr>\n",
              "      <th>2021-03-31 00:20:00</th>\n",
              "      <td>1848.12000000</td>\n",
              "      <td>1849.12000000</td>\n",
              "      <td>1846.00000000</td>\n",
              "      <td>1846.00000000</td>\n",
              "      <td>16.03979000</td>\n",
              "      <td>1617150299999</td>\n",
              "      <td>29631.68322550</td>\n",
              "      <td>61</td>\n",
              "      <td>3.04496000</td>\n",
              "      <td>5630.11817930</td>\n",
              "      <td>0</td>\n",
              "    </tr>\n",
              "    <tr>\n",
              "      <th>...</th>\n",
              "      <td>...</td>\n",
              "      <td>...</td>\n",
              "      <td>...</td>\n",
              "      <td>...</td>\n",
              "      <td>...</td>\n",
              "      <td>...</td>\n",
              "      <td>...</td>\n",
              "      <td>...</td>\n",
              "      <td>...</td>\n",
              "      <td>...</td>\n",
              "      <td>...</td>\n",
              "    </tr>\n",
              "    <tr>\n",
              "      <th>2022-06-30 09:00:00</th>\n",
              "      <td>1047.77000000</td>\n",
              "      <td>1049.73000000</td>\n",
              "      <td>1043.93000000</td>\n",
              "      <td>1044.98000000</td>\n",
              "      <td>89.34740000</td>\n",
              "      <td>1656579899999</td>\n",
              "      <td>93600.59516200</td>\n",
              "      <td>286</td>\n",
              "      <td>41.33610000</td>\n",
              "      <td>43316.53086700</td>\n",
              "      <td>0</td>\n",
              "    </tr>\n",
              "    <tr>\n",
              "      <th>2022-06-30 09:05:00</th>\n",
              "      <td>1044.86000000</td>\n",
              "      <td>1045.89000000</td>\n",
              "      <td>1027.01000000</td>\n",
              "      <td>1031.05000000</td>\n",
              "      <td>1255.30980000</td>\n",
              "      <td>1656580199999</td>\n",
              "      <td>1301546.44966900</td>\n",
              "      <td>1255</td>\n",
              "      <td>531.65880000</td>\n",
              "      <td>552359.80033400</td>\n",
              "      <td>0</td>\n",
              "    </tr>\n",
              "    <tr>\n",
              "      <th>2022-06-30 09:10:00</th>\n",
              "      <td>1031.04000000</td>\n",
              "      <td>1034.60000000</td>\n",
              "      <td>1027.18000000</td>\n",
              "      <td>1031.57000000</td>\n",
              "      <td>657.32350000</td>\n",
              "      <td>1656580499999</td>\n",
              "      <td>677439.13450400</td>\n",
              "      <td>867</td>\n",
              "      <td>226.92000000</td>\n",
              "      <td>234032.62150300</td>\n",
              "      <td>0</td>\n",
              "    </tr>\n",
              "    <tr>\n",
              "      <th>2022-06-30 09:15:00</th>\n",
              "      <td>1031.38000000</td>\n",
              "      <td>1033.44000000</td>\n",
              "      <td>1022.00000000</td>\n",
              "      <td>1025.86000000</td>\n",
              "      <td>412.19010000</td>\n",
              "      <td>1656580799999</td>\n",
              "      <td>423044.39174000</td>\n",
              "      <td>903</td>\n",
              "      <td>164.64950000</td>\n",
              "      <td>169092.17367600</td>\n",
              "      <td>0</td>\n",
              "    </tr>\n",
              "    <tr>\n",
              "      <th>2022-06-30 09:20:00</th>\n",
              "      <td>1025.60000000</td>\n",
              "      <td>1026.59000000</td>\n",
              "      <td>1022.82000000</td>\n",
              "      <td>1024.52000000</td>\n",
              "      <td>209.62910000</td>\n",
              "      <td>1656581099999</td>\n",
              "      <td>214843.13485000</td>\n",
              "      <td>478</td>\n",
              "      <td>96.15590000</td>\n",
              "      <td>98534.17775800</td>\n",
              "      <td>0</td>\n",
              "    </tr>\n",
              "  </tbody>\n",
              "</table>\n",
              "<p>131277 rows × 11 columns</p>\n",
              "</div>\n",
              "      <button class=\"colab-df-convert\" onclick=\"convertToInteractive('df-bf116fde-ae34-4b6e-95b1-9ce85309d731')\"\n",
              "              title=\"Convert this dataframe to an interactive table.\"\n",
              "              style=\"display:none;\">\n",
              "        \n",
              "  <svg xmlns=\"http://www.w3.org/2000/svg\" height=\"24px\"viewBox=\"0 0 24 24\"\n",
              "       width=\"24px\">\n",
              "    <path d=\"M0 0h24v24H0V0z\" fill=\"none\"/>\n",
              "    <path d=\"M18.56 5.44l.94 2.06.94-2.06 2.06-.94-2.06-.94-.94-2.06-.94 2.06-2.06.94zm-11 1L8.5 8.5l.94-2.06 2.06-.94-2.06-.94L8.5 2.5l-.94 2.06-2.06.94zm10 10l.94 2.06.94-2.06 2.06-.94-2.06-.94-.94-2.06-.94 2.06-2.06.94z\"/><path d=\"M17.41 7.96l-1.37-1.37c-.4-.4-.92-.59-1.43-.59-.52 0-1.04.2-1.43.59L10.3 9.45l-7.72 7.72c-.78.78-.78 2.05 0 2.83L4 21.41c.39.39.9.59 1.41.59.51 0 1.02-.2 1.41-.59l7.78-7.78 2.81-2.81c.8-.78.8-2.07 0-2.86zM5.41 20L4 18.59l7.72-7.72 1.47 1.35L5.41 20z\"/>\n",
              "  </svg>\n",
              "      </button>\n",
              "      \n",
              "  <style>\n",
              "    .colab-df-container {\n",
              "      display:flex;\n",
              "      flex-wrap:wrap;\n",
              "      gap: 12px;\n",
              "    }\n",
              "\n",
              "    .colab-df-convert {\n",
              "      background-color: #E8F0FE;\n",
              "      border: none;\n",
              "      border-radius: 50%;\n",
              "      cursor: pointer;\n",
              "      display: none;\n",
              "      fill: #1967D2;\n",
              "      height: 32px;\n",
              "      padding: 0 0 0 0;\n",
              "      width: 32px;\n",
              "    }\n",
              "\n",
              "    .colab-df-convert:hover {\n",
              "      background-color: #E2EBFA;\n",
              "      box-shadow: 0px 1px 2px rgba(60, 64, 67, 0.3), 0px 1px 3px 1px rgba(60, 64, 67, 0.15);\n",
              "      fill: #174EA6;\n",
              "    }\n",
              "\n",
              "    [theme=dark] .colab-df-convert {\n",
              "      background-color: #3B4455;\n",
              "      fill: #D2E3FC;\n",
              "    }\n",
              "\n",
              "    [theme=dark] .colab-df-convert:hover {\n",
              "      background-color: #434B5C;\n",
              "      box-shadow: 0px 1px 3px 1px rgba(0, 0, 0, 0.15);\n",
              "      filter: drop-shadow(0px 1px 2px rgba(0, 0, 0, 0.3));\n",
              "      fill: #FFFFFF;\n",
              "    }\n",
              "  </style>\n",
              "\n",
              "      <script>\n",
              "        const buttonEl =\n",
              "          document.querySelector('#df-bf116fde-ae34-4b6e-95b1-9ce85309d731 button.colab-df-convert');\n",
              "        buttonEl.style.display =\n",
              "          google.colab.kernel.accessAllowed ? 'block' : 'none';\n",
              "\n",
              "        async function convertToInteractive(key) {\n",
              "          const element = document.querySelector('#df-bf116fde-ae34-4b6e-95b1-9ce85309d731');\n",
              "          const dataTable =\n",
              "            await google.colab.kernel.invokeFunction('convertToInteractive',\n",
              "                                                     [key], {});\n",
              "          if (!dataTable) return;\n",
              "\n",
              "          const docLinkHtml = 'Like what you see? Visit the ' +\n",
              "            '<a target=\"_blank\" href=https://colab.research.google.com/notebooks/data_table.ipynb>data table notebook</a>'\n",
              "            + ' to learn more about interactive tables.';\n",
              "          element.innerHTML = '';\n",
              "          dataTable['output_type'] = 'display_data';\n",
              "          await google.colab.output.renderOutput(dataTable, element);\n",
              "          const docLink = document.createElement('div');\n",
              "          docLink.innerHTML = docLinkHtml;\n",
              "          element.appendChild(docLink);\n",
              "        }\n",
              "      </script>\n",
              "    </div>\n",
              "  </div>\n",
              "  "
            ]
          },
          "metadata": {},
          "execution_count": 7
        }
      ]
    },
    {
      "cell_type": "markdown",
      "source": [
        "Given that we have too much data, we will stay with less data (say 2000 prices)."
      ],
      "metadata": {
        "id": "Rax3lp6o3JpZ"
      }
    },
    {
      "cell_type": "code",
      "source": [
        "P_ETH = ETH_historical[-2000:]['close']\n",
        "for i in range(len(P_ETH)):\n",
        "  P_ETH[i] = float(P_ETH[i])"
      ],
      "metadata": {
        "colab": {
          "base_uri": "https://localhost:8080/"
        },
        "id": "Drdsv1E-3IBM",
        "outputId": "fee2df08-e047-4e40-a45c-ae60153c9f7e"
      },
      "execution_count": null,
      "outputs": [
        {
          "output_type": "stream",
          "name": "stderr",
          "text": [
            "/usr/local/lib/python3.7/dist-packages/ipykernel_launcher.py:3: SettingWithCopyWarning: \n",
            "A value is trying to be set on a copy of a slice from a DataFrame\n",
            "\n",
            "See the caveats in the documentation: https://pandas.pydata.org/pandas-docs/stable/user_guide/indexing.html#returning-a-view-versus-a-copy\n",
            "  This is separate from the ipykernel package so we can avoid doing imports until\n",
            "/usr/local/lib/python3.7/dist-packages/pandas/core/series.py:1056: SettingWithCopyWarning: \n",
            "A value is trying to be set on a copy of a slice from a DataFrame\n",
            "\n",
            "See the caveats in the documentation: https://pandas.pydata.org/pandas-docs/stable/user_guide/indexing.html#returning-a-view-versus-a-copy\n",
            "  cacher_needs_updating = self._check_is_chained_assignment_possible()\n"
          ]
        }
      ]
    },
    {
      "cell_type": "markdown",
      "source": [
        "## LTV calculator"
      ],
      "metadata": {
        "id": "eUsd347622oG"
      }
    },
    {
      "cell_type": "markdown",
      "source": [
        "Given\n",
        "\n",
        "- $A=collateral$\n",
        "- $D=borrowed\\_capital / debt$\n",
        "- $LTV=Loan\\ to\\ value$\n",
        "- $LT$ liquidation threshold\n",
        "\n",
        "then $LTV = \\frac{D}{A}$ and we will be liquidated if $LTV > LT$."
      ],
      "metadata": {
        "id": "r974k18tw_I1"
      }
    },
    {
      "cell_type": "code",
      "source": [
        "def liquidation(collateral_ETH, P_ETH, Debt_USDC, LT):\n",
        "  '''\n",
        "  LT = liquidation threshold\n",
        "  debt_value = Debt_USDC (in USDC)\n",
        "  collateral_USDC = colateral_ETH * P_ETH\n",
        "  liquidation if debt_value > collateral_USDC * LT iff debt_value / collateral_USDC = new_LTV > LT\n",
        "  '''\n",
        "  collateral_USDC = collateral_ETH * P_ETH\n",
        "  new_LTV = Debt_USDC / collateral_USDC\n",
        "  return new_LTV > LT\n",
        "\n",
        "def LTV_(collateral_ETH, P_ETH, Debt_USDC):\n",
        "  collateral_USDC = collateral_ETH * P_ETH\n",
        "  LTV = Debt_USDC / collateral_USDC\n",
        "  # P_ETH = Debt_USDC / (collateral_ETH * LT)\n",
        "  return LTV"
      ],
      "metadata": {
        "id": "dHMnN9lRw6Et"
      },
      "execution_count": null,
      "outputs": []
    },
    {
      "cell_type": "markdown",
      "source": [
        "## PyL DyDx"
      ],
      "metadata": {
        "id": "S1hCnpbnb-PS"
      }
    },
    {
      "cell_type": "code",
      "source": [
        "def short_pyl(size, P):\n",
        "  '''\n",
        "  P_entry, leverage are given and fixed\n",
        "  '''\n",
        "  return size * (short_entry_price - P) * short_leverage"
      ],
      "metadata": {
        "id": "FnjkJ0adcBFe"
      },
      "execution_count": null,
      "outputs": []
    },
    {
      "cell_type": "markdown",
      "source": [
        "## AAVE yields"
      ],
      "metadata": {
        "id": "UL8cWr7wg3ZL"
      }
    },
    {
      "cell_type": "code",
      "source": [
        "def AAVE_profits(collateral_USDC, pcg_collateral_to_borrow,\n",
        "                 supply_rate_ETH, supply_rewards_rate_ETH,\n",
        "                 borrow_rate_USDC, borrow_rewards_rate_USDC):\n",
        "  debt = collateral_USDC * pcg_collateral_to_borrow\n",
        "  return collateral_USDC * (supply_rate_ETH + supply_rewards_rate_ETH) - debt * (borrow_rate_USDC - borrow_rewards_rate_USDC)"
      ],
      "metadata": {
        "id": "FthwXfysg4co"
      },
      "execution_count": null,
      "outputs": []
    },
    {
      "cell_type": "markdown",
      "source": [
        "### Request borrow_rate + supply_rate"
      ],
      "metadata": {
        "id": "ufZfhFUEtiFm"
      }
    },
    {
      "cell_type": "code",
      "source": [
        "import json\n",
        "#from google.colab import files\n",
        "#uploaded = files.upload()\n",
        "from binance.client import Client\n",
        "import pandas as pd\n",
        "from datetime import datetime\n",
        "from web3 import Web3\n",
        "#import pandas as pd\n"
      ],
      "metadata": {
        "id": "wvod8AfzsUNF"
      },
      "execution_count": null,
      "outputs": []
    },
    {
      "cell_type": "code",
      "source": [
        "# Conectamos con el nodo\n",
        "w3 = Web3(Web3.HTTPProvider(\"https://mainnet.infura.io/v3/da48e8cbe7ed479688437e27dd07fe8b\"))\n",
        "# Cargamos las address del contrato del tricrypto y del LP token\n",
        "lending_pool_address = '0x7d2768dE32b0b80b7a3454c06BdAc94A69DDc7A9'\n",
        "wETH_address = '0xC02aaA39b223FE8D0A0e5C4F27eAD9083C756Cc2'\n",
        "USDC_address = '0xA0b86991c6218b36c1d19D4a2e9Eb0cE3606eB48'\n",
        "# Cargamos las abis de cada uno\n",
        "pool_abi = '''\n",
        "[{\"anonymous\":false,\"inputs\":[{\"indexed\":true,\"internalType\":\"address\",\"name\":\"reserve\",\"type\":\"address\"},{\"indexed\":false,\"internalType\":\"address\",\"name\":\"user\",\"type\":\"address\"},{\"indexed\":true,\"internalType\":\"address\",\"name\":\"onBehalfOf\",\"type\":\"address\"},{\"indexed\":false,\"internalType\":\"uint256\",\"name\":\"amount\",\"type\":\"uint256\"},{\"indexed\":false,\"internalType\":\"uint256\",\"name\":\"borrowRateMode\",\"type\":\"uint256\"},{\"indexed\":false,\"internalType\":\"uint256\",\"name\":\"borrowRate\",\"type\":\"uint256\"},{\"indexed\":true,\"internalType\":\"uint16\",\"name\":\"referral\",\"type\":\"uint16\"}],\"name\":\"Borrow\",\"type\":\"event\"},{\"anonymous\":false,\"inputs\":[{\"indexed\":true,\"internalType\":\"address\",\"name\":\"reserve\",\"type\":\"address\"},{\"indexed\":false,\"internalType\":\"address\",\"name\":\"user\",\"type\":\"address\"},{\"indexed\":true,\"internalType\":\"address\",\"name\":\"onBehalfOf\",\"type\":\"address\"},{\"indexed\":false,\"internalType\":\"uint256\",\"name\":\"amount\",\"type\":\"uint256\"},{\"indexed\":true,\"internalType\":\"uint16\",\"name\":\"referral\",\"type\":\"uint16\"}],\"name\":\"Deposit\",\"type\":\"event\"},{\"anonymous\":false,\"inputs\":[{\"indexed\":true,\"internalType\":\"address\",\"name\":\"target\",\"type\":\"address\"},{\"indexed\":true,\"internalType\":\"address\",\"name\":\"initiator\",\"type\":\"address\"},{\"indexed\":true,\"internalType\":\"address\",\"name\":\"asset\",\"type\":\"address\"},{\"indexed\":false,\"internalType\":\"uint256\",\"name\":\"amount\",\"type\":\"uint256\"},{\"indexed\":false,\"internalType\":\"uint256\",\"name\":\"premium\",\"type\":\"uint256\"},{\"indexed\":false,\"internalType\":\"uint16\",\"name\":\"referralCode\",\"type\":\"uint16\"}],\"name\":\"FlashLoan\",\"type\":\"event\"},{\"anonymous\":false,\"inputs\":[{\"indexed\":true,\"internalType\":\"address\",\"name\":\"collateralAsset\",\"type\":\"address\"},{\"indexed\":true,\"internalType\":\"address\",\"name\":\"debtAsset\",\"type\":\"address\"},{\"indexed\":true,\"internalType\":\"address\",\"name\":\"user\",\"type\":\"address\"},{\"indexed\":false,\"internalType\":\"uint256\",\"name\":\"debtToCover\",\"type\":\"uint256\"},{\"indexed\":false,\"internalType\":\"uint256\",\"name\":\"liquidatedCollateralAmount\",\"type\":\"uint256\"},{\"indexed\":false,\"internalType\":\"address\",\"name\":\"liquidator\",\"type\":\"address\"},{\"indexed\":false,\"internalType\":\"bool\",\"name\":\"receiveAToken\",\"type\":\"bool\"}],\"name\":\"LiquidationCall\",\"type\":\"event\"},{\"anonymous\":false,\"inputs\":[],\"name\":\"Paused\",\"type\":\"event\"},{\"anonymous\":false,\"inputs\":[{\"indexed\":true,\"internalType\":\"address\",\"name\":\"reserve\",\"type\":\"address\"},{\"indexed\":true,\"internalType\":\"address\",\"name\":\"user\",\"type\":\"address\"}],\"name\":\"RebalanceStableBorrowRate\",\"type\":\"event\"},{\"anonymous\":false,\"inputs\":[{\"indexed\":true,\"internalType\":\"address\",\"name\":\"reserve\",\"type\":\"address\"},{\"indexed\":true,\"internalType\":\"address\",\"name\":\"user\",\"type\":\"address\"},{\"indexed\":true,\"internalType\":\"address\",\"name\":\"repayer\",\"type\":\"address\"},{\"indexed\":false,\"internalType\":\"uint256\",\"name\":\"amount\",\"type\":\"uint256\"}],\"name\":\"Repay\",\"type\":\"event\"},{\"anonymous\":false,\"inputs\":[{\"indexed\":true,\"internalType\":\"address\",\"name\":\"reserve\",\"type\":\"address\"},{\"indexed\":false,\"internalType\":\"uint256\",\"name\":\"liquidityRate\",\"type\":\"uint256\"},{\"indexed\":false,\"internalType\":\"uint256\",\"name\":\"stableBorrowRate\",\"type\":\"uint256\"},{\"indexed\":false,\"internalType\":\"uint256\",\"name\":\"variableBorrowRate\",\"type\":\"uint256\"},{\"indexed\":false,\"internalType\":\"uint256\",\"name\":\"liquidityIndex\",\"type\":\"uint256\"},{\"indexed\":false,\"internalType\":\"uint256\",\"name\":\"variableBorrowIndex\",\"type\":\"uint256\"}],\"name\":\"ReserveDataUpdated\",\"type\":\"event\"},{\"anonymous\":false,\"inputs\":[{\"indexed\":true,\"internalType\":\"address\",\"name\":\"reserve\",\"type\":\"address\"},{\"indexed\":true,\"internalType\":\"address\",\"name\":\"user\",\"type\":\"address\"}],\"name\":\"ReserveUsedAsCollateralDisabled\",\"type\":\"event\"},{\"anonymous\":false,\"inputs\":[{\"indexed\":true,\"internalType\":\"address\",\"name\":\"reserve\",\"type\":\"address\"},{\"indexed\":true,\"internalType\":\"address\",\"name\":\"user\",\"type\":\"address\"}],\"name\":\"ReserveUsedAsCollateralEnabled\",\"type\":\"event\"},{\"anonymous\":false,\"inputs\":[{\"indexed\":true,\"internalType\":\"address\",\"name\":\"reserve\",\"type\":\"address\"},{\"indexed\":true,\"internalType\":\"address\",\"name\":\"user\",\"type\":\"address\"},{\"indexed\":false,\"internalType\":\"uint256\",\"name\":\"rateMode\",\"type\":\"uint256\"}],\"name\":\"Swap\",\"type\":\"event\"},{\"anonymous\":false,\"inputs\":[],\"name\":\"Unpaused\",\"type\":\"event\"},{\"anonymous\":false,\"inputs\":[{\"indexed\":true,\"internalType\":\"address\",\"name\":\"reserve\",\"type\":\"address\"},{\"indexed\":true,\"internalType\":\"address\",\"name\":\"user\",\"type\":\"address\"},{\"indexed\":true,\"internalType\":\"address\",\"name\":\"to\",\"type\":\"address\"},{\"indexed\":false,\"internalType\":\"uint256\",\"name\":\"amount\",\"type\":\"uint256\"}],\"name\":\"Withdraw\",\"type\":\"event\"},{\"inputs\":[],\"name\":\"FLASHLOAN_PREMIUM_TOTAL\",\"outputs\":[{\"internalType\":\"uint256\",\"name\":\"\",\"type\":\"uint256\"}],\"stateMutability\":\"view\",\"type\":\"function\"},{\"inputs\":[],\"name\":\"LENDINGPOOL_REVISION\",\"outputs\":[{\"internalType\":\"uint256\",\"name\":\"\",\"type\":\"uint256\"}],\"stateMutability\":\"view\",\"type\":\"function\"},{\"inputs\":[],\"name\":\"MAX_NUMBER_RESERVES\",\"outputs\":[{\"internalType\":\"uint256\",\"name\":\"\",\"type\":\"uint256\"}],\"stateMutability\":\"view\",\"type\":\"function\"},{\"inputs\":[],\"name\":\"MAX_STABLE_RATE_BORROW_SIZE_PERCENT\",\"outputs\":[{\"internalType\":\"uint256\",\"name\":\"\",\"type\":\"uint256\"}],\"stateMutability\":\"view\",\"type\":\"function\"},{\"inputs\":[{\"internalType\":\"address\",\"name\":\"asset\",\"type\":\"address\"},{\"internalType\":\"uint256\",\"name\":\"amount\",\"type\":\"uint256\"},{\"internalType\":\"uint256\",\"name\":\"interestRateMode\",\"type\":\"uint256\"},{\"internalType\":\"uint16\",\"name\":\"referralCode\",\"type\":\"uint16\"},{\"internalType\":\"address\",\"name\":\"onBehalfOf\",\"type\":\"address\"}],\"name\":\"borrow\",\"outputs\":[],\"stateMutability\":\"nonpayable\",\"type\":\"function\"},{\"inputs\":[{\"internalType\":\"address\",\"name\":\"asset\",\"type\":\"address\"},{\"internalType\":\"uint256\",\"name\":\"amount\",\"type\":\"uint256\"},{\"internalType\":\"address\",\"name\":\"onBehalfOf\",\"type\":\"address\"},{\"internalType\":\"uint16\",\"name\":\"referralCode\",\"type\":\"uint16\"}],\"name\":\"deposit\",\"outputs\":[],\"stateMutability\":\"nonpayable\",\"type\":\"function\"},{\"inputs\":[{\"internalType\":\"address\",\"name\":\"asset\",\"type\":\"address\"},{\"internalType\":\"address\",\"name\":\"from\",\"type\":\"address\"},{\"internalType\":\"address\",\"name\":\"to\",\"type\":\"address\"},{\"internalType\":\"uint256\",\"name\":\"amount\",\"type\":\"uint256\"},{\"internalType\":\"uint256\",\"name\":\"balanceFromBefore\",\"type\":\"uint256\"},{\"internalType\":\"uint256\",\"name\":\"balanceToBefore\",\"type\":\"uint256\"}],\"name\":\"finalizeTransfer\",\"outputs\":[],\"stateMutability\":\"nonpayable\",\"type\":\"function\"},{\"inputs\":[{\"internalType\":\"address\",\"name\":\"receiverAddress\",\"type\":\"address\"},{\"internalType\":\"address[]\",\"name\":\"assets\",\"type\":\"address[]\"},{\"internalType\":\"uint256[]\",\"name\":\"amounts\",\"type\":\"uint256[]\"},{\"internalType\":\"uint256[]\",\"name\":\"modes\",\"type\":\"uint256[]\"},{\"internalType\":\"address\",\"name\":\"onBehalfOf\",\"type\":\"address\"},{\"internalType\":\"bytes\",\"name\":\"params\",\"type\":\"bytes\"},{\"internalType\":\"uint16\",\"name\":\"referralCode\",\"type\":\"uint16\"}],\"name\":\"flashLoan\",\"outputs\":[],\"stateMutability\":\"nonpayable\",\"type\":\"function\"},{\"inputs\":[],\"name\":\"getAddressesProvider\",\"outputs\":[{\"internalType\":\"contract ILendingPoolAddressesProvider\",\"name\":\"\",\"type\":\"address\"}],\"stateMutability\":\"view\",\"type\":\"function\"},{\"inputs\":[{\"internalType\":\"address\",\"name\":\"asset\",\"type\":\"address\"}],\"name\":\"getConfiguration\",\"outputs\":[{\"components\":[{\"internalType\":\"uint256\",\"name\":\"data\",\"type\":\"uint256\"}],\"internalType\":\"struct DataTypes.ReserveConfigurationMap\",\"name\":\"\",\"type\":\"tuple\"}],\"stateMutability\":\"view\",\"type\":\"function\"},{\"inputs\":[{\"internalType\":\"address\",\"name\":\"asset\",\"type\":\"address\"}],\"name\":\"getReserveData\",\"outputs\":[{\"components\":[{\"components\":[{\"internalType\":\"uint256\",\"name\":\"data\",\"type\":\"uint256\"}],\"internalType\":\"struct DataTypes.ReserveConfigurationMap\",\"name\":\"configuration\",\"type\":\"tuple\"},{\"internalType\":\"uint128\",\"name\":\"liquidityIndex\",\"type\":\"uint128\"},{\"internalType\":\"uint128\",\"name\":\"variableBorrowIndex\",\"type\":\"uint128\"},{\"internalType\":\"uint128\",\"name\":\"currentLiquidityRate\",\"type\":\"uint128\"},{\"internalType\":\"uint128\",\"name\":\"currentVariableBorrowRate\",\"type\":\"uint128\"},{\"internalType\":\"uint128\",\"name\":\"currentStableBorrowRate\",\"type\":\"uint128\"},{\"internalType\":\"uint40\",\"name\":\"lastUpdateTimestamp\",\"type\":\"uint40\"},{\"internalType\":\"address\",\"name\":\"aTokenAddress\",\"type\":\"address\"},{\"internalType\":\"address\",\"name\":\"stableDebtTokenAddress\",\"type\":\"address\"},{\"internalType\":\"address\",\"name\":\"variableDebtTokenAddress\",\"type\":\"address\"},{\"internalType\":\"address\",\"name\":\"interestRateStrategyAddress\",\"type\":\"address\"},{\"internalType\":\"uint8\",\"name\":\"id\",\"type\":\"uint8\"}],\"internalType\":\"struct DataTypes.ReserveData\",\"name\":\"\",\"type\":\"tuple\"}],\"stateMutability\":\"view\",\"type\":\"function\"},{\"inputs\":[{\"internalType\":\"address\",\"name\":\"asset\",\"type\":\"address\"}],\"name\":\"getReserveNormalizedIncome\",\"outputs\":[{\"internalType\":\"uint256\",\"name\":\"\",\"type\":\"uint256\"}],\"stateMutability\":\"view\",\"type\":\"function\"},{\"inputs\":[{\"internalType\":\"address\",\"name\":\"asset\",\"type\":\"address\"}],\"name\":\"getReserveNormalizedVariableDebt\",\"outputs\":[{\"internalType\":\"uint256\",\"name\":\"\",\"type\":\"uint256\"}],\"stateMutability\":\"view\",\"type\":\"function\"},{\"inputs\":[],\"name\":\"getReservesList\",\"outputs\":[{\"internalType\":\"address[]\",\"name\":\"\",\"type\":\"address[]\"}],\"stateMutability\":\"view\",\"type\":\"function\"},{\"inputs\":[{\"internalType\":\"address\",\"name\":\"user\",\"type\":\"address\"}],\"name\":\"getUserAccountData\",\"outputs\":[{\"internalType\":\"uint256\",\"name\":\"totalCollateralETH\",\"type\":\"uint256\"},{\"internalType\":\"uint256\",\"name\":\"totalDebtETH\",\"type\":\"uint256\"},{\"internalType\":\"uint256\",\"name\":\"availableBorrowsETH\",\"type\":\"uint256\"},{\"internalType\":\"uint256\",\"name\":\"currentLiquidationThreshold\",\"type\":\"uint256\"},{\"internalType\":\"uint256\",\"name\":\"ltv\",\"type\":\"uint256\"},{\"internalType\":\"uint256\",\"name\":\"healthFactor\",\"type\":\"uint256\"}],\"stateMutability\":\"view\",\"type\":\"function\"},{\"inputs\":[{\"internalType\":\"address\",\"name\":\"user\",\"type\":\"address\"}],\"name\":\"getUserConfiguration\",\"outputs\":[{\"components\":[{\"internalType\":\"uint256\",\"name\":\"data\",\"type\":\"uint256\"}],\"internalType\":\"struct DataTypes.UserConfigurationMap\",\"name\":\"\",\"type\":\"tuple\"}],\"stateMutability\":\"view\",\"type\":\"function\"},{\"inputs\":[{\"internalType\":\"address\",\"name\":\"asset\",\"type\":\"address\"},{\"internalType\":\"address\",\"name\":\"aTokenAddress\",\"type\":\"address\"},{\"internalType\":\"address\",\"name\":\"stableDebtAddress\",\"type\":\"address\"},{\"internalType\":\"address\",\"name\":\"variableDebtAddress\",\"type\":\"address\"},{\"internalType\":\"address\",\"name\":\"interestRateStrategyAddress\",\"type\":\"address\"}],\"name\":\"initReserve\",\"outputs\":[],\"stateMutability\":\"nonpayable\",\"type\":\"function\"},{\"inputs\":[{\"internalType\":\"contract ILendingPoolAddressesProvider\",\"name\":\"provider\",\"type\":\"address\"}],\"name\":\"initialize\",\"outputs\":[],\"stateMutability\":\"nonpayable\",\"type\":\"function\"},{\"inputs\":[{\"internalType\":\"address\",\"name\":\"collateralAsset\",\"type\":\"address\"},{\"internalType\":\"address\",\"name\":\"debtAsset\",\"type\":\"address\"},{\"internalType\":\"address\",\"name\":\"user\",\"type\":\"address\"},{\"internalType\":\"uint256\",\"name\":\"debtToCover\",\"type\":\"uint256\"},{\"internalType\":\"bool\",\"name\":\"receiveAToken\",\"type\":\"bool\"}],\"name\":\"liquidationCall\",\"outputs\":[],\"stateMutability\":\"nonpayable\",\"type\":\"function\"},{\"inputs\":[],\"name\":\"paused\",\"outputs\":[{\"internalType\":\"bool\",\"name\":\"\",\"type\":\"bool\"}],\"stateMutability\":\"view\",\"type\":\"function\"},{\"inputs\":[{\"internalType\":\"address\",\"name\":\"asset\",\"type\":\"address\"},{\"internalType\":\"address\",\"name\":\"user\",\"type\":\"address\"}],\"name\":\"rebalanceStableBorrowRate\",\"outputs\":[],\"stateMutability\":\"nonpayable\",\"type\":\"function\"},{\"inputs\":[{\"internalType\":\"address\",\"name\":\"asset\",\"type\":\"address\"},{\"internalType\":\"uint256\",\"name\":\"amount\",\"type\":\"uint256\"},{\"internalType\":\"uint256\",\"name\":\"rateMode\",\"type\":\"uint256\"},{\"internalType\":\"address\",\"name\":\"onBehalfOf\",\"type\":\"address\"}],\"name\":\"repay\",\"outputs\":[{\"internalType\":\"uint256\",\"name\":\"\",\"type\":\"uint256\"}],\"stateMutability\":\"nonpayable\",\"type\":\"function\"},{\"inputs\":[{\"internalType\":\"address\",\"name\":\"asset\",\"type\":\"address\"},{\"internalType\":\"uint256\",\"name\":\"configuration\",\"type\":\"uint256\"}],\"name\":\"setConfiguration\",\"outputs\":[],\"stateMutability\":\"nonpayable\",\"type\":\"function\"},{\"inputs\":[{\"internalType\":\"bool\",\"name\":\"val\",\"type\":\"bool\"}],\"name\":\"setPause\",\"outputs\":[],\"stateMutability\":\"nonpayable\",\"type\":\"function\"},{\"inputs\":[{\"internalType\":\"address\",\"name\":\"asset\",\"type\":\"address\"},{\"internalType\":\"address\",\"name\":\"rateStrategyAddress\",\"type\":\"address\"}],\"name\":\"setReserveInterestRateStrategyAddress\",\"outputs\":[],\"stateMutability\":\"nonpayable\",\"type\":\"function\"},{\"inputs\":[{\"internalType\":\"address\",\"name\":\"asset\",\"type\":\"address\"},{\"internalType\":\"bool\",\"name\":\"useAsCollateral\",\"type\":\"bool\"}],\"name\":\"setUserUseReserveAsCollateral\",\"outputs\":[],\"stateMutability\":\"nonpayable\",\"type\":\"function\"},{\"inputs\":[{\"internalType\":\"address\",\"name\":\"asset\",\"type\":\"address\"},{\"internalType\":\"uint256\",\"name\":\"rateMode\",\"type\":\"uint256\"}],\"name\":\"swapBorrowRateMode\",\"outputs\":[],\"stateMutability\":\"nonpayable\",\"type\":\"function\"},{\"inputs\":[{\"internalType\":\"address\",\"name\":\"asset\",\"type\":\"address\"},{\"internalType\":\"uint256\",\"name\":\"amount\",\"type\":\"uint256\"},{\"internalType\":\"address\",\"name\":\"to\",\"type\":\"address\"}],\"name\":\"withdraw\",\"outputs\":[{\"internalType\":\"uint256\",\"name\":\"\",\"type\":\"uint256\"}],\"stateMutability\":\"nonpayable\",\"type\":\"function\"}]\n",
        "'''"
      ],
      "metadata": {
        "id": "GXOotHCTthRL"
      },
      "execution_count": null,
      "outputs": []
    },
    {
      "cell_type": "code",
      "source": [
        "# Info del pool\n",
        "# Conectamos con los contratos\n",
        "pool_contract = w3.eth.contract(address=lending_pool_address, abi=pool_abi)\n",
        "\n",
        "USDC_reserve_data=pool_contract.functions['getReserveData'](USDC_address).call()\n",
        "USDC_liquidity_index = USDC_reserve_data[1] / 10**18\n",
        "USDC_variable_borrow_index = USDC_reserve_data[2] / 10**18\n",
        "USDC_liquidity_rate = USDC_reserve_data[3] / 10**27\n",
        "USDC_variable_borrow_rate = USDC_reserve_data[4] / 10**27\n",
        "USDC_stable_borrow_rate = USDC_reserve_data[5] / 10**27\n",
        "wETH_reserve_data=pool_contract.functions['getReserveData'](wETH_address).call()\n",
        "wETH_liquidity_index = wETH_reserve_data[1] / 10**18\n",
        "wETH_variable_borrow_index = wETH_reserve_data[2] / 10**18\n",
        "wETH_liquidity_rate = wETH_reserve_data[3] / 10**27\n",
        "wETH_variable_borrow_rate = wETH_reserve_data[4] / 10**27\n",
        "wETH_stable_borrow_rate = wETH_reserve_data[5] / 10**27"
      ],
      "metadata": {
        "id": "IUhEX-KvtIXd"
      },
      "execution_count": null,
      "outputs": []
    },
    {
      "cell_type": "markdown",
      "source": [
        "## Strategy\n"
      ],
      "metadata": {
        "id": "bvZFGxrg3qjZ"
      }
    },
    {
      "cell_type": "markdown",
      "source": [
        "1. Use the staked ETH to borrow 10% USDC from Aave (For example, $1000 worth of ETH staked to take out 100 USDC)\n",
        "\n"
      ],
      "metadata": {
        "id": "dpXBxTzV3tMf"
      }
    },
    {
      "cell_type": "markdown",
      "source": [
        "2. Use the USDC to open a short position (preferably stop limit) on DyDx with 10x leverage (10 x 10 = 100% of staked ETH amount)\n"
      ],
      "metadata": {
        "id": "gWbnXhvi6Z9x"
      }
    },
    {
      "cell_type": "markdown",
      "source": [
        "3. Find a threshold to keep cashing out the short profit and adding it back to the collateral to prevent liquidation (Max borrow amount on Aave is 80%)"
      ],
      "metadata": {
        "id": "EW8hCfAq6az-"
      }
    },
    {
      "cell_type": "code",
      "source": [
        "P_ETH[0]"
      ],
      "metadata": {
        "id": "Pd3VIlFV5zri",
        "colab": {
          "base_uri": "https://localhost:8080/"
        },
        "outputId": "e553fcb7-ff26-49e1-88e4-aab810c589f9"
      },
      "execution_count": null,
      "outputs": [
        {
          "output_type": "execute_result",
          "data": {
            "text/plain": [
              "1109.81"
            ]
          },
          "metadata": {},
          "execution_count": 15
        }
      ]
    },
    {
      "cell_type": "code",
      "source": [
        "# we set initial values\n",
        "\n",
        "# ETH price at time of borrowing\n",
        "P_ETH_0 = P_ETH[0]\n",
        "# \n",
        "staked_ETH = 100\n",
        "collateral_ETH_0 = staked_ETH \n",
        "pcg_collateral_to_borrow = 0.1\n",
        "USDC_borrowed = (collateral_ETH_0 * P_ETH_0 ) * pcg_collateral_to_borrow\n",
        "\n",
        "\n",
        "# DyDx parameters\n",
        "# floor_price = max(list(P_ETH))*0.85\n",
        "floor_price = 1000\n",
        "# We set the short_entry_price 1% above floor_price (CHANGEABLE)\n",
        "short_entry_price = floor_price * 1.01\n",
        "# We set the stop limit 3% above (and higher than the entry_price) floor_price (CHANGEABLE)\n",
        "stop_limit = floor_price * 1.03\n",
        "#\n",
        "short_size_0 = USDC_borrowed\n",
        "short_leverage = 10\n",
        "\n",
        "\n",
        "# AAVE parameters \n",
        "# Rates (We should bring these values from the smart contract)\n",
        "USDC_reserve_data=pool_contract.functions['getReserveData'](USDC_address).call()\n",
        "wETH_reserve_data=pool_contract.functions['getReserveData'](wETH_address).call()\n",
        "supply_rate_ETH = wETH_reserve_data[3] / 10**27\n",
        "borrow_rate_USDC = USDC_reserve_data[4] / 10**27\n",
        "borrow_rate_USDC += USDC_reserve_data[5] / 10**27\n",
        "supply_rewards_rate_ETH = 0\n",
        "borrow_rewards_rate_USDC = 0\n",
        "# we should bring these values from the smart contract\n",
        "max_LTV = 0.85\n",
        "# LT = 0.88\n",
        "# liquidation_penalty = 0.045\n",
        "\n",
        "# liquidation_price_0 = USDC_borrowed / (collateral_ETH_0 * LT)\n",
        "price_for_LTV_at_half_0 = P_ETH_0 / 5\n",
        "take_profit_0 = price_for_LTV_at_half_0 * 1.05\n",
        "\n",
        "# We set the liquidation threshold as +-10% from the liquidation_price (CHANGEABLE)\n",
        "# LTV_threshold = [price_for_LTV_at_half * 0.95, price_for_LTV_at_half * 1.05]\n",
        "\n",
        "# initial values\n",
        "collateral_USDC_0 = collateral_ETH_0 * P_ETH_0\n",
        "AAVE_LTV_0 = LTV_(collateral_ETH_0, P_ETH_0, USDC_borrowed)\n",
        "data = {'market_price': P_ETH, \n",
        "        'PyL DyDx': 0*P_ETH, \n",
        "        'LTV': 0*P_ETH}\n",
        "data['LTV'][0] = AAVE_LTV_0"
      ],
      "metadata": {
        "id": "mZv_rhhEA6MM"
      },
      "execution_count": null,
      "outputs": []
    },
    {
      "cell_type": "code",
      "source": [
        "collateral_ETH_historical = 0*P_ETH\n",
        "collateral_USDC_historical = 0*P_ETH\n",
        "price_LTV_at_half_historical = 0*P_ETH\n",
        "take_profit = 0*P_ETH\n",
        "short_size_historical = 0*P_ETH\n",
        "pyl_historical = 0*P_ETH\n",
        "DyDx_pyl_historical = 0*P_ETH\n",
        "AAVE_earnings_historical = 0*P_ETH\n",
        "AAVE_LTV_historical = 0*P_ETH\n",
        "is_short_open = False * P_ETH\n",
        "\n",
        "collateral_ETH_historical[0] = collateral_ETH_0\n",
        "collateral_USDC_historical[0] = collateral_USDC_0\n",
        "price_LTV_at_half_historical[0] = price_for_LTV_at_half_0\n",
        "take_profit[0] = take_profit_0\n",
        "short_size_historical[0] = short_size_0\n",
        "AAVE_LTV_historical[0] = AAVE_LTV_0\n",
        "\n",
        "for i in range(1,len(P_ETH)):\n",
        "  market_price = P_ETH[i]\n",
        "  \n",
        "  if (market_price >= stop_limit) & (is_short_open[i-1] == True):\n",
        "    # we close the short position\n",
        "    DyDx_pyl_historical[i] = short_pyl(short_size_historical[i-1], market_price)\n",
        "    is_short_open[i] = False\n",
        "    collateral_USDC_historical[i] = collateral_USDC_0\n",
        "    AAVE_earnings_historical[i] = AAVE_profits(collateral_USDC_historical[i], pcg_collateral_to_borrow,\n",
        "                 supply_rate_ETH, supply_rewards_rate_ETH,\n",
        "                 borrow_rate_USDC, borrow_rewards_rate_USDC)\n",
        "    pyl_historical[i] = DyDx_pyl_historical[i] + AAVE_earnings_historical[i]\n",
        "\n",
        "  elif market_price < stop_limit: # we keep the position open\n",
        "    is_short_open[i] = True\n",
        "  # market_price near (+-5%) price_for_LTC_at_half\n",
        "    if market_price < price_LTV_at_half_historical[i-1]: # we have to configure this part to contemplate all the possible LTV_thresholds and not only the previous one (ex what happens if market_price is between 2 thresholds? we have to config that situation)\n",
        "      # AAVE_earnings\n",
        "      # if market_price <= take_profit[i-1]:\n",
        "      short_size_historical[i] = USDC_borrowed / (10*(P_ETH_0 - market_price))\n",
        "      partial_pyl = short_pyl(short_size_historical[i-1] - short_size_historical[i], market_price) # changeable\n",
        "      \n",
        "      collateral_USDC_historical[i] = collateral_USDC_historical[i-1] + partial_pyl\n",
        "      collateral_ETH_historical[i] = collateral_USDC_historical[i] / market_price\n",
        "      \n",
        "      AAVE_LTV_historical[i] = LTV_(collateral_ETH_historical[i], market_price, USDC_borrowed)\n",
        "      price_LTV_at_half_historical[i] = market_price / 5\n",
        "      take_profit[i] = price_LTV_at_half_historical[i] * 1.05\n",
        "      # LTV_threshold = [new_price_for_LTV_at_half * 0.95, new_price_for_LTV_at_half * 1.05]\n",
        "    else:\n",
        "      short_size_historical[i] = short_size_historical[i-1] # I have to think if using the last size is correct, because if your price is higger than a LTV limit price then the size shouldn't be the last one (for ex if market price is higger than the firt LTV limit price, then size should be the inital one) (this is related with the way we config the different thresholds)\n",
        "      DyDx_pyl_historical[i] = short_pyl(short_size_historical[i], market_price)\n",
        "      collateral_USDC_historical[i] = collateral_USDC_historical[i-1]\n",
        "      AAVE_earnings_historical[i] = AAVE_profits(collateral_USDC_historical[i], pcg_collateral_to_borrow,\n",
        "                  supply_rate_ETH, supply_rewards_rate_ETH,\n",
        "                  borrow_rate_USDC, borrow_rewards_rate_USDC)\n",
        "      pyl_historical[i] = DyDx_pyl_historical[i] + AAVE_earnings_historical[i]\n",
        "  # market_price above stop_limit --> close position\n",
        "\n",
        "  data['market_price'][i] = market_price\n",
        "  data['PyL DyDx'][i] = pyl_historical[i]\n",
        "  data['LTV'][i] = AAVE_LTV_historical[i]"
      ],
      "metadata": {
        "id": "pf8H55dy4Ulj",
        "colab": {
          "base_uri": "https://localhost:8080/"
        },
        "outputId": "8c0b5ce3-ebc5-4687-807d-dd8516eca4ac"
      },
      "execution_count": null,
      "outputs": [
        {
          "output_type": "stream",
          "name": "stderr",
          "text": [
            "/usr/local/lib/python3.7/dist-packages/pandas/core/series.py:1056: SettingWithCopyWarning: \n",
            "A value is trying to be set on a copy of a slice from a DataFrame\n",
            "\n",
            "See the caveats in the documentation: https://pandas.pydata.org/pandas-docs/stable/user_guide/indexing.html#returning-a-view-versus-a-copy\n",
            "  cacher_needs_updating = self._check_is_chained_assignment_possible()\n"
          ]
        }
      ]
    },
    {
      "cell_type": "code",
      "source": [
        "summary = pd.DataFrame.from_dict(data)\n",
        "# summary.columns = ['market_price', 'PyL DyDx', 'LTV']\n",
        "summary"
      ],
      "metadata": {
        "id": "8RWk0ND1K0LN",
        "colab": {
          "base_uri": "https://localhost:8080/",
          "height": 455
        },
        "outputId": "cba19bf1-335c-461c-e38c-977c0e9ccbd2"
      },
      "execution_count": null,
      "outputs": [
        {
          "output_type": "execute_result",
          "data": {
            "text/plain": [
              "                    market_price PyL DyDx  LTV\n",
              "timestamp                                     \n",
              "2022-06-23 10:45:00      1109.81      0.0  0.1\n",
              "2022-06-23 10:50:00      1108.12      0.0  0.0\n",
              "2022-06-23 10:55:00      1109.12      0.0  0.0\n",
              "2022-06-23 11:00:00      1106.88      0.0  0.0\n",
              "2022-06-23 11:05:00      1106.51      0.0  0.0\n",
              "...                          ...      ...  ...\n",
              "2022-06-30 09:00:00      1044.98      0.0  0.0\n",
              "2022-06-30 09:05:00      1031.05      0.0  0.0\n",
              "2022-06-30 09:10:00      1031.57      0.0  0.0\n",
              "2022-06-30 09:15:00      1025.86      0.0  0.0\n",
              "2022-06-30 09:20:00      1024.52      0.0  0.0\n",
              "\n",
              "[2000 rows x 3 columns]"
            ],
            "text/html": [
              "\n",
              "  <div id=\"df-37ce5334-5818-43e9-993d-5ced53e85b2e\">\n",
              "    <div class=\"colab-df-container\">\n",
              "      <div>\n",
              "<style scoped>\n",
              "    .dataframe tbody tr th:only-of-type {\n",
              "        vertical-align: middle;\n",
              "    }\n",
              "\n",
              "    .dataframe tbody tr th {\n",
              "        vertical-align: top;\n",
              "    }\n",
              "\n",
              "    .dataframe thead th {\n",
              "        text-align: right;\n",
              "    }\n",
              "</style>\n",
              "<table border=\"1\" class=\"dataframe\">\n",
              "  <thead>\n",
              "    <tr style=\"text-align: right;\">\n",
              "      <th></th>\n",
              "      <th>market_price</th>\n",
              "      <th>PyL DyDx</th>\n",
              "      <th>LTV</th>\n",
              "    </tr>\n",
              "    <tr>\n",
              "      <th>timestamp</th>\n",
              "      <th></th>\n",
              "      <th></th>\n",
              "      <th></th>\n",
              "    </tr>\n",
              "  </thead>\n",
              "  <tbody>\n",
              "    <tr>\n",
              "      <th>2022-06-23 10:45:00</th>\n",
              "      <td>1109.81</td>\n",
              "      <td>0.0</td>\n",
              "      <td>0.1</td>\n",
              "    </tr>\n",
              "    <tr>\n",
              "      <th>2022-06-23 10:50:00</th>\n",
              "      <td>1108.12</td>\n",
              "      <td>0.0</td>\n",
              "      <td>0.0</td>\n",
              "    </tr>\n",
              "    <tr>\n",
              "      <th>2022-06-23 10:55:00</th>\n",
              "      <td>1109.12</td>\n",
              "      <td>0.0</td>\n",
              "      <td>0.0</td>\n",
              "    </tr>\n",
              "    <tr>\n",
              "      <th>2022-06-23 11:00:00</th>\n",
              "      <td>1106.88</td>\n",
              "      <td>0.0</td>\n",
              "      <td>0.0</td>\n",
              "    </tr>\n",
              "    <tr>\n",
              "      <th>2022-06-23 11:05:00</th>\n",
              "      <td>1106.51</td>\n",
              "      <td>0.0</td>\n",
              "      <td>0.0</td>\n",
              "    </tr>\n",
              "    <tr>\n",
              "      <th>...</th>\n",
              "      <td>...</td>\n",
              "      <td>...</td>\n",
              "      <td>...</td>\n",
              "    </tr>\n",
              "    <tr>\n",
              "      <th>2022-06-30 09:00:00</th>\n",
              "      <td>1044.98</td>\n",
              "      <td>0.0</td>\n",
              "      <td>0.0</td>\n",
              "    </tr>\n",
              "    <tr>\n",
              "      <th>2022-06-30 09:05:00</th>\n",
              "      <td>1031.05</td>\n",
              "      <td>0.0</td>\n",
              "      <td>0.0</td>\n",
              "    </tr>\n",
              "    <tr>\n",
              "      <th>2022-06-30 09:10:00</th>\n",
              "      <td>1031.57</td>\n",
              "      <td>0.0</td>\n",
              "      <td>0.0</td>\n",
              "    </tr>\n",
              "    <tr>\n",
              "      <th>2022-06-30 09:15:00</th>\n",
              "      <td>1025.86</td>\n",
              "      <td>0.0</td>\n",
              "      <td>0.0</td>\n",
              "    </tr>\n",
              "    <tr>\n",
              "      <th>2022-06-30 09:20:00</th>\n",
              "      <td>1024.52</td>\n",
              "      <td>0.0</td>\n",
              "      <td>0.0</td>\n",
              "    </tr>\n",
              "  </tbody>\n",
              "</table>\n",
              "<p>2000 rows × 3 columns</p>\n",
              "</div>\n",
              "      <button class=\"colab-df-convert\" onclick=\"convertToInteractive('df-37ce5334-5818-43e9-993d-5ced53e85b2e')\"\n",
              "              title=\"Convert this dataframe to an interactive table.\"\n",
              "              style=\"display:none;\">\n",
              "        \n",
              "  <svg xmlns=\"http://www.w3.org/2000/svg\" height=\"24px\"viewBox=\"0 0 24 24\"\n",
              "       width=\"24px\">\n",
              "    <path d=\"M0 0h24v24H0V0z\" fill=\"none\"/>\n",
              "    <path d=\"M18.56 5.44l.94 2.06.94-2.06 2.06-.94-2.06-.94-.94-2.06-.94 2.06-2.06.94zm-11 1L8.5 8.5l.94-2.06 2.06-.94-2.06-.94L8.5 2.5l-.94 2.06-2.06.94zm10 10l.94 2.06.94-2.06 2.06-.94-2.06-.94-.94-2.06-.94 2.06-2.06.94z\"/><path d=\"M17.41 7.96l-1.37-1.37c-.4-.4-.92-.59-1.43-.59-.52 0-1.04.2-1.43.59L10.3 9.45l-7.72 7.72c-.78.78-.78 2.05 0 2.83L4 21.41c.39.39.9.59 1.41.59.51 0 1.02-.2 1.41-.59l7.78-7.78 2.81-2.81c.8-.78.8-2.07 0-2.86zM5.41 20L4 18.59l7.72-7.72 1.47 1.35L5.41 20z\"/>\n",
              "  </svg>\n",
              "      </button>\n",
              "      \n",
              "  <style>\n",
              "    .colab-df-container {\n",
              "      display:flex;\n",
              "      flex-wrap:wrap;\n",
              "      gap: 12px;\n",
              "    }\n",
              "\n",
              "    .colab-df-convert {\n",
              "      background-color: #E8F0FE;\n",
              "      border: none;\n",
              "      border-radius: 50%;\n",
              "      cursor: pointer;\n",
              "      display: none;\n",
              "      fill: #1967D2;\n",
              "      height: 32px;\n",
              "      padding: 0 0 0 0;\n",
              "      width: 32px;\n",
              "    }\n",
              "\n",
              "    .colab-df-convert:hover {\n",
              "      background-color: #E2EBFA;\n",
              "      box-shadow: 0px 1px 2px rgba(60, 64, 67, 0.3), 0px 1px 3px 1px rgba(60, 64, 67, 0.15);\n",
              "      fill: #174EA6;\n",
              "    }\n",
              "\n",
              "    [theme=dark] .colab-df-convert {\n",
              "      background-color: #3B4455;\n",
              "      fill: #D2E3FC;\n",
              "    }\n",
              "\n",
              "    [theme=dark] .colab-df-convert:hover {\n",
              "      background-color: #434B5C;\n",
              "      box-shadow: 0px 1px 3px 1px rgba(0, 0, 0, 0.15);\n",
              "      filter: drop-shadow(0px 1px 2px rgba(0, 0, 0, 0.3));\n",
              "      fill: #FFFFFF;\n",
              "    }\n",
              "  </style>\n",
              "\n",
              "      <script>\n",
              "        const buttonEl =\n",
              "          document.querySelector('#df-37ce5334-5818-43e9-993d-5ced53e85b2e button.colab-df-convert');\n",
              "        buttonEl.style.display =\n",
              "          google.colab.kernel.accessAllowed ? 'block' : 'none';\n",
              "\n",
              "        async function convertToInteractive(key) {\n",
              "          const element = document.querySelector('#df-37ce5334-5818-43e9-993d-5ced53e85b2e');\n",
              "          const dataTable =\n",
              "            await google.colab.kernel.invokeFunction('convertToInteractive',\n",
              "                                                     [key], {});\n",
              "          if (!dataTable) return;\n",
              "\n",
              "          const docLinkHtml = 'Like what you see? Visit the ' +\n",
              "            '<a target=\"_blank\" href=https://colab.research.google.com/notebooks/data_table.ipynb>data table notebook</a>'\n",
              "            + ' to learn more about interactive tables.';\n",
              "          element.innerHTML = '';\n",
              "          dataTable['output_type'] = 'display_data';\n",
              "          await google.colab.output.renderOutput(dataTable, element);\n",
              "          const docLink = document.createElement('div');\n",
              "          docLink.innerHTML = docLinkHtml;\n",
              "          element.appendChild(docLink);\n",
              "        }\n",
              "      </script>\n",
              "    </div>\n",
              "  </div>\n",
              "  "
            ]
          },
          "metadata": {},
          "execution_count": 18
        }
      ]
    },
    {
      "cell_type": "code",
      "source": [
        "fig, axs = plt.subplots(1,1, figsize = (21, 7))\n",
        "axs.plot(list(summary['market_price']), label = 'P_ETH', c = 'blue')\n",
        "axs.axhline(y = floor_price, color = 'r', linestyle = '--', label = 'floor price')\n",
        "axs.axhline(y = stop_limit, color = 'magenta', linestyle = '--', label = 'stop limit')\n",
        "axs.axhline(y = short_entry_price, color = 'green', linestyle = '--', label = 'short entry price')\n",
        "axs.grid()\n",
        "axs.legend(loc = 'upper left')\n",
        "axs_ = axs.twinx()\n",
        "axs_.plot(list(summary['PyL DyDx']), label = 'PyL DyDx', c = 'orange')\n",
        "axs_.legend(loc = 'upper right')"
      ],
      "metadata": {
        "id": "WK3_TVl-6_65",
        "colab": {
          "base_uri": "https://localhost:8080/",
          "height": 445
        },
        "outputId": "969d79b5-e810-48e6-e2fb-cffaf9c207b1"
      },
      "execution_count": null,
      "outputs": [
        {
          "output_type": "execute_result",
          "data": {
            "text/plain": [
              "<matplotlib.legend.Legend at 0x7f48f1111190>"
            ]
          },
          "metadata": {},
          "execution_count": 19
        },
        {
          "output_type": "display_data",
          "data": {
            "text/plain": [
              "<Figure size 1512x504 with 2 Axes>"
            ],
            "image/png": "[encoded data removed]"
          },
          "metadata": {
            "needs_background": "light"
          }
        }
      ]
    },
    {
      "cell_type": "code",
      "source": [
        "P = np.linspace(0.01, 5, 10)\n",
        "collateral_usd = 1500\n",
        "USDC_borrowed = collateral_usd * 0.1\n",
        "plt.plot(P, LTV_(collateral*P, P, USDC_borrowed))"
      ],
      "metadata": {
        "id": "107gAtXuK1RU",
        "colab": {
          "base_uri": "https://localhost:8080/",
          "height": 200
        },
        "outputId": "577a7678-8a82-443b-e464-9caab760d82e"
      },
      "execution_count": null,
      "outputs": [
        {
          "output_type": "error",
          "ename": "NameError",
          "evalue": "ignored",
          "traceback": [
            "\u001b[0;31m---------------------------------------------------------------------------\u001b[0m",
            "\u001b[0;31mNameError\u001b[0m                                 Traceback (most recent call last)",
            "\u001b[0;32m<ipython-input-20-39e350811391>\u001b[0m in \u001b[0;36m<module>\u001b[0;34m()\u001b[0m\n\u001b[1;32m      2\u001b[0m \u001b[0mcollateral_usd\u001b[0m \u001b[0;34m=\u001b[0m \u001b[0;36m1500\u001b[0m\u001b[0;34m\u001b[0m\u001b[0;34m\u001b[0m\u001b[0m\n\u001b[1;32m      3\u001b[0m \u001b[0mUSDC_borrowed\u001b[0m \u001b[0;34m=\u001b[0m \u001b[0mcollateral_usd\u001b[0m \u001b[0;34m*\u001b[0m \u001b[0;36m0.1\u001b[0m\u001b[0;34m\u001b[0m\u001b[0;34m\u001b[0m\u001b[0m\n\u001b[0;32m----> 4\u001b[0;31m \u001b[0mplt\u001b[0m\u001b[0;34m.\u001b[0m\u001b[0mplot\u001b[0m\u001b[0;34m(\u001b[0m\u001b[0mP\u001b[0m\u001b[0;34m,\u001b[0m \u001b[0mLTV_\u001b[0m\u001b[0;34m(\u001b[0m\u001b[0mcollateral\u001b[0m\u001b[0;34m*\u001b[0m\u001b[0mP\u001b[0m\u001b[0;34m,\u001b[0m \u001b[0mP\u001b[0m\u001b[0;34m,\u001b[0m \u001b[0mUSDC_borrowed\u001b[0m\u001b[0;34m)\u001b[0m\u001b[0;34m)\u001b[0m\u001b[0;34m\u001b[0m\u001b[0;34m\u001b[0m\u001b[0m\n\u001b[0m",
            "\u001b[0;31mNameError\u001b[0m: name 'collateral' is not defined"
          ]
        }
      ]
    },
    {
      "cell_type": "code",
      "source": [
        ""
      ],
      "metadata": {
        "id": "WgTETo9A6bGD"
      },
      "execution_count": null,
      "outputs": []
    }
  ]
}