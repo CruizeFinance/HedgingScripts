{
  "nbformat": 4,
  "nbformat_minor": 0,
  "metadata": {
    "colab": {
      "name": "strategy_dydx_aave.ipynb",
      "provenance": [],
      "collapsed_sections": [
        "dqJhPe6PTc4N",
        "eUsd347622oG",
        "S1hCnpbnb-PS",
        "UL8cWr7wg3ZL",
        "ufZfhFUEtiFm"
      ]
    },
    "kernelspec": {
      "name": "python3",
      "display_name": "Python 3"
    },
    "language_info": {
      "name": "python"
    }
  },
  "cells": [
    {
      "cell_type": "code",
      "source": [
        "!pip install web3"
      ],
      "metadata": {
        "id": "rkBk72gV7Ko0",
        "colab": {
          "base_uri": "https://localhost:8080/"
        },
        "outputId": "78b5b085-3bdc-45f4-b151-b6c11cc15320"
      },
      "execution_count": 1,
      "outputs": [
        {
          "output_type": "stream",
          "name": "stdout",
          "text": [
            "Looking in indexes: https://pypi.org/simple, https://us-python.pkg.dev/colab-wheels/public/simple/\n",
            "Requirement already satisfied: web3 in /usr/local/lib/python3.7/dist-packages (5.30.0)\n",
            "Requirement already satisfied: websockets<10,>=9.1 in /usr/local/lib/python3.7/dist-packages (from web3) (9.1)\n",
            "Requirement already satisfied: jsonschema<5,>=3.2.0 in /usr/local/lib/python3.7/dist-packages (from web3) (4.3.3)\n",
            "Requirement already satisfied: eth-account<0.6.0,>=0.5.7 in /usr/local/lib/python3.7/dist-packages (from web3) (0.5.8)\n",
            "Requirement already satisfied: lru-dict<2.0.0,>=1.1.6 in /usr/local/lib/python3.7/dist-packages (from web3) (1.1.7)\n",
            "Requirement already satisfied: typing-extensions<5,>=3.7.4.1 in /usr/local/lib/python3.7/dist-packages (from web3) (4.1.1)\n",
            "Requirement already satisfied: eth-abi<3.0.0,>=2.0.0b6 in /usr/local/lib/python3.7/dist-packages (from web3) (2.1.1)\n",
            "Requirement already satisfied: aiohttp<4,>=3.7.4.post0 in /usr/local/lib/python3.7/dist-packages (from web3) (3.8.1)\n",
            "Requirement already satisfied: eth-utils<2.0.0,>=1.9.5 in /usr/local/lib/python3.7/dist-packages (from web3) (1.9.5)\n",
            "Requirement already satisfied: eth-rlp<0.3 in /usr/local/lib/python3.7/dist-packages (from web3) (0.2.1)\n",
            "Requirement already satisfied: eth-typing<3.0.0,>=2.0.0 in /usr/local/lib/python3.7/dist-packages (from web3) (2.3.0)\n",
            "Requirement already satisfied: protobuf<4,>=3.10.0 in /usr/local/lib/python3.7/dist-packages (from web3) (3.17.3)\n",
            "Requirement already satisfied: ipfshttpclient==0.8.0a2 in /usr/local/lib/python3.7/dist-packages (from web3) (0.8.0a2)\n",
            "Requirement already satisfied: requests<3.0.0,>=2.16.0 in /usr/local/lib/python3.7/dist-packages (from web3) (2.23.0)\n",
            "Requirement already satisfied: hexbytes<1.0.0,>=0.1.0 in /usr/local/lib/python3.7/dist-packages (from web3) (0.2.2)\n",
            "Requirement already satisfied: eth-hash[pycryptodome]<1.0.0,>=0.2.0 in /usr/local/lib/python3.7/dist-packages (from web3) (0.4.0)\n",
            "Requirement already satisfied: multiaddr>=0.0.7 in /usr/local/lib/python3.7/dist-packages (from ipfshttpclient==0.8.0a2->web3) (0.0.9)\n",
            "Requirement already satisfied: charset-normalizer<3.0,>=2.0 in /usr/local/lib/python3.7/dist-packages (from aiohttp<4,>=3.7.4.post0->web3) (2.1.0)\n",
            "Requirement already satisfied: asynctest==0.13.0 in /usr/local/lib/python3.7/dist-packages (from aiohttp<4,>=3.7.4.post0->web3) (0.13.0)\n",
            "Requirement already satisfied: yarl<2.0,>=1.0 in /usr/local/lib/python3.7/dist-packages (from aiohttp<4,>=3.7.4.post0->web3) (1.7.2)\n",
            "Requirement already satisfied: aiosignal>=1.1.2 in /usr/local/lib/python3.7/dist-packages (from aiohttp<4,>=3.7.4.post0->web3) (1.2.0)\n",
            "Requirement already satisfied: attrs>=17.3.0 in /usr/local/lib/python3.7/dist-packages (from aiohttp<4,>=3.7.4.post0->web3) (21.4.0)\n",
            "Requirement already satisfied: frozenlist>=1.1.1 in /usr/local/lib/python3.7/dist-packages (from aiohttp<4,>=3.7.4.post0->web3) (1.3.0)\n",
            "Requirement already satisfied: async-timeout<5.0,>=4.0.0a3 in /usr/local/lib/python3.7/dist-packages (from aiohttp<4,>=3.7.4.post0->web3) (4.0.2)\n",
            "Requirement already satisfied: multidict<7.0,>=4.5 in /usr/local/lib/python3.7/dist-packages (from aiohttp<4,>=3.7.4.post0->web3) (6.0.2)\n",
            "Requirement already satisfied: parsimonious<0.9.0,>=0.8.0 in /usr/local/lib/python3.7/dist-packages (from eth-abi<3.0.0,>=2.0.0b6->web3) (0.8.1)\n",
            "Requirement already satisfied: eth-keyfile<0.6.0,>=0.5.0 in /usr/local/lib/python3.7/dist-packages (from eth-account<0.6.0,>=0.5.7->web3) (0.5.1)\n",
            "Requirement already satisfied: eth-keys<0.4.0,>=0.3.4 in /usr/local/lib/python3.7/dist-packages (from eth-account<0.6.0,>=0.5.7->web3) (0.3.4)\n",
            "Requirement already satisfied: bitarray<3,>=1.2.1 in /usr/local/lib/python3.7/dist-packages (from eth-account<0.6.0,>=0.5.7->web3) (2.5.1)\n",
            "Requirement already satisfied: rlp<3,>=1.0.0 in /usr/local/lib/python3.7/dist-packages (from eth-account<0.6.0,>=0.5.7->web3) (2.0.1)\n",
            "Requirement already satisfied: pycryptodome<4,>=3.6.6 in /usr/local/lib/python3.7/dist-packages (from eth-hash[pycryptodome]<1.0.0,>=0.2.0->web3) (3.15.0)\n",
            "Requirement already satisfied: cytoolz<1.0.0,>=0.9.0 in /usr/local/lib/python3.7/dist-packages (from eth-keyfile<0.6.0,>=0.5.0->eth-account<0.6.0,>=0.5.7->web3) (0.11.2)\n",
            "Requirement already satisfied: toolz>=0.8.0 in /usr/local/lib/python3.7/dist-packages (from cytoolz<1.0.0,>=0.9.0->eth-keyfile<0.6.0,>=0.5.0->eth-account<0.6.0,>=0.5.7->web3) (0.11.2)\n",
            "Requirement already satisfied: pyrsistent!=0.17.0,!=0.17.1,!=0.17.2,>=0.14.0 in /usr/local/lib/python3.7/dist-packages (from jsonschema<5,>=3.2.0->web3) (0.18.1)\n",
            "Requirement already satisfied: importlib-metadata in /usr/local/lib/python3.7/dist-packages (from jsonschema<5,>=3.2.0->web3) (0.23)\n",
            "Requirement already satisfied: importlib-resources>=1.4.0 in /usr/local/lib/python3.7/dist-packages (from jsonschema<5,>=3.2.0->web3) (5.7.1)\n",
            "Requirement already satisfied: zipp>=3.1.0 in /usr/local/lib/python3.7/dist-packages (from importlib-resources>=1.4.0->jsonschema<5,>=3.2.0->web3) (3.8.0)\n",
            "Requirement already satisfied: base58 in /usr/local/lib/python3.7/dist-packages (from multiaddr>=0.0.7->ipfshttpclient==0.8.0a2->web3) (2.1.1)\n",
            "Requirement already satisfied: six in /usr/local/lib/python3.7/dist-packages (from multiaddr>=0.0.7->ipfshttpclient==0.8.0a2->web3) (1.15.0)\n",
            "Requirement already satisfied: netaddr in /usr/local/lib/python3.7/dist-packages (from multiaddr>=0.0.7->ipfshttpclient==0.8.0a2->web3) (0.8.0)\n",
            "Requirement already satisfied: varint in /usr/local/lib/python3.7/dist-packages (from multiaddr>=0.0.7->ipfshttpclient==0.8.0a2->web3) (1.0.2)\n",
            "Requirement already satisfied: urllib3!=1.25.0,!=1.25.1,<1.26,>=1.21.1 in /usr/local/lib/python3.7/dist-packages (from requests<3.0.0,>=2.16.0->web3) (1.24.3)\n",
            "Requirement already satisfied: idna<3,>=2.5 in /usr/local/lib/python3.7/dist-packages (from requests<3.0.0,>=2.16.0->web3) (2.10)\n",
            "Requirement already satisfied: chardet<4,>=3.0.2 in /usr/local/lib/python3.7/dist-packages (from requests<3.0.0,>=2.16.0->web3) (3.0.4)\n",
            "Requirement already satisfied: certifi>=2017.4.17 in /usr/local/lib/python3.7/dist-packages (from requests<3.0.0,>=2.16.0->web3) (2022.6.15)\n"
          ]
        }
      ]
    },
    {
      "cell_type": "code",
      "execution_count": 2,
      "metadata": {
        "id": "oKLbI_uWww5E"
      },
      "outputs": [],
      "source": [
        "import numpy as np\n",
        "import pandas as pd\n",
        "import matplotlib.pyplot as plt"
      ]
    },
    {
      "cell_type": "markdown",
      "source": [
        "## Historical data from binance"
      ],
      "metadata": {
        "id": "dqJhPe6PTc4N"
      }
    },
    {
      "cell_type": "markdown",
      "source": [
        "In this section we define a function to request historical data from Binance for a variety of frequencies (\"1m\", \"5m\", \"10m\", \"15m\", \"1h\", \"6h\", \"12h\", \"1d\"). We set initial_date = '31 Mar 2021' but we can change it.\n",
        "[I use my private api keys]"
      ],
      "metadata": {
        "id": "rD0zjDFXnlGN"
      }
    },
    {
      "cell_type": "code",
      "source": [
        "!pip install python-binance"
      ],
      "metadata": {
        "colab": {
          "base_uri": "https://localhost:8080/"
        },
        "id": "RC3BvJrzp7ab",
        "outputId": "7c577fbc-a3ee-462f-b984-d511b233296b"
      },
      "execution_count": 3,
      "outputs": [
        {
          "output_type": "stream",
          "name": "stdout",
          "text": [
            "Looking in indexes: https://pypi.org/simple, https://us-python.pkg.dev/colab-wheels/public/simple/\n",
            "Requirement already satisfied: python-binance in /usr/local/lib/python3.7/dist-packages (1.0.16)\n",
            "Requirement already satisfied: dateparser in /usr/local/lib/python3.7/dist-packages (from python-binance) (1.0.0)\n",
            "Requirement already satisfied: six in /usr/local/lib/python3.7/dist-packages (from python-binance) (1.15.0)\n",
            "Requirement already satisfied: websockets in /usr/local/lib/python3.7/dist-packages (from python-binance) (9.1)\n",
            "Requirement already satisfied: requests in /usr/local/lib/python3.7/dist-packages (from python-binance) (2.23.0)\n",
            "Requirement already satisfied: ujson in /usr/local/lib/python3.7/dist-packages (from python-binance) (5.4.0)\n",
            "Requirement already satisfied: aiohttp in /usr/local/lib/python3.7/dist-packages (from python-binance) (3.8.1)\n",
            "Requirement already satisfied: async-timeout<5.0,>=4.0.0a3 in /usr/local/lib/python3.7/dist-packages (from aiohttp->python-binance) (4.0.2)\n",
            "Requirement already satisfied: frozenlist>=1.1.1 in /usr/local/lib/python3.7/dist-packages (from aiohttp->python-binance) (1.3.0)\n",
            "Requirement already satisfied: asynctest==0.13.0 in /usr/local/lib/python3.7/dist-packages (from aiohttp->python-binance) (0.13.0)\n",
            "Requirement already satisfied: multidict<7.0,>=4.5 in /usr/local/lib/python3.7/dist-packages (from aiohttp->python-binance) (6.0.2)\n",
            "Requirement already satisfied: charset-normalizer<3.0,>=2.0 in /usr/local/lib/python3.7/dist-packages (from aiohttp->python-binance) (2.1.0)\n",
            "Requirement already satisfied: yarl<2.0,>=1.0 in /usr/local/lib/python3.7/dist-packages (from aiohttp->python-binance) (1.7.2)\n",
            "Requirement already satisfied: aiosignal>=1.1.2 in /usr/local/lib/python3.7/dist-packages (from aiohttp->python-binance) (1.2.0)\n",
            "Requirement already satisfied: typing-extensions>=3.7.4 in /usr/local/lib/python3.7/dist-packages (from aiohttp->python-binance) (4.1.1)\n",
            "Requirement already satisfied: attrs>=17.3.0 in /usr/local/lib/python3.7/dist-packages (from aiohttp->python-binance) (21.4.0)\n",
            "Requirement already satisfied: idna>=2.0 in /usr/local/lib/python3.7/dist-packages (from yarl<2.0,>=1.0->aiohttp->python-binance) (2.10)\n",
            "Requirement already satisfied: tzlocal in /usr/local/lib/python3.7/dist-packages (from dateparser->python-binance) (1.5.1)\n",
            "Requirement already satisfied: python-dateutil in /usr/local/lib/python3.7/dist-packages (from dateparser->python-binance) (2.8.2)\n",
            "Requirement already satisfied: pytz in /usr/local/lib/python3.7/dist-packages (from dateparser->python-binance) (2022.1)\n",
            "Requirement already satisfied: regex!=2019.02.19 in /usr/local/lib/python3.7/dist-packages (from dateparser->python-binance) (2022.3.2)\n",
            "Requirement already satisfied: urllib3!=1.25.0,!=1.25.1,<1.26,>=1.21.1 in /usr/local/lib/python3.7/dist-packages (from requests->python-binance) (1.24.3)\n",
            "Requirement already satisfied: chardet<4,>=3.0.2 in /usr/local/lib/python3.7/dist-packages (from requests->python-binance) (3.0.4)\n",
            "Requirement already satisfied: certifi>=2017.4.17 in /usr/local/lib/python3.7/dist-packages (from requests->python-binance) (2022.6.15)\n"
          ]
        }
      ]
    },
    {
      "cell_type": "code",
      "source": [
        "import pandas as pd\n",
        "import math\n",
        "import os.path\n",
        "import time\n",
        "from binance.client import Client as Client_binance\n",
        "from datetime import timedelta, datetime\n",
        "from dateutil import parser\n",
        "from tqdm import tqdm_notebook #(Optional, used for progress-bars)\n",
        "\n",
        "### API\n",
        "binance_api_key = '9zFIgetckRO80d4RciWs8jc4XSwAMEnFIuwVhAoaYIstQ9RWlfqiV6zcAGu0Ta8R'    #Enter your own API-key here\n",
        "binance_api_secret = 'Uu8vtNEmH1PPDPDchX51jivxBENEbNwDmDcQrnhPJBJwFcbqjnvxL2MeQJuTc4Kg' #Enter your own API-secret here\n",
        "\n",
        "### CONSTANTS\n",
        "binsizes = {\"1m\": 1, \"5m\": 5, \"10m\": 10, \"15m\": 15, \"1h\": 60, \"6h\": 360, \"12h\": 720, \"1d\": 1440}\n",
        "\n",
        "batch_size = 750\n",
        "binance_client = Client_binance(api_key=binance_api_key, api_secret=binance_api_secret)\n",
        "\n",
        "# initial_date = '1 Jan 2017'\n",
        "initial_date = '31 Mar 2021'\n",
        "### FUNCTIONS\n",
        "def minutes_of_new_data(symbol, kline_size, data, source):\n",
        "    if len(data) > 0:  old = parser.parse(data[\"timestamp\"].iloc[-1])\n",
        "    elif source == \"binance\": old = datetime.strptime(initial_date, '%d %b %Y')\n",
        "    if source == \"binance\": new = pd.to_datetime(binance_client.get_klines(symbol=symbol, interval=kline_size)[-1][0], unit='ms')\n",
        "    return old, new\n",
        "\n",
        "def get_all_binance(symbol, kline_size, save = False):\n",
        "    filename = '%s-%s-data.csv' % (symbol, kline_size)\n",
        "    if os.path.isfile(filename): data_df = pd.read_csv(filename)\n",
        "    else: data_df = pd.DataFrame()\n",
        "    oldest_point, newest_point = minutes_of_new_data(symbol, kline_size, data_df, source = \"binance\")\n",
        "    delta_min = (newest_point - oldest_point).total_seconds()/60\n",
        "    available_data = math.ceil(delta_min/binsizes[kline_size])\n",
        "    if oldest_point == datetime.strptime(initial_date, '%d %b %Y'): print('Downloading all available %s data for %s. Be patient..!' % (kline_size, symbol))\n",
        "    else: print('Downloading %d minutes of new data available for %s, i.e. %d instances of %s data.' % (delta_min, symbol, available_data, kline_size))\n",
        "    klines = binance_client.get_historical_klines(symbol, kline_size, oldest_point.strftime(\"%d %b %Y %H:%M:%S\"), newest_point.strftime(\"%d %b %Y %H:%M:%S\"))\n",
        "    data = pd.DataFrame(klines, columns = ['timestamp', 'open', 'high', 'low', 'close', 'volume', 'close_time', 'quote_av', 'trades', 'tb_base_av', 'tb_quote_av', 'ignore' ])\n",
        "    data['timestamp'] = pd.to_datetime(data['timestamp'], unit='ms')\n",
        "    if len(data_df) > 0:\n",
        "        temp_df = pd.DataFrame(data)\n",
        "        data_df = data_df.append(temp_df)\n",
        "    else: data_df = data\n",
        "    data_df.set_index('timestamp', inplace=True)\n",
        "    if save: data_df.to_csv(filename)\n",
        "    print('All caught up..!')\n",
        "    return data_df\n"
      ],
      "metadata": {
        "id": "u2Z1IoPsU8zm"
      },
      "execution_count": 4,
      "outputs": []
    },
    {
      "cell_type": "markdown",
      "source": [
        "We request historical data for ETHUSDC with 5m frequency."
      ],
      "metadata": {
        "id": "LNCkEKyanznF"
      }
    },
    {
      "cell_type": "code",
      "source": [
        "# lista = [\"ETHUSDC\"]\n",
        "\n",
        "# BTC ETH MATIC UNI COMP AAVE YFI CRV MKR LINK KP3R SFI SUSHI 1INCH CAKE \n",
        "symbol = \"ETHUSDC\"\n",
        "# Frecuencia: 1m, 5m, 10m, 15m, 1h, 1d, 1m\n",
        "freq = \"5m\"\n",
        "\n",
        "# Descarga de datos\n",
        "ETH_historical = get_all_binance(symbol, freq, save = True)"
      ],
      "metadata": {
        "id": "TzBMvBB_VD2B",
        "colab": {
          "base_uri": "https://localhost:8080/"
        },
        "outputId": "5a6e2cf3-4077-44d1-e1a8-2596e3311038"
      },
      "execution_count": 5,
      "outputs": [
        {
          "output_type": "stream",
          "name": "stdout",
          "text": [
            "Downloading 5 minutes of new data available for ETHUSDC, i.e. 1 instances of 5m data.\n",
            "All caught up..!\n"
          ]
        }
      ]
    },
    {
      "cell_type": "code",
      "source": [
        "len(ETH_historical)"
      ],
      "metadata": {
        "id": "CDEicxyQoLGD",
        "colab": {
          "base_uri": "https://localhost:8080/"
        },
        "outputId": "20164f7d-26c6-435d-bd1b-c567a32c273a"
      },
      "execution_count": 6,
      "outputs": [
        {
          "output_type": "execute_result",
          "data": {
            "text/plain": [
              "133599"
            ]
          },
          "metadata": {},
          "execution_count": 6
        }
      ]
    },
    {
      "cell_type": "code",
      "source": [
        "ETH_historical"
      ],
      "metadata": {
        "id": "xdVZi1ZtwTz4",
        "colab": {
          "base_uri": "https://localhost:8080/",
          "height": 0
        },
        "outputId": "63427f4a-5ff3-4792-fd84-9599497dd943"
      },
      "execution_count": 7,
      "outputs": [
        {
          "output_type": "execute_result",
          "data": {
            "text/plain": [
              "                              open           high            low  \\\n",
              "timestamp                                                          \n",
              "2021-03-31 00:00:00        1841.29        1845.35        1841.12   \n",
              "2021-03-31 00:05:00        1844.39        1847.08        1843.99   \n",
              "2021-03-31 00:10:00        1845.54        1849.53        1845.54   \n",
              "2021-03-31 00:15:00        1848.96        1850.35         1847.5   \n",
              "2021-03-31 00:20:00        1848.12        1849.12         1846.0   \n",
              "...                            ...            ...            ...   \n",
              "2022-07-08 10:30:00        1227.68        1228.24        1225.95   \n",
              "2022-07-08 10:35:00         1226.6        1227.52         1225.2   \n",
              "2022-07-08 10:40:00        1226.68        1227.42        1225.48   \n",
              "2022-07-08 10:40:00  1226.68000000  1227.42000000  1225.48000000   \n",
              "2022-07-08 10:45:00  1225.86000000  1225.90000000  1223.76000000   \n",
              "\n",
              "                             close       volume     close_time  \\\n",
              "timestamp                                                        \n",
              "2021-03-31 00:00:00        1845.35      13.4565  1617149099999   \n",
              "2021-03-31 00:05:00        1846.29     54.69818  1617149399999   \n",
              "2021-03-31 00:10:00        1848.96     10.56434  1617149699999   \n",
              "2021-03-31 00:15:00         1847.5    126.93107  1617149999999   \n",
              "2021-03-31 00:20:00         1846.0     16.03979  1617150299999   \n",
              "...                            ...          ...            ...   \n",
              "2022-07-08 10:30:00        1227.06     703.2574  1657276499999   \n",
              "2022-07-08 10:35:00        1226.99      45.5844  1657276799999   \n",
              "2022-07-08 10:40:00        1225.99      67.6957  1657277099999   \n",
              "2022-07-08 10:40:00  1225.99000000  67.69570000  1657277099999   \n",
              "2022-07-08 10:45:00  1223.76000000  20.37830000  1657277399999   \n",
              "\n",
              "                           quote_av  trades   tb_base_av     tb_quote_av  \\\n",
              "timestamp                                                                  \n",
              "2021-03-31 00:00:00     24811.47622      39      4.46207     8228.108687   \n",
              "2021-03-31 00:05:00      100898.416      50     18.71127    34521.301061   \n",
              "2021-03-31 00:10:00    19523.841834      31      6.35202    11739.724326   \n",
              "2021-03-31 00:15:00   234808.651352     117      70.3571   130155.068172   \n",
              "2021-03-31 00:20:00    29631.683226      61      3.04496     5630.118179   \n",
              "...                             ...     ...          ...             ...   \n",
              "2022-07-08 10:30:00   863397.706219     482      88.5744    108687.32962   \n",
              "2022-07-08 10:35:00    55908.656005     142      20.1877    24761.579377   \n",
              "2022-07-08 10:40:00    83023.751227     169      44.6406    54743.785481   \n",
              "2022-07-08 10:40:00  83023.75122700     169  44.64060000  54743.78548100   \n",
              "2022-07-08 10:45:00  24967.68157300      80   9.87940000  12106.36414800   \n",
              "\n",
              "                    ignore  \n",
              "timestamp                   \n",
              "2021-03-31 00:00:00      0  \n",
              "2021-03-31 00:05:00      0  \n",
              "2021-03-31 00:10:00      0  \n",
              "2021-03-31 00:15:00      0  \n",
              "2021-03-31 00:20:00      0  \n",
              "...                    ...  \n",
              "2022-07-08 10:30:00      0  \n",
              "2022-07-08 10:35:00      0  \n",
              "2022-07-08 10:40:00      0  \n",
              "2022-07-08 10:40:00      0  \n",
              "2022-07-08 10:45:00      0  \n",
              "\n",
              "[133599 rows x 11 columns]"
            ],
            "text/html": [
              "\n",
              "  <div id=\"df-08fc2864-fa2f-41a8-a377-1fd365a2cb36\">\n",
              "    <div class=\"colab-df-container\">\n",
              "      <div>\n",
              "<style scoped>\n",
              "    .dataframe tbody tr th:only-of-type {\n",
              "        vertical-align: middle;\n",
              "    }\n",
              "\n",
              "    .dataframe tbody tr th {\n",
              "        vertical-align: top;\n",
              "    }\n",
              "\n",
              "    .dataframe thead th {\n",
              "        text-align: right;\n",
              "    }\n",
              "</style>\n",
              "<table border=\"1\" class=\"dataframe\">\n",
              "  <thead>\n",
              "    <tr style=\"text-align: right;\">\n",
              "      <th></th>\n",
              "      <th>open</th>\n",
              "      <th>high</th>\n",
              "      <th>low</th>\n",
              "      <th>close</th>\n",
              "      <th>volume</th>\n",
              "      <th>close_time</th>\n",
              "      <th>quote_av</th>\n",
              "      <th>trades</th>\n",
              "      <th>tb_base_av</th>\n",
              "      <th>tb_quote_av</th>\n",
              "      <th>ignore</th>\n",
              "    </tr>\n",
              "    <tr>\n",
              "      <th>timestamp</th>\n",
              "      <th></th>\n",
              "      <th></th>\n",
              "      <th></th>\n",
              "      <th></th>\n",
              "      <th></th>\n",
              "      <th></th>\n",
              "      <th></th>\n",
              "      <th></th>\n",
              "      <th></th>\n",
              "      <th></th>\n",
              "      <th></th>\n",
              "    </tr>\n",
              "  </thead>\n",
              "  <tbody>\n",
              "    <tr>\n",
              "      <th>2021-03-31 00:00:00</th>\n",
              "      <td>1841.29</td>\n",
              "      <td>1845.35</td>\n",
              "      <td>1841.12</td>\n",
              "      <td>1845.35</td>\n",
              "      <td>13.4565</td>\n",
              "      <td>1617149099999</td>\n",
              "      <td>24811.47622</td>\n",
              "      <td>39</td>\n",
              "      <td>4.46207</td>\n",
              "      <td>8228.108687</td>\n",
              "      <td>0</td>\n",
              "    </tr>\n",
              "    <tr>\n",
              "      <th>2021-03-31 00:05:00</th>\n",
              "      <td>1844.39</td>\n",
              "      <td>1847.08</td>\n",
              "      <td>1843.99</td>\n",
              "      <td>1846.29</td>\n",
              "      <td>54.69818</td>\n",
              "      <td>1617149399999</td>\n",
              "      <td>100898.416</td>\n",
              "      <td>50</td>\n",
              "      <td>18.71127</td>\n",
              "      <td>34521.301061</td>\n",
              "      <td>0</td>\n",
              "    </tr>\n",
              "    <tr>\n",
              "      <th>2021-03-31 00:10:00</th>\n",
              "      <td>1845.54</td>\n",
              "      <td>1849.53</td>\n",
              "      <td>1845.54</td>\n",
              "      <td>1848.96</td>\n",
              "      <td>10.56434</td>\n",
              "      <td>1617149699999</td>\n",
              "      <td>19523.841834</td>\n",
              "      <td>31</td>\n",
              "      <td>6.35202</td>\n",
              "      <td>11739.724326</td>\n",
              "      <td>0</td>\n",
              "    </tr>\n",
              "    <tr>\n",
              "      <th>2021-03-31 00:15:00</th>\n",
              "      <td>1848.96</td>\n",
              "      <td>1850.35</td>\n",
              "      <td>1847.5</td>\n",
              "      <td>1847.5</td>\n",
              "      <td>126.93107</td>\n",
              "      <td>1617149999999</td>\n",
              "      <td>234808.651352</td>\n",
              "      <td>117</td>\n",
              "      <td>70.3571</td>\n",
              "      <td>130155.068172</td>\n",
              "      <td>0</td>\n",
              "    </tr>\n",
              "    <tr>\n",
              "      <th>2021-03-31 00:20:00</th>\n",
              "      <td>1848.12</td>\n",
              "      <td>1849.12</td>\n",
              "      <td>1846.0</td>\n",
              "      <td>1846.0</td>\n",
              "      <td>16.03979</td>\n",
              "      <td>1617150299999</td>\n",
              "      <td>29631.683226</td>\n",
              "      <td>61</td>\n",
              "      <td>3.04496</td>\n",
              "      <td>5630.118179</td>\n",
              "      <td>0</td>\n",
              "    </tr>\n",
              "    <tr>\n",
              "      <th>...</th>\n",
              "      <td>...</td>\n",
              "      <td>...</td>\n",
              "      <td>...</td>\n",
              "      <td>...</td>\n",
              "      <td>...</td>\n",
              "      <td>...</td>\n",
              "      <td>...</td>\n",
              "      <td>...</td>\n",
              "      <td>...</td>\n",
              "      <td>...</td>\n",
              "      <td>...</td>\n",
              "    </tr>\n",
              "    <tr>\n",
              "      <th>2022-07-08 10:30:00</th>\n",
              "      <td>1227.68</td>\n",
              "      <td>1228.24</td>\n",
              "      <td>1225.95</td>\n",
              "      <td>1227.06</td>\n",
              "      <td>703.2574</td>\n",
              "      <td>1657276499999</td>\n",
              "      <td>863397.706219</td>\n",
              "      <td>482</td>\n",
              "      <td>88.5744</td>\n",
              "      <td>108687.32962</td>\n",
              "      <td>0</td>\n",
              "    </tr>\n",
              "    <tr>\n",
              "      <th>2022-07-08 10:35:00</th>\n",
              "      <td>1226.6</td>\n",
              "      <td>1227.52</td>\n",
              "      <td>1225.2</td>\n",
              "      <td>1226.99</td>\n",
              "      <td>45.5844</td>\n",
              "      <td>1657276799999</td>\n",
              "      <td>55908.656005</td>\n",
              "      <td>142</td>\n",
              "      <td>20.1877</td>\n",
              "      <td>24761.579377</td>\n",
              "      <td>0</td>\n",
              "    </tr>\n",
              "    <tr>\n",
              "      <th>2022-07-08 10:40:00</th>\n",
              "      <td>1226.68</td>\n",
              "      <td>1227.42</td>\n",
              "      <td>1225.48</td>\n",
              "      <td>1225.99</td>\n",
              "      <td>67.6957</td>\n",
              "      <td>1657277099999</td>\n",
              "      <td>83023.751227</td>\n",
              "      <td>169</td>\n",
              "      <td>44.6406</td>\n",
              "      <td>54743.785481</td>\n",
              "      <td>0</td>\n",
              "    </tr>\n",
              "    <tr>\n",
              "      <th>2022-07-08 10:40:00</th>\n",
              "      <td>1226.68000000</td>\n",
              "      <td>1227.42000000</td>\n",
              "      <td>1225.48000000</td>\n",
              "      <td>1225.99000000</td>\n",
              "      <td>67.69570000</td>\n",
              "      <td>1657277099999</td>\n",
              "      <td>83023.75122700</td>\n",
              "      <td>169</td>\n",
              "      <td>44.64060000</td>\n",
              "      <td>54743.78548100</td>\n",
              "      <td>0</td>\n",
              "    </tr>\n",
              "    <tr>\n",
              "      <th>2022-07-08 10:45:00</th>\n",
              "      <td>1225.86000000</td>\n",
              "      <td>1225.90000000</td>\n",
              "      <td>1223.76000000</td>\n",
              "      <td>1223.76000000</td>\n",
              "      <td>20.37830000</td>\n",
              "      <td>1657277399999</td>\n",
              "      <td>24967.68157300</td>\n",
              "      <td>80</td>\n",
              "      <td>9.87940000</td>\n",
              "      <td>12106.36414800</td>\n",
              "      <td>0</td>\n",
              "    </tr>\n",
              "  </tbody>\n",
              "</table>\n",
              "<p>133599 rows × 11 columns</p>\n",
              "</div>\n",
              "      <button class=\"colab-df-convert\" onclick=\"convertToInteractive('df-08fc2864-fa2f-41a8-a377-1fd365a2cb36')\"\n",
              "              title=\"Convert this dataframe to an interactive table.\"\n",
              "              style=\"display:none;\">\n",
              "        \n",
              "  <svg xmlns=\"http://www.w3.org/2000/svg\" height=\"24px\"viewBox=\"0 0 24 24\"\n",
              "       width=\"24px\">\n",
              "    <path d=\"M0 0h24v24H0V0z\" fill=\"none\"/>\n",
              "    <path d=\"M18.56 5.44l.94 2.06.94-2.06 2.06-.94-2.06-.94-.94-2.06-.94 2.06-2.06.94zm-11 1L8.5 8.5l.94-2.06 2.06-.94-2.06-.94L8.5 2.5l-.94 2.06-2.06.94zm10 10l.94 2.06.94-2.06 2.06-.94-2.06-.94-.94-2.06-.94 2.06-2.06.94z\"/><path d=\"M17.41 7.96l-1.37-1.37c-.4-.4-.92-.59-1.43-.59-.52 0-1.04.2-1.43.59L10.3 9.45l-7.72 7.72c-.78.78-.78 2.05 0 2.83L4 21.41c.39.39.9.59 1.41.59.51 0 1.02-.2 1.41-.59l7.78-7.78 2.81-2.81c.8-.78.8-2.07 0-2.86zM5.41 20L4 18.59l7.72-7.72 1.47 1.35L5.41 20z\"/>\n",
              "  </svg>\n",
              "      </button>\n",
              "      \n",
              "  <style>\n",
              "    .colab-df-container {\n",
              "      display:flex;\n",
              "      flex-wrap:wrap;\n",
              "      gap: 12px;\n",
              "    }\n",
              "\n",
              "    .colab-df-convert {\n",
              "      background-color: #E8F0FE;\n",
              "      border: none;\n",
              "      border-radius: 50%;\n",
              "      cursor: pointer;\n",
              "      display: none;\n",
              "      fill: #1967D2;\n",
              "      height: 32px;\n",
              "      padding: 0 0 0 0;\n",
              "      width: 32px;\n",
              "    }\n",
              "\n",
              "    .colab-df-convert:hover {\n",
              "      background-color: #E2EBFA;\n",
              "      box-shadow: 0px 1px 2px rgba(60, 64, 67, 0.3), 0px 1px 3px 1px rgba(60, 64, 67, 0.15);\n",
              "      fill: #174EA6;\n",
              "    }\n",
              "\n",
              "    [theme=dark] .colab-df-convert {\n",
              "      background-color: #3B4455;\n",
              "      fill: #D2E3FC;\n",
              "    }\n",
              "\n",
              "    [theme=dark] .colab-df-convert:hover {\n",
              "      background-color: #434B5C;\n",
              "      box-shadow: 0px 1px 3px 1px rgba(0, 0, 0, 0.15);\n",
              "      filter: drop-shadow(0px 1px 2px rgba(0, 0, 0, 0.3));\n",
              "      fill: #FFFFFF;\n",
              "    }\n",
              "  </style>\n",
              "\n",
              "      <script>\n",
              "        const buttonEl =\n",
              "          document.querySelector('#df-08fc2864-fa2f-41a8-a377-1fd365a2cb36 button.colab-df-convert');\n",
              "        buttonEl.style.display =\n",
              "          google.colab.kernel.accessAllowed ? 'block' : 'none';\n",
              "\n",
              "        async function convertToInteractive(key) {\n",
              "          const element = document.querySelector('#df-08fc2864-fa2f-41a8-a377-1fd365a2cb36');\n",
              "          const dataTable =\n",
              "            await google.colab.kernel.invokeFunction('convertToInteractive',\n",
              "                                                     [key], {});\n",
              "          if (!dataTable) return;\n",
              "\n",
              "          const docLinkHtml = 'Like what you see? Visit the ' +\n",
              "            '<a target=\"_blank\" href=https://colab.research.google.com/notebooks/data_table.ipynb>data table notebook</a>'\n",
              "            + ' to learn more about interactive tables.';\n",
              "          element.innerHTML = '';\n",
              "          dataTable['output_type'] = 'display_data';\n",
              "          await google.colab.output.renderOutput(dataTable, element);\n",
              "          const docLink = document.createElement('div');\n",
              "          docLink.innerHTML = docLinkHtml;\n",
              "          element.appendChild(docLink);\n",
              "        }\n",
              "      </script>\n",
              "    </div>\n",
              "  </div>\n",
              "  "
            ]
          },
          "metadata": {},
          "execution_count": 7
        }
      ]
    },
    {
      "cell_type": "markdown",
      "source": [
        "Given that we have too much data, we will stay with less data (say 2000 prices)."
      ],
      "metadata": {
        "id": "Rax3lp6o3JpZ"
      }
    },
    {
      "cell_type": "code",
      "source": [
        "P_ETH = ETH_historical[-2000:]['close']\n",
        "for i in range(len(P_ETH)):\n",
        "  P_ETH[i] = float(P_ETH[i])"
      ],
      "metadata": {
        "colab": {
          "base_uri": "https://localhost:8080/"
        },
        "id": "Drdsv1E-3IBM",
        "outputId": "750547eb-83d1-418a-b44a-29a533ba725d"
      },
      "execution_count": 8,
      "outputs": [
        {
          "output_type": "stream",
          "name": "stderr",
          "text": [
            "/usr/local/lib/python3.7/dist-packages/ipykernel_launcher.py:3: SettingWithCopyWarning: \n",
            "A value is trying to be set on a copy of a slice from a DataFrame\n",
            "\n",
            "See the caveats in the documentation: https://pandas.pydata.org/pandas-docs/stable/user_guide/indexing.html#returning-a-view-versus-a-copy\n",
            "  This is separate from the ipykernel package so we can avoid doing imports until\n",
            "/usr/local/lib/python3.7/dist-packages/pandas/core/series.py:1056: SettingWithCopyWarning: \n",
            "A value is trying to be set on a copy of a slice from a DataFrame\n",
            "\n",
            "See the caveats in the documentation: https://pandas.pydata.org/pandas-docs/stable/user_guide/indexing.html#returning-a-view-versus-a-copy\n",
            "  cacher_needs_updating = self._check_is_chained_assignment_possible()\n"
          ]
        }
      ]
    },
    {
      "cell_type": "markdown",
      "source": [
        "## LTV calculator"
      ],
      "metadata": {
        "id": "eUsd347622oG"
      }
    },
    {
      "cell_type": "markdown",
      "source": [
        "Given\n",
        "\n",
        "- $A=collateral$\n",
        "- $D=borrowed\\_capital / debt$\n",
        "- $LTV=Loan\\ to\\ value$\n",
        "- $LT$ liquidation threshold\n",
        "\n",
        "then $LTV = \\frac{D}{A}$ and we will be liquidated if $LTV > LT$."
      ],
      "metadata": {
        "id": "r974k18tw_I1"
      }
    },
    {
      "cell_type": "code",
      "source": [
        "def liquidation(collateral_ETH, P_ETH, Debt_USDC, LT):\n",
        "  '''\n",
        "  LT = liquidation threshold\n",
        "  debt_value = Debt_USDC (in USDC)\n",
        "  collateral_USDC = colateral_ETH * P_ETH\n",
        "  liquidation if debt_value > collateral_USDC * LT iff debt_value / collateral_USDC = new_LTV > LT\n",
        "  '''\n",
        "  collateral_USDC = collateral_ETH * P_ETH\n",
        "  new_LTV = Debt_USDC / collateral_USDC\n",
        "  return new_LTV > LT\n",
        "\n",
        "def LTV_(collateral_ETH, P_ETH, Debt_USDC):\n",
        "  collateral_USDC = collateral_ETH * P_ETH\n",
        "  LTV = Debt_USDC / collateral_USDC\n",
        "  # P_ETH = Debt_USDC / (collateral_ETH * LT)\n",
        "  return LTV"
      ],
      "metadata": {
        "id": "dHMnN9lRw6Et"
      },
      "execution_count": 9,
      "outputs": []
    },
    {
      "cell_type": "markdown",
      "source": [
        "## DyDx"
      ],
      "metadata": {
        "id": "S1hCnpbnb-PS"
      }
    },
    {
      "cell_type": "code",
      "source": [
        "!pip install dydx-v3-python"
      ],
      "metadata": {
        "colab": {
          "base_uri": "https://localhost:8080/"
        },
        "id": "iXba8qNn45Da",
        "outputId": "e0126c7d-48a1-4b35-d3c3-2ff1604fe92d"
      },
      "execution_count": 10,
      "outputs": [
        {
          "output_type": "stream",
          "name": "stdout",
          "text": [
            "Looking in indexes: https://pypi.org/simple, https://us-python.pkg.dev/colab-wheels/public/simple/\n",
            "Requirement already satisfied: dydx-v3-python in /usr/local/lib/python3.7/dist-packages (1.6.1)\n",
            "Requirement already satisfied: eth-account<0.6.0,>=0.4.0 in /usr/local/lib/python3.7/dist-packages (from dydx-v3-python) (0.5.8)\n",
            "Requirement already satisfied: tox==3.13.2 in /usr/local/lib/python3.7/dist-packages (from dydx-v3-python) (3.13.2)\n",
            "Requirement already satisfied: sympy==1.6 in /usr/local/lib/python3.7/dist-packages (from dydx-v3-python) (1.6)\n",
            "Requirement already satisfied: web3<6.0.0,>=5.0.0 in /usr/local/lib/python3.7/dist-packages (from dydx-v3-python) (5.30.0)\n",
            "Requirement already satisfied: ecdsa==0.16.0 in /usr/local/lib/python3.7/dist-packages (from dydx-v3-python) (0.16.0)\n",
            "Requirement already satisfied: mpmath==1.0.0 in /usr/local/lib/python3.7/dist-packages (from dydx-v3-python) (1.0.0)\n",
            "Requirement already satisfied: eth-keys in /usr/local/lib/python3.7/dist-packages (from dydx-v3-python) (0.3.4)\n",
            "Requirement already satisfied: requests-mock==1.6.0 in /usr/local/lib/python3.7/dist-packages (from dydx-v3-python) (1.6.0)\n",
            "Requirement already satisfied: requests<3.0.0,>=2.22.0 in /usr/local/lib/python3.7/dist-packages (from dydx-v3-python) (2.23.0)\n",
            "Requirement already satisfied: setuptools==50.3.2 in /usr/local/lib/python3.7/dist-packages (from dydx-v3-python) (50.3.2)\n",
            "Requirement already satisfied: dateparser==1.0.0 in /usr/local/lib/python3.7/dist-packages (from dydx-v3-python) (1.0.0)\n",
            "Requirement already satisfied: pytest<5.0.0,>=4.4.0 in /usr/local/lib/python3.7/dist-packages (from dydx-v3-python) (4.6.11)\n",
            "Requirement already satisfied: regex!=2019.02.19 in /usr/local/lib/python3.7/dist-packages (from dateparser==1.0.0->dydx-v3-python) (2022.3.2)\n",
            "Requirement already satisfied: pytz in /usr/local/lib/python3.7/dist-packages (from dateparser==1.0.0->dydx-v3-python) (2022.1)\n",
            "Requirement already satisfied: tzlocal in /usr/local/lib/python3.7/dist-packages (from dateparser==1.0.0->dydx-v3-python) (1.5.1)\n",
            "Requirement already satisfied: python-dateutil in /usr/local/lib/python3.7/dist-packages (from dateparser==1.0.0->dydx-v3-python) (2.8.2)\n",
            "Requirement already satisfied: six>=1.9.0 in /usr/local/lib/python3.7/dist-packages (from ecdsa==0.16.0->dydx-v3-python) (1.15.0)\n",
            "Requirement already satisfied: filelock<4,>=3.0.0 in /usr/local/lib/python3.7/dist-packages (from tox==3.13.2->dydx-v3-python) (3.7.1)\n",
            "Requirement already satisfied: toml>=0.9.4 in /usr/local/lib/python3.7/dist-packages (from tox==3.13.2->dydx-v3-python) (0.10.2)\n",
            "Requirement already satisfied: importlib-metadata<1,>=0.12 in /usr/local/lib/python3.7/dist-packages (from tox==3.13.2->dydx-v3-python) (0.23)\n",
            "Requirement already satisfied: py<2,>=1.4.17 in /usr/local/lib/python3.7/dist-packages (from tox==3.13.2->dydx-v3-python) (1.11.0)\n",
            "Requirement already satisfied: virtualenv>=14.0.0 in /usr/local/lib/python3.7/dist-packages (from tox==3.13.2->dydx-v3-python) (20.15.1)\n",
            "Requirement already satisfied: pluggy<1,>=0.12.0 in /usr/local/lib/python3.7/dist-packages (from tox==3.13.2->dydx-v3-python) (0.13.1)\n",
            "Requirement already satisfied: packaging>=14 in /usr/local/lib/python3.7/dist-packages (from tox==3.13.2->dydx-v3-python) (21.3)\n",
            "Requirement already satisfied: rlp<3,>=1.0.0 in /usr/local/lib/python3.7/dist-packages (from eth-account<0.6.0,>=0.4.0->dydx-v3-python) (2.0.1)\n",
            "Requirement already satisfied: bitarray<3,>=1.2.1 in /usr/local/lib/python3.7/dist-packages (from eth-account<0.6.0,>=0.4.0->dydx-v3-python) (2.5.1)\n",
            "Requirement already satisfied: hexbytes<1,>=0.1.0 in /usr/local/lib/python3.7/dist-packages (from eth-account<0.6.0,>=0.4.0->dydx-v3-python) (0.2.2)\n",
            "Requirement already satisfied: eth-rlp<2,>=0.1.2 in /usr/local/lib/python3.7/dist-packages (from eth-account<0.6.0,>=0.4.0->dydx-v3-python) (0.2.1)\n",
            "Requirement already satisfied: eth-keyfile<0.6.0,>=0.5.0 in /usr/local/lib/python3.7/dist-packages (from eth-account<0.6.0,>=0.4.0->dydx-v3-python) (0.5.1)\n",
            "Requirement already satisfied: eth-abi<3,>=2.0.0b7 in /usr/local/lib/python3.7/dist-packages (from eth-account<0.6.0,>=0.4.0->dydx-v3-python) (2.1.1)\n",
            "Requirement already satisfied: eth-utils<2,>=1.3.0 in /usr/local/lib/python3.7/dist-packages (from eth-account<0.6.0,>=0.4.0->dydx-v3-python) (1.9.5)\n",
            "Requirement already satisfied: parsimonious<0.9.0,>=0.8.0 in /usr/local/lib/python3.7/dist-packages (from eth-abi<3,>=2.0.0b7->eth-account<0.6.0,>=0.4.0->dydx-v3-python) (0.8.1)\n",
            "Requirement already satisfied: eth-typing<3.0.0,>=2.0.0 in /usr/local/lib/python3.7/dist-packages (from eth-abi<3,>=2.0.0b7->eth-account<0.6.0,>=0.4.0->dydx-v3-python) (2.3.0)\n",
            "Requirement already satisfied: pycryptodome<4.0.0,>=3.4.7 in /usr/local/lib/python3.7/dist-packages (from eth-keyfile<0.6.0,>=0.5.0->eth-account<0.6.0,>=0.4.0->dydx-v3-python) (3.15.0)\n",
            "Requirement already satisfied: cytoolz<1.0.0,>=0.9.0 in /usr/local/lib/python3.7/dist-packages (from eth-keyfile<0.6.0,>=0.5.0->eth-account<0.6.0,>=0.4.0->dydx-v3-python) (0.11.2)\n",
            "Requirement already satisfied: toolz>=0.8.0 in /usr/local/lib/python3.7/dist-packages (from cytoolz<1.0.0,>=0.9.0->eth-keyfile<0.6.0,>=0.5.0->eth-account<0.6.0,>=0.4.0->dydx-v3-python) (0.11.2)\n",
            "Requirement already satisfied: eth-hash<1.0.0,>=0.1.0 in /usr/local/lib/python3.7/dist-packages (from eth-utils<2,>=1.3.0->eth-account<0.6.0,>=0.4.0->dydx-v3-python) (0.4.0)\n",
            "Requirement already satisfied: zipp>=0.5 in /usr/local/lib/python3.7/dist-packages (from importlib-metadata<1,>=0.12->tox==3.13.2->dydx-v3-python) (3.8.0)\n",
            "Requirement already satisfied: pyparsing!=3.0.5,>=2.0.2 in /usr/local/lib/python3.7/dist-packages (from packaging>=14->tox==3.13.2->dydx-v3-python) (3.0.9)\n",
            "Requirement already satisfied: atomicwrites>=1.0 in /usr/local/lib/python3.7/dist-packages (from pytest<5.0.0,>=4.4.0->dydx-v3-python) (1.4.0)\n",
            "Requirement already satisfied: wcwidth in /usr/local/lib/python3.7/dist-packages (from pytest<5.0.0,>=4.4.0->dydx-v3-python) (0.2.5)\n",
            "Requirement already satisfied: attrs>=17.4.0 in /usr/local/lib/python3.7/dist-packages (from pytest<5.0.0,>=4.4.0->dydx-v3-python) (21.4.0)\n",
            "Requirement already satisfied: more-itertools>=4.0.0 in /usr/local/lib/python3.7/dist-packages (from pytest<5.0.0,>=4.4.0->dydx-v3-python) (8.13.0)\n",
            "Requirement already satisfied: urllib3!=1.25.0,!=1.25.1,<1.26,>=1.21.1 in /usr/local/lib/python3.7/dist-packages (from requests<3.0.0,>=2.22.0->dydx-v3-python) (1.24.3)\n",
            "Requirement already satisfied: certifi>=2017.4.17 in /usr/local/lib/python3.7/dist-packages (from requests<3.0.0,>=2.22.0->dydx-v3-python) (2022.6.15)\n",
            "Requirement already satisfied: chardet<4,>=3.0.2 in /usr/local/lib/python3.7/dist-packages (from requests<3.0.0,>=2.22.0->dydx-v3-python) (3.0.4)\n",
            "Requirement already satisfied: idna<3,>=2.5 in /usr/local/lib/python3.7/dist-packages (from requests<3.0.0,>=2.22.0->dydx-v3-python) (2.10)\n",
            "Requirement already satisfied: platformdirs<3,>=2 in /usr/local/lib/python3.7/dist-packages (from virtualenv>=14.0.0->tox==3.13.2->dydx-v3-python) (2.5.2)\n",
            "Requirement already satisfied: distlib<1,>=0.3.1 in /usr/local/lib/python3.7/dist-packages (from virtualenv>=14.0.0->tox==3.13.2->dydx-v3-python) (0.3.4)\n",
            "Requirement already satisfied: lru-dict<2.0.0,>=1.1.6 in /usr/local/lib/python3.7/dist-packages (from web3<6.0.0,>=5.0.0->dydx-v3-python) (1.1.7)\n",
            "Requirement already satisfied: aiohttp<4,>=3.7.4.post0 in /usr/local/lib/python3.7/dist-packages (from web3<6.0.0,>=5.0.0->dydx-v3-python) (3.8.1)\n",
            "Requirement already satisfied: websockets<10,>=9.1 in /usr/local/lib/python3.7/dist-packages (from web3<6.0.0,>=5.0.0->dydx-v3-python) (9.1)\n",
            "Requirement already satisfied: protobuf<4,>=3.10.0 in /usr/local/lib/python3.7/dist-packages (from web3<6.0.0,>=5.0.0->dydx-v3-python) (3.17.3)\n",
            "Requirement already satisfied: typing-extensions<5,>=3.7.4.1 in /usr/local/lib/python3.7/dist-packages (from web3<6.0.0,>=5.0.0->dydx-v3-python) (4.1.1)\n",
            "Requirement already satisfied: jsonschema<5,>=3.2.0 in /usr/local/lib/python3.7/dist-packages (from web3<6.0.0,>=5.0.0->dydx-v3-python) (4.3.3)\n",
            "Requirement already satisfied: ipfshttpclient==0.8.0a2 in /usr/local/lib/python3.7/dist-packages (from web3<6.0.0,>=5.0.0->dydx-v3-python) (0.8.0a2)\n",
            "Requirement already satisfied: multiaddr>=0.0.7 in /usr/local/lib/python3.7/dist-packages (from ipfshttpclient==0.8.0a2->web3<6.0.0,>=5.0.0->dydx-v3-python) (0.0.9)\n",
            "Requirement already satisfied: multidict<7.0,>=4.5 in /usr/local/lib/python3.7/dist-packages (from aiohttp<4,>=3.7.4.post0->web3<6.0.0,>=5.0.0->dydx-v3-python) (6.0.2)\n",
            "Requirement already satisfied: charset-normalizer<3.0,>=2.0 in /usr/local/lib/python3.7/dist-packages (from aiohttp<4,>=3.7.4.post0->web3<6.0.0,>=5.0.0->dydx-v3-python) (2.1.0)\n",
            "Requirement already satisfied: asynctest==0.13.0 in /usr/local/lib/python3.7/dist-packages (from aiohttp<4,>=3.7.4.post0->web3<6.0.0,>=5.0.0->dydx-v3-python) (0.13.0)\n",
            "Requirement already satisfied: frozenlist>=1.1.1 in /usr/local/lib/python3.7/dist-packages (from aiohttp<4,>=3.7.4.post0->web3<6.0.0,>=5.0.0->dydx-v3-python) (1.3.0)\n",
            "Requirement already satisfied: async-timeout<5.0,>=4.0.0a3 in /usr/local/lib/python3.7/dist-packages (from aiohttp<4,>=3.7.4.post0->web3<6.0.0,>=5.0.0->dydx-v3-python) (4.0.2)\n",
            "Requirement already satisfied: yarl<2.0,>=1.0 in /usr/local/lib/python3.7/dist-packages (from aiohttp<4,>=3.7.4.post0->web3<6.0.0,>=5.0.0->dydx-v3-python) (1.7.2)\n",
            "Requirement already satisfied: aiosignal>=1.1.2 in /usr/local/lib/python3.7/dist-packages (from aiohttp<4,>=3.7.4.post0->web3<6.0.0,>=5.0.0->dydx-v3-python) (1.2.0)\n",
            "Requirement already satisfied: pyrsistent!=0.17.0,!=0.17.1,!=0.17.2,>=0.14.0 in /usr/local/lib/python3.7/dist-packages (from jsonschema<5,>=3.2.0->web3<6.0.0,>=5.0.0->dydx-v3-python) (0.18.1)\n",
            "Requirement already satisfied: importlib-resources>=1.4.0 in /usr/local/lib/python3.7/dist-packages (from jsonschema<5,>=3.2.0->web3<6.0.0,>=5.0.0->dydx-v3-python) (5.7.1)\n",
            "Requirement already satisfied: varint in /usr/local/lib/python3.7/dist-packages (from multiaddr>=0.0.7->ipfshttpclient==0.8.0a2->web3<6.0.0,>=5.0.0->dydx-v3-python) (1.0.2)\n",
            "Requirement already satisfied: base58 in /usr/local/lib/python3.7/dist-packages (from multiaddr>=0.0.7->ipfshttpclient==0.8.0a2->web3<6.0.0,>=5.0.0->dydx-v3-python) (2.1.1)\n",
            "Requirement already satisfied: netaddr in /usr/local/lib/python3.7/dist-packages (from multiaddr>=0.0.7->ipfshttpclient==0.8.0a2->web3<6.0.0,>=5.0.0->dydx-v3-python) (0.8.0)\n"
          ]
        }
      ]
    },
    {
      "cell_type": "code",
      "source": [
        "from dydx3 import Client as Client_dydx\n",
        "from web3 import Web3\n",
        "dydx_client = Client_dydx(host ='https://api.stage.dydx.exchange/')"
      ],
      "metadata": {
        "id": "bZVhpK2ATlYW"
      },
      "execution_count": 11,
      "outputs": []
    },
    {
      "cell_type": "code",
      "source": [
        "# We bring the necessary parameters\n",
        "market = dydx_client.public.get_markets()\n",
        "dydx_info = pd.DataFrame.from_dict(market.data).T"
      ],
      "metadata": {
        "id": "zPJSlYAlVllq"
      },
      "execution_count": 12,
      "outputs": []
    },
    {
      "cell_type": "code",
      "source": [
        "dydx_ETH_USD_data = dydx_info['ETH-USD'][0]\n",
        "dydx_ETH_USD_data"
      ],
      "metadata": {
        "colab": {
          "base_uri": "https://localhost:8080/"
        },
        "id": "-Fan2hUBWKUM",
        "outputId": "63ad45ee-230a-418a-de47-8715a015d20c"
      },
      "execution_count": 13,
      "outputs": [
        {
          "output_type": "execute_result",
          "data": {
            "text/plain": [
              "{'assetResolution': '1000000000',\n",
              " 'baseAsset': 'ETH',\n",
              " 'baselinePositionSize': '500',\n",
              " 'incrementalInitialMarginFraction': '0.01',\n",
              " 'incrementalPositionSize': '100',\n",
              " 'indexPrice': '1223.2250',\n",
              " 'initialMarginFraction': '0.05',\n",
              " 'maintenanceMarginFraction': '0.03',\n",
              " 'market': 'ETH-USD',\n",
              " 'maxPositionSize': '10000',\n",
              " 'minOrderSize': '0.01',\n",
              " 'nextFundingAt': '2022-07-08T11:00:00.000Z',\n",
              " 'nextFundingRate': '-0.0000117041',\n",
              " 'openInterest': '9421.516',\n",
              " 'oraclePrice': '1227.1700',\n",
              " 'priceChange24H': '38.971500',\n",
              " 'quoteAsset': 'USD',\n",
              " 'status': 'ONLINE',\n",
              " 'stepSize': '0.001',\n",
              " 'syntheticAssetId': '0x4554482d3900000000000000000000',\n",
              " 'tickSize': '0.1',\n",
              " 'trades24H': '2018',\n",
              " 'type': 'PERPETUAL',\n",
              " 'volume24H': '26888699.765400'}"
            ]
          },
          "metadata": {},
          "execution_count": 13
        }
      ]
    },
    {
      "cell_type": "code",
      "source": [
        "incrementalInitialMarginFraction = float(dydx_ETH_USD_data['incrementalInitialMarginFraction'])\n",
        "\n",
        "initialMarginFraction = float(dydx_ETH_USD_data['initialMarginFraction'])\n",
        "maintenanceMarginFraction = float(dydx_ETH_USD_data['maintenanceMarginFraction'])\n",
        "oraclePrice = float(dydx_ETH_USD_data['oraclePrice'])\n",
        "size_ETH = -7.2110\n",
        "Initial_Margin_Requirement = abs(size_ETH * oraclePrice * initialMarginFraction)\n",
        "Maintenance_Margin_Requirement = abs(size_ETH * oraclePrice * maintenanceMarginFraction)\n",
        "Total_Initial_Margin_Requirement = Initial_Margin_Requirement\n",
        "Total_Maintenance_Margin_Requirement = Maintenance_Margin_Requirement\n",
        "margin = 4000\n",
        "notional = 0\n",
        "# notional = abs(size_ETH * oraclePrice)\n",
        "total_account_value = margin + notional\n",
        "Free_collateral = total_account_value - Total_Initial_Margin_Requirement\n",
        "Close_price = oraclePrice * (1 + (maintenanceMarginFraction * total_account_value / Total_Maintenance_Margin_Requirement))"
      ],
      "metadata": {
        "id": "qeNKngsrZxKT"
      },
      "execution_count": 14,
      "outputs": []
    },
    {
      "cell_type": "code",
      "source": [
        "incrementalInitialMarginFraction,initialMarginFraction ,maintenanceMarginFraction"
      ],
      "metadata": {
        "id": "VW65opcEJ-NJ",
        "outputId": "72d50252-df2e-4389-d4dc-8c86218519af",
        "colab": {
          "base_uri": "https://localhost:8080/"
        }
      },
      "execution_count": 15,
      "outputs": [
        {
          "output_type": "execute_result",
          "data": {
            "text/plain": [
              "(0.01, 0.05, 0.03)"
            ]
          },
          "metadata": {},
          "execution_count": 15
        }
      ]
    },
    {
      "cell_type": "markdown",
      "source": [
        "P is the oracle price for the market\n",
        "\n",
        "M is the maintenance margin fraction for the market\n",
        "\n",
        "V is the total account value, as defined above\n",
        "\n",
        "W is the total maintentance margin requirement, as defined above"
      ],
      "metadata": {
        "id": "t4sbdKvbaXh0"
      }
    },
    {
      "cell_type": "code",
      "source": [
        "incrementalInitialMarginFraction"
      ],
      "metadata": {
        "id": "qvMzajRCZz3C",
        "colab": {
          "base_uri": "https://localhost:8080/"
        },
        "outputId": "80fcadaf-ea09-43ea-aa53-763cc30614db"
      },
      "execution_count": 16,
      "outputs": [
        {
          "output_type": "execute_result",
          "data": {
            "text/plain": [
              "0.01"
            ]
          },
          "metadata": {},
          "execution_count": 16
        }
      ]
    },
    {
      "cell_type": "code",
      "source": [
        "def short_pyl(size, P):\n",
        "  '''\n",
        "  P_entry, leverage are given and fixed\n",
        "  '''\n",
        "  return size * (short_entry_price - P) * short_leverage"
      ],
      "metadata": {
        "id": "FnjkJ0adcBFe"
      },
      "execution_count": 17,
      "outputs": []
    },
    {
      "cell_type": "markdown",
      "source": [
        "## AAVE yields"
      ],
      "metadata": {
        "id": "UL8cWr7wg3ZL"
      }
    },
    {
      "cell_type": "code",
      "source": [
        "def AAVE_profits(collateral_USDC, pcg_collateral_to_borrow,\n",
        "                 supply_rate_ETH, supply_rewards_rate_ETH,\n",
        "                 borrow_rate_USDC, borrow_rewards_rate_USDC):\n",
        "  debt = collateral_USDC * pcg_collateral_to_borrow\n",
        "  return collateral_USDC * (supply_rate_ETH + supply_rewards_rate_ETH) - debt * (borrow_rate_USDC - borrow_rewards_rate_USDC)"
      ],
      "metadata": {
        "id": "FthwXfysg4co"
      },
      "execution_count": 18,
      "outputs": []
    },
    {
      "cell_type": "markdown",
      "source": [
        "### Request borrow_rate + supply_rate"
      ],
      "metadata": {
        "id": "ufZfhFUEtiFm"
      }
    },
    {
      "cell_type": "code",
      "source": [
        "import json\n",
        "#from google.colab import files\n",
        "#uploaded = files.upload()\n",
        "from binance.client import Client\n",
        "import pandas as pd\n",
        "from datetime import datetime\n",
        "from web3 import Web3\n",
        "#import pandas as pd\n"
      ],
      "metadata": {
        "id": "wvod8AfzsUNF"
      },
      "execution_count": 19,
      "outputs": []
    },
    {
      "cell_type": "code",
      "source": [
        "# Conectamos con el nodo\n",
        "w3 = Web3(Web3.HTTPProvider(\"https://mainnet.infura.io/v3/da48e8cbe7ed479688437e27dd07fe8b\"))\n",
        "# Cargamos las address del contrato del tricrypto y del LP token\n",
        "lending_pool_address = '0x7d2768dE32b0b80b7a3454c06BdAc94A69DDc7A9'\n",
        "wETH_address = '0xC02aaA39b223FE8D0A0e5C4F27eAD9083C756Cc2'\n",
        "USDC_address = '0xA0b86991c6218b36c1d19D4a2e9Eb0cE3606eB48'\n",
        "# Cargamos las abis de cada uno\n",
        "pool_abi = '''\n",
        "[{\"anonymous\":false,\"inputs\":[{\"indexed\":true,\"internalType\":\"address\",\"name\":\"reserve\",\"type\":\"address\"},{\"indexed\":false,\"internalType\":\"address\",\"name\":\"user\",\"type\":\"address\"},{\"indexed\":true,\"internalType\":\"address\",\"name\":\"onBehalfOf\",\"type\":\"address\"},{\"indexed\":false,\"internalType\":\"uint256\",\"name\":\"amount\",\"type\":\"uint256\"},{\"indexed\":false,\"internalType\":\"uint256\",\"name\":\"borrowRateMode\",\"type\":\"uint256\"},{\"indexed\":false,\"internalType\":\"uint256\",\"name\":\"borrowRate\",\"type\":\"uint256\"},{\"indexed\":true,\"internalType\":\"uint16\",\"name\":\"referral\",\"type\":\"uint16\"}],\"name\":\"Borrow\",\"type\":\"event\"},{\"anonymous\":false,\"inputs\":[{\"indexed\":true,\"internalType\":\"address\",\"name\":\"reserve\",\"type\":\"address\"},{\"indexed\":false,\"internalType\":\"address\",\"name\":\"user\",\"type\":\"address\"},{\"indexed\":true,\"internalType\":\"address\",\"name\":\"onBehalfOf\",\"type\":\"address\"},{\"indexed\":false,\"internalType\":\"uint256\",\"name\":\"amount\",\"type\":\"uint256\"},{\"indexed\":true,\"internalType\":\"uint16\",\"name\":\"referral\",\"type\":\"uint16\"}],\"name\":\"Deposit\",\"type\":\"event\"},{\"anonymous\":false,\"inputs\":[{\"indexed\":true,\"internalType\":\"address\",\"name\":\"target\",\"type\":\"address\"},{\"indexed\":true,\"internalType\":\"address\",\"name\":\"initiator\",\"type\":\"address\"},{\"indexed\":true,\"internalType\":\"address\",\"name\":\"asset\",\"type\":\"address\"},{\"indexed\":false,\"internalType\":\"uint256\",\"name\":\"amount\",\"type\":\"uint256\"},{\"indexed\":false,\"internalType\":\"uint256\",\"name\":\"premium\",\"type\":\"uint256\"},{\"indexed\":false,\"internalType\":\"uint16\",\"name\":\"referralCode\",\"type\":\"uint16\"}],\"name\":\"FlashLoan\",\"type\":\"event\"},{\"anonymous\":false,\"inputs\":[{\"indexed\":true,\"internalType\":\"address\",\"name\":\"collateralAsset\",\"type\":\"address\"},{\"indexed\":true,\"internalType\":\"address\",\"name\":\"debtAsset\",\"type\":\"address\"},{\"indexed\":true,\"internalType\":\"address\",\"name\":\"user\",\"type\":\"address\"},{\"indexed\":false,\"internalType\":\"uint256\",\"name\":\"debtToCover\",\"type\":\"uint256\"},{\"indexed\":false,\"internalType\":\"uint256\",\"name\":\"liquidatedCollateralAmount\",\"type\":\"uint256\"},{\"indexed\":false,\"internalType\":\"address\",\"name\":\"liquidator\",\"type\":\"address\"},{\"indexed\":false,\"internalType\":\"bool\",\"name\":\"receiveAToken\",\"type\":\"bool\"}],\"name\":\"LiquidationCall\",\"type\":\"event\"},{\"anonymous\":false,\"inputs\":[],\"name\":\"Paused\",\"type\":\"event\"},{\"anonymous\":false,\"inputs\":[{\"indexed\":true,\"internalType\":\"address\",\"name\":\"reserve\",\"type\":\"address\"},{\"indexed\":true,\"internalType\":\"address\",\"name\":\"user\",\"type\":\"address\"}],\"name\":\"RebalanceStableBorrowRate\",\"type\":\"event\"},{\"anonymous\":false,\"inputs\":[{\"indexed\":true,\"internalType\":\"address\",\"name\":\"reserve\",\"type\":\"address\"},{\"indexed\":true,\"internalType\":\"address\",\"name\":\"user\",\"type\":\"address\"},{\"indexed\":true,\"internalType\":\"address\",\"name\":\"repayer\",\"type\":\"address\"},{\"indexed\":false,\"internalType\":\"uint256\",\"name\":\"amount\",\"type\":\"uint256\"}],\"name\":\"Repay\",\"type\":\"event\"},{\"anonymous\":false,\"inputs\":[{\"indexed\":true,\"internalType\":\"address\",\"name\":\"reserve\",\"type\":\"address\"},{\"indexed\":false,\"internalType\":\"uint256\",\"name\":\"liquidityRate\",\"type\":\"uint256\"},{\"indexed\":false,\"internalType\":\"uint256\",\"name\":\"stableBorrowRate\",\"type\":\"uint256\"},{\"indexed\":false,\"internalType\":\"uint256\",\"name\":\"variableBorrowRate\",\"type\":\"uint256\"},{\"indexed\":false,\"internalType\":\"uint256\",\"name\":\"liquidityIndex\",\"type\":\"uint256\"},{\"indexed\":false,\"internalType\":\"uint256\",\"name\":\"variableBorrowIndex\",\"type\":\"uint256\"}],\"name\":\"ReserveDataUpdated\",\"type\":\"event\"},{\"anonymous\":false,\"inputs\":[{\"indexed\":true,\"internalType\":\"address\",\"name\":\"reserve\",\"type\":\"address\"},{\"indexed\":true,\"internalType\":\"address\",\"name\":\"user\",\"type\":\"address\"}],\"name\":\"ReserveUsedAsCollateralDisabled\",\"type\":\"event\"},{\"anonymous\":false,\"inputs\":[{\"indexed\":true,\"internalType\":\"address\",\"name\":\"reserve\",\"type\":\"address\"},{\"indexed\":true,\"internalType\":\"address\",\"name\":\"user\",\"type\":\"address\"}],\"name\":\"ReserveUsedAsCollateralEnabled\",\"type\":\"event\"},{\"anonymous\":false,\"inputs\":[{\"indexed\":true,\"internalType\":\"address\",\"name\":\"reserve\",\"type\":\"address\"},{\"indexed\":true,\"internalType\":\"address\",\"name\":\"user\",\"type\":\"address\"},{\"indexed\":false,\"internalType\":\"uint256\",\"name\":\"rateMode\",\"type\":\"uint256\"}],\"name\":\"Swap\",\"type\":\"event\"},{\"anonymous\":false,\"inputs\":[],\"name\":\"Unpaused\",\"type\":\"event\"},{\"anonymous\":false,\"inputs\":[{\"indexed\":true,\"internalType\":\"address\",\"name\":\"reserve\",\"type\":\"address\"},{\"indexed\":true,\"internalType\":\"address\",\"name\":\"user\",\"type\":\"address\"},{\"indexed\":true,\"internalType\":\"address\",\"name\":\"to\",\"type\":\"address\"},{\"indexed\":false,\"internalType\":\"uint256\",\"name\":\"amount\",\"type\":\"uint256\"}],\"name\":\"Withdraw\",\"type\":\"event\"},{\"inputs\":[],\"name\":\"FLASHLOAN_PREMIUM_TOTAL\",\"outputs\":[{\"internalType\":\"uint256\",\"name\":\"\",\"type\":\"uint256\"}],\"stateMutability\":\"view\",\"type\":\"function\"},{\"inputs\":[],\"name\":\"LENDINGPOOL_REVISION\",\"outputs\":[{\"internalType\":\"uint256\",\"name\":\"\",\"type\":\"uint256\"}],\"stateMutability\":\"view\",\"type\":\"function\"},{\"inputs\":[],\"name\":\"MAX_NUMBER_RESERVES\",\"outputs\":[{\"internalType\":\"uint256\",\"name\":\"\",\"type\":\"uint256\"}],\"stateMutability\":\"view\",\"type\":\"function\"},{\"inputs\":[],\"name\":\"MAX_STABLE_RATE_BORROW_SIZE_PERCENT\",\"outputs\":[{\"internalType\":\"uint256\",\"name\":\"\",\"type\":\"uint256\"}],\"stateMutability\":\"view\",\"type\":\"function\"},{\"inputs\":[{\"internalType\":\"address\",\"name\":\"asset\",\"type\":\"address\"},{\"internalType\":\"uint256\",\"name\":\"amount\",\"type\":\"uint256\"},{\"internalType\":\"uint256\",\"name\":\"interestRateMode\",\"type\":\"uint256\"},{\"internalType\":\"uint16\",\"name\":\"referralCode\",\"type\":\"uint16\"},{\"internalType\":\"address\",\"name\":\"onBehalfOf\",\"type\":\"address\"}],\"name\":\"borrow\",\"outputs\":[],\"stateMutability\":\"nonpayable\",\"type\":\"function\"},{\"inputs\":[{\"internalType\":\"address\",\"name\":\"asset\",\"type\":\"address\"},{\"internalType\":\"uint256\",\"name\":\"amount\",\"type\":\"uint256\"},{\"internalType\":\"address\",\"name\":\"onBehalfOf\",\"type\":\"address\"},{\"internalType\":\"uint16\",\"name\":\"referralCode\",\"type\":\"uint16\"}],\"name\":\"deposit\",\"outputs\":[],\"stateMutability\":\"nonpayable\",\"type\":\"function\"},{\"inputs\":[{\"internalType\":\"address\",\"name\":\"asset\",\"type\":\"address\"},{\"internalType\":\"address\",\"name\":\"from\",\"type\":\"address\"},{\"internalType\":\"address\",\"name\":\"to\",\"type\":\"address\"},{\"internalType\":\"uint256\",\"name\":\"amount\",\"type\":\"uint256\"},{\"internalType\":\"uint256\",\"name\":\"balanceFromBefore\",\"type\":\"uint256\"},{\"internalType\":\"uint256\",\"name\":\"balanceToBefore\",\"type\":\"uint256\"}],\"name\":\"finalizeTransfer\",\"outputs\":[],\"stateMutability\":\"nonpayable\",\"type\":\"function\"},{\"inputs\":[{\"internalType\":\"address\",\"name\":\"receiverAddress\",\"type\":\"address\"},{\"internalType\":\"address[]\",\"name\":\"assets\",\"type\":\"address[]\"},{\"internalType\":\"uint256[]\",\"name\":\"amounts\",\"type\":\"uint256[]\"},{\"internalType\":\"uint256[]\",\"name\":\"modes\",\"type\":\"uint256[]\"},{\"internalType\":\"address\",\"name\":\"onBehalfOf\",\"type\":\"address\"},{\"internalType\":\"bytes\",\"name\":\"params\",\"type\":\"bytes\"},{\"internalType\":\"uint16\",\"name\":\"referralCode\",\"type\":\"uint16\"}],\"name\":\"flashLoan\",\"outputs\":[],\"stateMutability\":\"nonpayable\",\"type\":\"function\"},{\"inputs\":[],\"name\":\"getAddressesProvider\",\"outputs\":[{\"internalType\":\"contract ILendingPoolAddressesProvider\",\"name\":\"\",\"type\":\"address\"}],\"stateMutability\":\"view\",\"type\":\"function\"},{\"inputs\":[{\"internalType\":\"address\",\"name\":\"asset\",\"type\":\"address\"}],\"name\":\"getConfiguration\",\"outputs\":[{\"components\":[{\"internalType\":\"uint256\",\"name\":\"data\",\"type\":\"uint256\"}],\"internalType\":\"struct DataTypes.ReserveConfigurationMap\",\"name\":\"\",\"type\":\"tuple\"}],\"stateMutability\":\"view\",\"type\":\"function\"},{\"inputs\":[{\"internalType\":\"address\",\"name\":\"asset\",\"type\":\"address\"}],\"name\":\"getReserveData\",\"outputs\":[{\"components\":[{\"components\":[{\"internalType\":\"uint256\",\"name\":\"data\",\"type\":\"uint256\"}],\"internalType\":\"struct DataTypes.ReserveConfigurationMap\",\"name\":\"configuration\",\"type\":\"tuple\"},{\"internalType\":\"uint128\",\"name\":\"liquidityIndex\",\"type\":\"uint128\"},{\"internalType\":\"uint128\",\"name\":\"variableBorrowIndex\",\"type\":\"uint128\"},{\"internalType\":\"uint128\",\"name\":\"currentLiquidityRate\",\"type\":\"uint128\"},{\"internalType\":\"uint128\",\"name\":\"currentVariableBorrowRate\",\"type\":\"uint128\"},{\"internalType\":\"uint128\",\"name\":\"currentStableBorrowRate\",\"type\":\"uint128\"},{\"internalType\":\"uint40\",\"name\":\"lastUpdateTimestamp\",\"type\":\"uint40\"},{\"internalType\":\"address\",\"name\":\"aTokenAddress\",\"type\":\"address\"},{\"internalType\":\"address\",\"name\":\"stableDebtTokenAddress\",\"type\":\"address\"},{\"internalType\":\"address\",\"name\":\"variableDebtTokenAddress\",\"type\":\"address\"},{\"internalType\":\"address\",\"name\":\"interestRateStrategyAddress\",\"type\":\"address\"},{\"internalType\":\"uint8\",\"name\":\"id\",\"type\":\"uint8\"}],\"internalType\":\"struct DataTypes.ReserveData\",\"name\":\"\",\"type\":\"tuple\"}],\"stateMutability\":\"view\",\"type\":\"function\"},{\"inputs\":[{\"internalType\":\"address\",\"name\":\"asset\",\"type\":\"address\"}],\"name\":\"getReserveNormalizedIncome\",\"outputs\":[{\"internalType\":\"uint256\",\"name\":\"\",\"type\":\"uint256\"}],\"stateMutability\":\"view\",\"type\":\"function\"},{\"inputs\":[{\"internalType\":\"address\",\"name\":\"asset\",\"type\":\"address\"}],\"name\":\"getReserveNormalizedVariableDebt\",\"outputs\":[{\"internalType\":\"uint256\",\"name\":\"\",\"type\":\"uint256\"}],\"stateMutability\":\"view\",\"type\":\"function\"},{\"inputs\":[],\"name\":\"getReservesList\",\"outputs\":[{\"internalType\":\"address[]\",\"name\":\"\",\"type\":\"address[]\"}],\"stateMutability\":\"view\",\"type\":\"function\"},{\"inputs\":[{\"internalType\":\"address\",\"name\":\"user\",\"type\":\"address\"}],\"name\":\"getUserAccountData\",\"outputs\":[{\"internalType\":\"uint256\",\"name\":\"totalCollateralETH\",\"type\":\"uint256\"},{\"internalType\":\"uint256\",\"name\":\"totalDebtETH\",\"type\":\"uint256\"},{\"internalType\":\"uint256\",\"name\":\"availableBorrowsETH\",\"type\":\"uint256\"},{\"internalType\":\"uint256\",\"name\":\"currentLiquidationThreshold\",\"type\":\"uint256\"},{\"internalType\":\"uint256\",\"name\":\"ltv\",\"type\":\"uint256\"},{\"internalType\":\"uint256\",\"name\":\"healthFactor\",\"type\":\"uint256\"}],\"stateMutability\":\"view\",\"type\":\"function\"},{\"inputs\":[{\"internalType\":\"address\",\"name\":\"user\",\"type\":\"address\"}],\"name\":\"getUserConfiguration\",\"outputs\":[{\"components\":[{\"internalType\":\"uint256\",\"name\":\"data\",\"type\":\"uint256\"}],\"internalType\":\"struct DataTypes.UserConfigurationMap\",\"name\":\"\",\"type\":\"tuple\"}],\"stateMutability\":\"view\",\"type\":\"function\"},{\"inputs\":[{\"internalType\":\"address\",\"name\":\"asset\",\"type\":\"address\"},{\"internalType\":\"address\",\"name\":\"aTokenAddress\",\"type\":\"address\"},{\"internalType\":\"address\",\"name\":\"stableDebtAddress\",\"type\":\"address\"},{\"internalType\":\"address\",\"name\":\"variableDebtAddress\",\"type\":\"address\"},{\"internalType\":\"address\",\"name\":\"interestRateStrategyAddress\",\"type\":\"address\"}],\"name\":\"initReserve\",\"outputs\":[],\"stateMutability\":\"nonpayable\",\"type\":\"function\"},{\"inputs\":[{\"internalType\":\"contract ILendingPoolAddressesProvider\",\"name\":\"provider\",\"type\":\"address\"}],\"name\":\"initialize\",\"outputs\":[],\"stateMutability\":\"nonpayable\",\"type\":\"function\"},{\"inputs\":[{\"internalType\":\"address\",\"name\":\"collateralAsset\",\"type\":\"address\"},{\"internalType\":\"address\",\"name\":\"debtAsset\",\"type\":\"address\"},{\"internalType\":\"address\",\"name\":\"user\",\"type\":\"address\"},{\"internalType\":\"uint256\",\"name\":\"debtToCover\",\"type\":\"uint256\"},{\"internalType\":\"bool\",\"name\":\"receiveAToken\",\"type\":\"bool\"}],\"name\":\"liquidationCall\",\"outputs\":[],\"stateMutability\":\"nonpayable\",\"type\":\"function\"},{\"inputs\":[],\"name\":\"paused\",\"outputs\":[{\"internalType\":\"bool\",\"name\":\"\",\"type\":\"bool\"}],\"stateMutability\":\"view\",\"type\":\"function\"},{\"inputs\":[{\"internalType\":\"address\",\"name\":\"asset\",\"type\":\"address\"},{\"internalType\":\"address\",\"name\":\"user\",\"type\":\"address\"}],\"name\":\"rebalanceStableBorrowRate\",\"outputs\":[],\"stateMutability\":\"nonpayable\",\"type\":\"function\"},{\"inputs\":[{\"internalType\":\"address\",\"name\":\"asset\",\"type\":\"address\"},{\"internalType\":\"uint256\",\"name\":\"amount\",\"type\":\"uint256\"},{\"internalType\":\"uint256\",\"name\":\"rateMode\",\"type\":\"uint256\"},{\"internalType\":\"address\",\"name\":\"onBehalfOf\",\"type\":\"address\"}],\"name\":\"repay\",\"outputs\":[{\"internalType\":\"uint256\",\"name\":\"\",\"type\":\"uint256\"}],\"stateMutability\":\"nonpayable\",\"type\":\"function\"},{\"inputs\":[{\"internalType\":\"address\",\"name\":\"asset\",\"type\":\"address\"},{\"internalType\":\"uint256\",\"name\":\"configuration\",\"type\":\"uint256\"}],\"name\":\"setConfiguration\",\"outputs\":[],\"stateMutability\":\"nonpayable\",\"type\":\"function\"},{\"inputs\":[{\"internalType\":\"bool\",\"name\":\"val\",\"type\":\"bool\"}],\"name\":\"setPause\",\"outputs\":[],\"stateMutability\":\"nonpayable\",\"type\":\"function\"},{\"inputs\":[{\"internalType\":\"address\",\"name\":\"asset\",\"type\":\"address\"},{\"internalType\":\"address\",\"name\":\"rateStrategyAddress\",\"type\":\"address\"}],\"name\":\"setReserveInterestRateStrategyAddress\",\"outputs\":[],\"stateMutability\":\"nonpayable\",\"type\":\"function\"},{\"inputs\":[{\"internalType\":\"address\",\"name\":\"asset\",\"type\":\"address\"},{\"internalType\":\"bool\",\"name\":\"useAsCollateral\",\"type\":\"bool\"}],\"name\":\"setUserUseReserveAsCollateral\",\"outputs\":[],\"stateMutability\":\"nonpayable\",\"type\":\"function\"},{\"inputs\":[{\"internalType\":\"address\",\"name\":\"asset\",\"type\":\"address\"},{\"internalType\":\"uint256\",\"name\":\"rateMode\",\"type\":\"uint256\"}],\"name\":\"swapBorrowRateMode\",\"outputs\":[],\"stateMutability\":\"nonpayable\",\"type\":\"function\"},{\"inputs\":[{\"internalType\":\"address\",\"name\":\"asset\",\"type\":\"address\"},{\"internalType\":\"uint256\",\"name\":\"amount\",\"type\":\"uint256\"},{\"internalType\":\"address\",\"name\":\"to\",\"type\":\"address\"}],\"name\":\"withdraw\",\"outputs\":[{\"internalType\":\"uint256\",\"name\":\"\",\"type\":\"uint256\"}],\"stateMutability\":\"nonpayable\",\"type\":\"function\"}]\n",
        "'''"
      ],
      "metadata": {
        "id": "GXOotHCTthRL"
      },
      "execution_count": 20,
      "outputs": []
    },
    {
      "cell_type": "code",
      "source": [
        "# Info del pool\n",
        "# Conectamos con los contratos\n",
        "pool_contract = w3.eth.contract(address=lending_pool_address, abi=pool_abi)\n",
        "\n",
        "USDC_reserve_data=pool_contract.functions['getReserveData'](USDC_address).call()\n",
        "USDC_liquidity_index = USDC_reserve_data[1] / 10**18\n",
        "USDC_variable_borrow_index = USDC_reserve_data[2] / 10**18\n",
        "USDC_liquidity_rate = USDC_reserve_data[3] / 10**27\n",
        "USDC_variable_borrow_rate = USDC_reserve_data[4] / 10**27\n",
        "USDC_stable_borrow_rate = USDC_reserve_data[5] / 10**27\n",
        "wETH_reserve_data=pool_contract.functions['getReserveData'](wETH_address).call()\n",
        "wETH_liquidity_index = wETH_reserve_data[1] / 10**18\n",
        "wETH_variable_borrow_index = wETH_reserve_data[2] / 10**18\n",
        "wETH_liquidity_rate = wETH_reserve_data[3] / 10**27\n",
        "wETH_variable_borrow_rate = wETH_reserve_data[4] / 10**27\n",
        "wETH_stable_borrow_rate = wETH_reserve_data[5] / 10**27"
      ],
      "metadata": {
        "id": "IUhEX-KvtIXd"
      },
      "execution_count": 21,
      "outputs": []
    },
    {
      "cell_type": "markdown",
      "source": [
        "## Strategy and algorithmic idea\n"
      ],
      "metadata": {
        "id": "bvZFGxrg3qjZ"
      }
    },
    {
      "cell_type": "markdown",
      "source": [
        "1. Use the staked ETH to borrow 10% USDC from Aave (For example, $1000 worth of ETH staked to take out 100 USDC)\n",
        "\n",
        "2. Use the USDC to open a short position (preferably stop limit) on DyDx with 10x leverage (10 x 10 = 100% of staked ETH amount)\n",
        "\n",
        "3. Find a threshold to keep cashing out the short profit and adding it back to the collateral to prevent liquidation (Max borrow amount on Aave is 80%)"
      ],
      "metadata": {
        "id": "dpXBxTzV3tMf"
      }
    },
    {
      "cell_type": "markdown",
      "source": [
        "Let's define the intervals in which the price could fall. At first we will have the following fixed intervals. Although they could change as a function of the ETH volatility, but let's assume they are fixed in order to understand the procedure.\n",
        "\n",
        "- $I_{out} = [P_{trigger}, \\infty]$\n",
        "- $I_{trigger} = [P_{stop}, P_{trigger}]$\n",
        "- $I_{limit} = [P_{floor}, P_{stop}]$\n",
        "- $I_{entry} = [P_{LTV\\_AAVE}^{(0)}, P_{floor}]$\n",
        "- $I_i = [P_{LTV\\_AAVE}^{(i+1)}, P_{LTV\\_AAVE}^{(i)}]$\n",
        "\n",
        "Given that it isn't the same the direction from which the price enters into the intervals and that we should be aware of the interval in which the price falls (in order to know the actual border price and therefor being able to update all the parameters), we have to define a way track price movement direction. We will do this by defining\n",
        "\n",
        "- I_current: the current interval where the price is\n",
        "- I_previous: the interval where the last price read by the bot was\n",
        "- I_old: the last interval which was different than the current interval (we will use this to track price movement direction)\n",
        "\n",
        "So, \n",
        "\n",
        "- if I_previous = I_current we do nothing bc the price is just moving in this interval\n",
        "- if I_previous != I_current it means the price changed interval\n",
        "  \n",
        "  - if I_old < I_current it means the price is rising and we have two actions to take: Close the short position or Reduce collateral + Increase short size\n",
        "\n",
        "    - if I_old <= I_limit & I_current >= I_trigger (ie P >= P_stop and increasing) ---> Close the short position\n",
        "    [Note that we check the inequalities in order to contemplate price jumps]\n",
        "    - if I_old is in {I_i} (ie P is crossing the LTV intervals while increasing) ---> Reduce the AAVE collateral and increase the short_ETH postion.\n",
        "\n",
        "  - if I_old > I_current it means the price is decreasing and we have two actions to take: Open the short position or Reduce the short size + Increase collateral\n",
        "    - if I_old >= I_limit & I_current <= I_entry (ie P <= P_floor and decreasing) ---> Open the short position\n",
        "    - if I_current is in {I_i} (ie P is crossing the LTV intervals while decreasing) ---> Reduce the short_ETH position and increase the AAVE collateral.\n",
        "\n"
      ],
      "metadata": {
        "id": "RKmuRYnlrlpe"
      }
    },
    {
      "cell_type": "markdown",
      "source": [
        "For every new market price we have to check in which situation of the previous ones we are and update the parameters as follows\n",
        "\n",
        "- increase_collateral: We have to reduce the position in DyDx letting only the necessary to repay the debt and update all DyDx parameters, increase the colateral in AAVE by the $partial\\_pyl$ amount and update AAVE parameters. As we show next:\n",
        "  \\begin{align*}\n",
        "  \\large\\text{DyDx parameters} \\\\\n",
        "    size_{ETH} &\\leftarrow \\frac{Debt+fees}{P_{LTV\\_AVVE}-P_{entry\\_DyDx}} \\\\\n",
        "    equity &\\leftarrow Equity(size_{ETH}, P) \\\\\n",
        "    P_{Liquidation\\_DyDx} &\\leftarrow P\\_liquidation\\_DyDX\\_function(equity,P)\\\\\n",
        "    partial\\_pyl &\\leftarrow pyl(size_{ETH}\\_previous-size_{ETH},P) \\\\\n",
        "    partial\\_pyl\\_ETH &\\leftarrow partial\\_pyl / P\\\\\n",
        "  \\large\\text{AAVE parameters} \\\\\n",
        "    collateral\\_ETH &\\leftarrow collateral\\_ETH\\_previous + partial\\_pyl\\_ETH \\\\\n",
        "    LTV &\\leftarrow LTV\\_function(collateral\\_ETH, P) \\\\\n",
        "    P_{LTV\\_AAVE} &\\leftarrow P\\_liquidation\\_AAVE\\_function(P_{LTV\\_AAVE\\_previous}, size_{ETH}, r_L, r_B) \\\\\n",
        "  \\end{align*}\n",
        "\n",
        "- reduce_collateral: We have to reduce the collateral in AAVE and increase the position in DyDx, and update the parameters:\n",
        "  \\begin{align*}\n",
        "  \\large\\text{AAVE parameters} \\\\\n",
        "    stk &\\leftarrow stk\\_previous \\\\\n",
        "    P_{LTV\\_AAVE} &\\leftarrow P_{LTV\\_AAVE\\_previous}\\\\\n",
        "    LTV &\\leftarrow LTV(stk, P) \\\\\n",
        "  \\large\\text{DyDx parameters} \\\\\n",
        "    size_{ETH} &\\leftarrow size_{ETH}+ (stk\\_previous - stk)\\\\\n",
        "    equity &\\leftarrow Equity(size_{ETH}, P) \\\\\n",
        "    P_{Liquidation\\_DyDx} &\\leftarrow P\\_liquidation\\_DyDX\\_function(equity,P)\n",
        "  \\end{align*}"
      ],
      "metadata": {
        "id": "StOqyKIGqYwT"
      }
    },
    {
      "cell_type": "markdown",
      "source": [
        "## Algo"
      ],
      "metadata": {
        "id": "mucEWT2OHM8b"
      }
    },
    {
      "cell_type": "markdown",
      "source": [
        "### Initial Values"
      ],
      "metadata": {
        "id": "zuFjRVqdEa0q"
      }
    },
    {
      "cell_type": "markdown",
      "source": [
        "Let's start by defining the functions we'll use to update the parameters."
      ],
      "metadata": {
        "id": "TpDGcNTCIfmK"
      }
    },
    {
      "cell_type": "code",
      "source": [
        "# AAVE functions\n",
        "Coll_USD = lambda coll, P: coll * P\n",
        "fees_function = lambda coll,r_L, r_B: coll * (r_L-r_B * 0.1)\n",
        "LTV_function = lambda coll, P: Debt / Coll_USD(coll,P)\n",
        "\n",
        "# DyDx functions\n",
        "pnl = lambda size_ETH, P: size_ETH * (P-P_entry_DyDx)\n",
        "Notional = lambda size_ETH, P: abs(size_ETH)*P\n",
        "Equity = lambda size_ETH, P: margin + pnl(size_ETH,P)\n",
        "leverage = lambda size_ETH, P: Notional(size_ETH,P) / Equity(size_ETH, P)\n",
        "\n",
        "\n",
        "# AAVE LTV Limits and DyDx Liquidation Price\n",
        "P_LTV_AAVE_function = lambda previous_LTV_price, size_ETH, coll, r_L, r_B: previous_LTV_price - ( pnl(size_ETH, previous_LTV_price) + Debt + fees_function(coll, r_L,r_B) ) / coll\n",
        "P_liquidation_DyDx_function = lambda Equity, P: P * (1 + (maintenanceMarginFraction * Equity / Total_Maintenance_Margin_Requirement))\n",
        "P_to_cover_AAVE_debt_function = lambda size_ETH, coll, r_L, r_B, pcg_of_debt_to_cover: P_entry_DyDx + ( Debt + fees_function(coll, r_L, r_B) ) * pcg_of_debt_to_cover / size_ETH "
      ],
      "metadata": {
        "id": "pZCPSwMJhK1P"
      },
      "execution_count": 141,
      "outputs": []
    },
    {
      "cell_type": "markdown",
      "source": [
        "Let's look at the historical prices of ETH in order to find some relevant initial values for the parameters."
      ],
      "metadata": {
        "id": "RgUzxoId52B_"
      }
    },
    {
      "cell_type": "code",
      "source": [
        "fig, axs = plt.subplots(1,1, figsize = (21, 7))\n",
        "axs.plot(list(P_ETH), label = 'P_ETH', c = 'blue')\n",
        "axs.grid()\n",
        "axs.legend(loc = 'upper left')"
      ],
      "metadata": {
        "colab": {
          "base_uri": "https://localhost:8080/",
          "height": 445
        },
        "id": "WZM8MJWanUae",
        "outputId": "6d12c281-c6bc-41d5-a528-f093f2d36d15"
      },
      "execution_count": 23,
      "outputs": [
        {
          "output_type": "execute_result",
          "data": {
            "text/plain": [
              "<matplotlib.legend.Legend at 0x7fbf014cab10>"
            ]
          },
          "metadata": {},
          "execution_count": 23
        },
        {
          "output_type": "display_data",
          "data": {
            "text/plain": [
              "<Figure size 1512x504 with 1 Axes>"
            ],
            "image/png": "[encoded data removed]"
          },
          "metadata": {
            "needs_background": "light"
          }
        }
      ]
    },
    {
      "cell_type": "markdown",
      "source": [
        "Let's define first all the necessary parameters and functions. We need initial values for\n",
        "\n",
        "- Staked ETH = stk\n",
        "- P_floor\n",
        "- P_stop = P_floor * 1.01\n",
        "- P_trigger = P_floor * 1.05\n",
        "\n",
        "- AAVE_parameters: \n",
        "  - P_entry_AAVE ~ P_stop (ex P_stop * 1.001)\n",
        "  - Collateral in ETH = coll, \n",
        "  - Debt in USDC = Debt,\n",
        "  - LTV value = LTV, \n",
        "  - Price for LTV limit in AAVE = P_LTV_AAVE,\n",
        "  - Rates for lending ETH and borrowing USDC = r_L, r_B;\n",
        "\n",
        "- DyDx_parameters: \n",
        "  - P_entry_DyDx ~ P_floor (ex P_floor * 1.001)\n",
        "  - Short size in ETH = size_ETH,\n",
        "  - Margin = margin,\n",
        "  - Notional = notional,\n",
        "  - Equity = equity,\n",
        "  - leverage = leverage,\n",
        "  - Price for liquidation in DyDx = P_liquidation_DyDx."
      ],
      "metadata": {
        "id": "UPZeTAR1hHVS"
      }
    },
    {
      "cell_type": "markdown",
      "source": [
        "Let's try the algo with some test values. Again, just to try the algo we will define all the LTV price limits and DyDx liquidation prices in advance and as fixed. Later, they will be defined in real time and change dynamically as price changes."
      ],
      "metadata": {
        "id": "nRx0rbkSyQ9p"
      }
    },
    {
      "cell_type": "code",
      "source": [
        "# Staked ETH\n",
        "stk = 1\n",
        "\n",
        "P_floor = 1060\n",
        "P_stop = P_floor * 1.01\n",
        "P_trigger = P_floor * 1.05\n",
        "\n",
        "# AAVE parameters\n",
        "P_entry_AAVE = P_stop * 1.001\n",
        "coll = stk\n",
        "Debt = stk * P_entry_AAVE * 0.1\n",
        "LTV = LTV_function(coll,P_entry_AAVE)\n",
        "\n",
        "# For now let's use some fixed arbitrary values for P_LTV_AAVE in order to see if everything works. Changing this later wont be a problem as everything was thought to be variable\n",
        "P_LTV_AAVE = [round(P_entry_AAVE *0.99,3)]\n",
        "for i in range(5):\n",
        "  P_LTV_AAVE.append(round(P_LTV_AAVE[i] * 0.995,3))\n",
        "r_L = 0\n",
        "r_B = 0\n",
        "\n",
        "# DyDx parameters\n",
        "P_entry_DyDx = P_floor * 1.001\n",
        "size_ETH = -coll\n",
        "margin = Debt\n",
        "notional = Notional(size_ETH, P_entry_DyDx)\n",
        "equity = Equity(size_ETH, P_entry_DyDx)\n",
        "L = leverage(size_ETH, P_entry_DyDx)\n",
        "\n",
        "# For now let's use some fixed arbitrary values for P_liquidation_DyDx\n",
        "# P_liquidation_DyDx = [P_entry_DyDx *1.01]\n",
        "# for i in range(5):\n",
        "#   P_liquidation_DyDx.append(round(P_liquidation_DyDx[i] * 1.005,3))\n",
        "\n",
        "P_to_cover_AAVE_debt = P_to_cover_AAVE_debt_function(size_ETH, coll, r_B, r_L, 1.5)"
      ],
      "metadata": {
        "id": "b4NzDp-Q3Ad0"
      },
      "execution_count": 152,
      "outputs": []
    },
    {
      "cell_type": "code",
      "source": [
        "P_floor, P_stop, P_trigger, P_entry_AAVE, Debt, P_to_cover_AAVE_debt"
      ],
      "metadata": {
        "colab": {
          "base_uri": "https://localhost:8080/"
        },
        "id": "fM7VTYvEtBdK",
        "outputId": "2016103a-e6fa-4857-8989-99aa1422e372"
      },
      "execution_count": 154,
      "outputs": [
        {
          "output_type": "execute_result",
          "data": {
            "text/plain": [
              "(1060, 1070.6, 1113.0, 1071.6705999999997, 107.16705999999998, 900.30941)"
            ]
          },
          "metadata": {},
          "execution_count": 154
        }
      ]
    },
    {
      "cell_type": "code",
      "source": [
        "P_to_cover_AAVE_debt"
      ],
      "metadata": {
        "colab": {
          "base_uri": "https://localhost:8080/"
        },
        "id": "fa8A79-as2Cr",
        "outputId": "f78a2d7b-c007-4304-ccdd-ef902bee92af"
      },
      "execution_count": 150,
      "outputs": [
        {
          "output_type": "execute_result",
          "data": {
            "text/plain": [
              "900.30941"
            ]
          },
          "metadata": {},
          "execution_count": 150
        }
      ]
    },
    {
      "cell_type": "markdown",
      "source": [
        "We show that the prices crosses the relevant prices several times."
      ],
      "metadata": {
        "id": "Y38EQAV0UfbQ"
      }
    },
    {
      "cell_type": "code",
      "source": [
        "fig, axs = plt.subplots(1,1, figsize = (21, 7))\n",
        "axs.plot(list(P_ETH), label = 'P_ETH', c = 'blue')\n",
        "axs.axhline(y = P_floor, color = 'r', linestyle = '--', label = 'floor price')\n",
        "axs.axhline(y = P_stop, color = 'magenta', linestyle = '--', label = 'stop limit')\n",
        "axs.axhline(y = P_entry_DyDx, color = 'green', linestyle = '--', label = 'short entry price')\n",
        "for i in range(len(P_LTV_AAVE)):\n",
        "  p = P_LTV_AAVE[i]\n",
        "  axs.axhline(y = p, linestyle = '--', label = 'P_LTV_AAVE^'+str(i))\n",
        "axs.grid()\n",
        "axs.legend(loc = 'upper left')"
      ],
      "metadata": {
        "colab": {
          "base_uri": "https://localhost:8080/",
          "height": 445
        },
        "id": "jlRejFHi0TKz",
        "outputId": "c62f1669-5678-4167-b4b4-c85b3eea2e23"
      },
      "execution_count": 155,
      "outputs": [
        {
          "output_type": "execute_result",
          "data": {
            "text/plain": [
              "<matplotlib.legend.Legend at 0x7fbefa212f50>"
            ]
          },
          "metadata": {},
          "execution_count": 155
        },
        {
          "output_type": "display_data",
          "data": {
            "text/plain": [
              "<Figure size 1512x504 with 1 Axes>"
            ],
            "image/png": "[encoded data removed]"
          },
          "metadata": {
            "needs_background": "light"
          }
        }
      ]
    },
    {
      "cell_type": "code",
      "source": [
        "P_floor, P_stop, P_entry_DyDx"
      ],
      "metadata": {
        "colab": {
          "base_uri": "https://localhost:8080/"
        },
        "id": "FBxP_DzK0szg",
        "outputId": "d0830fb5-e725-4833-bee0-c7a35142489d"
      },
      "execution_count": 116,
      "outputs": [
        {
          "output_type": "execute_result",
          "data": {
            "text/plain": [
              "(1060, 1070.6, 1061.06)"
            ]
          },
          "metadata": {},
          "execution_count": 116
        }
      ]
    },
    {
      "cell_type": "markdown",
      "source": [
        "Let's define the initial values of AAVE and DyDx parameters. Take into account that the first market_price isn't exactly the first historical market price but the entry price for each."
      ],
      "metadata": {
        "id": "p40m1SXVUm3Z"
      }
    },
    {
      "cell_type": "code",
      "source": [
        "AAVE_parameters_initial = {'.market_price':P_entry_AAVE,\n",
        "                          #  '.interval': I_limit,\n",
        "                           'coll': coll,\n",
        "                           'Debt': Debt,\n",
        "                           'LTV': LTV,\n",
        "                           'P_LTV_AAVE': P_LTV_AAVE[0],\n",
        "                           'lend rate':0,\n",
        "                           'borrow rate':0}\n",
        "DyDx_parameters_initial = {'.market_price':P_entry_DyDx,\n",
        "                          #  '.interval': I_entry,\n",
        "                           'size_ETH': size_ETH,\n",
        "                           'equity': equity,\n",
        "                           'notional': notional,\n",
        "                           'leverage': L}\n",
        "                          #  'P_liquidation_DyDx': P_liquidation_DyDx[0]}\n",
        "AAVE_parameters_initial,DyDx_parameters_initial"
      ],
      "metadata": {
        "colab": {
          "base_uri": "https://localhost:8080/"
        },
        "id": "UB9AQfTYKigS",
        "outputId": "869b1617-a8c1-492b-a384-c9e004b1dd0d"
      },
      "execution_count": 144,
      "outputs": [
        {
          "output_type": "execute_result",
          "data": {
            "text/plain": [
              "({'.market_price': 1071.6705999999997,\n",
              "  'Debt': 10716.705999999998,\n",
              "  'LTV': 0.10000000000000002,\n",
              "  'P_LTV_AAVE': 1060.954,\n",
              "  'borrow rate': 0,\n",
              "  'coll': 100,\n",
              "  'lend rate': 0},\n",
              " {'.market_price': 1061.06,\n",
              "  'equity': 10716.705999999998,\n",
              "  'leverage': 9.900990099009903,\n",
              "  'notional': 106106.0,\n",
              "  'size_ETH': -100})"
            ]
          },
          "metadata": {},
          "execution_count": 144
        }
      ]
    },
    {
      "cell_type": "markdown",
      "source": [
        "Now we define all the intervals where price cuold fall. Note that we use math.inf as the right border of I_out to contemplate all prices above P_trigger."
      ],
      "metadata": {
        "id": "7oXfKBSIU2KN"
      }
    },
    {
      "cell_type": "code",
      "source": [
        "import math \n",
        "I_out = [P_trigger, math.inf]\n",
        "I_trigger = [P_stop, P_trigger]\n",
        "I_limit = [P_floor, P_stop]\n",
        "I_entry = [P_LTV_AAVE[0], P_floor]\n",
        "for i in range(len(P_LTV_AAVE)-1):\n",
        "  globals()[\"I_LTV_\" + str(i)] = [P_LTV_AAVE[i+1],P_LTV_AAVE[i]]\n",
        "globals()[\"I_LTV_\" + str(len(P_LTV_AAVE)-1)] = [0,P_LTV_AAVE[len(P_LTV_AAVE)-1]]\n",
        "# for i in range(len(P_liquidation_DyDx)-1):\n",
        "#   globals()[\"I_DyDx_\" + str(i)] = [P_liquidation_DyDx[i],P_liquidation_DyDx[i+1]]\n",
        "# globals()[\"I_\" + str(len(P_liquidation_DyDx)-1)] = [0,P_liquidation_DyDx[len(P_liquidation_DyDx)-1]]"
      ],
      "metadata": {
        "id": "gg741-oRxPmu"
      },
      "execution_count": 118,
      "outputs": []
    },
    {
      "cell_type": "code",
      "source": [
        "intervals = {}\n",
        "intervals[\"I_entry\"]=I_entry\n",
        "intervals[\"I_limit\"]=I_limit\n",
        "intervals[\"I_trigger\"]=I_trigger\n",
        "intervals[\"I_out\"]=I_out\n",
        "LTV_intervals = {}\n",
        "# DyDx_intervals = {}\n",
        "for i in range(len(P_LTV_AAVE)):\n",
        "  intervals[\"I_LTV_\" + str(i)]=globals()[\"I_LTV_\" + str(i)]\n",
        "  LTV_intervals[\"I_LTV_\" + str(i)]=globals()[\"I_LTV_\" + str(i)]\n",
        "# for i in range(len(P_liquidation_DyDx)-1):\n",
        "#   intervals[\"I_DyDx_\" + str(i)]=globals()[\"I_DyDx_\" + str(i)]\n",
        "#   DyDx_intervals[\"I_DyDx_\" + str(i)]=globals()[\"I_DyDx_\" + str(i)]"
      ],
      "metadata": {
        "id": "84LF1-2vnefI"
      },
      "execution_count": 119,
      "outputs": []
    },
    {
      "cell_type": "code",
      "source": [
        "LTV_intervals"
      ],
      "metadata": {
        "colab": {
          "base_uri": "https://localhost:8080/"
        },
        "id": "7n50lBkj_tid",
        "outputId": "6ea1c26c-077b-4986-d60f-6a69a0b14314"
      },
      "execution_count": 120,
      "outputs": [
        {
          "output_type": "execute_result",
          "data": {
            "text/plain": [
              "{'I_LTV_0': [1055.649, 1060.954],\n",
              " 'I_LTV_1': [1050.371, 1055.649],\n",
              " 'I_LTV_2': [1045.119, 1050.371],\n",
              " 'I_LTV_3': [1039.893, 1045.119],\n",
              " 'I_LTV_4': [1034.694, 1039.893],\n",
              " 'I_LTV_5': [0, 1034.694]}"
            ]
          },
          "metadata": {},
          "execution_count": 120
        }
      ]
    },
    {
      "cell_type": "code",
      "source": [
        "intervals"
      ],
      "metadata": {
        "colab": {
          "base_uri": "https://localhost:8080/"
        },
        "id": "ib4fjwCAn8ML",
        "outputId": "bb19f15c-3399-46e4-e5fa-47b89db708a8"
      },
      "execution_count": 121,
      "outputs": [
        {
          "output_type": "execute_result",
          "data": {
            "text/plain": [
              "{'I_LTV_0': [1055.649, 1060.954],\n",
              " 'I_LTV_1': [1050.371, 1055.649],\n",
              " 'I_LTV_2': [1045.119, 1050.371],\n",
              " 'I_LTV_3': [1039.893, 1045.119],\n",
              " 'I_LTV_4': [1034.694, 1039.893],\n",
              " 'I_LTV_5': [0, 1034.694],\n",
              " 'I_entry': [1060.954, 1060],\n",
              " 'I_limit': [1060, 1070.6],\n",
              " 'I_out': [1113.0, inf],\n",
              " 'I_trigger': [1070.6, 1113.0]}"
            ]
          },
          "metadata": {},
          "execution_count": 121
        }
      ]
    },
    {
      "cell_type": "markdown",
      "source": [
        "Now that we defined the intervals we can add the entry interval to the AAVE and DyDx dictionaries."
      ],
      "metadata": {
        "id": "yDQQX7kiVKZA"
      }
    },
    {
      "cell_type": "code",
      "source": [
        "AAVE_parameters_initial['.interval_name'] = 'I_trigger'\n",
        "DyDx_parameters_initial['.interval_name'] = 'I_limit'"
      ],
      "metadata": {
        "id": "qOgJgtBw-bvA"
      },
      "execution_count": 136,
      "outputs": []
    },
    {
      "cell_type": "markdown",
      "source": [
        "Let's now define a summary with the historical data. This is useful in order to run the algo. The 'interval_name' feature is just because is easier to understand the interval in which the price falls by reading its name than by remembering the interval values."
      ],
      "metadata": {
        "id": "im6loRJkVR-_"
      }
    },
    {
      "cell_type": "code",
      "source": [
        "summary = {'market_price': P_ETH,\n",
        "           'price_in_interval': [[0,0]]*len(P_ETH),\n",
        "           'interval_name': ['0']*len(P_ETH)}"
      ],
      "metadata": {
        "id": "KvW-T66fwzOl"
      },
      "execution_count": 123,
      "outputs": []
    },
    {
      "cell_type": "code",
      "source": [
        "for loc in range(len(summary['market_price'])):\n",
        "  P = summary['market_price'][loc]\n",
        "  for i in range(len(intervals.keys())):\n",
        "    if intervals[list(intervals.keys())[i]][0] < P <= intervals[list(intervals.keys())[i]][1]:\n",
        "      summary['price_in_interval'][loc] = intervals[list(intervals.keys())[i]]\n",
        "      summary['interval_name'][loc] = list(intervals.keys())[i]"
      ],
      "metadata": {
        "id": "9yD8Z-rcw0zE"
      },
      "execution_count": 124,
      "outputs": []
    },
    {
      "cell_type": "code",
      "source": [
        "summary_df = pd.DataFrame.from_dict(summary)\n",
        "summary_df.iloc[250:260]"
      ],
      "metadata": {
        "colab": {
          "base_uri": "https://localhost:8080/",
          "height": 394
        },
        "id": "gfmwUGRtpXQq",
        "outputId": "721588a0-ebbd-4c30-f368-3d4d976eaf40"
      },
      "execution_count": 125,
      "outputs": [
        {
          "output_type": "execute_result",
          "data": {
            "text/plain": [
              "                    market_price     price_in_interval interval_name\n",
              "timestamp                                                           \n",
              "2022-07-02 09:05:00      1041.06  [1039.893, 1045.119]       I_LTV_3\n",
              "2022-07-02 09:10:00      1043.66  [1039.893, 1045.119]       I_LTV_3\n",
              "2022-07-02 09:15:00      1041.19  [1039.893, 1045.119]       I_LTV_3\n",
              "2022-07-02 09:20:00      1037.64  [1034.694, 1039.893]       I_LTV_4\n",
              "2022-07-02 09:25:00      1030.88         [0, 1034.694]       I_LTV_5\n",
              "2022-07-02 09:30:00      1033.01         [0, 1034.694]       I_LTV_5\n",
              "2022-07-02 09:35:00      1035.44  [1034.694, 1039.893]       I_LTV_4\n",
              "2022-07-02 09:40:00      1033.64         [0, 1034.694]       I_LTV_5\n",
              "2022-07-02 09:45:00      1038.15  [1034.694, 1039.893]       I_LTV_4\n",
              "2022-07-02 09:50:00      1038.77  [1034.694, 1039.893]       I_LTV_4"
            ],
            "text/html": [
              "\n",
              "  <div id=\"df-dbd2d0c0-6270-4579-9543-cd33a5d7e062\">\n",
              "    <div class=\"colab-df-container\">\n",
              "      <div>\n",
              "<style scoped>\n",
              "    .dataframe tbody tr th:only-of-type {\n",
              "        vertical-align: middle;\n",
              "    }\n",
              "\n",
              "    .dataframe tbody tr th {\n",
              "        vertical-align: top;\n",
              "    }\n",
              "\n",
              "    .dataframe thead th {\n",
              "        text-align: right;\n",
              "    }\n",
              "</style>\n",
              "<table border=\"1\" class=\"dataframe\">\n",
              "  <thead>\n",
              "    <tr style=\"text-align: right;\">\n",
              "      <th></th>\n",
              "      <th>market_price</th>\n",
              "      <th>price_in_interval</th>\n",
              "      <th>interval_name</th>\n",
              "    </tr>\n",
              "    <tr>\n",
              "      <th>timestamp</th>\n",
              "      <th></th>\n",
              "      <th></th>\n",
              "      <th></th>\n",
              "    </tr>\n",
              "  </thead>\n",
              "  <tbody>\n",
              "    <tr>\n",
              "      <th>2022-07-02 09:05:00</th>\n",
              "      <td>1041.06</td>\n",
              "      <td>[1039.893, 1045.119]</td>\n",
              "      <td>I_LTV_3</td>\n",
              "    </tr>\n",
              "    <tr>\n",
              "      <th>2022-07-02 09:10:00</th>\n",
              "      <td>1043.66</td>\n",
              "      <td>[1039.893, 1045.119]</td>\n",
              "      <td>I_LTV_3</td>\n",
              "    </tr>\n",
              "    <tr>\n",
              "      <th>2022-07-02 09:15:00</th>\n",
              "      <td>1041.19</td>\n",
              "      <td>[1039.893, 1045.119]</td>\n",
              "      <td>I_LTV_3</td>\n",
              "    </tr>\n",
              "    <tr>\n",
              "      <th>2022-07-02 09:20:00</th>\n",
              "      <td>1037.64</td>\n",
              "      <td>[1034.694, 1039.893]</td>\n",
              "      <td>I_LTV_4</td>\n",
              "    </tr>\n",
              "    <tr>\n",
              "      <th>2022-07-02 09:25:00</th>\n",
              "      <td>1030.88</td>\n",
              "      <td>[0, 1034.694]</td>\n",
              "      <td>I_LTV_5</td>\n",
              "    </tr>\n",
              "    <tr>\n",
              "      <th>2022-07-02 09:30:00</th>\n",
              "      <td>1033.01</td>\n",
              "      <td>[0, 1034.694]</td>\n",
              "      <td>I_LTV_5</td>\n",
              "    </tr>\n",
              "    <tr>\n",
              "      <th>2022-07-02 09:35:00</th>\n",
              "      <td>1035.44</td>\n",
              "      <td>[1034.694, 1039.893]</td>\n",
              "      <td>I_LTV_4</td>\n",
              "    </tr>\n",
              "    <tr>\n",
              "      <th>2022-07-02 09:40:00</th>\n",
              "      <td>1033.64</td>\n",
              "      <td>[0, 1034.694]</td>\n",
              "      <td>I_LTV_5</td>\n",
              "    </tr>\n",
              "    <tr>\n",
              "      <th>2022-07-02 09:45:00</th>\n",
              "      <td>1038.15</td>\n",
              "      <td>[1034.694, 1039.893]</td>\n",
              "      <td>I_LTV_4</td>\n",
              "    </tr>\n",
              "    <tr>\n",
              "      <th>2022-07-02 09:50:00</th>\n",
              "      <td>1038.77</td>\n",
              "      <td>[1034.694, 1039.893]</td>\n",
              "      <td>I_LTV_4</td>\n",
              "    </tr>\n",
              "  </tbody>\n",
              "</table>\n",
              "</div>\n",
              "      <button class=\"colab-df-convert\" onclick=\"convertToInteractive('df-dbd2d0c0-6270-4579-9543-cd33a5d7e062')\"\n",
              "              title=\"Convert this dataframe to an interactive table.\"\n",
              "              style=\"display:none;\">\n",
              "        \n",
              "  <svg xmlns=\"http://www.w3.org/2000/svg\" height=\"24px\"viewBox=\"0 0 24 24\"\n",
              "       width=\"24px\">\n",
              "    <path d=\"M0 0h24v24H0V0z\" fill=\"none\"/>\n",
              "    <path d=\"M18.56 5.44l.94 2.06.94-2.06 2.06-.94-2.06-.94-.94-2.06-.94 2.06-2.06.94zm-11 1L8.5 8.5l.94-2.06 2.06-.94-2.06-.94L8.5 2.5l-.94 2.06-2.06.94zm10 10l.94 2.06.94-2.06 2.06-.94-2.06-.94-.94-2.06-.94 2.06-2.06.94z\"/><path d=\"M17.41 7.96l-1.37-1.37c-.4-.4-.92-.59-1.43-.59-.52 0-1.04.2-1.43.59L10.3 9.45l-7.72 7.72c-.78.78-.78 2.05 0 2.83L4 21.41c.39.39.9.59 1.41.59.51 0 1.02-.2 1.41-.59l7.78-7.78 2.81-2.81c.8-.78.8-2.07 0-2.86zM5.41 20L4 18.59l7.72-7.72 1.47 1.35L5.41 20z\"/>\n",
              "  </svg>\n",
              "      </button>\n",
              "      \n",
              "  <style>\n",
              "    .colab-df-container {\n",
              "      display:flex;\n",
              "      flex-wrap:wrap;\n",
              "      gap: 12px;\n",
              "    }\n",
              "\n",
              "    .colab-df-convert {\n",
              "      background-color: #E8F0FE;\n",
              "      border: none;\n",
              "      border-radius: 50%;\n",
              "      cursor: pointer;\n",
              "      display: none;\n",
              "      fill: #1967D2;\n",
              "      height: 32px;\n",
              "      padding: 0 0 0 0;\n",
              "      width: 32px;\n",
              "    }\n",
              "\n",
              "    .colab-df-convert:hover {\n",
              "      background-color: #E2EBFA;\n",
              "      box-shadow: 0px 1px 2px rgba(60, 64, 67, 0.3), 0px 1px 3px 1px rgba(60, 64, 67, 0.15);\n",
              "      fill: #174EA6;\n",
              "    }\n",
              "\n",
              "    [theme=dark] .colab-df-convert {\n",
              "      background-color: #3B4455;\n",
              "      fill: #D2E3FC;\n",
              "    }\n",
              "\n",
              "    [theme=dark] .colab-df-convert:hover {\n",
              "      background-color: #434B5C;\n",
              "      box-shadow: 0px 1px 3px 1px rgba(0, 0, 0, 0.15);\n",
              "      filter: drop-shadow(0px 1px 2px rgba(0, 0, 0, 0.3));\n",
              "      fill: #FFFFFF;\n",
              "    }\n",
              "  </style>\n",
              "\n",
              "      <script>\n",
              "        const buttonEl =\n",
              "          document.querySelector('#df-dbd2d0c0-6270-4579-9543-cd33a5d7e062 button.colab-df-convert');\n",
              "        buttonEl.style.display =\n",
              "          google.colab.kernel.accessAllowed ? 'block' : 'none';\n",
              "\n",
              "        async function convertToInteractive(key) {\n",
              "          const element = document.querySelector('#df-dbd2d0c0-6270-4579-9543-cd33a5d7e062');\n",
              "          const dataTable =\n",
              "            await google.colab.kernel.invokeFunction('convertToInteractive',\n",
              "                                                     [key], {});\n",
              "          if (!dataTable) return;\n",
              "\n",
              "          const docLinkHtml = 'Like what you see? Visit the ' +\n",
              "            '<a target=\"_blank\" href=https://colab.research.google.com/notebooks/data_table.ipynb>data table notebook</a>'\n",
              "            + ' to learn more about interactive tables.';\n",
              "          element.innerHTML = '';\n",
              "          dataTable['output_type'] = 'display_data';\n",
              "          await google.colab.output.renderOutput(dataTable, element);\n",
              "          const docLink = document.createElement('div');\n",
              "          docLink.innerHTML = docLinkHtml;\n",
              "          element.appendChild(docLink);\n",
              "        }\n",
              "      </script>\n",
              "    </div>\n",
              "  </div>\n",
              "  "
            ]
          },
          "metadata": {},
          "execution_count": 125
        }
      ]
    },
    {
      "cell_type": "markdown",
      "source": [
        "Something we have to figure out is the criteria for reducing the collateral once the price starts growing. In order to finish the modules with test values, what we do is the following. Once the price starts growing and it changed intervals we\n",
        "  - Find the last time the price was in I_current\n",
        "  - Update all the parameters using the values they had that last time\n",
        "So, the idea here is that as we start the strategy when price is moving down, by the time it starts going up it should fall in previously visited intervals. It means that if we can somehow store the old data, we can re-use it.\n",
        "\n",
        "In order to store data we will define one dictionary for AAVE and one for DyDx with all the historical parameters, and then we will convert them to dataframes (bc is easier to fill them up as the simulations moves forward). Note that we will also add two keys for\n",
        "  - market price: to have the history of the changes according to every price in our data\n",
        "  - interval: this is necessary to find the last time the price was in I_current (we will find in the AAVE historical data frame the indexes that matches with I_current, and for those indexes we will use the 'collateral' columns values).\n",
        "\n",
        "In the future these parameters will probably change for every new price."
      ],
      "metadata": {
        "id": "AsSKB37hP94X"
      }
    },
    {
      "cell_type": "code",
      "source": [
        "AAVE_historical = {'.market_price': P_ETH,\n",
        "                   '.interval_name': summary['interval_name'],\n",
        "                   'coll': [coll]*len(P_ETH),\n",
        "                   'Debt': [0] * len(P_ETH),\n",
        "                   'LTV': [LTV]*len(P_ETH),\n",
        "                   'P_LTV_AAVE': [P_LTV_AAVE[0]]*len(P_ETH),\n",
        "                   'lend rate':0*P_ETH,\n",
        "                   'borrow rate':0*P_ETH}\n",
        "DyDx_historical = {'.market_price':P_ETH,\n",
        "                   '.interval_name': summary['interval_name'],\n",
        "                   'size_ETH': 0*P_ETH,\n",
        "                   'equity': 0*P_ETH,\n",
        "                   'notional': 0*P_ETH,\n",
        "                   'leverage': 0*P_ETH}\n",
        "                  #  'P_liquidation_DyDx': 0*P_ETH}"
      ],
      "metadata": {
        "id": "g8lYP8M2xyBr"
      },
      "execution_count": 145,
      "outputs": []
    },
    {
      "cell_type": "code",
      "source": [
        "AAVE_historical_df = pd.DataFrame.from_dict(AAVE_historical)\n",
        "DyDx_historical_df = pd.DataFrame.from_dict(DyDx_historical)\n",
        "AAVE_historical_df.iloc[0] = AAVE_parameters_initial\n",
        "DyDx_historical_df.iloc[0] = DyDx_parameters_initial"
      ],
      "metadata": {
        "id": "cVtKJpW1yNSX"
      },
      "execution_count": 146,
      "outputs": []
    },
    {
      "cell_type": "code",
      "source": [
        "AAVE_historical_df"
      ],
      "metadata": {
        "colab": {
          "base_uri": "https://localhost:8080/",
          "height": 455
        },
        "id": "9XB1KVd7iY7y",
        "outputId": "73e3d19b-5d94-4e22-b7c7-23871462996e"
      },
      "execution_count": 147,
      "outputs": [
        {
          "output_type": "execute_result",
          "data": {
            "text/plain": [
              "                    .market_price .interval_name  coll       Debt  LTV  \\\n",
              "timestamp                                                                \n",
              "2022-07-01 12:15:00     1071.6706            NaN   100  10716.706  0.1   \n",
              "2022-07-01 12:20:00       1045.35        I_LTV_2   100      0.000  0.1   \n",
              "2022-07-01 12:25:00       1050.03        I_LTV_2   100      0.000  0.1   \n",
              "2022-07-01 12:30:00       1050.96        I_LTV_1   100      0.000  0.1   \n",
              "2022-07-01 12:35:00       1050.19        I_LTV_2   100      0.000  0.1   \n",
              "...                           ...            ...   ...        ...  ...   \n",
              "2022-07-08 10:30:00       1227.06          I_out   100      0.000  0.1   \n",
              "2022-07-08 10:35:00       1226.99          I_out   100      0.000  0.1   \n",
              "2022-07-08 10:40:00       1225.99          I_out   100      0.000  0.1   \n",
              "2022-07-08 10:40:00       1225.99          I_out   100      0.000  0.1   \n",
              "2022-07-08 10:45:00       1223.76          I_out   100      0.000  0.1   \n",
              "\n",
              "                     P_LTV_AAVE lend rate borrow rate  \n",
              "timestamp                                              \n",
              "2022-07-01 12:15:00    1060.954       0.0         0.0  \n",
              "2022-07-01 12:20:00    1060.954       0.0         0.0  \n",
              "2022-07-01 12:25:00    1060.954       0.0         0.0  \n",
              "2022-07-01 12:30:00    1060.954       0.0         0.0  \n",
              "2022-07-01 12:35:00    1060.954       0.0         0.0  \n",
              "...                         ...       ...         ...  \n",
              "2022-07-08 10:30:00    1060.954       0.0         0.0  \n",
              "2022-07-08 10:35:00    1060.954       0.0         0.0  \n",
              "2022-07-08 10:40:00    1060.954       0.0         0.0  \n",
              "2022-07-08 10:40:00    1060.954       0.0         0.0  \n",
              "2022-07-08 10:45:00    1060.954       0.0         0.0  \n",
              "\n",
              "[2000 rows x 8 columns]"
            ],
            "text/html": [
              "\n",
              "  <div id=\"df-80534398-3402-4b99-ae19-63abd27b064f\">\n",
              "    <div class=\"colab-df-container\">\n",
              "      <div>\n",
              "<style scoped>\n",
              "    .dataframe tbody tr th:only-of-type {\n",
              "        vertical-align: middle;\n",
              "    }\n",
              "\n",
              "    .dataframe tbody tr th {\n",
              "        vertical-align: top;\n",
              "    }\n",
              "\n",
              "    .dataframe thead th {\n",
              "        text-align: right;\n",
              "    }\n",
              "</style>\n",
              "<table border=\"1\" class=\"dataframe\">\n",
              "  <thead>\n",
              "    <tr style=\"text-align: right;\">\n",
              "      <th></th>\n",
              "      <th>.market_price</th>\n",
              "      <th>.interval_name</th>\n",
              "      <th>coll</th>\n",
              "      <th>Debt</th>\n",
              "      <th>LTV</th>\n",
              "      <th>P_LTV_AAVE</th>\n",
              "      <th>lend rate</th>\n",
              "      <th>borrow rate</th>\n",
              "    </tr>\n",
              "    <tr>\n",
              "      <th>timestamp</th>\n",
              "      <th></th>\n",
              "      <th></th>\n",
              "      <th></th>\n",
              "      <th></th>\n",
              "      <th></th>\n",
              "      <th></th>\n",
              "      <th></th>\n",
              "      <th></th>\n",
              "    </tr>\n",
              "  </thead>\n",
              "  <tbody>\n",
              "    <tr>\n",
              "      <th>2022-07-01 12:15:00</th>\n",
              "      <td>1071.6706</td>\n",
              "      <td>NaN</td>\n",
              "      <td>100</td>\n",
              "      <td>10716.706</td>\n",
              "      <td>0.1</td>\n",
              "      <td>1060.954</td>\n",
              "      <td>0.0</td>\n",
              "      <td>0.0</td>\n",
              "    </tr>\n",
              "    <tr>\n",
              "      <th>2022-07-01 12:20:00</th>\n",
              "      <td>1045.35</td>\n",
              "      <td>I_LTV_2</td>\n",
              "      <td>100</td>\n",
              "      <td>0.000</td>\n",
              "      <td>0.1</td>\n",
              "      <td>1060.954</td>\n",
              "      <td>0.0</td>\n",
              "      <td>0.0</td>\n",
              "    </tr>\n",
              "    <tr>\n",
              "      <th>2022-07-01 12:25:00</th>\n",
              "      <td>1050.03</td>\n",
              "      <td>I_LTV_2</td>\n",
              "      <td>100</td>\n",
              "      <td>0.000</td>\n",
              "      <td>0.1</td>\n",
              "      <td>1060.954</td>\n",
              "      <td>0.0</td>\n",
              "      <td>0.0</td>\n",
              "    </tr>\n",
              "    <tr>\n",
              "      <th>2022-07-01 12:30:00</th>\n",
              "      <td>1050.96</td>\n",
              "      <td>I_LTV_1</td>\n",
              "      <td>100</td>\n",
              "      <td>0.000</td>\n",
              "      <td>0.1</td>\n",
              "      <td>1060.954</td>\n",
              "      <td>0.0</td>\n",
              "      <td>0.0</td>\n",
              "    </tr>\n",
              "    <tr>\n",
              "      <th>2022-07-01 12:35:00</th>\n",
              "      <td>1050.19</td>\n",
              "      <td>I_LTV_2</td>\n",
              "      <td>100</td>\n",
              "      <td>0.000</td>\n",
              "      <td>0.1</td>\n",
              "      <td>1060.954</td>\n",
              "      <td>0.0</td>\n",
              "      <td>0.0</td>\n",
              "    </tr>\n",
              "    <tr>\n",
              "      <th>...</th>\n",
              "      <td>...</td>\n",
              "      <td>...</td>\n",
              "      <td>...</td>\n",
              "      <td>...</td>\n",
              "      <td>...</td>\n",
              "      <td>...</td>\n",
              "      <td>...</td>\n",
              "      <td>...</td>\n",
              "    </tr>\n",
              "    <tr>\n",
              "      <th>2022-07-08 10:30:00</th>\n",
              "      <td>1227.06</td>\n",
              "      <td>I_out</td>\n",
              "      <td>100</td>\n",
              "      <td>0.000</td>\n",
              "      <td>0.1</td>\n",
              "      <td>1060.954</td>\n",
              "      <td>0.0</td>\n",
              "      <td>0.0</td>\n",
              "    </tr>\n",
              "    <tr>\n",
              "      <th>2022-07-08 10:35:00</th>\n",
              "      <td>1226.99</td>\n",
              "      <td>I_out</td>\n",
              "      <td>100</td>\n",
              "      <td>0.000</td>\n",
              "      <td>0.1</td>\n",
              "      <td>1060.954</td>\n",
              "      <td>0.0</td>\n",
              "      <td>0.0</td>\n",
              "    </tr>\n",
              "    <tr>\n",
              "      <th>2022-07-08 10:40:00</th>\n",
              "      <td>1225.99</td>\n",
              "      <td>I_out</td>\n",
              "      <td>100</td>\n",
              "      <td>0.000</td>\n",
              "      <td>0.1</td>\n",
              "      <td>1060.954</td>\n",
              "      <td>0.0</td>\n",
              "      <td>0.0</td>\n",
              "    </tr>\n",
              "    <tr>\n",
              "      <th>2022-07-08 10:40:00</th>\n",
              "      <td>1225.99</td>\n",
              "      <td>I_out</td>\n",
              "      <td>100</td>\n",
              "      <td>0.000</td>\n",
              "      <td>0.1</td>\n",
              "      <td>1060.954</td>\n",
              "      <td>0.0</td>\n",
              "      <td>0.0</td>\n",
              "    </tr>\n",
              "    <tr>\n",
              "      <th>2022-07-08 10:45:00</th>\n",
              "      <td>1223.76</td>\n",
              "      <td>I_out</td>\n",
              "      <td>100</td>\n",
              "      <td>0.000</td>\n",
              "      <td>0.1</td>\n",
              "      <td>1060.954</td>\n",
              "      <td>0.0</td>\n",
              "      <td>0.0</td>\n",
              "    </tr>\n",
              "  </tbody>\n",
              "</table>\n",
              "<p>2000 rows × 8 columns</p>\n",
              "</div>\n",
              "      <button class=\"colab-df-convert\" onclick=\"convertToInteractive('df-80534398-3402-4b99-ae19-63abd27b064f')\"\n",
              "              title=\"Convert this dataframe to an interactive table.\"\n",
              "              style=\"display:none;\">\n",
              "        \n",
              "  <svg xmlns=\"http://www.w3.org/2000/svg\" height=\"24px\"viewBox=\"0 0 24 24\"\n",
              "       width=\"24px\">\n",
              "    <path d=\"M0 0h24v24H0V0z\" fill=\"none\"/>\n",
              "    <path d=\"M18.56 5.44l.94 2.06.94-2.06 2.06-.94-2.06-.94-.94-2.06-.94 2.06-2.06.94zm-11 1L8.5 8.5l.94-2.06 2.06-.94-2.06-.94L8.5 2.5l-.94 2.06-2.06.94zm10 10l.94 2.06.94-2.06 2.06-.94-2.06-.94-.94-2.06-.94 2.06-2.06.94z\"/><path d=\"M17.41 7.96l-1.37-1.37c-.4-.4-.92-.59-1.43-.59-.52 0-1.04.2-1.43.59L10.3 9.45l-7.72 7.72c-.78.78-.78 2.05 0 2.83L4 21.41c.39.39.9.59 1.41.59.51 0 1.02-.2 1.41-.59l7.78-7.78 2.81-2.81c.8-.78.8-2.07 0-2.86zM5.41 20L4 18.59l7.72-7.72 1.47 1.35L5.41 20z\"/>\n",
              "  </svg>\n",
              "      </button>\n",
              "      \n",
              "  <style>\n",
              "    .colab-df-container {\n",
              "      display:flex;\n",
              "      flex-wrap:wrap;\n",
              "      gap: 12px;\n",
              "    }\n",
              "\n",
              "    .colab-df-convert {\n",
              "      background-color: #E8F0FE;\n",
              "      border: none;\n",
              "      border-radius: 50%;\n",
              "      cursor: pointer;\n",
              "      display: none;\n",
              "      fill: #1967D2;\n",
              "      height: 32px;\n",
              "      padding: 0 0 0 0;\n",
              "      width: 32px;\n",
              "    }\n",
              "\n",
              "    .colab-df-convert:hover {\n",
              "      background-color: #E2EBFA;\n",
              "      box-shadow: 0px 1px 2px rgba(60, 64, 67, 0.3), 0px 1px 3px 1px rgba(60, 64, 67, 0.15);\n",
              "      fill: #174EA6;\n",
              "    }\n",
              "\n",
              "    [theme=dark] .colab-df-convert {\n",
              "      background-color: #3B4455;\n",
              "      fill: #D2E3FC;\n",
              "    }\n",
              "\n",
              "    [theme=dark] .colab-df-convert:hover {\n",
              "      background-color: #434B5C;\n",
              "      box-shadow: 0px 1px 3px 1px rgba(0, 0, 0, 0.15);\n",
              "      filter: drop-shadow(0px 1px 2px rgba(0, 0, 0, 0.3));\n",
              "      fill: #FFFFFF;\n",
              "    }\n",
              "  </style>\n",
              "\n",
              "      <script>\n",
              "        const buttonEl =\n",
              "          document.querySelector('#df-80534398-3402-4b99-ae19-63abd27b064f button.colab-df-convert');\n",
              "        buttonEl.style.display =\n",
              "          google.colab.kernel.accessAllowed ? 'block' : 'none';\n",
              "\n",
              "        async function convertToInteractive(key) {\n",
              "          const element = document.querySelector('#df-80534398-3402-4b99-ae19-63abd27b064f');\n",
              "          const dataTable =\n",
              "            await google.colab.kernel.invokeFunction('convertToInteractive',\n",
              "                                                     [key], {});\n",
              "          if (!dataTable) return;\n",
              "\n",
              "          const docLinkHtml = 'Like what you see? Visit the ' +\n",
              "            '<a target=\"_blank\" href=https://colab.research.google.com/notebooks/data_table.ipynb>data table notebook</a>'\n",
              "            + ' to learn more about interactive tables.';\n",
              "          element.innerHTML = '';\n",
              "          dataTable['output_type'] = 'display_data';\n",
              "          await google.colab.output.renderOutput(dataTable, element);\n",
              "          const docLink = document.createElement('div');\n",
              "          docLink.innerHTML = docLinkHtml;\n",
              "          element.appendChild(docLink);\n",
              "        }\n",
              "      </script>\n",
              "    </div>\n",
              "  </div>\n",
              "  "
            ]
          },
          "metadata": {},
          "execution_count": 147
        }
      ]
    },
    {
      "cell_type": "code",
      "source": [
        "DyDx_historical_df"
      ],
      "metadata": {
        "colab": {
          "base_uri": "https://localhost:8080/",
          "height": 455
        },
        "id": "Ov-gdbEm5rfW",
        "outputId": "ce14193a-2f98-48d3-852f-c246b08f4b9e"
      },
      "execution_count": 132,
      "outputs": [
        {
          "output_type": "execute_result",
          "data": {
            "text/plain": [
              "                    .market_price .interval_name size_ETH     equity  \\\n",
              "timestamp                                                              \n",
              "2022-07-01 12:15:00       1061.06        I_limit     -100  10716.706   \n",
              "2022-07-01 12:20:00       1045.35        I_LTV_2      0.0        0.0   \n",
              "2022-07-01 12:25:00       1050.03        I_LTV_2      0.0        0.0   \n",
              "2022-07-01 12:30:00       1050.96        I_LTV_1      0.0        0.0   \n",
              "2022-07-01 12:35:00       1050.19        I_LTV_2      0.0        0.0   \n",
              "...                           ...            ...      ...        ...   \n",
              "2022-07-08 10:30:00       1227.06          I_out      0.0        0.0   \n",
              "2022-07-08 10:35:00       1226.99          I_out      0.0        0.0   \n",
              "2022-07-08 10:40:00       1225.99          I_out      0.0        0.0   \n",
              "2022-07-08 10:40:00       1225.99          I_out      0.0        0.0   \n",
              "2022-07-08 10:45:00       1223.76          I_out      0.0        0.0   \n",
              "\n",
              "                     notional leverage  \n",
              "timestamp                               \n",
              "2022-07-01 12:15:00  106106.0  9.90099  \n",
              "2022-07-01 12:20:00       0.0      0.0  \n",
              "2022-07-01 12:25:00       0.0      0.0  \n",
              "2022-07-01 12:30:00       0.0      0.0  \n",
              "2022-07-01 12:35:00       0.0      0.0  \n",
              "...                       ...      ...  \n",
              "2022-07-08 10:30:00       0.0      0.0  \n",
              "2022-07-08 10:35:00       0.0      0.0  \n",
              "2022-07-08 10:40:00       0.0      0.0  \n",
              "2022-07-08 10:40:00       0.0      0.0  \n",
              "2022-07-08 10:45:00       0.0      0.0  \n",
              "\n",
              "[2000 rows x 6 columns]"
            ],
            "text/html": [
              "\n",
              "  <div id=\"df-bc8659fa-91d5-43f6-91f5-76a360ccb0fe\">\n",
              "    <div class=\"colab-df-container\">\n",
              "      <div>\n",
              "<style scoped>\n",
              "    .dataframe tbody tr th:only-of-type {\n",
              "        vertical-align: middle;\n",
              "    }\n",
              "\n",
              "    .dataframe tbody tr th {\n",
              "        vertical-align: top;\n",
              "    }\n",
              "\n",
              "    .dataframe thead th {\n",
              "        text-align: right;\n",
              "    }\n",
              "</style>\n",
              "<table border=\"1\" class=\"dataframe\">\n",
              "  <thead>\n",
              "    <tr style=\"text-align: right;\">\n",
              "      <th></th>\n",
              "      <th>.market_price</th>\n",
              "      <th>.interval_name</th>\n",
              "      <th>size_ETH</th>\n",
              "      <th>equity</th>\n",
              "      <th>notional</th>\n",
              "      <th>leverage</th>\n",
              "    </tr>\n",
              "    <tr>\n",
              "      <th>timestamp</th>\n",
              "      <th></th>\n",
              "      <th></th>\n",
              "      <th></th>\n",
              "      <th></th>\n",
              "      <th></th>\n",
              "      <th></th>\n",
              "    </tr>\n",
              "  </thead>\n",
              "  <tbody>\n",
              "    <tr>\n",
              "      <th>2022-07-01 12:15:00</th>\n",
              "      <td>1061.06</td>\n",
              "      <td>I_limit</td>\n",
              "      <td>-100</td>\n",
              "      <td>10716.706</td>\n",
              "      <td>106106.0</td>\n",
              "      <td>9.90099</td>\n",
              "    </tr>\n",
              "    <tr>\n",
              "      <th>2022-07-01 12:20:00</th>\n",
              "      <td>1045.35</td>\n",
              "      <td>I_LTV_2</td>\n",
              "      <td>0.0</td>\n",
              "      <td>0.0</td>\n",
              "      <td>0.0</td>\n",
              "      <td>0.0</td>\n",
              "    </tr>\n",
              "    <tr>\n",
              "      <th>2022-07-01 12:25:00</th>\n",
              "      <td>1050.03</td>\n",
              "      <td>I_LTV_2</td>\n",
              "      <td>0.0</td>\n",
              "      <td>0.0</td>\n",
              "      <td>0.0</td>\n",
              "      <td>0.0</td>\n",
              "    </tr>\n",
              "    <tr>\n",
              "      <th>2022-07-01 12:30:00</th>\n",
              "      <td>1050.96</td>\n",
              "      <td>I_LTV_1</td>\n",
              "      <td>0.0</td>\n",
              "      <td>0.0</td>\n",
              "      <td>0.0</td>\n",
              "      <td>0.0</td>\n",
              "    </tr>\n",
              "    <tr>\n",
              "      <th>2022-07-01 12:35:00</th>\n",
              "      <td>1050.19</td>\n",
              "      <td>I_LTV_2</td>\n",
              "      <td>0.0</td>\n",
              "      <td>0.0</td>\n",
              "      <td>0.0</td>\n",
              "      <td>0.0</td>\n",
              "    </tr>\n",
              "    <tr>\n",
              "      <th>...</th>\n",
              "      <td>...</td>\n",
              "      <td>...</td>\n",
              "      <td>...</td>\n",
              "      <td>...</td>\n",
              "      <td>...</td>\n",
              "      <td>...</td>\n",
              "    </tr>\n",
              "    <tr>\n",
              "      <th>2022-07-08 10:30:00</th>\n",
              "      <td>1227.06</td>\n",
              "      <td>I_out</td>\n",
              "      <td>0.0</td>\n",
              "      <td>0.0</td>\n",
              "      <td>0.0</td>\n",
              "      <td>0.0</td>\n",
              "    </tr>\n",
              "    <tr>\n",
              "      <th>2022-07-08 10:35:00</th>\n",
              "      <td>1226.99</td>\n",
              "      <td>I_out</td>\n",
              "      <td>0.0</td>\n",
              "      <td>0.0</td>\n",
              "      <td>0.0</td>\n",
              "      <td>0.0</td>\n",
              "    </tr>\n",
              "    <tr>\n",
              "      <th>2022-07-08 10:40:00</th>\n",
              "      <td>1225.99</td>\n",
              "      <td>I_out</td>\n",
              "      <td>0.0</td>\n",
              "      <td>0.0</td>\n",
              "      <td>0.0</td>\n",
              "      <td>0.0</td>\n",
              "    </tr>\n",
              "    <tr>\n",
              "      <th>2022-07-08 10:40:00</th>\n",
              "      <td>1225.99</td>\n",
              "      <td>I_out</td>\n",
              "      <td>0.0</td>\n",
              "      <td>0.0</td>\n",
              "      <td>0.0</td>\n",
              "      <td>0.0</td>\n",
              "    </tr>\n",
              "    <tr>\n",
              "      <th>2022-07-08 10:45:00</th>\n",
              "      <td>1223.76</td>\n",
              "      <td>I_out</td>\n",
              "      <td>0.0</td>\n",
              "      <td>0.0</td>\n",
              "      <td>0.0</td>\n",
              "      <td>0.0</td>\n",
              "    </tr>\n",
              "  </tbody>\n",
              "</table>\n",
              "<p>2000 rows × 6 columns</p>\n",
              "</div>\n",
              "      <button class=\"colab-df-convert\" onclick=\"convertToInteractive('df-bc8659fa-91d5-43f6-91f5-76a360ccb0fe')\"\n",
              "              title=\"Convert this dataframe to an interactive table.\"\n",
              "              style=\"display:none;\">\n",
              "        \n",
              "  <svg xmlns=\"http://www.w3.org/2000/svg\" height=\"24px\"viewBox=\"0 0 24 24\"\n",
              "       width=\"24px\">\n",
              "    <path d=\"M0 0h24v24H0V0z\" fill=\"none\"/>\n",
              "    <path d=\"M18.56 5.44l.94 2.06.94-2.06 2.06-.94-2.06-.94-.94-2.06-.94 2.06-2.06.94zm-11 1L8.5 8.5l.94-2.06 2.06-.94-2.06-.94L8.5 2.5l-.94 2.06-2.06.94zm10 10l.94 2.06.94-2.06 2.06-.94-2.06-.94-.94-2.06-.94 2.06-2.06.94z\"/><path d=\"M17.41 7.96l-1.37-1.37c-.4-.4-.92-.59-1.43-.59-.52 0-1.04.2-1.43.59L10.3 9.45l-7.72 7.72c-.78.78-.78 2.05 0 2.83L4 21.41c.39.39.9.59 1.41.59.51 0 1.02-.2 1.41-.59l7.78-7.78 2.81-2.81c.8-.78.8-2.07 0-2.86zM5.41 20L4 18.59l7.72-7.72 1.47 1.35L5.41 20z\"/>\n",
              "  </svg>\n",
              "      </button>\n",
              "      \n",
              "  <style>\n",
              "    .colab-df-container {\n",
              "      display:flex;\n",
              "      flex-wrap:wrap;\n",
              "      gap: 12px;\n",
              "    }\n",
              "\n",
              "    .colab-df-convert {\n",
              "      background-color: #E8F0FE;\n",
              "      border: none;\n",
              "      border-radius: 50%;\n",
              "      cursor: pointer;\n",
              "      display: none;\n",
              "      fill: #1967D2;\n",
              "      height: 32px;\n",
              "      padding: 0 0 0 0;\n",
              "      width: 32px;\n",
              "    }\n",
              "\n",
              "    .colab-df-convert:hover {\n",
              "      background-color: #E2EBFA;\n",
              "      box-shadow: 0px 1px 2px rgba(60, 64, 67, 0.3), 0px 1px 3px 1px rgba(60, 64, 67, 0.15);\n",
              "      fill: #174EA6;\n",
              "    }\n",
              "\n",
              "    [theme=dark] .colab-df-convert {\n",
              "      background-color: #3B4455;\n",
              "      fill: #D2E3FC;\n",
              "    }\n",
              "\n",
              "    [theme=dark] .colab-df-convert:hover {\n",
              "      background-color: #434B5C;\n",
              "      box-shadow: 0px 1px 3px 1px rgba(0, 0, 0, 0.15);\n",
              "      filter: drop-shadow(0px 1px 2px rgba(0, 0, 0, 0.3));\n",
              "      fill: #FFFFFF;\n",
              "    }\n",
              "  </style>\n",
              "\n",
              "      <script>\n",
              "        const buttonEl =\n",
              "          document.querySelector('#df-bc8659fa-91d5-43f6-91f5-76a360ccb0fe button.colab-df-convert');\n",
              "        buttonEl.style.display =\n",
              "          google.colab.kernel.accessAllowed ? 'block' : 'none';\n",
              "\n",
              "        async function convertToInteractive(key) {\n",
              "          const element = document.querySelector('#df-bc8659fa-91d5-43f6-91f5-76a360ccb0fe');\n",
              "          const dataTable =\n",
              "            await google.colab.kernel.invokeFunction('convertToInteractive',\n",
              "                                                     [key], {});\n",
              "          if (!dataTable) return;\n",
              "\n",
              "          const docLinkHtml = 'Like what you see? Visit the ' +\n",
              "            '<a target=\"_blank\" href=https://colab.research.google.com/notebooks/data_table.ipynb>data table notebook</a>'\n",
              "            + ' to learn more about interactive tables.';\n",
              "          element.innerHTML = '';\n",
              "          dataTable['output_type'] = 'display_data';\n",
              "          await google.colab.output.renderOutput(dataTable, element);\n",
              "          const docLink = document.createElement('div');\n",
              "          docLink.innerHTML = docLinkHtml;\n",
              "          element.appendChild(docLink);\n",
              "        }\n",
              "      </script>\n",
              "    </div>\n",
              "  </div>\n",
              "  "
            ]
          },
          "metadata": {},
          "execution_count": 132
        }
      ]
    },
    {
      "cell_type": "markdown",
      "source": [
        "### Modules"
      ],
      "metadata": {
        "id": "rpPcWyASEYcU"
      }
    },
    {
      "cell_type": "markdown",
      "source": [
        "Next we define a function to compare intervals. Note that if this function return False it is the same as beeing I_1 > I_2 because all the intervals are disjoint."
      ],
      "metadata": {
        "id": "UZuOtyM43v3E"
      }
    },
    {
      "cell_type": "code",
      "source": [
        "# note that if this function return False it is the same as beeing I_1 > I_2 because all the intervals are disjoint\n",
        "def is_lower(I_1, I_2):\n",
        "  if I_1[1] <= I_2[0]:\n",
        "    return True\n",
        "  else:\n",
        "    return False"
      ],
      "metadata": {
        "id": "z4yH1sRv2emm"
      },
      "execution_count": 39,
      "outputs": []
    },
    {
      "cell_type": "markdown",
      "source": [
        "Next, we define the different modules for the algo\n",
        "\n",
        "- stgy_1(): Will simulate the bot action for the historical data P\n",
        "- scenarios(): Will compare the intervals and return the updated parameters and values\n",
        "- update(): Will update the parameters and values with respect to the case scenario received from scenarios()."
      ],
      "metadata": {
        "id": "kGaItwXW3044"
      }
    },
    {
      "cell_type": "code",
      "source": [
        "def stgy_1(market_prices, intervals):\n",
        "  I_old = I_out\n",
        "  AAVE_parameters = AAVE_historical_df.iloc[0]\n",
        "  DyDx_parameters = DyDx_historical_df.iloc[0]\n",
        "  for i in range(1,len(market_prices)-1):\n",
        "    I_previous = intervals[i-1]\n",
        "    # P_previous = P[i-1]\n",
        "    I_current = intervals[i]\n",
        "    P = market_prices[i]\n",
        "    # We could pass the whole AAVE_historical_df, DyDx_historical_df as parameters for scenarios if necessary\n",
        "    AAVE_parameters_aux, DyDx_parameters_aux = scenarios(P,\n",
        "                                                 I_old, I_current,\n",
        "                                                 AAVE_historical_df.iloc[i-1], DyDx_historical_df.iloc[i-1])\n",
        "    AAVE_historical_df.iloc[i] = AAVE_parameters_aux\n",
        "    DyDx_historical_df.iloc[i] = DyDx_parameters_aux\n",
        "    if I_previous != I_current:\n",
        "      I_old = I_previous"
      ],
      "metadata": {
        "id": "wLibsOxzvxV4"
      },
      "execution_count": 62,
      "outputs": []
    },
    {
      "cell_type": "code",
      "source": [
        "def close_short(P, size_ETH):\n",
        "  short_status = False\n",
        "  return short_status, pnl(size_ETH, P)\n",
        "def open_short():\n",
        "  short_status = True\n",
        "  return short_status"
      ],
      "metadata": {
        "id": "Uz4b68Uf-Uha"
      },
      "execution_count": 41,
      "outputs": []
    },
    {
      "cell_type": "code",
      "source": [
        "intervals"
      ],
      "metadata": {
        "colab": {
          "base_uri": "https://localhost:8080/"
        },
        "id": "8fdn3u48mGcp",
        "outputId": "8c8a3e39-260c-43b6-b166-c538b79f0493"
      },
      "execution_count": 106,
      "outputs": [
        {
          "output_type": "execute_result",
          "data": {
            "text/plain": [
              "{'I_LTV_0': [1055.649, 1060.9538939999998],\n",
              " 'I_LTV_1': [1050.371, 1055.649],\n",
              " 'I_LTV_2': [1045.119, 1050.371],\n",
              " 'I_LTV_3': [1039.893, 1045.119],\n",
              " 'I_LTV_4': [1034.694, 1039.893],\n",
              " 'I_LTV_5': [0, 1034.694],\n",
              " 'I_entry': [1060.9538939999998, 1060],\n",
              " 'I_limit': [1060, 1070.6],\n",
              " 'I_out': [1113.0, inf],\n",
              " 'I_trigger': [1070.6, 1113.0]}"
            ]
          },
          "metadata": {},
          "execution_count": 106
        }
      ]
    },
    {
      "cell_type": "code",
      "source": [
        "def scenarios(P, # current values\n",
        "              I_old, I_current,\n",
        "              AAVE_parameters, DyDx_parameters): # intervals\n",
        "  p_AAVE, interval_AAVE, coll, Debt, LTV, P_LTV_AAVE, r_L, r_B = AAVE_parameters\n",
        "  p_DyDx, interval_DyDx, size_ETH, equity, notional, L = DyDx_parameters\n",
        "  # We update only the first two parameters\n",
        "  I_current_name = list(intervals.keys())[list(intervals.values()).index(I_current)]\n",
        "  DyDx_parameters = [P, I_current_name, size_ETH, equity, notional, L]\n",
        "  AAVE_parameters = [P, I_current_name, coll, Debt, LTV, P_LTV_AAVE, r_L, r_B]\n",
        "  # P increasing\n",
        "  # if I_old < I_current:\n",
        "  if is_lower(I_old, I_current):\n",
        "\n",
        "    # Case: Short position close\n",
        "    # if (I_old <= I_limit) & (I_current >= I_trigger):\n",
        "    if (is_lower(I_old, I_limit)) & (is_lower(I_trigger, I_current)):\n",
        "      short_status, DyDx_pnl = close_short(P, size_ETH)\n",
        "      # we update DyDx parameters as they became 0\n",
        "      # size_ETH, equity, notional, L, P_liquidation_DyDx = [0,0,0,0,0]\n",
        "      DyDx_parameters = [P, I_current_name, 0,0,0,0]\n",
        "      AAVE_parameters = [P, I_current_name, coll, Debt, LTV, P_LTV_AAVE, r_L, r_B]\n",
        "    \n",
        "    # We figured out that it isnt necessary to do nothing if price starts going up that's why we comment these lines\n",
        "    # elif I_old in LTV_intervals.values():\n",
        "    #   # AAVE_parameters, DyDx_parameters = update(coll, Debt, r_L, r_B, P_LTV_AAVE, # AAVE parameters\n",
        "    #   #        size_ETH, # DyDx parameter\n",
        "    #   #        case = \"reduce_collateral\") # Case\n",
        "    #   AAVE_parameters_aux, DyDx_parameters_aux = update(AAVE_parameters, DyDx_parameters,I_current,\n",
        "    #   case = \"reduce_collateral\") # Case\n",
        "    #   AAVE_parameters = AAVE_parameters_aux\n",
        "    #   AAVE_parameters[0] = P\n",
        "    #   AAVE_parameters[1] = I_current\n",
        "    #   DyDx_parameters = DyDx_parameters_aux\n",
        "    #   DyDx_parameters[0] = P\n",
        "    #   DyDx_parameters[1] = I_current\n",
        "   \n",
        "  # P decreasing\n",
        "  else:\n",
        "    # Case: Short position open\n",
        "    # if (I_old >= I_limit) & (I_current <= I_entry):\n",
        "    if (is_lower(I_limit, I_old)) & (is_lower(I_current, I_entry)):\n",
        "      short_status = open_short()\n",
        "      # we dont have to update any parameter\n",
        "      # AAVE_parameters[0] = P\n",
        "      # AAVE_parameters[1] = I_current\n",
        "      # DyDx_parameters[0] = P\n",
        "      # DyDx_parameters[1] = I_current\n",
        "    \n",
        "    # If price keeps falling we have to\n",
        "      # - pay the debt and release the stk ETH in AAVE as soon as our pnl is enough to cover it\n",
        "      # - manage our LTV limit\n",
        "    elif P <= P_to_cover_AAVE_debt:\n",
        "      AAVE_parameters_aux, DyDx_parameters_aux = pay_debt(P, AAVE_parameters, DyDx_parameters)\n",
        "      AVE_parameters = AAVE_parameters_aux\n",
        "      DyDx_parameters = DyDx_parameters_aux\n",
        "    elif (I_current in LTV_intervals.values()) & (Debt > 0):\n",
        "      # AAVE_parameters, DyDx_parameters = update(coll, Debt, r_L, r_B, P_LTV_AAVE, # AAVE parameters\n",
        "      #        size_ETH, # DyDx parameter\n",
        "      #        case = \"increase_collateral\") # Case\n",
        "      AAVE_parameters_aux, DyDx_parameters_aux = update(AAVE_parameters, DyDx_parameters,I_current,\n",
        "      case = \"increase_collateral\") # Case\n",
        "      AAVE_parameters = AAVE_parameters_aux\n",
        "      # AAVE_parameters[0] = P\n",
        "      # AAVE_parameters[1] = I_current\n",
        "      DyDx_parameters = DyDx_parameters_aux\n",
        "      # DyDx_parameters[0] = P\n",
        "      # DyDx_parameters[1] = I_current\n",
        "                                                \n",
        "  return AAVE_parameters, DyDx_parameters"
      ],
      "metadata": {
        "id": "pPulnpfFrtUn"
      },
      "execution_count": 157,
      "outputs": []
    },
    {
      "cell_type": "code",
      "source": [
        "def pay_debt(P, AAVE_parameters, DyDx_parameters):\n",
        "  p_AAVE, interval_AAVE, coll, Debt, LTV, P_LTV_AAVE, r_L, r_B = AAVE_parameters\n",
        "  p_DyDx, interval_DyDx, size_ETH, equity, notional, L = DyDx_parameters\n",
        "  #\n",
        "  fees = fees_function(coll, r_L, r_B)\n",
        "  new_size_ETH = (Debt + fees) / (P-P_entry_DyDx)\n",
        "  partial_pnl = pnl(size_ETH - new_size_ETH, P)\n",
        "  Debt = Debt + fees - partial_pnl\n",
        "  size_ETH = size_ETH - new_size_ETH\n",
        "  equity = Equity(size_ETH,P)\n",
        "  notional = Notional(size_ETH, P)\n",
        "  L = leverage(size_ETH, P)\n",
        "  # Note that a negative Debt is actually a profit\n",
        "  # We update the parameters\n",
        "  AAVE_parameters_aux = [p_AAVE, interval_AAVE, coll, Debt, LTV, P_LTV_AAVE, r_L, r_B]\n",
        "  DyDx_parameters_aux = [p_DyDx, interval_DyDx, size_ETH, equity, notional, L]\n",
        "\n",
        "  return AAVE_parameters_aux, DyDx_parameters_aux"
      ],
      "metadata": {
        "id": "Lxtlelmug_aA"
      },
      "execution_count": 156,
      "outputs": []
    },
    {
      "cell_type": "code",
      "source": [
        "def update(AAVE_parameters, DyDx_parameters,I_current,\n",
        "    #coll, Debt, r_L, r_B, P, # AAVE parameters\n",
        "     #       size_ETH,\n",
        "           case): # DyDx parameters\n",
        "  p_AAVE, interval_AAVE, coll, Debt, LTV, P_LTV_AAVE, r_L, r_B = AAVE_parameters\n",
        "  p_DyDx, interval_DyDx, size_ETH, equity, notional, L = DyDx_parameters\n",
        "  \n",
        "  if case == 'increase_collateral': \n",
        "    # we probably have to change P_LTV_AAVE for market_price, bc the bot could execute in a slightly diffent price than P_LTV_AAVE\n",
        "    # DyDx parameters first\n",
        "    size_ETH_old = size_ETH\n",
        "    size_ETH = (Debt + fees_function(coll, r_L, r_B)) / (P - P_entry_DyDx)\n",
        "    equity = Equity(size_ETH,P)\n",
        "    notional = Notional(size_ETH, P)\n",
        "    L = leverage(size_ETH, P)\n",
        "    # P_liquidation_DyDx = P_liquidation_DyDx_function(equity,P)\n",
        "    partial_pnl = pnl(size_ETH_old-size_ETH,P)\n",
        "    partial_pnl_ETH = partial_pnl / P\n",
        "\n",
        "    # AAVE parameter now\n",
        "    coll = coll+partial_pnl_ETH\n",
        "    LTV = LTV_function(coll, P)\n",
        "    P_LTV_AAVE = P_LTV_AAVE_function(P,size_ETH, coll, r_L,r_B)\n",
        "  \n",
        "  elif case == 'reduce_collateral':\n",
        "    # AAVE parameters first\n",
        "    # coll_usd_limit = Debt / 0.1\n",
        "    # coll_ETH_limit = coll_usd_limit / P\n",
        "    aux_coll = coll\n",
        "    # We set the next coll as the value it had the last time P \n",
        "    # AAVE_index_of_I_current = AAVE_historical_df.index[AAVE_historical_df['.interval'] == I_current].tolist() this doesn't work because I_current is a list and AAVE_historical_df is a df, we have to use list comprehension\n",
        "    AAVE_indexes_equal_I_current = [interval == I_current for interval in AAVE_historical_df['.interval']]\n",
        "    AAVE_index_of_I_current = AAVE_historical_df.index[AAVE_indexes_equal_I_current].tolist()\n",
        "    coll = AAVE_historical_df.loc[AAVE_index_of_I_current]['coll'][0]  \n",
        "    add_to_size_ETH = aux_coll - coll\n",
        "    P_LTV_AAVE = P\n",
        "    LTV = LTV_function(coll, P_LTV_AAVE) # \n",
        "\n",
        "    # DyDx parameters now\n",
        "    size_ETH = size_ETH + add_to_size_ETH\n",
        "    equity = Equity(size_ETH,P_LTV_AAVE)\n",
        "    # P_liquidation_DyDx = P_liquidation_DyDx_function(equity,P)\n",
        "\n",
        "  AAVE_parameters_aux = [p_AAVE, interval_AAVE, coll, Debt, LTV, P_LTV_AAVE, r_L, r_B]\n",
        "  DyDx_parameters_aux = [p_DyDx, interval_DyDx, size_ETH, equity, notional, L]\n",
        "\n",
        "  return AAVE_parameters_aux, DyDx_parameters_aux"
      ],
      "metadata": {
        "id": "t7mFW9cCXSze"
      },
      "execution_count": 110,
      "outputs": []
    },
    {
      "cell_type": "markdown",
      "source": [
        "### Simulations"
      ],
      "metadata": {
        "id": "Kpe3KOA1y92Z"
      }
    },
    {
      "cell_type": "markdown",
      "source": [
        "Let's run the algo using the summary we defined earlier."
      ],
      "metadata": {
        "id": "-ycqihGybM2W"
      }
    },
    {
      "cell_type": "code",
      "source": [
        "stgy_1(summary['market_price'],summary['price_in_interval'])"
      ],
      "metadata": {
        "id": "mARj0sbmY_i8"
      },
      "execution_count": 148,
      "outputs": []
    },
    {
      "cell_type": "code",
      "source": [
        "AAVE_historical_df"
      ],
      "metadata": {
        "colab": {
          "base_uri": "https://localhost:8080/",
          "height": 455
        },
        "id": "GBX2oa6emxyD",
        "outputId": "c09dbe01-f312-4f3f-ad01-38e339c86f98"
      },
      "execution_count": 149,
      "outputs": [
        {
          "output_type": "execute_result",
          "data": {
            "text/plain": [
              "                    .market_price .interval_name        coll       Debt  \\\n",
              "timestamp                                                                 \n",
              "2022-07-01 12:15:00     1071.6706            NaN  100.000000  10716.706   \n",
              "2022-07-01 12:20:00       1045.35        I_LTV_2  100.000000  10716.706   \n",
              "2022-07-01 12:25:00       1050.03        I_LTV_2  100.000000  10716.706   \n",
              "2022-07-01 12:30:00       1050.96        I_LTV_1  100.000000  10716.706   \n",
              "2022-07-01 12:35:00       1050.19        I_LTV_2   77.947714  10716.706   \n",
              "...                           ...            ...         ...        ...   \n",
              "2022-07-08 10:30:00       1227.06          I_out   77.947714  10716.706   \n",
              "2022-07-08 10:35:00       1226.99          I_out   77.947714  10716.706   \n",
              "2022-07-08 10:40:00       1225.99          I_out   77.947714  10716.706   \n",
              "2022-07-08 10:40:00       1225.99          I_out   77.947714  10716.706   \n",
              "2022-07-08 10:45:00       1223.76          I_out  100.000000      0.000   \n",
              "\n",
              "                          LTV   P_LTV_AAVE lend rate borrow rate  \n",
              "timestamp                                                         \n",
              "2022-07-01 12:15:00  0.100000  1060.954000       0.0         0.0  \n",
              "2022-07-01 12:20:00  0.100000  1060.954000       0.0         0.0  \n",
              "2022-07-01 12:25:00  0.100000  1060.954000       0.0         0.0  \n",
              "2022-07-01 12:30:00  0.100000  1060.954000       0.0         0.0  \n",
              "2022-07-01 12:35:00  0.112347   948.788343       0.0         0.0  \n",
              "...                       ...          ...       ...         ...  \n",
              "2022-07-08 10:30:00  0.112347   948.788343       0.0         0.0  \n",
              "2022-07-08 10:35:00  0.112347   948.788343       0.0         0.0  \n",
              "2022-07-08 10:40:00  0.112347   948.788343       0.0         0.0  \n",
              "2022-07-08 10:40:00  0.112347   948.788343       0.0         0.0  \n",
              "2022-07-08 10:45:00  0.100000  1060.954000       0.0         0.0  \n",
              "\n",
              "[2000 rows x 8 columns]"
            ],
            "text/html": [
              "\n",
              "  <div id=\"df-f6989fd7-f82d-4c7f-9ec4-760c892d1445\">\n",
              "    <div class=\"colab-df-container\">\n",
              "      <div>\n",
              "<style scoped>\n",
              "    .dataframe tbody tr th:only-of-type {\n",
              "        vertical-align: middle;\n",
              "    }\n",
              "\n",
              "    .dataframe tbody tr th {\n",
              "        vertical-align: top;\n",
              "    }\n",
              "\n",
              "    .dataframe thead th {\n",
              "        text-align: right;\n",
              "    }\n",
              "</style>\n",
              "<table border=\"1\" class=\"dataframe\">\n",
              "  <thead>\n",
              "    <tr style=\"text-align: right;\">\n",
              "      <th></th>\n",
              "      <th>.market_price</th>\n",
              "      <th>.interval_name</th>\n",
              "      <th>coll</th>\n",
              "      <th>Debt</th>\n",
              "      <th>LTV</th>\n",
              "      <th>P_LTV_AAVE</th>\n",
              "      <th>lend rate</th>\n",
              "      <th>borrow rate</th>\n",
              "    </tr>\n",
              "    <tr>\n",
              "      <th>timestamp</th>\n",
              "      <th></th>\n",
              "      <th></th>\n",
              "      <th></th>\n",
              "      <th></th>\n",
              "      <th></th>\n",
              "      <th></th>\n",
              "      <th></th>\n",
              "      <th></th>\n",
              "    </tr>\n",
              "  </thead>\n",
              "  <tbody>\n",
              "    <tr>\n",
              "      <th>2022-07-01 12:15:00</th>\n",
              "      <td>1071.6706</td>\n",
              "      <td>NaN</td>\n",
              "      <td>100.000000</td>\n",
              "      <td>10716.706</td>\n",
              "      <td>0.100000</td>\n",
              "      <td>1060.954000</td>\n",
              "      <td>0.0</td>\n",
              "      <td>0.0</td>\n",
              "    </tr>\n",
              "    <tr>\n",
              "      <th>2022-07-01 12:20:00</th>\n",
              "      <td>1045.35</td>\n",
              "      <td>I_LTV_2</td>\n",
              "      <td>100.000000</td>\n",
              "      <td>10716.706</td>\n",
              "      <td>0.100000</td>\n",
              "      <td>1060.954000</td>\n",
              "      <td>0.0</td>\n",
              "      <td>0.0</td>\n",
              "    </tr>\n",
              "    <tr>\n",
              "      <th>2022-07-01 12:25:00</th>\n",
              "      <td>1050.03</td>\n",
              "      <td>I_LTV_2</td>\n",
              "      <td>100.000000</td>\n",
              "      <td>10716.706</td>\n",
              "      <td>0.100000</td>\n",
              "      <td>1060.954000</td>\n",
              "      <td>0.0</td>\n",
              "      <td>0.0</td>\n",
              "    </tr>\n",
              "    <tr>\n",
              "      <th>2022-07-01 12:30:00</th>\n",
              "      <td>1050.96</td>\n",
              "      <td>I_LTV_1</td>\n",
              "      <td>100.000000</td>\n",
              "      <td>10716.706</td>\n",
              "      <td>0.100000</td>\n",
              "      <td>1060.954000</td>\n",
              "      <td>0.0</td>\n",
              "      <td>0.0</td>\n",
              "    </tr>\n",
              "    <tr>\n",
              "      <th>2022-07-01 12:35:00</th>\n",
              "      <td>1050.19</td>\n",
              "      <td>I_LTV_2</td>\n",
              "      <td>77.947714</td>\n",
              "      <td>10716.706</td>\n",
              "      <td>0.112347</td>\n",
              "      <td>948.788343</td>\n",
              "      <td>0.0</td>\n",
              "      <td>0.0</td>\n",
              "    </tr>\n",
              "    <tr>\n",
              "      <th>...</th>\n",
              "      <td>...</td>\n",
              "      <td>...</td>\n",
              "      <td>...</td>\n",
              "      <td>...</td>\n",
              "      <td>...</td>\n",
              "      <td>...</td>\n",
              "      <td>...</td>\n",
              "      <td>...</td>\n",
              "    </tr>\n",
              "    <tr>\n",
              "      <th>2022-07-08 10:30:00</th>\n",
              "      <td>1227.06</td>\n",
              "      <td>I_out</td>\n",
              "      <td>77.947714</td>\n",
              "      <td>10716.706</td>\n",
              "      <td>0.112347</td>\n",
              "      <td>948.788343</td>\n",
              "      <td>0.0</td>\n",
              "      <td>0.0</td>\n",
              "    </tr>\n",
              "    <tr>\n",
              "      <th>2022-07-08 10:35:00</th>\n",
              "      <td>1226.99</td>\n",
              "      <td>I_out</td>\n",
              "      <td>77.947714</td>\n",
              "      <td>10716.706</td>\n",
              "      <td>0.112347</td>\n",
              "      <td>948.788343</td>\n",
              "      <td>0.0</td>\n",
              "      <td>0.0</td>\n",
              "    </tr>\n",
              "    <tr>\n",
              "      <th>2022-07-08 10:40:00</th>\n",
              "      <td>1225.99</td>\n",
              "      <td>I_out</td>\n",
              "      <td>77.947714</td>\n",
              "      <td>10716.706</td>\n",
              "      <td>0.112347</td>\n",
              "      <td>948.788343</td>\n",
              "      <td>0.0</td>\n",
              "      <td>0.0</td>\n",
              "    </tr>\n",
              "    <tr>\n",
              "      <th>2022-07-08 10:40:00</th>\n",
              "      <td>1225.99</td>\n",
              "      <td>I_out</td>\n",
              "      <td>77.947714</td>\n",
              "      <td>10716.706</td>\n",
              "      <td>0.112347</td>\n",
              "      <td>948.788343</td>\n",
              "      <td>0.0</td>\n",
              "      <td>0.0</td>\n",
              "    </tr>\n",
              "    <tr>\n",
              "      <th>2022-07-08 10:45:00</th>\n",
              "      <td>1223.76</td>\n",
              "      <td>I_out</td>\n",
              "      <td>100.000000</td>\n",
              "      <td>0.000</td>\n",
              "      <td>0.100000</td>\n",
              "      <td>1060.954000</td>\n",
              "      <td>0.0</td>\n",
              "      <td>0.0</td>\n",
              "    </tr>\n",
              "  </tbody>\n",
              "</table>\n",
              "<p>2000 rows × 8 columns</p>\n",
              "</div>\n",
              "      <button class=\"colab-df-convert\" onclick=\"convertToInteractive('df-f6989fd7-f82d-4c7f-9ec4-760c892d1445')\"\n",
              "              title=\"Convert this dataframe to an interactive table.\"\n",
              "              style=\"display:none;\">\n",
              "        \n",
              "  <svg xmlns=\"http://www.w3.org/2000/svg\" height=\"24px\"viewBox=\"0 0 24 24\"\n",
              "       width=\"24px\">\n",
              "    <path d=\"M0 0h24v24H0V0z\" fill=\"none\"/>\n",
              "    <path d=\"M18.56 5.44l.94 2.06.94-2.06 2.06-.94-2.06-.94-.94-2.06-.94 2.06-2.06.94zm-11 1L8.5 8.5l.94-2.06 2.06-.94-2.06-.94L8.5 2.5l-.94 2.06-2.06.94zm10 10l.94 2.06.94-2.06 2.06-.94-2.06-.94-.94-2.06-.94 2.06-2.06.94z\"/><path d=\"M17.41 7.96l-1.37-1.37c-.4-.4-.92-.59-1.43-.59-.52 0-1.04.2-1.43.59L10.3 9.45l-7.72 7.72c-.78.78-.78 2.05 0 2.83L4 21.41c.39.39.9.59 1.41.59.51 0 1.02-.2 1.41-.59l7.78-7.78 2.81-2.81c.8-.78.8-2.07 0-2.86zM5.41 20L4 18.59l7.72-7.72 1.47 1.35L5.41 20z\"/>\n",
              "  </svg>\n",
              "      </button>\n",
              "      \n",
              "  <style>\n",
              "    .colab-df-container {\n",
              "      display:flex;\n",
              "      flex-wrap:wrap;\n",
              "      gap: 12px;\n",
              "    }\n",
              "\n",
              "    .colab-df-convert {\n",
              "      background-color: #E8F0FE;\n",
              "      border: none;\n",
              "      border-radius: 50%;\n",
              "      cursor: pointer;\n",
              "      display: none;\n",
              "      fill: #1967D2;\n",
              "      height: 32px;\n",
              "      padding: 0 0 0 0;\n",
              "      width: 32px;\n",
              "    }\n",
              "\n",
              "    .colab-df-convert:hover {\n",
              "      background-color: #E2EBFA;\n",
              "      box-shadow: 0px 1px 2px rgba(60, 64, 67, 0.3), 0px 1px 3px 1px rgba(60, 64, 67, 0.15);\n",
              "      fill: #174EA6;\n",
              "    }\n",
              "\n",
              "    [theme=dark] .colab-df-convert {\n",
              "      background-color: #3B4455;\n",
              "      fill: #D2E3FC;\n",
              "    }\n",
              "\n",
              "    [theme=dark] .colab-df-convert:hover {\n",
              "      background-color: #434B5C;\n",
              "      box-shadow: 0px 1px 3px 1px rgba(0, 0, 0, 0.15);\n",
              "      filter: drop-shadow(0px 1px 2px rgba(0, 0, 0, 0.3));\n",
              "      fill: #FFFFFF;\n",
              "    }\n",
              "  </style>\n",
              "\n",
              "      <script>\n",
              "        const buttonEl =\n",
              "          document.querySelector('#df-f6989fd7-f82d-4c7f-9ec4-760c892d1445 button.colab-df-convert');\n",
              "        buttonEl.style.display =\n",
              "          google.colab.kernel.accessAllowed ? 'block' : 'none';\n",
              "\n",
              "        async function convertToInteractive(key) {\n",
              "          const element = document.querySelector('#df-f6989fd7-f82d-4c7f-9ec4-760c892d1445');\n",
              "          const dataTable =\n",
              "            await google.colab.kernel.invokeFunction('convertToInteractive',\n",
              "                                                     [key], {});\n",
              "          if (!dataTable) return;\n",
              "\n",
              "          const docLinkHtml = 'Like what you see? Visit the ' +\n",
              "            '<a target=\"_blank\" href=https://colab.research.google.com/notebooks/data_table.ipynb>data table notebook</a>'\n",
              "            + ' to learn more about interactive tables.';\n",
              "          element.innerHTML = '';\n",
              "          dataTable['output_type'] = 'display_data';\n",
              "          await google.colab.output.renderOutput(dataTable, element);\n",
              "          const docLink = document.createElement('div');\n",
              "          docLink.innerHTML = docLinkHtml;\n",
              "          element.appendChild(docLink);\n",
              "        }\n",
              "      </script>\n",
              "    </div>\n",
              "  </div>\n",
              "  "
            ]
          },
          "metadata": {},
          "execution_count": 149
        }
      ]
    },
    {
      "cell_type": "code",
      "source": [
        "DyDx_historical_df"
      ],
      "metadata": {
        "colab": {
          "base_uri": "https://localhost:8080/",
          "height": 455
        },
        "id": "ojNJUhKwk1lK",
        "outputId": "eee619ff-b9fd-42ea-a2b0-68d4cc3f4f8c"
      },
      "execution_count": 112,
      "outputs": [
        {
          "output_type": "execute_result",
          "data": {
            "text/plain": [
              "                    .market_price .interval_name    size_ETH     equity  \\\n",
              "timestamp                                                                 \n",
              "2022-07-01 12:15:00       1061.06        I_limit        -100  10716.706   \n",
              "2022-07-01 12:20:00       1045.35        I_LTV_2        -100  10716.706   \n",
              "2022-07-01 12:25:00       1050.03        I_LTV_2        -100  10716.706   \n",
              "2022-07-01 12:30:00       1050.96        I_LTV_1        -100  10716.706   \n",
              "2022-07-01 12:35:00       1050.19        I_LTV_2 -985.897516  21433.412   \n",
              "...                           ...            ...         ...        ...   \n",
              "2022-07-08 10:30:00       1227.06          I_out  198.531049  21433.412   \n",
              "2022-07-08 10:35:00       1226.99          I_out  198.531049  21433.412   \n",
              "2022-07-08 10:40:00       1225.99          I_out  198.531049  21433.412   \n",
              "2022-07-08 10:40:00       1225.99          I_out  198.531049  21433.412   \n",
              "2022-07-08 10:45:00       1223.76          I_out         0.0        0.0   \n",
              "\n",
              "                           notional   leverage  \n",
              "timestamp                                       \n",
              "2022-07-01 12:15:00        106106.0    9.90099  \n",
              "2022-07-01 12:20:00        106106.0    9.90099  \n",
              "2022-07-01 12:25:00        106106.0    9.90099  \n",
              "2022-07-01 12:30:00        106106.0    9.90099  \n",
              "2022-07-01 12:35:00  1035379.712432  48.306808  \n",
              "...                             ...        ...  \n",
              "2022-07-08 10:30:00    221370.06036   10.32827  \n",
              "2022-07-08 10:35:00    221370.06036   10.32827  \n",
              "2022-07-08 10:40:00    221370.06036   10.32827  \n",
              "2022-07-08 10:40:00    221370.06036   10.32827  \n",
              "2022-07-08 10:45:00             0.0        0.0  \n",
              "\n",
              "[2000 rows x 6 columns]"
            ],
            "text/html": [
              "\n",
              "  <div id=\"df-f2e25b39-d07e-48df-a1c1-d87c04b5c451\">\n",
              "    <div class=\"colab-df-container\">\n",
              "      <div>\n",
              "<style scoped>\n",
              "    .dataframe tbody tr th:only-of-type {\n",
              "        vertical-align: middle;\n",
              "    }\n",
              "\n",
              "    .dataframe tbody tr th {\n",
              "        vertical-align: top;\n",
              "    }\n",
              "\n",
              "    .dataframe thead th {\n",
              "        text-align: right;\n",
              "    }\n",
              "</style>\n",
              "<table border=\"1\" class=\"dataframe\">\n",
              "  <thead>\n",
              "    <tr style=\"text-align: right;\">\n",
              "      <th></th>\n",
              "      <th>.market_price</th>\n",
              "      <th>.interval_name</th>\n",
              "      <th>size_ETH</th>\n",
              "      <th>equity</th>\n",
              "      <th>notional</th>\n",
              "      <th>leverage</th>\n",
              "    </tr>\n",
              "    <tr>\n",
              "      <th>timestamp</th>\n",
              "      <th></th>\n",
              "      <th></th>\n",
              "      <th></th>\n",
              "      <th></th>\n",
              "      <th></th>\n",
              "      <th></th>\n",
              "    </tr>\n",
              "  </thead>\n",
              "  <tbody>\n",
              "    <tr>\n",
              "      <th>2022-07-01 12:15:00</th>\n",
              "      <td>1061.06</td>\n",
              "      <td>I_limit</td>\n",
              "      <td>-100</td>\n",
              "      <td>10716.706</td>\n",
              "      <td>106106.0</td>\n",
              "      <td>9.90099</td>\n",
              "    </tr>\n",
              "    <tr>\n",
              "      <th>2022-07-01 12:20:00</th>\n",
              "      <td>1045.35</td>\n",
              "      <td>I_LTV_2</td>\n",
              "      <td>-100</td>\n",
              "      <td>10716.706</td>\n",
              "      <td>106106.0</td>\n",
              "      <td>9.90099</td>\n",
              "    </tr>\n",
              "    <tr>\n",
              "      <th>2022-07-01 12:25:00</th>\n",
              "      <td>1050.03</td>\n",
              "      <td>I_LTV_2</td>\n",
              "      <td>-100</td>\n",
              "      <td>10716.706</td>\n",
              "      <td>106106.0</td>\n",
              "      <td>9.90099</td>\n",
              "    </tr>\n",
              "    <tr>\n",
              "      <th>2022-07-01 12:30:00</th>\n",
              "      <td>1050.96</td>\n",
              "      <td>I_LTV_1</td>\n",
              "      <td>-100</td>\n",
              "      <td>10716.706</td>\n",
              "      <td>106106.0</td>\n",
              "      <td>9.90099</td>\n",
              "    </tr>\n",
              "    <tr>\n",
              "      <th>2022-07-01 12:35:00</th>\n",
              "      <td>1050.19</td>\n",
              "      <td>I_LTV_2</td>\n",
              "      <td>-985.897516</td>\n",
              "      <td>21433.412</td>\n",
              "      <td>1035379.712432</td>\n",
              "      <td>48.306808</td>\n",
              "    </tr>\n",
              "    <tr>\n",
              "      <th>...</th>\n",
              "      <td>...</td>\n",
              "      <td>...</td>\n",
              "      <td>...</td>\n",
              "      <td>...</td>\n",
              "      <td>...</td>\n",
              "      <td>...</td>\n",
              "    </tr>\n",
              "    <tr>\n",
              "      <th>2022-07-08 10:30:00</th>\n",
              "      <td>1227.06</td>\n",
              "      <td>I_out</td>\n",
              "      <td>198.531049</td>\n",
              "      <td>21433.412</td>\n",
              "      <td>221370.06036</td>\n",
              "      <td>10.32827</td>\n",
              "    </tr>\n",
              "    <tr>\n",
              "      <th>2022-07-08 10:35:00</th>\n",
              "      <td>1226.99</td>\n",
              "      <td>I_out</td>\n",
              "      <td>198.531049</td>\n",
              "      <td>21433.412</td>\n",
              "      <td>221370.06036</td>\n",
              "      <td>10.32827</td>\n",
              "    </tr>\n",
              "    <tr>\n",
              "      <th>2022-07-08 10:40:00</th>\n",
              "      <td>1225.99</td>\n",
              "      <td>I_out</td>\n",
              "      <td>198.531049</td>\n",
              "      <td>21433.412</td>\n",
              "      <td>221370.06036</td>\n",
              "      <td>10.32827</td>\n",
              "    </tr>\n",
              "    <tr>\n",
              "      <th>2022-07-08 10:40:00</th>\n",
              "      <td>1225.99</td>\n",
              "      <td>I_out</td>\n",
              "      <td>198.531049</td>\n",
              "      <td>21433.412</td>\n",
              "      <td>221370.06036</td>\n",
              "      <td>10.32827</td>\n",
              "    </tr>\n",
              "    <tr>\n",
              "      <th>2022-07-08 10:45:00</th>\n",
              "      <td>1223.76</td>\n",
              "      <td>I_out</td>\n",
              "      <td>0.0</td>\n",
              "      <td>0.0</td>\n",
              "      <td>0.0</td>\n",
              "      <td>0.0</td>\n",
              "    </tr>\n",
              "  </tbody>\n",
              "</table>\n",
              "<p>2000 rows × 6 columns</p>\n",
              "</div>\n",
              "      <button class=\"colab-df-convert\" onclick=\"convertToInteractive('df-f2e25b39-d07e-48df-a1c1-d87c04b5c451')\"\n",
              "              title=\"Convert this dataframe to an interactive table.\"\n",
              "              style=\"display:none;\">\n",
              "        \n",
              "  <svg xmlns=\"http://www.w3.org/2000/svg\" height=\"24px\"viewBox=\"0 0 24 24\"\n",
              "       width=\"24px\">\n",
              "    <path d=\"M0 0h24v24H0V0z\" fill=\"none\"/>\n",
              "    <path d=\"M18.56 5.44l.94 2.06.94-2.06 2.06-.94-2.06-.94-.94-2.06-.94 2.06-2.06.94zm-11 1L8.5 8.5l.94-2.06 2.06-.94-2.06-.94L8.5 2.5l-.94 2.06-2.06.94zm10 10l.94 2.06.94-2.06 2.06-.94-2.06-.94-.94-2.06-.94 2.06-2.06.94z\"/><path d=\"M17.41 7.96l-1.37-1.37c-.4-.4-.92-.59-1.43-.59-.52 0-1.04.2-1.43.59L10.3 9.45l-7.72 7.72c-.78.78-.78 2.05 0 2.83L4 21.41c.39.39.9.59 1.41.59.51 0 1.02-.2 1.41-.59l7.78-7.78 2.81-2.81c.8-.78.8-2.07 0-2.86zM5.41 20L4 18.59l7.72-7.72 1.47 1.35L5.41 20z\"/>\n",
              "  </svg>\n",
              "      </button>\n",
              "      \n",
              "  <style>\n",
              "    .colab-df-container {\n",
              "      display:flex;\n",
              "      flex-wrap:wrap;\n",
              "      gap: 12px;\n",
              "    }\n",
              "\n",
              "    .colab-df-convert {\n",
              "      background-color: #E8F0FE;\n",
              "      border: none;\n",
              "      border-radius: 50%;\n",
              "      cursor: pointer;\n",
              "      display: none;\n",
              "      fill: #1967D2;\n",
              "      height: 32px;\n",
              "      padding: 0 0 0 0;\n",
              "      width: 32px;\n",
              "    }\n",
              "\n",
              "    .colab-df-convert:hover {\n",
              "      background-color: #E2EBFA;\n",
              "      box-shadow: 0px 1px 2px rgba(60, 64, 67, 0.3), 0px 1px 3px 1px rgba(60, 64, 67, 0.15);\n",
              "      fill: #174EA6;\n",
              "    }\n",
              "\n",
              "    [theme=dark] .colab-df-convert {\n",
              "      background-color: #3B4455;\n",
              "      fill: #D2E3FC;\n",
              "    }\n",
              "\n",
              "    [theme=dark] .colab-df-convert:hover {\n",
              "      background-color: #434B5C;\n",
              "      box-shadow: 0px 1px 3px 1px rgba(0, 0, 0, 0.15);\n",
              "      filter: drop-shadow(0px 1px 2px rgba(0, 0, 0, 0.3));\n",
              "      fill: #FFFFFF;\n",
              "    }\n",
              "  </style>\n",
              "\n",
              "      <script>\n",
              "        const buttonEl =\n",
              "          document.querySelector('#df-f2e25b39-d07e-48df-a1c1-d87c04b5c451 button.colab-df-convert');\n",
              "        buttonEl.style.display =\n",
              "          google.colab.kernel.accessAllowed ? 'block' : 'none';\n",
              "\n",
              "        async function convertToInteractive(key) {\n",
              "          const element = document.querySelector('#df-f2e25b39-d07e-48df-a1c1-d87c04b5c451');\n",
              "          const dataTable =\n",
              "            await google.colab.kernel.invokeFunction('convertToInteractive',\n",
              "                                                     [key], {});\n",
              "          if (!dataTable) return;\n",
              "\n",
              "          const docLinkHtml = 'Like what you see? Visit the ' +\n",
              "            '<a target=\"_blank\" href=https://colab.research.google.com/notebooks/data_table.ipynb>data table notebook</a>'\n",
              "            + ' to learn more about interactive tables.';\n",
              "          element.innerHTML = '';\n",
              "          dataTable['output_type'] = 'display_data';\n",
              "          await google.colab.output.renderOutput(dataTable, element);\n",
              "          const docLink = document.createElement('div');\n",
              "          docLink.innerHTML = docLinkHtml;\n",
              "          element.appendChild(docLink);\n",
              "        }\n",
              "      </script>\n",
              "    </div>\n",
              "  </div>\n",
              "  "
            ]
          },
          "metadata": {},
          "execution_count": 112
        }
      ]
    },
    {
      "cell_type": "markdown",
      "source": [
        "Let's now define a plot function to see how our parameters evolve as price changes."
      ],
      "metadata": {
        "id": "nlxbkJrgbUsF"
      }
    },
    {
      "cell_type": "code",
      "source": [
        "def plot_(P, intervals):\n",
        "  stgy_1(P,intervals)\n",
        "  pnl_ = pnl(list(DyDx_historical_df['size_ETH']), P)\n",
        "  fig, axs = plt.subplots(1,1, figsize = (21, 7))\n",
        "  axs.plot(list(P), label = 'market price')\n",
        "  axs.plot(list(pnl_), label = 'DyDx pnl')\n",
        "  axs.grid()\n",
        "  axs.legend(loc = 'lower left')"
      ],
      "metadata": {
        "id": "_-RLuCq9ZN-A"
      },
      "execution_count": 45,
      "outputs": []
    },
    {
      "cell_type": "code",
      "source": [
        "DyDx_historical_df"
      ],
      "metadata": {
        "colab": {
          "base_uri": "https://localhost:8080/",
          "height": 455
        },
        "id": "5JwTllLUcCKB",
        "outputId": "7cd33045-e345-4efa-9c4d-bd6fdbb434f7"
      },
      "execution_count": 46,
      "outputs": [
        {
          "output_type": "execute_result",
          "data": {
            "text/plain": [
              "                    .market_price             .interval   size_ETH     equity  \\\n",
              "timestamp                                                                       \n",
              "2022-07-01 12:15:00       1061.06        [1060, 1070.6]       -100  10716.706   \n",
              "2022-07-01 12:20:00       1045.35  [1045.119, 1050.371]       -100  10716.706   \n",
              "2022-07-01 12:25:00       1050.03  [1045.119, 1050.371]       -100  10716.706   \n",
              "2022-07-01 12:30:00       1050.96  [1050.371, 1055.649]       -100  10716.706   \n",
              "2022-07-01 12:35:00       1050.19  [1045.119, 1050.371]  65.867892  21433.412   \n",
              "...                           ...                   ...        ...        ...   \n",
              "2022-07-08 10:30:00       1227.06         [1113.0, inf]  65.867892  21433.412   \n",
              "2022-07-08 10:35:00       1226.99         [1113.0, inf]  65.867892  21433.412   \n",
              "2022-07-08 10:40:00       1225.99         [1113.0, inf]  65.867892  21433.412   \n",
              "2022-07-08 10:40:00       1225.99         [1113.0, inf]  65.867892  21433.412   \n",
              "2022-07-08 10:45:00       1223.76         [1113.0, inf]        0.0        0.0   \n",
              "\n",
              "                       notional  leverage P_liquidation_DyDx  \n",
              "timestamp                                                     \n",
              "2022-07-01 12:15:00    106106.0   9.90099          1071.6706  \n",
              "2022-07-01 12:20:00    106106.0   9.90099          1071.6706  \n",
              "2022-07-01 12:25:00    106106.0   9.90099          1071.6706  \n",
              "2022-07-01 12:30:00    106106.0   9.90099          1071.6706  \n",
              "2022-07-01 12:35:00  80606.4913  3.760787        4187.822388  \n",
              "...                         ...       ...                ...  \n",
              "2022-07-08 10:30:00  80606.4913  3.760787        4187.822388  \n",
              "2022-07-08 10:35:00  80606.4913  3.760787        4187.822388  \n",
              "2022-07-08 10:40:00  80606.4913  3.760787        4187.822388  \n",
              "2022-07-08 10:40:00  80606.4913  3.760787        4187.822388  \n",
              "2022-07-08 10:45:00         0.0       0.0                0.0  \n",
              "\n",
              "[2000 rows x 7 columns]"
            ],
            "text/html": [
              "\n",
              "  <div id=\"df-eee2f9fb-3311-4e10-a708-d0867a3d6a64\">\n",
              "    <div class=\"colab-df-container\">\n",
              "      <div>\n",
              "<style scoped>\n",
              "    .dataframe tbody tr th:only-of-type {\n",
              "        vertical-align: middle;\n",
              "    }\n",
              "\n",
              "    .dataframe tbody tr th {\n",
              "        vertical-align: top;\n",
              "    }\n",
              "\n",
              "    .dataframe thead th {\n",
              "        text-align: right;\n",
              "    }\n",
              "</style>\n",
              "<table border=\"1\" class=\"dataframe\">\n",
              "  <thead>\n",
              "    <tr style=\"text-align: right;\">\n",
              "      <th></th>\n",
              "      <th>.market_price</th>\n",
              "      <th>.interval</th>\n",
              "      <th>size_ETH</th>\n",
              "      <th>equity</th>\n",
              "      <th>notional</th>\n",
              "      <th>leverage</th>\n",
              "      <th>P_liquidation_DyDx</th>\n",
              "    </tr>\n",
              "    <tr>\n",
              "      <th>timestamp</th>\n",
              "      <th></th>\n",
              "      <th></th>\n",
              "      <th></th>\n",
              "      <th></th>\n",
              "      <th></th>\n",
              "      <th></th>\n",
              "      <th></th>\n",
              "    </tr>\n",
              "  </thead>\n",
              "  <tbody>\n",
              "    <tr>\n",
              "      <th>2022-07-01 12:15:00</th>\n",
              "      <td>1061.06</td>\n",
              "      <td>[1060, 1070.6]</td>\n",
              "      <td>-100</td>\n",
              "      <td>10716.706</td>\n",
              "      <td>106106.0</td>\n",
              "      <td>9.90099</td>\n",
              "      <td>1071.6706</td>\n",
              "    </tr>\n",
              "    <tr>\n",
              "      <th>2022-07-01 12:20:00</th>\n",
              "      <td>1045.35</td>\n",
              "      <td>[1045.119, 1050.371]</td>\n",
              "      <td>-100</td>\n",
              "      <td>10716.706</td>\n",
              "      <td>106106.0</td>\n",
              "      <td>9.90099</td>\n",
              "      <td>1071.6706</td>\n",
              "    </tr>\n",
              "    <tr>\n",
              "      <th>2022-07-01 12:25:00</th>\n",
              "      <td>1050.03</td>\n",
              "      <td>[1045.119, 1050.371]</td>\n",
              "      <td>-100</td>\n",
              "      <td>10716.706</td>\n",
              "      <td>106106.0</td>\n",
              "      <td>9.90099</td>\n",
              "      <td>1071.6706</td>\n",
              "    </tr>\n",
              "    <tr>\n",
              "      <th>2022-07-01 12:30:00</th>\n",
              "      <td>1050.96</td>\n",
              "      <td>[1050.371, 1055.649]</td>\n",
              "      <td>-100</td>\n",
              "      <td>10716.706</td>\n",
              "      <td>106106.0</td>\n",
              "      <td>9.90099</td>\n",
              "      <td>1071.6706</td>\n",
              "    </tr>\n",
              "    <tr>\n",
              "      <th>2022-07-01 12:35:00</th>\n",
              "      <td>1050.19</td>\n",
              "      <td>[1045.119, 1050.371]</td>\n",
              "      <td>65.867892</td>\n",
              "      <td>21433.412</td>\n",
              "      <td>80606.4913</td>\n",
              "      <td>3.760787</td>\n",
              "      <td>4187.822388</td>\n",
              "    </tr>\n",
              "    <tr>\n",
              "      <th>...</th>\n",
              "      <td>...</td>\n",
              "      <td>...</td>\n",
              "      <td>...</td>\n",
              "      <td>...</td>\n",
              "      <td>...</td>\n",
              "      <td>...</td>\n",
              "      <td>...</td>\n",
              "    </tr>\n",
              "    <tr>\n",
              "      <th>2022-07-08 10:30:00</th>\n",
              "      <td>1227.06</td>\n",
              "      <td>[1113.0, inf]</td>\n",
              "      <td>65.867892</td>\n",
              "      <td>21433.412</td>\n",
              "      <td>80606.4913</td>\n",
              "      <td>3.760787</td>\n",
              "      <td>4187.822388</td>\n",
              "    </tr>\n",
              "    <tr>\n",
              "      <th>2022-07-08 10:35:00</th>\n",
              "      <td>1226.99</td>\n",
              "      <td>[1113.0, inf]</td>\n",
              "      <td>65.867892</td>\n",
              "      <td>21433.412</td>\n",
              "      <td>80606.4913</td>\n",
              "      <td>3.760787</td>\n",
              "      <td>4187.822388</td>\n",
              "    </tr>\n",
              "    <tr>\n",
              "      <th>2022-07-08 10:40:00</th>\n",
              "      <td>1225.99</td>\n",
              "      <td>[1113.0, inf]</td>\n",
              "      <td>65.867892</td>\n",
              "      <td>21433.412</td>\n",
              "      <td>80606.4913</td>\n",
              "      <td>3.760787</td>\n",
              "      <td>4187.822388</td>\n",
              "    </tr>\n",
              "    <tr>\n",
              "      <th>2022-07-08 10:40:00</th>\n",
              "      <td>1225.99</td>\n",
              "      <td>[1113.0, inf]</td>\n",
              "      <td>65.867892</td>\n",
              "      <td>21433.412</td>\n",
              "      <td>80606.4913</td>\n",
              "      <td>3.760787</td>\n",
              "      <td>4187.822388</td>\n",
              "    </tr>\n",
              "    <tr>\n",
              "      <th>2022-07-08 10:45:00</th>\n",
              "      <td>1223.76</td>\n",
              "      <td>[1113.0, inf]</td>\n",
              "      <td>0.0</td>\n",
              "      <td>0.0</td>\n",
              "      <td>0.0</td>\n",
              "      <td>0.0</td>\n",
              "      <td>0.0</td>\n",
              "    </tr>\n",
              "  </tbody>\n",
              "</table>\n",
              "<p>2000 rows × 7 columns</p>\n",
              "</div>\n",
              "      <button class=\"colab-df-convert\" onclick=\"convertToInteractive('df-eee2f9fb-3311-4e10-a708-d0867a3d6a64')\"\n",
              "              title=\"Convert this dataframe to an interactive table.\"\n",
              "              style=\"display:none;\">\n",
              "        \n",
              "  <svg xmlns=\"http://www.w3.org/2000/svg\" height=\"24px\"viewBox=\"0 0 24 24\"\n",
              "       width=\"24px\">\n",
              "    <path d=\"M0 0h24v24H0V0z\" fill=\"none\"/>\n",
              "    <path d=\"M18.56 5.44l.94 2.06.94-2.06 2.06-.94-2.06-.94-.94-2.06-.94 2.06-2.06.94zm-11 1L8.5 8.5l.94-2.06 2.06-.94-2.06-.94L8.5 2.5l-.94 2.06-2.06.94zm10 10l.94 2.06.94-2.06 2.06-.94-2.06-.94-.94-2.06-.94 2.06-2.06.94z\"/><path d=\"M17.41 7.96l-1.37-1.37c-.4-.4-.92-.59-1.43-.59-.52 0-1.04.2-1.43.59L10.3 9.45l-7.72 7.72c-.78.78-.78 2.05 0 2.83L4 21.41c.39.39.9.59 1.41.59.51 0 1.02-.2 1.41-.59l7.78-7.78 2.81-2.81c.8-.78.8-2.07 0-2.86zM5.41 20L4 18.59l7.72-7.72 1.47 1.35L5.41 20z\"/>\n",
              "  </svg>\n",
              "      </button>\n",
              "      \n",
              "  <style>\n",
              "    .colab-df-container {\n",
              "      display:flex;\n",
              "      flex-wrap:wrap;\n",
              "      gap: 12px;\n",
              "    }\n",
              "\n",
              "    .colab-df-convert {\n",
              "      background-color: #E8F0FE;\n",
              "      border: none;\n",
              "      border-radius: 50%;\n",
              "      cursor: pointer;\n",
              "      display: none;\n",
              "      fill: #1967D2;\n",
              "      height: 32px;\n",
              "      padding: 0 0 0 0;\n",
              "      width: 32px;\n",
              "    }\n",
              "\n",
              "    .colab-df-convert:hover {\n",
              "      background-color: #E2EBFA;\n",
              "      box-shadow: 0px 1px 2px rgba(60, 64, 67, 0.3), 0px 1px 3px 1px rgba(60, 64, 67, 0.15);\n",
              "      fill: #174EA6;\n",
              "    }\n",
              "\n",
              "    [theme=dark] .colab-df-convert {\n",
              "      background-color: #3B4455;\n",
              "      fill: #D2E3FC;\n",
              "    }\n",
              "\n",
              "    [theme=dark] .colab-df-convert:hover {\n",
              "      background-color: #434B5C;\n",
              "      box-shadow: 0px 1px 3px 1px rgba(0, 0, 0, 0.15);\n",
              "      filter: drop-shadow(0px 1px 2px rgba(0, 0, 0, 0.3));\n",
              "      fill: #FFFFFF;\n",
              "    }\n",
              "  </style>\n",
              "\n",
              "      <script>\n",
              "        const buttonEl =\n",
              "          document.querySelector('#df-eee2f9fb-3311-4e10-a708-d0867a3d6a64 button.colab-df-convert');\n",
              "        buttonEl.style.display =\n",
              "          google.colab.kernel.accessAllowed ? 'block' : 'none';\n",
              "\n",
              "        async function convertToInteractive(key) {\n",
              "          const element = document.querySelector('#df-eee2f9fb-3311-4e10-a708-d0867a3d6a64');\n",
              "          const dataTable =\n",
              "            await google.colab.kernel.invokeFunction('convertToInteractive',\n",
              "                                                     [key], {});\n",
              "          if (!dataTable) return;\n",
              "\n",
              "          const docLinkHtml = 'Like what you see? Visit the ' +\n",
              "            '<a target=\"_blank\" href=https://colab.research.google.com/notebooks/data_table.ipynb>data table notebook</a>'\n",
              "            + ' to learn more about interactive tables.';\n",
              "          element.innerHTML = '';\n",
              "          dataTable['output_type'] = 'display_data';\n",
              "          await google.colab.output.renderOutput(dataTable, element);\n",
              "          const docLink = document.createElement('div');\n",
              "          docLink.innerHTML = docLinkHtml;\n",
              "          element.appendChild(docLink);\n",
              "        }\n",
              "      </script>\n",
              "    </div>\n",
              "  </div>\n",
              "  "
            ]
          },
          "metadata": {},
          "execution_count": 46
        }
      ]
    },
    {
      "cell_type": "code",
      "source": [
        "plot_(summary['market_price'],summary['price_in_interval'])"
      ],
      "metadata": {
        "colab": {
          "base_uri": "https://localhost:8080/",
          "height": 517
        },
        "id": "0ulbWbdxZ8PL",
        "outputId": "665f2848-f218-4f59-8c5f-c0f81a77d3a5"
      },
      "execution_count": 47,
      "outputs": [
        {
          "output_type": "stream",
          "name": "stderr",
          "text": [
            "/usr/local/lib/python3.7/dist-packages/numpy/core/fromnumeric.py:3162: VisibleDeprecationWarning: Creating an ndarray from ragged nested sequences (which is a list-or-tuple of lists-or-tuples-or ndarrays with different lengths or shapes) is deprecated. If you meant to do this, you must specify 'dtype=object' when creating the ndarray.\n",
            "  return asarray(a).ndim\n",
            "/usr/local/lib/python3.7/dist-packages/pandas/core/internals/blocks.py:937: VisibleDeprecationWarning: Creating an ndarray from ragged nested sequences (which is a list-or-tuple of lists-or-tuples-or ndarrays with different lengths or shapes) is deprecated. If you meant to do this, you must specify 'dtype=object' when creating the ndarray.\n",
            "  arr_value = np.asarray(value)\n"
          ]
        },
        {
          "output_type": "display_data",
          "data": {
            "text/plain": [
              "<Figure size 1512x504 with 1 Axes>"
            ],
            "image/png": "[encoded data removed]"
          },
          "metadata": {
            "needs_background": "light"
          }
        }
      ]
    }
  ]
}