{
  "cells": [
    {
      "cell_type": "code",
  "nbformat": 4,
  "nbformat_minor": 0,
  "metadata": {
    "colab": {
      "name": "strategy_dydx_aave.ipynb",
      "provenance": [],
      "collapsed_sections": [
        "dqJhPe6PTc4N",
        "eUsd347622oG",
        "S1hCnpbnb-PS",
        "UL8cWr7wg3ZL",
        "ufZfhFUEtiFm"
      ]
    },
    "kernelspec": {
      "name": "python3",
      "display_name": "Python 3"
    },
    "language_info": {
      "name": "python"
    }
  },
  "cells": [
    {
      "cell_type": "code",
      "source": [
        "!pip install web3"
      ],
      "metadata": {
        "id": "rkBk72gV7Ko0",
        "colab": {
          "base_uri": "https://localhost:8080/"
        },
        "outputId": "5d7e7f1d-c14c-4b63-8234-548b4b1510a7"
      },
      "execution_count": null,
      "outputs": [
        {
          "output_type": "stream",
          "name": "stdout",
          "text": [
            "Looking in indexes: https://pypi.org/simple, https://us-python.pkg.dev/colab-wheels/public/simple/\n",
            "Requirement already satisfied: web3 in /usr/local/lib/python3.7/dist-packages (5.29.2)\n",
            "Requirement already satisfied: typing-extensions<5,>=3.7.4.1 in /usr/local/lib/python3.7/dist-packages (from web3) (4.1.1)\n",
            "Requirement already satisfied: eth-abi<3.0.0,>=2.0.0b6 in /usr/local/lib/python3.7/dist-packages (from web3) (2.1.1)\n",
            "Requirement already satisfied: lru-dict<2.0.0,>=1.1.6 in /usr/local/lib/python3.7/dist-packages (from web3) (1.1.7)\n",
            "Requirement already satisfied: requests<3.0.0,>=2.16.0 in /usr/local/lib/python3.7/dist-packages (from web3) (2.23.0)\n",
            "Requirement already satisfied: jsonschema<5,>=3.2.0 in /usr/local/lib/python3.7/dist-packages (from web3) (4.3.3)\n",
            "Requirement already satisfied: aiohttp<4,>=3.7.4.post0 in /usr/local/lib/python3.7/dist-packages (from web3) (3.8.1)\n",
            "Requirement already satisfied: protobuf<4,>=3.10.0 in /usr/local/lib/python3.7/dist-packages (from web3) (3.17.3)\n",
            "Requirement already satisfied: eth-typing<3.0.0,>=2.0.0 in /usr/local/lib/python3.7/dist-packages (from web3) (2.3.0)\n",
            "Requirement already satisfied: eth-utils<2.0.0,>=1.9.5 in /usr/local/lib/python3.7/dist-packages (from web3) (1.9.5)\n",
            "Requirement already satisfied: ipfshttpclient==0.8.0a2 in /usr/local/lib/python3.7/dist-packages (from web3) (0.8.0a2)\n",
            "Requirement already satisfied: hexbytes<1.0.0,>=0.1.0 in /usr/local/lib/python3.7/dist-packages (from web3) (0.2.2)\n",
            "Requirement already satisfied: eth-hash[pycryptodome]<1.0.0,>=0.2.0 in /usr/local/lib/python3.7/dist-packages (from web3) (0.4.0)\n",
            "Requirement already satisfied: websockets<10,>=9.1 in /usr/local/lib/python3.7/dist-packages (from web3) (9.1)\n",
            "Requirement already satisfied: eth-account<0.6.0,>=0.5.7 in /usr/local/lib/python3.7/dist-packages (from web3) (0.5.8)\n",
            "Requirement already satisfied: multiaddr>=0.0.7 in /usr/local/lib/python3.7/dist-packages (from ipfshttpclient==0.8.0a2->web3) (0.0.9)\n",
            "Requirement already satisfied: charset-normalizer<3.0,>=2.0 in /usr/local/lib/python3.7/dist-packages (from aiohttp<4,>=3.7.4.post0->web3) (2.0.12)\n",
            "Requirement already satisfied: aiosignal>=1.1.2 in /usr/local/lib/python3.7/dist-packages (from aiohttp<4,>=3.7.4.post0->web3) (1.2.0)\n",
            "Requirement already satisfied: frozenlist>=1.1.1 in /usr/local/lib/python3.7/dist-packages (from aiohttp<4,>=3.7.4.post0->web3) (1.3.0)\n",
            "Requirement already satisfied: asynctest==0.13.0 in /usr/local/lib/python3.7/dist-packages (from aiohttp<4,>=3.7.4.post0->web3) (0.13.0)\n",
            "Requirement already satisfied: multidict<7.0,>=4.5 in /usr/local/lib/python3.7/dist-packages (from aiohttp<4,>=3.7.4.post0->web3) (6.0.2)\n",
            "Requirement already satisfied: yarl<2.0,>=1.0 in /usr/local/lib/python3.7/dist-packages (from aiohttp<4,>=3.7.4.post0->web3) (1.7.2)\n",
            "Requirement already satisfied: async-timeout<5.0,>=4.0.0a3 in /usr/local/lib/python3.7/dist-packages (from aiohttp<4,>=3.7.4.post0->web3) (4.0.2)\n",
            "Requirement already satisfied: attrs>=17.3.0 in /usr/local/lib/python3.7/dist-packages (from aiohttp<4,>=3.7.4.post0->web3) (21.4.0)\n",
            "Requirement already satisfied: parsimonious<0.9.0,>=0.8.0 in /usr/local/lib/python3.7/dist-packages (from eth-abi<3.0.0,>=2.0.0b6->web3) (0.8.1)\n",
            "Requirement already satisfied: eth-keys<0.4.0,>=0.3.4 in /usr/local/lib/python3.7/dist-packages (from eth-account<0.6.0,>=0.5.7->web3) (0.3.4)\n",
            "Requirement already satisfied: rlp<3,>=1.0.0 in /usr/local/lib/python3.7/dist-packages (from eth-account<0.6.0,>=0.5.7->web3) (2.0.1)\n",
            "Requirement already satisfied: eth-rlp<2,>=0.1.2 in /usr/local/lib/python3.7/dist-packages (from eth-account<0.6.0,>=0.5.7->web3) (0.2.1)\n",
            "Requirement already satisfied: eth-keyfile<0.6.0,>=0.5.0 in /usr/local/lib/python3.7/dist-packages (from eth-account<0.6.0,>=0.5.7->web3) (0.5.1)\n",
            "Requirement already satisfied: bitarray<3,>=1.2.1 in /usr/local/lib/python3.7/dist-packages (from eth-account<0.6.0,>=0.5.7->web3) (2.5.1)\n",
            "Requirement already satisfied: pycryptodome<4,>=3.6.6 in /usr/local/lib/python3.7/dist-packages (from eth-hash[pycryptodome]<1.0.0,>=0.2.0->web3) (3.15.0)\n",
            "Requirement already satisfied: cytoolz<1.0.0,>=0.9.0 in /usr/local/lib/python3.7/dist-packages (from eth-keyfile<0.6.0,>=0.5.0->eth-account<0.6.0,>=0.5.7->web3) (0.11.2)\n",
            "Requirement already satisfied: toolz>=0.8.0 in /usr/local/lib/python3.7/dist-packages (from cytoolz<1.0.0,>=0.9.0->eth-keyfile<0.6.0,>=0.5.0->eth-account<0.6.0,>=0.5.7->web3) (0.11.2)\n",
            "Requirement already satisfied: importlib-resources>=1.4.0 in /usr/local/lib/python3.7/dist-packages (from jsonschema<5,>=3.2.0->web3) (5.7.1)\n",
            "Requirement already satisfied: pyrsistent!=0.17.0,!=0.17.1,!=0.17.2,>=0.14.0 in /usr/local/lib/python3.7/dist-packages (from jsonschema<5,>=3.2.0->web3) (0.18.1)\n",
            "Requirement already satisfied: importlib-metadata in /usr/local/lib/python3.7/dist-packages (from jsonschema<5,>=3.2.0->web3) (0.23)\n",
            "Requirement already satisfied: zipp>=3.1.0 in /usr/local/lib/python3.7/dist-packages (from importlib-resources>=1.4.0->jsonschema<5,>=3.2.0->web3) (3.8.0)\n",
            "Requirement already satisfied: base58 in /usr/local/lib/python3.7/dist-packages (from multiaddr>=0.0.7->ipfshttpclient==0.8.0a2->web3) (2.1.1)\n",
            "Requirement already satisfied: varint in /usr/local/lib/python3.7/dist-packages (from multiaddr>=0.0.7->ipfshttpclient==0.8.0a2->web3) (1.0.2)\n",
            "Requirement already satisfied: six in /usr/local/lib/python3.7/dist-packages (from multiaddr>=0.0.7->ipfshttpclient==0.8.0a2->web3) (1.15.0)\n",
            "Requirement already satisfied: netaddr in /usr/local/lib/python3.7/dist-packages (from multiaddr>=0.0.7->ipfshttpclient==0.8.0a2->web3) (0.8.0)\n",
            "Requirement already satisfied: urllib3!=1.25.0,!=1.25.1,<1.26,>=1.21.1 in /usr/local/lib/python3.7/dist-packages (from requests<3.0.0,>=2.16.0->web3) (1.24.3)\n",
            "Requirement already satisfied: idna<3,>=2.5 in /usr/local/lib/python3.7/dist-packages (from requests<3.0.0,>=2.16.0->web3) (2.10)\n",
            "Requirement already satisfied: certifi>=2017.4.17 in /usr/local/lib/python3.7/dist-packages (from requests<3.0.0,>=2.16.0->web3) (2022.6.15)\n",
            "Requirement already satisfied: chardet<4,>=3.0.2 in /usr/local/lib/python3.7/dist-packages (from requests<3.0.0,>=2.16.0->web3) (3.0.4)\n"
          ]
        }
      ]
    },
    {
      "cell_type": "code",
      "execution_count": null,
      "metadata": {
        "id": "oKLbI_uWww5E"
      },
      "outputs": [],
      "source": [
        "import numpy as np\n",
        "import pandas as pd\n",
        "import matplotlib.pyplot as plt"
      ]
    },
    {
      "cell_type": "markdown",
      "metadata": {
        "id": "dqJhPe6PTc4N"
      },
      "source": [
        "## Historical data from binance"
      ]
    },
    {
      "cell_type": "markdown",
      "metadata": {
        "id": "rD0zjDFXnlGN"
      },
      "source": [
        "In this section we define a function to request historical data from Binance for a variety of frequencies (\"1m\", \"5m\", \"10m\", \"15m\", \"1h\", \"6h\", \"12h\", \"1d\"). We set initial_date = '31 Mar 2021' but we can change it.\n",
        "[I use my private api keys]"
      ]
    },
    {
      "cell_type": "code",
      "execution_count": null,
      "metadata": {
        "colab": {
          "base_uri": "https://localhost:8080/"
        },
        "id": "RC3BvJrzp7ab",
        "outputId": "b7387565-cc58-4fcc-b068-13aee66bb4ef"
      },
      "outputs": [
        {
          "output_type": "stream",
          "name": "stdout",
          "text": [
            "Looking in indexes: https://pypi.org/simple, https://us-python.pkg.dev/colab-wheels/public/simple/\n",
            "Requirement already satisfied: python-binance in /usr/local/lib/python3.7/dist-packages (1.0.16)\n",
            "Requirement already satisfied: aiohttp in /usr/local/lib/python3.7/dist-packages (from python-binance) (3.8.1)\n",
            "Requirement already satisfied: websockets in /usr/local/lib/python3.7/dist-packages (from python-binance) (9.1)\n",
            "Requirement already satisfied: dateparser in /usr/local/lib/python3.7/dist-packages (from python-binance) (1.0.0)\n",
            "Requirement already satisfied: requests in /usr/local/lib/python3.7/dist-packages (from python-binance) (2.23.0)\n",
            "Requirement already satisfied: six in /usr/local/lib/python3.7/dist-packages (from python-binance) (1.15.0)\n",
            "Requirement already satisfied: ujson in /usr/local/lib/python3.7/dist-packages (from python-binance) (5.4.0)\n",
            "Requirement already satisfied: attrs>=17.3.0 in /usr/local/lib/python3.7/dist-packages (from aiohttp->python-binance) (21.4.0)\n",
            "Requirement already satisfied: multidict<7.0,>=4.5 in /usr/local/lib/python3.7/dist-packages (from aiohttp->python-binance) (6.0.2)\n",
            "Requirement already satisfied: async-timeout<5.0,>=4.0.0a3 in /usr/local/lib/python3.7/dist-packages (from aiohttp->python-binance) (4.0.2)\n",
            "Requirement already satisfied: asynctest==0.13.0 in /usr/local/lib/python3.7/dist-packages (from aiohttp->python-binance) (0.13.0)\n",
            "Requirement already satisfied: typing-extensions>=3.7.4 in /usr/local/lib/python3.7/dist-packages (from aiohttp->python-binance) (4.1.1)\n",
            "Requirement already satisfied: charset-normalizer<3.0,>=2.0 in /usr/local/lib/python3.7/dist-packages (from aiohttp->python-binance) (2.1.0)\n",
            "Requirement already satisfied: aiosignal>=1.1.2 in /usr/local/lib/python3.7/dist-packages (from aiohttp->python-binance) (1.2.0)\n",
            "Requirement already satisfied: yarl<2.0,>=1.0 in /usr/local/lib/python3.7/dist-packages (from aiohttp->python-binance) (1.7.2)\n",
            "Requirement already satisfied: frozenlist>=1.1.1 in /usr/local/lib/python3.7/dist-packages (from aiohttp->python-binance) (1.3.0)\n",
            "Requirement already satisfied: idna>=2.0 in /usr/local/lib/python3.7/dist-packages (from yarl<2.0,>=1.0->aiohttp->python-binance) (2.10)\n",
            "Requirement already satisfied: tzlocal in /usr/local/lib/python3.7/dist-packages (from dateparser->python-binance) (1.5.1)\n",
            "Requirement already satisfied: regex!=2019.02.19 in /usr/local/lib/python3.7/dist-packages (from dateparser->python-binance) (2022.3.2)\n",
            "Requirement already satisfied: python-dateutil in /usr/local/lib/python3.7/dist-packages (from dateparser->python-binance) (2.8.2)\n",
            "Requirement already satisfied: regex!=2019.02.19 in /usr/local/lib/python3.7/dist-packages (from dateparser->python-binance) (2022.3.2)\n",
            "Requirement already satisfied: tzlocal in /usr/local/lib/python3.7/dist-packages (from dateparser->python-binance) (1.5.1)\n",
            "Requirement already satisfied: chardet<4,>=3.0.2 in /usr/local/lib/python3.7/dist-packages (from requests->python-binance) (3.0.4)\n",
            "Requirement already satisfied: certifi>=2017.4.17 in /usr/local/lib/python3.7/dist-packages (from requests->python-binance) (2022.6.15)\n",
            "Requirement already satisfied: urllib3!=1.25.0,!=1.25.1,<1.26,>=1.21.1 in /usr/local/lib/python3.7/dist-packages (from requests->python-binance) (1.24.3)\n"
          ]
        }
      ],
      "source": [
        "!pip install python-binance"
      ]
    },
    {
      "cell_type": "code",
      "execution_count": null,
      "metadata": {
        "id": "u2Z1IoPsU8zm"
      },
      "outputs": [],
      "source": [
        "import pandas as pd\n",
        "import math\n",
        "import os.path\n",
        "import time\n",
        "from binance.client import Client as Client_binance\n",
        "from datetime import timedelta, datetime\n",
        "from dateutil import parser\n",
        "from tqdm import tqdm_notebook #(Optional, used for progress-bars)\n",
        "\n",
        "### API\n",
        "binance_api_key = '9zFIgetckRO80d4RciWs8jc4XSwAMEnFIuwVhAoaYIstQ9RWlfqiV6zcAGu0Ta8R'    #Enter your own API-key here\n",
        "binance_api_secret = 'Uu8vtNEmH1PPDPDchX51jivxBENEbNwDmDcQrnhPJBJwFcbqjnvxL2MeQJuTc4Kg' #Enter your own API-secret here\n",
        "\n",
        "### CONSTANTS\n",
        "binsizes = {\"1m\": 1, \"5m\": 5, \"10m\": 10, \"15m\": 15, \"1h\": 60, \"6h\": 360, \"12h\": 720, \"1d\": 1440}\n",
        "\n",
        "batch_size = 750\n",
        "binance_client = Client_binance(api_key=binance_api_key, api_secret=binance_api_secret)\n",
        "\n",
        "# initial_date = '1 Jan 2017'\n",
        "initial_date = '31 Mar 2021'\n",
        "### FUNCTIONS\n",
        "def minutes_of_new_data(symbol, kline_size, data, source):\n",
        "    if len(data) > 0:  old = parser.parse(data[\"timestamp\"].iloc[-1])\n",
        "    elif source == \"binance\": old = datetime.strptime(initial_date, '%d %b %Y')\n",
        "    if source == \"binance\": new = pd.to_datetime(binance_client.get_klines(symbol=symbol, interval=kline_size)[-1][0], unit='ms')\n",
        "    return old, new\n",
        "\n",
        "def get_all_binance(symbol, kline_size, save = False):\n",
        "    filename = '%s-%s-data.csv' % (symbol, kline_size)\n",
        "    if os.path.isfile(filename): data_df = pd.read_csv(filename)\n",
        "    else: data_df = pd.DataFrame()\n",
        "    oldest_point, newest_point = minutes_of_new_data(symbol, kline_size, data_df, source = \"binance\")\n",
        "    delta_min = (newest_point - oldest_point).total_seconds()/60\n",
        "    available_data = math.ceil(delta_min/binsizes[kline_size])\n",
        "    if oldest_point == datetime.strptime(initial_date, '%d %b %Y'): print('Downloading all available %s data for %s. Be patient..!' % (kline_size, symbol))\n",
        "    else: print('Downloading %d minutes of new data available for %s, i.e. %d instances of %s data.' % (delta_min, symbol, available_data, kline_size))\n",
        "    klines = binance_client.get_historical_klines(symbol, kline_size, oldest_point.strftime(\"%d %b %Y %H:%M:%S\"), newest_point.strftime(\"%d %b %Y %H:%M:%S\"))\n",
        "    data = pd.DataFrame(klines, columns = ['timestamp', 'open', 'high', 'low', 'close', 'volume', 'close_time', 'quote_av', 'trades', 'tb_base_av', 'tb_quote_av', 'ignore' ])\n",
        "    data['timestamp'] = pd.to_datetime(data['timestamp'], unit='ms')\n",
        "    if len(data_df) > 0:\n",
        "        temp_df = pd.DataFrame(data)\n",
        "        data_df = data_df.append(temp_df)\n",
        "    else: data_df = data\n",
        "    data_df.set_index('timestamp', inplace=True)\n",
        "    if save: data_df.to_csv(filename)\n",
        "    print('All caught up..!')\n",
        "    return data_df\n"
      ]
    },
    {
      "cell_type": "markdown",
      "metadata": {
        "id": "LNCkEKyanznF"
      },
      "source": [
        "We request historical data for ETHUSDC with 5m frequency."
      ]
    },
    {
      "cell_type": "code",
      "execution_count": null,
      "metadata": {
        "colab": {
          "base_uri": "https://localhost:8080/"
        },
        "id": "TzBMvBB_VD2B",
        "outputId": "00281eff-f98c-4690-9dc5-3a8c8f8bbc62"
      },
      "outputs": [
        {
          "output_type": "stream",
          "name": "stdout",
          "text": [
            "Downloading 10 minutes of new data available for ETHUSDC, i.e. 2 instances of 5m data.\n",
            "All caught up..!\n"
          ]
        }
      ],
      "source": [
        "# lista = [\"ETHUSDC\"]\n",
        "\n",
        "# BTC ETH MATIC UNI COMP AAVE YFI CRV MKR LINK KP3R SFI SUSHI 1INCH CAKE \n",
        "symbol = \"ETHUSDC\"\n",
        "# Frecuencia: 1m, 5m, 10m, 15m, 1h, 1d, 1m\n",
        "freq = \"5m\"\n",
        "\n",
        "# Descarga de datos\n",
        "ETH_historical = get_all_binance(symbol, freq, save = True)"
      ]
    },
    {
      "cell_type": "code",
      "execution_count": null,
      "metadata": {
        "id": "CDEicxyQoLGD",
        "colab": {
          "base_uri": "https://localhost:8080/"
        },
        "id": "CDEicxyQoLGD",
        "outputId": "b53643cd-1af6-4982-e553-317cdcb1e844"
      },
      "outputs": [
        {
          "output_type": "execute_result",
          "data": {
            "text/plain": [
              "134736"
            ]
          },
          "metadata": {},
          "execution_count": 41
        }
      ],
      "source": [
        "len(ETH_historical)"
      ]
    },
    {
      "cell_type": "code",
      "execution_count": null,
      "metadata": {
        "id": "xdVZi1ZtwTz4",
        "colab": {
          "base_uri": "https://localhost:8080/",
          "height": 499
        },
        "id": "xdVZi1ZtwTz4",
        "outputId": "26ea62ff-f169-4def-d932-4f4b1457ff05"
      },
      "outputs": [
        {
          "output_type": "execute_result",
          "data": {
            "text/plain": [
              "                              open           high            low  \\\n",
              "timestamp                                                          \n",
              "2021-03-31 00:00:00        1841.29        1845.35        1841.12   \n",
              "2021-03-31 00:05:00        1844.39        1847.08        1843.99   \n",
              "2021-03-31 00:10:00        1845.54        1849.53        1845.54   \n",
              "2021-03-31 00:15:00        1848.96        1850.35         1847.5   \n",
              "2021-03-31 00:20:00        1848.12        1849.12         1846.0   \n",
              "...                            ...            ...            ...   \n",
              "2022-07-12 09:10:00        1067.32        1068.31        1064.59   \n",
              "2022-07-12 09:15:00        1066.12        1066.94        1065.67   \n",
              "2022-07-12 09:15:00  1066.12000000  1066.94000000  1065.18000000   \n",
              "2022-07-12 09:20:00  1065.80000000  1066.24000000  1064.31000000   \n",
              "2022-07-12 09:25:00  1064.61000000  1065.23000000  1064.61000000   \n",
              "\n",
              "                             close        volume     close_time  \\\n",
              "timestamp                                                         \n",
              "2021-03-31 00:00:00        1845.35       13.4565  1617149099999   \n",
              "2021-03-31 00:05:00        1846.29      54.69818  1617149399999   \n",
              "2021-03-31 00:10:00        1848.96      10.56434  1617149699999   \n",
              "2021-03-31 00:15:00         1847.5     126.93107  1617149999999   \n",
              "2021-03-31 00:20:00         1846.0      16.03979  1617150299999   \n",
              "...                            ...           ...            ...   \n",
              "2022-07-12 09:10:00        1065.87      140.9786  1657617299999   \n",
              "2022-07-12 09:15:00        1065.76       50.2243  1657617599999   \n",
              "2022-07-12 09:15:00  1065.83000000  118.44770000  1657617599999   \n",
              "2022-07-12 09:20:00  1064.45000000  161.81770000  1657617899999   \n",
              "2022-07-12 09:25:00  1065.23000000    4.68050000  1657618199999   \n",
              "\n",
              "                            quote_av  trades   tb_base_av     tb_quote_av  \\\n",
              "timestamp                                                                   \n",
              "2021-03-31 00:00:00      24811.47622      39      4.46207     8228.108687   \n",
              "2021-03-31 00:05:00       100898.416      50     18.71127    34521.301061   \n",
              "2021-03-31 00:10:00     19523.841834      31      6.35202    11739.724326   \n",
              "2021-03-31 00:15:00    234808.651352     117      70.3571   130155.068172   \n",
              "2021-03-31 00:20:00     29631.683226      61      3.04496     5630.118179   \n",
              "...                              ...     ...          ...             ...   \n",
              "2022-07-12 09:10:00    150355.442068     231      58.9962    62915.618203   \n",
              "2022-07-12 09:15:00     53552.026119     112      18.6111    19843.518121   \n",
              "2022-07-12 09:15:00  126259.64118800     213  58.48840000  62340.62203500   \n",
              "2022-07-12 09:20:00  172359.56790800     293  79.13180000  84283.16681700   \n",
              "2022-07-12 09:25:00    4984.47420700      13   4.68050000   4984.47420700   \n",
              "\n",
              "                    ignore  \n",
              "timestamp                   \n",
              "2021-03-31 00:00:00      0  \n",
              "2021-03-31 00:05:00      0  \n",
              "2021-03-31 00:10:00      0  \n",
              "2021-03-31 00:15:00      0  \n",
              "2021-03-31 00:20:00      0  \n",
              "...                    ...  \n",
              "2022-07-12 09:10:00      0  \n",
              "2022-07-12 09:15:00      0  \n",
              "2022-07-12 09:15:00      0  \n",
              "2022-07-12 09:20:00      0  \n",
              "2022-07-12 09:25:00      0  \n",
              "\n",
              "[134736 rows x 11 columns]"
            ],
            "text/html": [
              "\n",
              "  <div id=\"df-1f93216c-d10a-4008-b857-009a3c7d8555\">\n",
              "    <div class=\"colab-df-container\">\n",
              "      <div>\n",
              "<style scoped>\n",
              "    .dataframe tbody tr th:only-of-type {\n",
              "        vertical-align: middle;\n",
              "    }\n",
              "\n",
              "    .dataframe tbody tr th {\n",
              "        vertical-align: top;\n",
              "    }\n",
              "\n",
              "    .dataframe thead th {\n",
              "        text-align: right;\n",
              "    }\n",
              "</style>\n",
              "<table border=\"1\" class=\"dataframe\">\n",
              "  <thead>\n",
              "    <tr style=\"text-align: right;\">\n",
              "      <th></th>\n",
              "      <th>open</th>\n",
              "      <th>high</th>\n",
              "      <th>low</th>\n",
              "      <th>close</th>\n",
              "      <th>volume</th>\n",
              "      <th>close_time</th>\n",
              "      <th>quote_av</th>\n",
              "      <th>trades</th>\n",
              "      <th>tb_base_av</th>\n",
              "      <th>tb_quote_av</th>\n",
              "      <th>ignore</th>\n",
              "    </tr>\n",
              "    <tr>\n",
              "      <th>timestamp</th>\n",
              "      <th></th>\n",
              "      <th></th>\n",
              "      <th></th>\n",
              "      <th></th>\n",
              "      <th></th>\n",
              "      <th></th>\n",
              "      <th></th>\n",
              "      <th></th>\n",
              "      <th></th>\n",
              "      <th></th>\n",
              "      <th></th>\n",
              "    </tr>\n",
              "  </thead>\n",
              "  <tbody>\n",
              "    <tr>\n",
              "      <th>2021-03-31 00:00:00</th>\n",
              "      <td>1841.29</td>\n",
              "      <td>1845.35</td>\n",
              "      <td>1841.12</td>\n",
              "      <td>1845.35</td>\n",
              "      <td>13.4565</td>\n",
              "      <td>1617149099999</td>\n",
              "      <td>24811.47622</td>\n",
              "      <td>39</td>\n",
              "      <td>4.46207</td>\n",
              "      <td>8228.108687</td>\n",
              "      <td>0</td>\n",
              "    </tr>\n",
              "    <tr>\n",
              "      <th>2021-03-31 00:05:00</th>\n",
              "      <td>1844.39</td>\n",
              "      <td>1847.08</td>\n",
              "      <td>1843.99</td>\n",
              "      <td>1846.29</td>\n",
              "      <td>54.69818</td>\n",
              "      <td>1617149399999</td>\n",
              "      <td>100898.416</td>\n",
              "      <td>50</td>\n",
              "      <td>18.71127</td>\n",
              "      <td>34521.301061</td>\n",
              "      <td>0</td>\n",
              "    </tr>\n",
              "    <tr>\n",
              "      <th>2021-03-31 00:10:00</th>\n",
              "      <td>1845.54</td>\n",
              "      <td>1849.53</td>\n",
              "      <td>1845.54</td>\n",
              "      <td>1848.96</td>\n",
              "      <td>10.56434</td>\n",
              "      <td>1617149699999</td>\n",
              "      <td>19523.841834</td>\n",
              "      <td>31</td>\n",
              "      <td>6.35202</td>\n",
              "      <td>11739.724326</td>\n",
              "      <td>0</td>\n",
              "    </tr>\n",
              "    <tr>\n",
              "      <th>2021-03-31 00:15:00</th>\n",
              "      <td>1848.96</td>\n",
              "      <td>1850.35</td>\n",
              "      <td>1847.5</td>\n",
              "      <td>1847.5</td>\n",
              "      <td>126.93107</td>\n",
              "      <td>1617149999999</td>\n",
              "      <td>234808.651352</td>\n",
              "      <td>117</td>\n",
              "      <td>70.3571</td>\n",
              "      <td>130155.068172</td>\n",
              "      <td>0</td>\n",
              "    </tr>\n",
              "    <tr>\n",
              "      <th>2021-03-31 00:20:00</th>\n",
              "      <td>1848.12</td>\n",
              "      <td>1849.12</td>\n",
              "      <td>1846.0</td>\n",
              "      <td>1846.0</td>\n",
              "      <td>16.03979</td>\n",
              "      <td>1617150299999</td>\n",
              "      <td>29631.683226</td>\n",
              "      <td>61</td>\n",
              "      <td>3.04496</td>\n",
              "      <td>5630.118179</td>\n",
              "      <td>0</td>\n",
              "    </tr>\n",
              "    <tr>\n",
              "      <th>...</th>\n",
              "      <td>...</td>\n",
              "      <td>...</td>\n",
              "      <td>...</td>\n",
              "      <td>...</td>\n",
              "      <td>...</td>\n",
              "      <td>...</td>\n",
              "      <td>...</td>\n",
              "      <td>...</td>\n",
              "      <td>...</td>\n",
              "      <td>...</td>\n",
              "      <td>...</td>\n",
              "    </tr>\n",
              "    <tr>\n",
              "      <th>2022-07-12 09:10:00</th>\n",
              "      <td>1067.32</td>\n",
              "      <td>1068.31</td>\n",
              "      <td>1064.59</td>\n",
              "      <td>1065.87</td>\n",
              "      <td>140.9786</td>\n",
              "      <td>1657617299999</td>\n",
              "      <td>150355.442068</td>\n",
              "      <td>231</td>\n",
              "      <td>58.9962</td>\n",
              "      <td>62915.618203</td>\n",
              "      <td>0</td>\n",
              "    </tr>\n",
              "    <tr>\n",
              "      <th>2022-07-12 09:15:00</th>\n",
              "      <td>1066.12</td>\n",
              "      <td>1066.94</td>\n",
              "      <td>1065.67</td>\n",
              "      <td>1065.76</td>\n",
              "      <td>50.2243</td>\n",
              "      <td>1657617599999</td>\n",
              "      <td>53552.026119</td>\n",
              "      <td>112</td>\n",
              "      <td>18.6111</td>\n",
              "      <td>19843.518121</td>\n",
              "      <td>0</td>\n",
              "    </tr>\n",
              "    <tr>\n",
              "      <th>2022-07-12 09:15:00</th>\n",
              "      <td>1066.12000000</td>\n",
              "      <td>1066.94000000</td>\n",
              "      <td>1065.18000000</td>\n",
              "      <td>1065.83000000</td>\n",
              "      <td>118.44770000</td>\n",
              "      <td>1657617599999</td>\n",
              "      <td>126259.64118800</td>\n",
              "      <td>213</td>\n",
              "      <td>58.48840000</td>\n",
              "      <td>62340.62203500</td>\n",
              "      <td>0</td>\n",
              "    </tr>\n",
              "    <tr>\n",
              "      <th>2022-07-12 09:20:00</th>\n",
              "      <td>1065.80000000</td>\n",
              "      <td>1066.24000000</td>\n",
              "      <td>1064.31000000</td>\n",
              "      <td>1064.45000000</td>\n",
              "      <td>161.81770000</td>\n",
              "      <td>1657617899999</td>\n",
              "      <td>172359.56790800</td>\n",
              "      <td>293</td>\n",
              "      <td>79.13180000</td>\n",
              "      <td>84283.16681700</td>\n",
              "      <td>0</td>\n",
              "    </tr>\n",
              "    <tr>\n",
              "      <th>2022-07-12 09:25:00</th>\n",
              "      <td>1064.61000000</td>\n",
              "      <td>1065.23000000</td>\n",
              "      <td>1064.61000000</td>\n",
              "      <td>1065.23000000</td>\n",
              "      <td>4.68050000</td>\n",
              "      <td>1657618199999</td>\n",
              "      <td>4984.47420700</td>\n",
              "      <td>13</td>\n",
              "      <td>4.68050000</td>\n",
              "      <td>4984.47420700</td>\n",
              "      <td>0</td>\n",
              "    </tr>\n",
              "  </tbody>\n",
              "</table>\n",
              "<p>134736 rows × 11 columns</p>\n",
              "</div>\n",
              "      <button class=\"colab-df-convert\" onclick=\"convertToInteractive('df-1f93216c-d10a-4008-b857-009a3c7d8555')\"\n",
              "              title=\"Convert this dataframe to an interactive table.\"\n",
              "              style=\"display:none;\">\n",
              "        \n",
              "  <svg xmlns=\"http://www.w3.org/2000/svg\" height=\"24px\"viewBox=\"0 0 24 24\"\n",
              "       width=\"24px\">\n",
              "    <path d=\"M0 0h24v24H0V0z\" fill=\"none\"/>\n",
              "    <path d=\"M18.56 5.44l.94 2.06.94-2.06 2.06-.94-2.06-.94-.94-2.06-.94 2.06-2.06.94zm-11 1L8.5 8.5l.94-2.06 2.06-.94-2.06-.94L8.5 2.5l-.94 2.06-2.06.94zm10 10l.94 2.06.94-2.06 2.06-.94-2.06-.94-.94-2.06-.94 2.06-2.06.94z\"/><path d=\"M17.41 7.96l-1.37-1.37c-.4-.4-.92-.59-1.43-.59-.52 0-1.04.2-1.43.59L10.3 9.45l-7.72 7.72c-.78.78-.78 2.05 0 2.83L4 21.41c.39.39.9.59 1.41.59.51 0 1.02-.2 1.41-.59l7.78-7.78 2.81-2.81c.8-.78.8-2.07 0-2.86zM5.41 20L4 18.59l7.72-7.72 1.47 1.35L5.41 20z\"/>\n",
              "  </svg>\n",
              "      </button>\n",
              "      \n",
              "  <style>\n",
              "    .colab-df-container {\n",
              "      display:flex;\n",
              "      flex-wrap:wrap;\n",
              "      gap: 12px;\n",
              "    }\n",
              "\n",
              "    .colab-df-convert {\n",
              "      background-color: #E8F0FE;\n",
              "      border: none;\n",
              "      border-radius: 50%;\n",
              "      cursor: pointer;\n",
              "      display: none;\n",
              "      fill: #1967D2;\n",
              "      height: 32px;\n",
              "      padding: 0 0 0 0;\n",
              "      width: 32px;\n",
              "    }\n",
              "\n",
              "    .colab-df-convert:hover {\n",
              "      background-color: #E2EBFA;\n",
              "      box-shadow: 0px 1px 2px rgba(60, 64, 67, 0.3), 0px 1px 3px 1px rgba(60, 64, 67, 0.15);\n",
              "      fill: #174EA6;\n",
              "    }\n",
              "\n",
              "    [theme=dark] .colab-df-convert {\n",
              "      background-color: #3B4455;\n",
              "      fill: #D2E3FC;\n",
              "    }\n",
              "\n",
              "    [theme=dark] .colab-df-convert:hover {\n",
              "      background-color: #434B5C;\n",
              "      box-shadow: 0px 1px 3px 1px rgba(0, 0, 0, 0.15);\n",
              "      filter: drop-shadow(0px 1px 2px rgba(0, 0, 0, 0.3));\n",
              "      fill: #FFFFFF;\n",
              "    }\n",
              "  </style>\n",
              "\n",
              "      <script>\n",
              "        const buttonEl =\n",
              "          document.querySelector('#df-1f93216c-d10a-4008-b857-009a3c7d8555 button.colab-df-convert');\n",
              "        buttonEl.style.display =\n",
              "          google.colab.kernel.accessAllowed ? 'block' : 'none';\n",
              "\n",
              "        async function convertToInteractive(key) {\n",
              "          const element = document.querySelector('#df-1f93216c-d10a-4008-b857-009a3c7d8555');\n",
              "          const dataTable =\n",
              "            await google.colab.kernel.invokeFunction('convertToInteractive',\n",
              "                                                     [key], {});\n",
              "          if (!dataTable) return;\n",
              "\n",
              "          const docLinkHtml = 'Like what you see? Visit the ' +\n",
              "            '<a target=\"_blank\" href=https://colab.research.google.com/notebooks/data_table.ipynb>data table notebook</a>'\n",
              "            + ' to learn more about interactive tables.';\n",
              "          element.innerHTML = '';\n",
              "          dataTable['output_type'] = 'display_data';\n",
              "          await google.colab.output.renderOutput(dataTable, element);\n",
              "          const docLink = document.createElement('div');\n",
              "          docLink.innerHTML = docLinkHtml;\n",
              "          element.appendChild(docLink);\n",
              "        }\n",
              "      </script>\n",
              "    </div>\n",
              "  </div>\n",
              "  "
            ]
          },
          "metadata": {},
          "execution_count": 42
        }
      ],
      "source": [
        "ETH_historical"
      ]
    },
    {
      "cell_type": "markdown",
      "metadata": {
        "id": "Rax3lp6o3JpZ"
      },
      "source": [
        "Given that we have too much data, we will stay with less data (say 2000 prices)."
      ]
    },
    {
      "cell_type": "code",
      "execution_count": null,
      "metadata": {
        "colab": {
          "base_uri": "https://localhost:8080/"
        },
        "id": "Drdsv1E-3IBM",
        "outputId": "70148c07-4f6c-4802-8d48-ef4490f28b59"
      },
      "outputs": [
        {
          "output_type": "stream",
          "name": "stderr",
          "text": [
            "/usr/local/lib/python3.7/dist-packages/ipykernel_launcher.py:3: SettingWithCopyWarning: \n",
            "A value is trying to be set on a copy of a slice from a DataFrame\n",
            "\n",
            "See the caveats in the documentation: https://pandas.pydata.org/pandas-docs/stable/user_guide/indexing.html#returning-a-view-versus-a-copy\n",
            "  This is separate from the ipykernel package so we can avoid doing imports until\n",
            "/usr/local/lib/python3.7/dist-packages/pandas/core/series.py:1056: SettingWithCopyWarning: \n",
            "A value is trying to be set on a copy of a slice from a DataFrame\n",
            "\n",
            "See the caveats in the documentation: https://pandas.pydata.org/pandas-docs/stable/user_guide/indexing.html#returning-a-view-versus-a-copy\n",
            "  cacher_needs_updating = self._check_is_chained_assignment_possible()\n"
          ]
        }
      ],
      "source": [
        "P_ETH = ETH_historical[-2000:]['close']\n",
        "for i in range(len(P_ETH)):\n",
        "  P_ETH[i] = float(P_ETH[i])"
      ]
    },
    {
      "cell_type": "markdown",
      "metadata": {
        "id": "S1hCnpbnb-PS"
      },
      "source": [
        "## DyDx margin parameters"
      ]
    },
    {
      "cell_type": "code",
      "execution_count": null,
      "metadata": {
        "colab": {
          "base_uri": "https://localhost:8080/"
        },
        "id": "iXba8qNn45Da",
        "outputId": "789a15dd-6070-4b9f-a83e-2a4e797448ae"
      },
      "outputs": [
        {
          "output_type": "stream",
          "name": "stdout",
          "text": [
            "Looking in indexes: https://pypi.org/simple, https://us-python.pkg.dev/colab-wheels/public/simple/\n",
            "Requirement already satisfied: dydx-v3-python in /usr/local/lib/python3.7/dist-packages (1.6.1)\n",
            "Requirement already satisfied: mpmath==1.0.0 in /usr/local/lib/python3.7/dist-packages (from dydx-v3-python) (1.0.0)\n",
            "Requirement already satisfied: dateparser==1.0.0 in /usr/local/lib/python3.7/dist-packages (from dydx-v3-python) (1.0.0)\n",
            "Requirement already satisfied: ecdsa==0.16.0 in /usr/local/lib/python3.7/dist-packages (from dydx-v3-python) (0.16.0)\n",
            "Requirement already satisfied: tox==3.13.2 in /usr/local/lib/python3.7/dist-packages (from dydx-v3-python) (3.13.2)\n",
            "Requirement already satisfied: setuptools==50.3.2 in /usr/local/lib/python3.7/dist-packages (from dydx-v3-python) (50.3.2)\n",
            "Requirement already satisfied: pytest<5.0.0,>=4.4.0 in /usr/local/lib/python3.7/dist-packages (from dydx-v3-python) (4.6.11)\n",
            "Requirement already satisfied: sympy==1.6 in /usr/local/lib/python3.7/dist-packages (from dydx-v3-python) (1.6)\n",
            "Requirement already satisfied: web3<6.0.0,>=5.0.0 in /usr/local/lib/python3.7/dist-packages (from dydx-v3-python) (5.30.0)\n",
            "Requirement already satisfied: eth-keys in /usr/local/lib/python3.7/dist-packages (from dydx-v3-python) (0.3.4)\n",
            "Requirement already satisfied: eth-account<0.6.0,>=0.4.0 in /usr/local/lib/python3.7/dist-packages (from dydx-v3-python) (0.5.8)\n",
            "Requirement already satisfied: requests<3.0.0,>=2.22.0 in /usr/local/lib/python3.7/dist-packages (from dydx-v3-python) (2.23.0)\n",
            "Requirement already satisfied: requests-mock==1.6.0 in /usr/local/lib/python3.7/dist-packages (from dydx-v3-python) (1.6.0)\n",
            "Requirement already satisfied: tzlocal in /usr/local/lib/python3.7/dist-packages (from dateparser==1.0.0->dydx-v3-python) (1.5.1)\n",
            "Requirement already satisfied: regex!=2019.02.19 in /usr/local/lib/python3.7/dist-packages (from dateparser==1.0.0->dydx-v3-python) (2022.3.2)\n",
            "Requirement already satisfied: pytz in /usr/local/lib/python3.7/dist-packages (from dateparser==1.0.0->dydx-v3-python) (2022.1)\n",
            "Requirement already satisfied: python-dateutil in /usr/local/lib/python3.7/dist-packages (from dateparser==1.0.0->dydx-v3-python) (2.8.2)\n",
            "Requirement already satisfied: six>=1.9.0 in /usr/local/lib/python3.7/dist-packages (from ecdsa==0.16.0->dydx-v3-python) (1.15.0)\n",
            "Requirement already satisfied: toml>=0.9.4 in /usr/local/lib/python3.7/dist-packages (from tox==3.13.2->dydx-v3-python) (0.10.2)\n",
            "Requirement already satisfied: virtualenv>=14.0.0 in /usr/local/lib/python3.7/dist-packages (from tox==3.13.2->dydx-v3-python) (20.15.1)\n",
            "Requirement already satisfied: importlib-metadata<1,>=0.12 in /usr/local/lib/python3.7/dist-packages (from tox==3.13.2->dydx-v3-python) (0.23)\n",
            "Requirement already satisfied: packaging>=14 in /usr/local/lib/python3.7/dist-packages (from tox==3.13.2->dydx-v3-python) (21.3)\n",
            "Requirement already satisfied: py<2,>=1.4.17 in /usr/local/lib/python3.7/dist-packages (from tox==3.13.2->dydx-v3-python) (1.11.0)\n",
            "Requirement already satisfied: filelock<4,>=3.0.0 in /usr/local/lib/python3.7/dist-packages (from tox==3.13.2->dydx-v3-python) (3.7.1)\n",
            "Requirement already satisfied: pluggy<1,>=0.12.0 in /usr/local/lib/python3.7/dist-packages (from tox==3.13.2->dydx-v3-python) (0.13.1)\n",
            "Requirement already satisfied: eth-utils<2,>=1.3.0 in /usr/local/lib/python3.7/dist-packages (from eth-account<0.6.0,>=0.4.0->dydx-v3-python) (1.10.0)\n",
            "Requirement already satisfied: bitarray<3,>=1.2.1 in /usr/local/lib/python3.7/dist-packages (from eth-account<0.6.0,>=0.4.0->dydx-v3-python) (2.5.1)\n",
            "Requirement already satisfied: eth-rlp<2,>=0.1.2 in /usr/local/lib/python3.7/dist-packages (from eth-account<0.6.0,>=0.4.0->dydx-v3-python) (0.2.1)\n",
            "Requirement already satisfied: eth-keyfile<0.6.0,>=0.5.0 in /usr/local/lib/python3.7/dist-packages (from eth-account<0.6.0,>=0.4.0->dydx-v3-python) (0.5.1)\n",
            "Requirement already satisfied: rlp<3,>=1.0.0 in /usr/local/lib/python3.7/dist-packages (from eth-account<0.6.0,>=0.4.0->dydx-v3-python) (2.0.1)\n",
            "Requirement already satisfied: hexbytes<1,>=0.1.0 in /usr/local/lib/python3.7/dist-packages (from eth-account<0.6.0,>=0.4.0->dydx-v3-python) (0.2.2)\n",
            "Requirement already satisfied: eth-abi<3,>=2.0.0b7 in /usr/local/lib/python3.7/dist-packages (from eth-account<0.6.0,>=0.4.0->dydx-v3-python) (2.1.1)\n",
            "Requirement already satisfied: eth-typing<3.0.0,>=2.0.0 in /usr/local/lib/python3.7/dist-packages (from eth-abi<3,>=2.0.0b7->eth-account<0.6.0,>=0.4.0->dydx-v3-python) (2.3.0)\n",
            "Requirement already satisfied: parsimonious<0.9.0,>=0.8.0 in /usr/local/lib/python3.7/dist-packages (from eth-abi<3,>=2.0.0b7->eth-account<0.6.0,>=0.4.0->dydx-v3-python) (0.8.1)\n",
            "Requirement already satisfied: pycryptodome<4.0.0,>=3.4.7 in /usr/local/lib/python3.7/dist-packages (from eth-keyfile<0.6.0,>=0.5.0->eth-account<0.6.0,>=0.4.0->dydx-v3-python) (3.15.0)\n",
            "Requirement already satisfied: cytoolz<1.0.0,>=0.9.0 in /usr/local/lib/python3.7/dist-packages (from eth-keyfile<0.6.0,>=0.5.0->eth-account<0.6.0,>=0.4.0->dydx-v3-python) (0.12.0)\n",
            "Requirement already satisfied: toolz>=0.8.0 in /usr/local/lib/python3.7/dist-packages (from cytoolz<1.0.0,>=0.9.0->eth-keyfile<0.6.0,>=0.5.0->eth-account<0.6.0,>=0.4.0->dydx-v3-python) (0.11.2)\n",
            "Requirement already satisfied: eth-hash<0.4.0,>=0.3.1 in /usr/local/lib/python3.7/dist-packages (from eth-utils<2,>=1.3.0->eth-account<0.6.0,>=0.4.0->dydx-v3-python) (0.3.3)\n",
            "Requirement already satisfied: zipp>=0.5 in /usr/local/lib/python3.7/dist-packages (from importlib-metadata<1,>=0.12->tox==3.13.2->dydx-v3-python) (3.8.0)\n",
            "Requirement already satisfied: pyparsing!=3.0.5,>=2.0.2 in /usr/local/lib/python3.7/dist-packages (from packaging>=14->tox==3.13.2->dydx-v3-python) (3.0.9)\n",
            "Requirement already satisfied: more-itertools>=4.0.0 in /usr/local/lib/python3.7/dist-packages (from pytest<5.0.0,>=4.4.0->dydx-v3-python) (8.13.0)\n",
            "Requirement already satisfied: attrs>=17.4.0 in /usr/local/lib/python3.7/dist-packages (from pytest<5.0.0,>=4.4.0->dydx-v3-python) (21.4.0)\n",
            "Requirement already satisfied: atomicwrites>=1.0 in /usr/local/lib/python3.7/dist-packages (from pytest<5.0.0,>=4.4.0->dydx-v3-python) (1.4.0)\n",
            "Requirement already satisfied: wcwidth in /usr/local/lib/python3.7/dist-packages (from pytest<5.0.0,>=4.4.0->dydx-v3-python) (0.2.5)\n",
            "Requirement already satisfied: urllib3!=1.25.0,!=1.25.1,<1.26,>=1.21.1 in /usr/local/lib/python3.7/dist-packages (from requests<3.0.0,>=2.22.0->dydx-v3-python) (1.24.3)\n",
            "Requirement already satisfied: certifi>=2017.4.17 in /usr/local/lib/python3.7/dist-packages (from requests<3.0.0,>=2.22.0->dydx-v3-python) (2022.6.15)\n",
            "Requirement already satisfied: chardet<4,>=3.0.2 in /usr/local/lib/python3.7/dist-packages (from requests<3.0.0,>=2.22.0->dydx-v3-python) (3.0.4)\n",
            "Requirement already satisfied: idna<3,>=2.5 in /usr/local/lib/python3.7/dist-packages (from requests<3.0.0,>=2.22.0->dydx-v3-python) (2.10)\n",
            "Requirement already satisfied: distlib<1,>=0.3.1 in /usr/local/lib/python3.7/dist-packages (from virtualenv>=14.0.0->tox==3.13.2->dydx-v3-python) (0.3.4)\n",
            "Requirement already satisfied: platformdirs<3,>=2 in /usr/local/lib/python3.7/dist-packages (from virtualenv>=14.0.0->tox==3.13.2->dydx-v3-python) (2.5.2)\n",
            "Requirement already satisfied: typing-extensions<5,>=3.7.4.1 in /usr/local/lib/python3.7/dist-packages (from web3<6.0.0,>=5.0.0->dydx-v3-python) (4.1.1)\n",
            "Requirement already satisfied: ipfshttpclient==0.8.0a2 in /usr/local/lib/python3.7/dist-packages (from web3<6.0.0,>=5.0.0->dydx-v3-python) (0.8.0a2)\n",
            "Requirement already satisfied: protobuf<4,>=3.10.0 in /usr/local/lib/python3.7/dist-packages (from web3<6.0.0,>=5.0.0->dydx-v3-python) (3.17.3)\n",
            "Requirement already satisfied: aiohttp<4,>=3.7.4.post0 in /usr/local/lib/python3.7/dist-packages (from web3<6.0.0,>=5.0.0->dydx-v3-python) (3.8.1)\n",
            "Requirement already satisfied: jsonschema<5,>=3.2.0 in /usr/local/lib/python3.7/dist-packages (from web3<6.0.0,>=5.0.0->dydx-v3-python) (4.3.3)\n",
            "Requirement already satisfied: websockets<10,>=9.1 in /usr/local/lib/python3.7/dist-packages (from web3<6.0.0,>=5.0.0->dydx-v3-python) (9.1)\n",
            "Requirement already satisfied: lru-dict<2.0.0,>=1.1.6 in /usr/local/lib/python3.7/dist-packages (from web3<6.0.0,>=5.0.0->dydx-v3-python) (1.1.8)\n",
            "Requirement already satisfied: multiaddr>=0.0.7 in /usr/local/lib/python3.7/dist-packages (from ipfshttpclient==0.8.0a2->web3<6.0.0,>=5.0.0->dydx-v3-python) (0.0.9)\n",
            "Requirement already satisfied: asynctest==0.13.0 in /usr/local/lib/python3.7/dist-packages (from aiohttp<4,>=3.7.4.post0->web3<6.0.0,>=5.0.0->dydx-v3-python) (0.13.0)\n",
            "Requirement already satisfied: async-timeout<5.0,>=4.0.0a3 in /usr/local/lib/python3.7/dist-packages (from aiohttp<4,>=3.7.4.post0->web3<6.0.0,>=5.0.0->dydx-v3-python) (4.0.2)\n",
            "Requirement already satisfied: charset-normalizer<3.0,>=2.0 in /usr/local/lib/python3.7/dist-packages (from aiohttp<4,>=3.7.4.post0->web3<6.0.0,>=5.0.0->dydx-v3-python) (2.1.0)\n",
            "Requirement already satisfied: frozenlist>=1.1.1 in /usr/local/lib/python3.7/dist-packages (from aiohttp<4,>=3.7.4.post0->web3<6.0.0,>=5.0.0->dydx-v3-python) (1.3.0)\n",
            "Requirement already satisfied: yarl<2.0,>=1.0 in /usr/local/lib/python3.7/dist-packages (from aiohttp<4,>=3.7.4.post0->web3<6.0.0,>=5.0.0->dydx-v3-python) (1.7.2)\n",
            "Requirement already satisfied: multidict<7.0,>=4.5 in /usr/local/lib/python3.7/dist-packages (from aiohttp<4,>=3.7.4.post0->web3<6.0.0,>=5.0.0->dydx-v3-python) (6.0.2)\n",
            "Requirement already satisfied: aiosignal>=1.1.2 in /usr/local/lib/python3.7/dist-packages (from aiohttp<4,>=3.7.4.post0->web3<6.0.0,>=5.0.0->dydx-v3-python) (1.2.0)\n",
            "Requirement already satisfied: importlib-resources>=1.4.0 in /usr/local/lib/python3.7/dist-packages (from jsonschema<5,>=3.2.0->web3<6.0.0,>=5.0.0->dydx-v3-python) (5.7.1)\n",
            "Requirement already satisfied: pyrsistent!=0.17.0,!=0.17.1,!=0.17.2,>=0.14.0 in /usr/local/lib/python3.7/dist-packages (from jsonschema<5,>=3.2.0->web3<6.0.0,>=5.0.0->dydx-v3-python) (0.18.1)\n",
            "Requirement already satisfied: base58 in /usr/local/lib/python3.7/dist-packages (from multiaddr>=0.0.7->ipfshttpclient==0.8.0a2->web3<6.0.0,>=5.0.0->dydx-v3-python) (2.1.1)\n",
            "Requirement already satisfied: netaddr in /usr/local/lib/python3.7/dist-packages (from multiaddr>=0.0.7->ipfshttpclient==0.8.0a2->web3<6.0.0,>=5.0.0->dydx-v3-python) (0.8.0)\n",
            "Requirement already satisfied: varint in /usr/local/lib/python3.7/dist-packages (from multiaddr>=0.0.7->ipfshttpclient==0.8.0a2->web3<6.0.0,>=5.0.0->dydx-v3-python) (1.0.2)\n"
          ]
        }
      ],
      "source": [
        "!pip install dydx-v3-python"
      ]
    },
    {
      "cell_type": "code",
      "execution_count": null,
      "metadata": {
        "id": "bZVhpK2ATlYW"
      },
      "outputs": [],
      "source": [
        "from dydx3 import Client as Client_dydx\n",
        "dydx_client = Client_dydx(host ='https://api.stage.dydx.exchange/')"
      ]
    },
    {
      "cell_type": "code",
      "execution_count": null,
      "metadata": {
        "id": "zPJSlYAlVllq"
      },
      "outputs": [],
      "source": [
        "# We bring the necessary parameters\n",
        "market = dydx_client.public.get_markets()\n",
        "dydx_info = pd.DataFrame.from_dict(market.data).T"
      ]
    },
    {
      "cell_type": "code",
      "execution_count": null,
      "metadata": {
        "colab": {
          "base_uri": "https://localhost:8080/"
        },
        "id": "-Fan2hUBWKUM",
        "outputId": "bf5eacb9-82e2-4014-e7b8-bd71b8d76d23"
      },
      "outputs": [
        {
          "output_type": "execute_result",
          "data": {
            "text/plain": [
              "{'assetResolution': '1000000000',\n",
              " 'baseAsset': 'ETH',\n",
              " 'baselinePositionSize': '500',\n",
              " 'incrementalInitialMarginFraction': '0.01',\n",
              " 'incrementalPositionSize': '100',\n",
              " 'indexPrice': '1064.6200',\n",
              " 'initialMarginFraction': '0.05',\n",
              " 'maintenanceMarginFraction': '0.03',\n",
              " 'market': 'ETH-USD',\n",
              " 'maxPositionSize': '10000',\n",
              " 'minOrderSize': '0.01',\n",
              " 'nextFundingAt': '2022-07-12T10:00:00.000Z',\n",
              " 'nextFundingRate': '0.0000005312',\n",
              " 'openInterest': '9613.527',\n",
              " 'oraclePrice': '1064.7194',\n",
              " 'priceChange24H': '-81.830032',\n",
              " 'quoteAsset': 'USD',\n",
              " 'status': 'ONLINE',\n",
              " 'stepSize': '0.001',\n",
              " 'syntheticAssetId': '0x4554482d3900000000000000000000',\n",
              " 'tickSize': '0.1',\n",
              " 'trades24H': '1157',\n",
              " 'type': 'PERPETUAL',\n",
              " 'volume24H': '11849644.992300'}"
            ]
          },
          "metadata": {},
          "execution_count": 47
        }
      ],
      "source": [
        "dydx_ETH_USD_data = dydx_info['ETH-USD'][0]\n",
        "dydx_ETH_USD_data"
      ]
    },
    {
      "cell_type": "code",
      "execution_count": null,
      "metadata": {
        "id": "qeNKngsrZxKT"
      },
      "outputs": [],
      "source": [
        "incrementalInitialMarginFraction = float(dydx_ETH_USD_data['incrementalInitialMarginFraction'])\n",
        "\n",
        "initialMarginFraction = float(dydx_ETH_USD_data['initialMarginFraction'])\n",
        "maintenanceMarginFraction = float(dydx_ETH_USD_data['maintenanceMarginFraction'])\n",
        "oraclePrice = float(dydx_ETH_USD_data['oraclePrice'])\n",
        "size_ETH = -7.2110\n",
        "Initial_Margin_Requirement = abs(size_ETH * oraclePrice * initialMarginFraction)\n",
        "Maintenance_Margin_Requirement = abs(size_ETH * oraclePrice * maintenanceMarginFraction)\n",
        "Total_Initial_Margin_Requirement = Initial_Margin_Requirement\n",
        "Total_Maintenance_Margin_Requirement = Maintenance_Margin_Requirement\n",
        "next_funding_at = dydx_ETH_USD_data['nextFundingAt']\n",
        "next_funding_rate = float(dydx_ETH_USD_data['nextFundingRate'])\n",
        "margin = 4000\n",
        "notional = 0\n",
        "# notional = abs(size_ETH * oraclePrice)\n",
        "total_account_value = margin + notional\n",
        "Free_collateral = total_account_value - Total_Initial_Margin_Requirement\n",
        "Close_price = oraclePrice * (1 + (maintenanceMarginFraction * total_account_value / Total_Maintenance_Margin_Requirement))"
      ]
    },
    {
      "cell_type": "code",
      "execution_count": null,
      "metadata": {
        "colab": {
          "base_uri": "https://localhost:8080/"
        },
        "id": "VW65opcEJ-NJ",
        "outputId": "3b9ccc63-e1fc-417e-ea8d-8182b50abcbc"
      },
      "outputs": [
        {
          "output_type": "execute_result",
          "data": {
            "text/plain": [
              "5.312e-07"
            ]
          },
          "metadata": {},
          "execution_count": 52
        }
      ],
      "source": [
        "next_funding_rate"
      ]
    },
    {
      "cell_type": "markdown",
      "metadata": {
        "id": "t4sbdKvbaXh0"
      },
      "source": [
        "P is the oracle price for the market\n",
        "\n",
        "M is the maintenance margin fraction for the market\n",
        "\n",
        "V is the total account value, as defined above\n",
        "\n",
        "W is the total maintentance margin requirement, as defined above"
      ]
    },
    {
      "cell_type": "markdown",
      "metadata": {
        "id": "UL8cWr7wg3ZL"
      },
      "source": [
        "## AAVE yields"
      ]
    },
    {
      "cell_type": "code",
      "execution_count": null,
      "metadata": {
        "id": "FthwXfysg4co"
      },
      "outputs": [],
      "source": [
        "def AAVE_profits(collateral_USDC, pcg_collateral_to_borrow,\n",
        "                 supply_rate_ETH, supply_rewards_rate_ETH,\n",
        "                 borrow_rate_USDC, borrow_rewards_rate_USDC):\n",
        "  debt = collateral_USDC * pcg_collateral_to_borrow\n",
        "  return collateral_USDC * (supply_rate_ETH + supply_rewards_rate_ETH) - debt * (borrow_rate_USDC - borrow_rewards_rate_USDC)"
      ]
    },
    {
      "cell_type": "markdown",
      "metadata": {
        "id": "ufZfhFUEtiFm"
      },
      "source": [
        "### Request borrow_rate + supply_rate"
      ]
    },
    {
      "cell_type": "code",
      "execution_count": null,
      "metadata": {
        "id": "wvod8AfzsUNF"
      },
      "outputs": [],
      "source": [
        "import json\n",
        "#from google.colab import files\n",
        "#uploaded = files.upload()\n",
        "from binance.client import Client\n",
        "import pandas as pd\n",
        "from datetime import datetime\n",
        "from web3 import Web3\n",
        "#import pandas as pd\n"
      ]
    },
    {
      "cell_type": "code",
      "execution_count": null,
      "metadata": {
        "id": "GXOotHCTthRL"
      },
      "outputs": [],
      "source": [
        "# Conectamos con el nodo\n",
        "w3 = Web3(Web3.HTTPProvider(\"https://mainnet.infura.io/v3/da48e8cbe7ed479688437e27dd07fe8b\"))\n",
        "# Cargamos las address del contrato del tricrypto y del LP token\n",
        "lending_pool_address = '0x7d2768dE32b0b80b7a3454c06BdAc94A69DDc7A9'\n",
        "wETH_address = '0xC02aaA39b223FE8D0A0e5C4F27eAD9083C756Cc2'\n",
        "USDC_address = '0xA0b86991c6218b36c1d19D4a2e9Eb0cE3606eB48'\n",
        "# Cargamos las abis de cada uno\n",
        "pool_abi = '''\n",
        "[{\"anonymous\":false,\"inputs\":[{\"indexed\":true,\"internalType\":\"address\",\"name\":\"reserve\",\"type\":\"address\"},{\"indexed\":false,\"internalType\":\"address\",\"name\":\"user\",\"type\":\"address\"},{\"indexed\":true,\"internalType\":\"address\",\"name\":\"onBehalfOf\",\"type\":\"address\"},{\"indexed\":false,\"internalType\":\"uint256\",\"name\":\"amount\",\"type\":\"uint256\"},{\"indexed\":false,\"internalType\":\"uint256\",\"name\":\"borrowRateMode\",\"type\":\"uint256\"},{\"indexed\":false,\"internalType\":\"uint256\",\"name\":\"borrowRate\",\"type\":\"uint256\"},{\"indexed\":true,\"internalType\":\"uint16\",\"name\":\"referral\",\"type\":\"uint16\"}],\"name\":\"Borrow\",\"type\":\"event\"},{\"anonymous\":false,\"inputs\":[{\"indexed\":true,\"internalType\":\"address\",\"name\":\"reserve\",\"type\":\"address\"},{\"indexed\":false,\"internalType\":\"address\",\"name\":\"user\",\"type\":\"address\"},{\"indexed\":true,\"internalType\":\"address\",\"name\":\"onBehalfOf\",\"type\":\"address\"},{\"indexed\":false,\"internalType\":\"uint256\",\"name\":\"amount\",\"type\":\"uint256\"},{\"indexed\":true,\"internalType\":\"uint16\",\"name\":\"referral\",\"type\":\"uint16\"}],\"name\":\"Deposit\",\"type\":\"event\"},{\"anonymous\":false,\"inputs\":[{\"indexed\":true,\"internalType\":\"address\",\"name\":\"target\",\"type\":\"address\"},{\"indexed\":true,\"internalType\":\"address\",\"name\":\"initiator\",\"type\":\"address\"},{\"indexed\":true,\"internalType\":\"address\",\"name\":\"asset\",\"type\":\"address\"},{\"indexed\":false,\"internalType\":\"uint256\",\"name\":\"amount\",\"type\":\"uint256\"},{\"indexed\":false,\"internalType\":\"uint256\",\"name\":\"premium\",\"type\":\"uint256\"},{\"indexed\":false,\"internalType\":\"uint16\",\"name\":\"referralCode\",\"type\":\"uint16\"}],\"name\":\"FlashLoan\",\"type\":\"event\"},{\"anonymous\":false,\"inputs\":[{\"indexed\":true,\"internalType\":\"address\",\"name\":\"collateralAsset\",\"type\":\"address\"},{\"indexed\":true,\"internalType\":\"address\",\"name\":\"debtAsset\",\"type\":\"address\"},{\"indexed\":true,\"internalType\":\"address\",\"name\":\"user\",\"type\":\"address\"},{\"indexed\":false,\"internalType\":\"uint256\",\"name\":\"debtToCover\",\"type\":\"uint256\"},{\"indexed\":false,\"internalType\":\"uint256\",\"name\":\"liquidatedCollateralAmount\",\"type\":\"uint256\"},{\"indexed\":false,\"internalType\":\"address\",\"name\":\"liquidator\",\"type\":\"address\"},{\"indexed\":false,\"internalType\":\"bool\",\"name\":\"receiveAToken\",\"type\":\"bool\"}],\"name\":\"LiquidationCall\",\"type\":\"event\"},{\"anonymous\":false,\"inputs\":[],\"name\":\"Paused\",\"type\":\"event\"},{\"anonymous\":false,\"inputs\":[{\"indexed\":true,\"internalType\":\"address\",\"name\":\"reserve\",\"type\":\"address\"},{\"indexed\":true,\"internalType\":\"address\",\"name\":\"user\",\"type\":\"address\"}],\"name\":\"RebalanceStableBorrowRate\",\"type\":\"event\"},{\"anonymous\":false,\"inputs\":[{\"indexed\":true,\"internalType\":\"address\",\"name\":\"reserve\",\"type\":\"address\"},{\"indexed\":true,\"internalType\":\"address\",\"name\":\"user\",\"type\":\"address\"},{\"indexed\":true,\"internalType\":\"address\",\"name\":\"repayer\",\"type\":\"address\"},{\"indexed\":false,\"internalType\":\"uint256\",\"name\":\"amount\",\"type\":\"uint256\"}],\"name\":\"Repay\",\"type\":\"event\"},{\"anonymous\":false,\"inputs\":[{\"indexed\":true,\"internalType\":\"address\",\"name\":\"reserve\",\"type\":\"address\"},{\"indexed\":false,\"internalType\":\"uint256\",\"name\":\"liquidityRate\",\"type\":\"uint256\"},{\"indexed\":false,\"internalType\":\"uint256\",\"name\":\"stableBorrowRate\",\"type\":\"uint256\"},{\"indexed\":false,\"internalType\":\"uint256\",\"name\":\"variableBorrowRate\",\"type\":\"uint256\"},{\"indexed\":false,\"internalType\":\"uint256\",\"name\":\"liquidityIndex\",\"type\":\"uint256\"},{\"indexed\":false,\"internalType\":\"uint256\",\"name\":\"variableBorrowIndex\",\"type\":\"uint256\"}],\"name\":\"ReserveDataUpdated\",\"type\":\"event\"},{\"anonymous\":false,\"inputs\":[{\"indexed\":true,\"internalType\":\"address\",\"name\":\"reserve\",\"type\":\"address\"},{\"indexed\":true,\"internalType\":\"address\",\"name\":\"user\",\"type\":\"address\"}],\"name\":\"ReserveUsedAsCollateralDisabled\",\"type\":\"event\"},{\"anonymous\":false,\"inputs\":[{\"indexed\":true,\"internalType\":\"address\",\"name\":\"reserve\",\"type\":\"address\"},{\"indexed\":true,\"internalType\":\"address\",\"name\":\"user\",\"type\":\"address\"}],\"name\":\"ReserveUsedAsCollateralEnabled\",\"type\":\"event\"},{\"anonymous\":false,\"inputs\":[{\"indexed\":true,\"internalType\":\"address\",\"name\":\"reserve\",\"type\":\"address\"},{\"indexed\":true,\"internalType\":\"address\",\"name\":\"user\",\"type\":\"address\"},{\"indexed\":false,\"internalType\":\"uint256\",\"name\":\"rateMode\",\"type\":\"uint256\"}],\"name\":\"Swap\",\"type\":\"event\"},{\"anonymous\":false,\"inputs\":[],\"name\":\"Unpaused\",\"type\":\"event\"},{\"anonymous\":false,\"inputs\":[{\"indexed\":true,\"internalType\":\"address\",\"name\":\"reserve\",\"type\":\"address\"},{\"indexed\":true,\"internalType\":\"address\",\"name\":\"user\",\"type\":\"address\"},{\"indexed\":true,\"internalType\":\"address\",\"name\":\"to\",\"type\":\"address\"},{\"indexed\":false,\"internalType\":\"uint256\",\"name\":\"amount\",\"type\":\"uint256\"}],\"name\":\"Withdraw\",\"type\":\"event\"},{\"inputs\":[],\"name\":\"FLASHLOAN_PREMIUM_TOTAL\",\"outputs\":[{\"internalType\":\"uint256\",\"name\":\"\",\"type\":\"uint256\"}],\"stateMutability\":\"view\",\"type\":\"function\"},{\"inputs\":[],\"name\":\"LENDINGPOOL_REVISION\",\"outputs\":[{\"internalType\":\"uint256\",\"name\":\"\",\"type\":\"uint256\"}],\"stateMutability\":\"view\",\"type\":\"function\"},{\"inputs\":[],\"name\":\"MAX_NUMBER_RESERVES\",\"outputs\":[{\"internalType\":\"uint256\",\"name\":\"\",\"type\":\"uint256\"}],\"stateMutability\":\"view\",\"type\":\"function\"},{\"inputs\":[],\"name\":\"MAX_STABLE_RATE_BORROW_SIZE_PERCENT\",\"outputs\":[{\"internalType\":\"uint256\",\"name\":\"\",\"type\":\"uint256\"}],\"stateMutability\":\"view\",\"type\":\"function\"},{\"inputs\":[{\"internalType\":\"address\",\"name\":\"asset\",\"type\":\"address\"},{\"internalType\":\"uint256\",\"name\":\"amount\",\"type\":\"uint256\"},{\"internalType\":\"uint256\",\"name\":\"interestRateMode\",\"type\":\"uint256\"},{\"internalType\":\"uint16\",\"name\":\"referralCode\",\"type\":\"uint16\"},{\"internalType\":\"address\",\"name\":\"onBehalfOf\",\"type\":\"address\"}],\"name\":\"borrow\",\"outputs\":[],\"stateMutability\":\"nonpayable\",\"type\":\"function\"},{\"inputs\":[{\"internalType\":\"address\",\"name\":\"asset\",\"type\":\"address\"},{\"internalType\":\"uint256\",\"name\":\"amount\",\"type\":\"uint256\"},{\"internalType\":\"address\",\"name\":\"onBehalfOf\",\"type\":\"address\"},{\"internalType\":\"uint16\",\"name\":\"referralCode\",\"type\":\"uint16\"}],\"name\":\"deposit\",\"outputs\":[],\"stateMutability\":\"nonpayable\",\"type\":\"function\"},{\"inputs\":[{\"internalType\":\"address\",\"name\":\"asset\",\"type\":\"address\"},{\"internalType\":\"address\",\"name\":\"from\",\"type\":\"address\"},{\"internalType\":\"address\",\"name\":\"to\",\"type\":\"address\"},{\"internalType\":\"uint256\",\"name\":\"amount\",\"type\":\"uint256\"},{\"internalType\":\"uint256\",\"name\":\"balanceFromBefore\",\"type\":\"uint256\"},{\"internalType\":\"uint256\",\"name\":\"balanceToBefore\",\"type\":\"uint256\"}],\"name\":\"finalizeTransfer\",\"outputs\":[],\"stateMutability\":\"nonpayable\",\"type\":\"function\"},{\"inputs\":[{\"internalType\":\"address\",\"name\":\"receiverAddress\",\"type\":\"address\"},{\"internalType\":\"address[]\",\"name\":\"assets\",\"type\":\"address[]\"},{\"internalType\":\"uint256[]\",\"name\":\"amounts\",\"type\":\"uint256[]\"},{\"internalType\":\"uint256[]\",\"name\":\"modes\",\"type\":\"uint256[]\"},{\"internalType\":\"address\",\"name\":\"onBehalfOf\",\"type\":\"address\"},{\"internalType\":\"bytes\",\"name\":\"params\",\"type\":\"bytes\"},{\"internalType\":\"uint16\",\"name\":\"referralCode\",\"type\":\"uint16\"}],\"name\":\"flashLoan\",\"outputs\":[],\"stateMutability\":\"nonpayable\",\"type\":\"function\"},{\"inputs\":[],\"name\":\"getAddressesProvider\",\"outputs\":[{\"internalType\":\"contract ILendingPoolAddressesProvider\",\"name\":\"\",\"type\":\"address\"}],\"stateMutability\":\"view\",\"type\":\"function\"},{\"inputs\":[{\"internalType\":\"address\",\"name\":\"asset\",\"type\":\"address\"}],\"name\":\"getConfiguration\",\"outputs\":[{\"components\":[{\"internalType\":\"uint256\",\"name\":\"data\",\"type\":\"uint256\"}],\"internalType\":\"struct DataTypes.ReserveConfigurationMap\",\"name\":\"\",\"type\":\"tuple\"}],\"stateMutability\":\"view\",\"type\":\"function\"},{\"inputs\":[{\"internalType\":\"address\",\"name\":\"asset\",\"type\":\"address\"}],\"name\":\"getReserveData\",\"outputs\":[{\"components\":[{\"components\":[{\"internalType\":\"uint256\",\"name\":\"data\",\"type\":\"uint256\"}],\"internalType\":\"struct DataTypes.ReserveConfigurationMap\",\"name\":\"configuration\",\"type\":\"tuple\"},{\"internalType\":\"uint128\",\"name\":\"liquidityIndex\",\"type\":\"uint128\"},{\"internalType\":\"uint128\",\"name\":\"variableBorrowIndex\",\"type\":\"uint128\"},{\"internalType\":\"uint128\",\"name\":\"currentLiquidityRate\",\"type\":\"uint128\"},{\"internalType\":\"uint128\",\"name\":\"currentVariableBorrowRate\",\"type\":\"uint128\"},{\"internalType\":\"uint128\",\"name\":\"currentStableBorrowRate\",\"type\":\"uint128\"},{\"internalType\":\"uint40\",\"name\":\"lastUpdateTimestamp\",\"type\":\"uint40\"},{\"internalType\":\"address\",\"name\":\"aTokenAddress\",\"type\":\"address\"},{\"internalType\":\"address\",\"name\":\"stableDebtTokenAddress\",\"type\":\"address\"},{\"internalType\":\"address\",\"name\":\"variableDebtTokenAddress\",\"type\":\"address\"},{\"internalType\":\"address\",\"name\":\"interestRateStrategyAddress\",\"type\":\"address\"},{\"internalType\":\"uint8\",\"name\":\"id\",\"type\":\"uint8\"}],\"internalType\":\"struct DataTypes.ReserveData\",\"name\":\"\",\"type\":\"tuple\"}],\"stateMutability\":\"view\",\"type\":\"function\"},{\"inputs\":[{\"internalType\":\"address\",\"name\":\"asset\",\"type\":\"address\"}],\"name\":\"getReserveNormalizedIncome\",\"outputs\":[{\"internalType\":\"uint256\",\"name\":\"\",\"type\":\"uint256\"}],\"stateMutability\":\"view\",\"type\":\"function\"},{\"inputs\":[{\"internalType\":\"address\",\"name\":\"asset\",\"type\":\"address\"}],\"name\":\"getReserveNormalizedVariableDebt\",\"outputs\":[{\"internalType\":\"uint256\",\"name\":\"\",\"type\":\"uint256\"}],\"stateMutability\":\"view\",\"type\":\"function\"},{\"inputs\":[],\"name\":\"getReservesList\",\"outputs\":[{\"internalType\":\"address[]\",\"name\":\"\",\"type\":\"address[]\"}],\"stateMutability\":\"view\",\"type\":\"function\"},{\"inputs\":[{\"internalType\":\"address\",\"name\":\"user\",\"type\":\"address\"}],\"name\":\"getUserAccountData\",\"outputs\":[{\"internalType\":\"uint256\",\"name\":\"totalCollateralETH\",\"type\":\"uint256\"},{\"internalType\":\"uint256\",\"name\":\"totalDebtETH\",\"type\":\"uint256\"},{\"internalType\":\"uint256\",\"name\":\"availableBorrowsETH\",\"type\":\"uint256\"},{\"internalType\":\"uint256\",\"name\":\"currentLiquidationThreshold\",\"type\":\"uint256\"},{\"internalType\":\"uint256\",\"name\":\"ltv\",\"type\":\"uint256\"},{\"internalType\":\"uint256\",\"name\":\"healthFactor\",\"type\":\"uint256\"}],\"stateMutability\":\"view\",\"type\":\"function\"},{\"inputs\":[{\"internalType\":\"address\",\"name\":\"user\",\"type\":\"address\"}],\"name\":\"getUserConfiguration\",\"outputs\":[{\"components\":[{\"internalType\":\"uint256\",\"name\":\"data\",\"type\":\"uint256\"}],\"internalType\":\"struct DataTypes.UserConfigurationMap\",\"name\":\"\",\"type\":\"tuple\"}],\"stateMutability\":\"view\",\"type\":\"function\"},{\"inputs\":[{\"internalType\":\"address\",\"name\":\"asset\",\"type\":\"address\"},{\"internalType\":\"address\",\"name\":\"aTokenAddress\",\"type\":\"address\"},{\"internalType\":\"address\",\"name\":\"stableDebtAddress\",\"type\":\"address\"},{\"internalType\":\"address\",\"name\":\"variableDebtAddress\",\"type\":\"address\"},{\"internalType\":\"address\",\"name\":\"interestRateStrategyAddress\",\"type\":\"address\"}],\"name\":\"initReserve\",\"outputs\":[],\"stateMutability\":\"nonpayable\",\"type\":\"function\"},{\"inputs\":[{\"internalType\":\"contract ILendingPoolAddressesProvider\",\"name\":\"provider\",\"type\":\"address\"}],\"name\":\"initialize\",\"outputs\":[],\"stateMutability\":\"nonpayable\",\"type\":\"function\"},{\"inputs\":[{\"internalType\":\"address\",\"name\":\"collateralAsset\",\"type\":\"address\"},{\"internalType\":\"address\",\"name\":\"debtAsset\",\"type\":\"address\"},{\"internalType\":\"address\",\"name\":\"user\",\"type\":\"address\"},{\"internalType\":\"uint256\",\"name\":\"debtToCover\",\"type\":\"uint256\"},{\"internalType\":\"bool\",\"name\":\"receiveAToken\",\"type\":\"bool\"}],\"name\":\"liquidationCall\",\"outputs\":[],\"stateMutability\":\"nonpayable\",\"type\":\"function\"},{\"inputs\":[],\"name\":\"paused\",\"outputs\":[{\"internalType\":\"bool\",\"name\":\"\",\"type\":\"bool\"}],\"stateMutability\":\"view\",\"type\":\"function\"},{\"inputs\":[{\"internalType\":\"address\",\"name\":\"asset\",\"type\":\"address\"},{\"internalType\":\"address\",\"name\":\"user\",\"type\":\"address\"}],\"name\":\"rebalanceStableBorrowRate\",\"outputs\":[],\"stateMutability\":\"nonpayable\",\"type\":\"function\"},{\"inputs\":[{\"internalType\":\"address\",\"name\":\"asset\",\"type\":\"address\"},{\"internalType\":\"uint256\",\"name\":\"amount\",\"type\":\"uint256\"},{\"internalType\":\"uint256\",\"name\":\"rateMode\",\"type\":\"uint256\"},{\"internalType\":\"address\",\"name\":\"onBehalfOf\",\"type\":\"address\"}],\"name\":\"repay\",\"outputs\":[{\"internalType\":\"uint256\",\"name\":\"\",\"type\":\"uint256\"}],\"stateMutability\":\"nonpayable\",\"type\":\"function\"},{\"inputs\":[{\"internalType\":\"address\",\"name\":\"asset\",\"type\":\"address\"},{\"internalType\":\"uint256\",\"name\":\"configuration\",\"type\":\"uint256\"}],\"name\":\"setConfiguration\",\"outputs\":[],\"stateMutability\":\"nonpayable\",\"type\":\"function\"},{\"inputs\":[{\"internalType\":\"bool\",\"name\":\"val\",\"type\":\"bool\"}],\"name\":\"setPause\",\"outputs\":[],\"stateMutability\":\"nonpayable\",\"type\":\"function\"},{\"inputs\":[{\"internalType\":\"address\",\"name\":\"asset\",\"type\":\"address\"},{\"internalType\":\"address\",\"name\":\"rateStrategyAddress\",\"type\":\"address\"}],\"name\":\"setReserveInterestRateStrategyAddress\",\"outputs\":[],\"stateMutability\":\"nonpayable\",\"type\":\"function\"},{\"inputs\":[{\"internalType\":\"address\",\"name\":\"asset\",\"type\":\"address\"},{\"internalType\":\"bool\",\"name\":\"useAsCollateral\",\"type\":\"bool\"}],\"name\":\"setUserUseReserveAsCollateral\",\"outputs\":[],\"stateMutability\":\"nonpayable\",\"type\":\"function\"},{\"inputs\":[{\"internalType\":\"address\",\"name\":\"asset\",\"type\":\"address\"},{\"internalType\":\"uint256\",\"name\":\"rateMode\",\"type\":\"uint256\"}],\"name\":\"swapBorrowRateMode\",\"outputs\":[],\"stateMutability\":\"nonpayable\",\"type\":\"function\"},{\"inputs\":[{\"internalType\":\"address\",\"name\":\"asset\",\"type\":\"address\"},{\"internalType\":\"uint256\",\"name\":\"amount\",\"type\":\"uint256\"},{\"internalType\":\"address\",\"name\":\"to\",\"type\":\"address\"}],\"name\":\"withdraw\",\"outputs\":[{\"internalType\":\"uint256\",\"name\":\"\",\"type\":\"uint256\"}],\"stateMutability\":\"nonpayable\",\"type\":\"function\"}]\n",
        "'''"
      ]
    },
    {
      "cell_type": "code",
      "execution_count": null,
      "metadata": {
        "id": "IUhEX-KvtIXd"
      },
      "outputs": [],
      "source": [
        "# Info del pool\n",
        "# Conectamos con los contratos\n",
        "pool_contract = w3.eth.contract(address=lending_pool_address, abi=pool_abi)\n",
        "\n",
        "USDC_reserve_data=pool_contract.functions['getReserveData'](USDC_address).call()\n",
        "USDC_liquidity_index = USDC_reserve_data[1] / 10**18\n",
        "USDC_variable_borrow_index = USDC_reserve_data[2] / 10**18\n",
        "USDC_liquidity_rate = USDC_reserve_data[3] / 10**27\n",
        "USDC_variable_borrow_rate = USDC_reserve_data[4] / 10**27\n",
        "USDC_stable_borrow_rate = USDC_reserve_data[5] / 10**27\n",
        "wETH_reserve_data=pool_contract.functions['getReserveData'](wETH_address).call()\n",
        "wETH_liquidity_index = wETH_reserve_data[1] / 10**18\n",
        "wETH_variable_borrow_index = wETH_reserve_data[2] / 10**18\n",
        "wETH_liquidity_rate = wETH_reserve_data[3] / 10**27\n",
        "wETH_variable_borrow_rate = wETH_reserve_data[4] / 10**27\n",
        "wETH_stable_borrow_rate = wETH_reserve_data[5] / 10**27"
      ]
    },
    {
      "cell_type": "markdown",
      "metadata": {
        "id": "bvZFGxrg3qjZ"
      },
      "source": [
        "## Strategy and algorithmic idea\n"
      ]
    },
    {
      "cell_type": "markdown",
      "metadata": {
        "id": "dpXBxTzV3tMf"
      },
      "source": [
        "1. Use the staked ETH to borrow 10% USDC from Aave (For example, $1000 worth of ETH staked to take out 100 USDC)\n",
        "\n",
        "2. Use the USDC to open a short position (preferably stop limit) on DyDx with 10x leverage (10 x 10 = 100% of staked ETH amount)\n",
        "\n",
        "3. Find a threshold to keep cashing out the short profit and adding it back to the collateral to prevent liquidation (Max borrow amount on Aave is 80%)"
      ]
    },
    {
      "cell_type": "markdown",
      "source": [
        "For every action to take in the strategy we have to consider a threshold or interval around the trigger prices in order to be hedged against price fluctuations and blockchain traffic delays. Let's have in mind that the actions that we will take are the following\n",
        "- For decreasing prices\n",
        "  - Deposit collateral + Borrow USDC in AAVE\n",
        "  - Deposit collateral + put limit (or stop-limit) order in DyDx\n",
        "  - Open position in DyDx\n",
        "- For increasing prices\n",
        "  - Close position in DyDx\n",
        "  - Remove collateral in DyDx\n",
        "  - Repay debt in AAVE\n",
        "\n",
        "For every action there will be a price trigger and a threshold. Let's define all of them in decreasing order\n",
        "- $P_{close\\_AAVE}$ the price at which we **repay the Debt in AAVE** if we still owe it. This price should be greater than next price, $P_{add\\_coll\\_AAVE}$, in order to have time to borrows back the USDC if starts falling down again as soon as we repay de Debt;\n",
        "- $P_{add\\_coll\\_AAVE}$ the price at which we **add the collateral + borrow USDC in AAVE**;\n",
        "- $P_{remove\\_coll\\_DyDx} = P_{remove\\_coll\\_DyDx}(\\sigma,blockchain\\_traffic,...)$ the price at which we **remove the collateral in DyDx**;\n",
        "- $P_{add\\_coll\\_DyDx} = P_{remove\\_coll\\_DyDx} - \\delta$ a price close to $P_{remove\\_coll\\_DyDx}$ at which we will **add the collateral in DyDx**. The reason for this price is to avoid removing/adding collateral if price moves around $P_{remove\\_coll\\_DyDx}$;\n",
        "- $P_{put\\_limit\\_order} = P_{add\\_coll\\_DyDx} - \\delta$ a price close to $P_{add\\_coll\\_DyDx}$ at which we will **put the limit order at $limit = P_{floor\\_threshold}$**. The reason for this price is to be sure that our entry price will be (slightly) greater or equal to $P_{floor}$ even in volatile markets;\n",
        "- $P_{floor\\_threshold} = P_{floor\\_threshold}(\\sigma, blockchain\\_traffic,...)$ is a price slightly greater than our optimal entry price $P_{floor}$. The main reason to considering this price is to **guarantee that we will already be covered at $P_{floor}$ or below** even in a volatile markets;\n",
        "- $P_{close\\_short}$ the price at which we will \n",
        "  - **close the short position**\n",
        "  - **put a new limit (or stop-limit) order**\n",
        "  \n",
        "  This price should be between $P_{put\\_limit\\_order}$ and $P_{floor\\_threshold}$ in order to be covered if P touches this price but starts falling again (so we will have our limit order below)\n",
        "- $P_{floor}$ is the price **where we have to be hedged**;\n",
        "- $P_{repay\\_AAVE} = P_{repay\\_AAVE}(Debt,pcg)$ price at which the pnl in DyDx is enough to repay AAVE debt + buffer, so we **repay AAVE debt**\n",
        "- $P_{LTV\\_AAVE} = P_{LTV\\_AAVE}(\\sigma,...)$ price at which LTV reaches the limit we defined, so we **increase collateral** if we still owe the Debt;"
      ],
      "metadata": {
        "id": "tJyQUNNbv0xO"
      }
    },
    {
      "cell_type": "markdown",
      "metadata": {
        "id": "RKmuRYnlrlpe"
      },
      "source": [
        "Let's define the intervals in which the price could fall according to the previous definitions. Let's for now define the prices as fixed, although in the future some of them have to be a function of ETH volatility $\\sigma$ and blockchain traffic. So, we have the following intervals named according to their right border (except for I_open_short which is an auxiliary interval for simulatations...we wont use I_put_limit_order for now)\n",
        "\n",
        "- $I_{\\infty} = [P_{return\\_USDC}, \\infty]$\n",
        "- $I_{return\\_USDC} = [P_{borrrow\\_USDC}, P_{return\\_USDC}]$\n",
        "- $I_{borrrow\\_USDC} = [P_{remove\\_coll\\_DyDx}, P_{borrrow\\_USDC}] \\sim [\\tilde{P}]$\n",
        "- $I_{remove\\_coll\\_DyDx} = [P_{add\\_coll\\_DyDx}, P_{remove\\_coll\\_DyDx}]$\n",
        "- $I_{add\\_coll\\_DyDx} = [P_{put\\_limit\\_order}, P_{add\\_coll\\_DyDx}]$\n",
        "- $I_{put\\_limit\\_order} = [P_{close\\_short}, P_{put\\_limit\\_order}]$\n",
        "- $I_{close\\_short} = [P_{floor\\_threshold}, P_{close\\_short}]$\n",
        "<!-- - $I_{dead} = [P_{floor\\_threshold}, P_{stop}]$ -->\n",
        "- $I_{open\\_short} = [P_{floor}, P_{floor\\_threshold}]$\n",
        "- $I_{floor} = [P_{repay\\_AAVE}, P_{floor}]$\n",
        "- $I_{repay\\_AAVE} = [P_{LTV\\_AAVE}, P_{repay\\_AAVE}]$\n",
        "- $I_{-\\infty} = [-\\infty, P_{LTV\\_AAVE}]$\n",
        "\n",
        "We will do the following according to current price and its movement\n",
        "- $P\\in I_{out}$ & P is rising: we repay AAVE debt if it is still open\n",
        "- $P\\in I_{stop\\_threshold}$ \n",
        "  - if P is decreasing: we trigger AAVE strategy\n",
        "  - if P is increasing: we close the short position\n",
        "- $P\\in I_{floor\\_threshold}$ & P is falling: we open the short position in DyDx\n",
        "- $P\\in I_{AAVE\\_LTV\\_limit}$ & P is falling\n",
        "  - if $P_{LTV\\_AAVE} < P < P_{repay\\_debt} (< P_{floor})$: we repay AAVE debt\n",
        "- $P_{repay\\_debt} < P < P_{LTV\\_AAVE}$ & P is falling: we repay part of AAVE debt"
      ]
    },
    {
      "cell_type": "markdown",
      "metadata": {
        "id": "_9DEzlBcZAV3"
      },
      "source": [
        "Given that it isn't the same the direction from which the price enters into the intervals and that we should be aware of the interval in which the price falls (in order to know the actual border price and therefor being able to update all the parameters), we have to define a way track price movement direction. We will do this by defining\n",
        "\n",
        "- I_current: the current interval where the price is\n",
        "- I_previous: the interval where the last price read by the bot was\n",
        "- I_old: the last interval which was different than the current interval (we will use this to track price movement direction)\n",
        "\n",
        "So, \n",
        "\n",
        "- if I_previous = I_current we do nothing bc the price is just moving in this interval\n",
        "- if I_previous != I_current it means the price changed interval\n",
        "  \n",
        "  - if I_old > I_current ---> it means the price is decreasing and we have to take action as follows\n",
        "    - I_old >= I_close_AAVE & \n",
        "      - I_current == I_add_coll_AAVE ---> Add collateral in AAVE\n",
        "      - I_current == I_add_coll_DyDx (it means P jumped from I_old to I_add_coll_DyDx) ---> Add collateral in AAVE + add collateral in DyDx (we have to do all the past actions we didnt do because of the jump)\n",
        "      - I_current == I_add_coll_AAVE ---> Add collateral in AAVE\n",
        "    - I_old >= I_floor_threshold & I_current <= I_floor_threshold (ie P crossing P_floor_threshold while decreasing) ---> Open the short position\n",
        "    - if I_current = I_AAVE_LTV_limit (ie P crossing P_floor while decreasing) \n",
        "      - if P_LTV_AAVE < P < P_Repay_debt ---> Repay whole AAVE debt\n",
        "    - if I_current < I_AAVE_LTV_limit ( ie P_Repay_debt < P < P_LTV_AAVE) ---> Repay part of AAVE debt\n",
        "\n",
        "  - if I_old < I_current ---> it means the price is rising and we have two actions to check\n",
        "\n",
        "    - I_current = I_infty ---> Repay AAVE debt if still open\n",
        "    - I_old <= I_stop_threshold & I_current >= I_stop_threshold (ie P crossing P_stop while increasing) ---> Close the short position\n",
        "    [Note that we check the inequalities in order to contemplate price jumps]"
      ]
    },
    {
      "cell_type": "code",
      "source": [
        "A = []\n",
        "for i in reversed(range(5,10)):\n",
        "  A.append(i)\n",
        "A"
      ],
      "metadata": {
        "colab": {
          "base_uri": "https://localhost:8080/"
        },
        "id": "Ou7dVrtiIyxS",
        "outputId": "b951eb9e-c2e3-413f-e73b-0d79f7d46636"
      },
      "execution_count": null,
      "outputs": [
        {
          "output_type": "execute_result",
          "data": {
            "text/plain": [
              "[9, 8, 7, 6, 5]"
            ]
          },
          "metadata": {},
          "execution_count": 93
        }
      ]
    },
    {
      "cell_type": "markdown",
      "metadata": {
        "id": "StOqyKIGqYwT"
      },
      "source": [
        "For every new market price we have to check in which situation of the previous ones we are and update the parameters as follows\n",
        "\n",
        "- increase_collateral: We have to reduce the position in DyDx letting only the necessary to repay the debt and update all DyDx parameters, increase the colateral in AAVE by the $partial\\_pyl$ amount and update AAVE parameters. As we show next:\n",
        "  \\begin{align*}\n",
        "  \\large\\text{DyDx parameters} \\\\\n",
        "    size_{ETH} &\\leftarrow \\frac{Debt+fees}{P_{LTV\\_AVVE}-P_{entry\\_DyDx}} \\\\\n",
        "    equity &\\leftarrow Equity(size_{ETH}, P) \\\\\n",
        "    P_{Liquidation\\_DyDx} &\\leftarrow P\\_liquidation\\_DyDX\\_function(equity,P)\\\\\n",
        "    partial\\_pyl &\\leftarrow pyl(size_{ETH}\\_previous-size_{ETH},P) \\\\\n",
        "    partial\\_pyl\\_ETH &\\leftarrow partial\\_pyl / P\\\\\n",
        "  \\large\\text{AAVE parameters} \\\\\n",
        "    collateral\\_ETH &\\leftarrow collateral\\_ETH\\_previous + partial\\_pyl\\_ETH \\\\\n",
        "    LTV &\\leftarrow LTV\\_function(collateral\\_ETH, P) \\\\\n",
        "    P_{LTV\\_AAVE} &\\leftarrow P\\_liquidation\\_AAVE\\_function(P_{LTV\\_AAVE\\_previous}, size_{ETH}, r_L, r_B) \\\\\n",
        "  \\end{align*}\n",
        "\n",
        "- reduce_collateral: We have to reduce the collateral in AAVE and increase the position in DyDx, and update the parameters:\n",
        "  \\begin{align*}\n",
        "  \\large\\text{AAVE parameters} \\\\\n",
        "    stk &\\leftarrow stk\\_previous \\\\\n",
        "    P_{LTV\\_AAVE} &\\leftarrow P_{LTV\\_AAVE\\_previous}\\\\\n",
        "    LTV &\\leftarrow LTV(stk, P) \\\\\n",
        "  \\large\\text{DyDx parameters} \\\\\n",
        "    size_{ETH} &\\leftarrow size_{ETH}+ (stk\\_previous - stk)\\\\\n",
        "    equity &\\leftarrow Equity(size_{ETH}, P) \\\\\n",
        "    P_{Liquidation\\_DyDx} &\\leftarrow P\\_liquidation\\_DyDX\\_function(equity,P)\n",
        "  \\end{align*}"
      ]
    },
    {
      "cell_type": "markdown",
      "metadata": {
        "id": "mucEWT2OHM8b"
      },
      "source": [
        "## Algo"
      ]
    },
    {
      "cell_type": "markdown",
      "metadata": {
        "id": "zuFjRVqdEa0q"
      },
      "source": [
        "### Initial Values"
      ]
    },
    {
      "cell_type": "markdown",
      "metadata": {
        "id": "TpDGcNTCIfmK"
      },
      "source": [
        "Let's start by defining the functions we'll use to update the parameters."
      ]
    },
    {
      "cell_type": "code",
      "execution_count": null,
      "metadata": {
        "id": "pZCPSwMJhK1P"
      },
      "outputs": [],
      "source": [
        "# AAVE functions\n",
        "Coll_USD = lambda coll, P: coll * P\n",
        "fees_function = lambda coll,r_L, r_B: coll * (r_L-r_B * 0.1)\n",
        "LTV_function = lambda coll, P: Debt / Coll_USD(coll,P)\n",
        "\n",
        "# DyDx functions\n",
        "pnl = lambda size_ETH, P: size_ETH * (P-P_entry_DyDx)\n",
        "Notional = lambda size_ETH, P: abs(size_ETH)*P\n",
        "Equity = lambda size_ETH, P: margin + pnl(size_ETH,P)\n",
        "leverage = lambda size_ETH, P: Notional(size_ETH,P) / Equity(size_ETH, P)\n",
        "\n",
        "\n",
        "# AAVE LTV Limits and DyDx Liquidation Price\n",
        "P_LTV_AAVE_function = lambda previous_LTV_price, size_ETH, coll, r_L, r_B: previous_LTV_price - ( pnl(size_ETH, previous_LTV_price) + Debt + fees_function(coll, r_L,r_B) ) / coll\n",
        "P_liquidation_DyDx_function = lambda Equity, P: P * (1 + (maintenanceMarginFraction * Equity / Total_Maintenance_Margin_Requirement))\n",
        "P_to_cover_AAVE_debt_function = lambda size_ETH, coll, r_L, r_B, pcg_of_debt_to_cover: P_entry_DyDx + ( Debt + fees_function(coll, r_L, r_B) ) * pcg_of_debt_to_cover / size_ETH "
      ]
    },
    {
      "cell_type": "markdown",
      "metadata": {
        "id": "RgUzxoId52B_"
      },
      "source": [
        "Let's look at the historical prices of ETH in order to find some relevant initial values for the parameters."
      ]
    },
    {
      "cell_type": "code",
      "execution_count": null,
      "metadata": {
        "colab": {
          "base_uri": "https://localhost:8080/",
          "height": 445
        },
        "id": "WZM8MJWanUae",
        "outputId": "7d087750-8b7d-46af-a305-23227c731699"
      },
      "outputs": [
        {
          "output_type": "execute_result",
          "data": {
            "text/plain": [
              "<matplotlib.legend.Legend at 0x7fc62343e6d0>"
            ]
          },
          "metadata": {},
          "execution_count": 54
        },
        {
          "output_type": "display_data",
          "data": {
            "text/plain": [
              "<Figure size 1512x504 with 1 Axes>"
            ],
            "image/png": "[encoded data removed]"
          },
          "metadata": {
            "needs_background": "light"
          }
        }
      ],
      "source": [
        "fig, axs = plt.subplots(1,1, figsize = (21, 7))\n",
        "axs.plot(list(P_ETH), label = 'P_ETH', c = 'blue')\n",
        "axs.grid()\n",
        "axs.legend(loc = 'upper left')"
      ]
    },
    {
      "cell_type": "markdown",
      "source": [
        "Let's now define a plot function to see how our parameters evolve as price changes."
      ],
      "metadata": {
        "id": "nlxbkJrgbUsF"
      }
    },
    {
      "cell_type": "code",
      "source": [
        "def plot_(P, intervals):\n",
        "  stgy_1(P,intervals)\n",
        "  pnl_ = pnl(list(DyDx_historical_df['size_ETH']), P)\n",
        "  fig, axs = plt.subplots(1,1, figsize = (21, 7))\n",
        "  axs.plot(list(P), label = 'market price')\n",
        "  axs.plot(list(pnl_), label = 'DyDx pnl')\n",
        "  axs.grid()\n",
        "  axs.legend(loc = 'lower left')"
      ],
      "metadata": {
        "id": "_-RLuCq9ZN-A"
      },
      "execution_count": null,
      "outputs": []
    },
    {
      "cell_type": "code",
      "execution_count": null,
      "metadata": {
        "id": "b4NzDp-Q3Ad0"
      },
      "outputs": [],
      "source": [
        "# Staked ETH\n",
        "stk = 1\n",
        "\n",
        "P_floor = 1140\n",
        "\n",
        "P_close_AAVE = 1250\n",
        "P_add_coll_AAVE = 1200\n",
        "P_remove_coll_DyDx = 1190\n",
        "P_add_coll_DyDx = 1180\n",
        "P_put_limit_order = 1170\n",
        "P_floor_threshold = 1160\n",
        "P_close_short = 1150"
      ]
    },
    {
      "cell_type": "markdown",
      "metadata": {
        "id": "UPZeTAR1hHVS"
      },
      "source": [
        "Let's define first all the necessary parameters and functions. We need initial values for\n",
        "\n",
        "- Staked ETH = stk\n",
        "- P_floor\n",
        "- P_floor_threshold = P_floor * 1.01\n",
        "- P_stop = P_floor * 1.01\n",
        "- P_stop_threshold = P_stop * 1.01\n",
        "\n",
        "- AAVE_parameters: \n",
        "  - P_entry_AAVE ~ P_stop (ex P_stop * 1.001)\n",
        "  - Collateral in ETH = coll, \n",
        "  - Debt in USDC = Debt,\n",
        "  - LTV value = LTV, \n",
        "  - Price for LTV limit in AAVE = P_LTV_AAVE,\n",
        "  - Rates for lending ETH and borrowing USDC = r_L, r_B;\n",
        "\n",
        "- DyDx_parameters: \n",
        "  - P_entry_DyDx ~ P_floor (ex P_floor * 1.001)\n",
        "  - Short size in ETH = size_ETH,\n",
        "  - Margin = margin,\n",
        "  - Notional = notional,\n",
        "  - Equity = equity,\n",
        "  - leverage = leverage,\n",
        "  - Price for liquidation in DyDx = P_liquidation_DyDx."
      ]
    },
    {
      "cell_type": "markdown",
      "metadata": {
        "id": "nRx0rbkSyQ9p"
      },
      "source": [
        "Let's try the algo with some test values. Again, just to try the algo we will define all the LTV price limits and DyDx liquidation prices in advance and as fixed. Later, they will be defined in real time and change dynamically as price changes."
      ]
    },
    {
      "cell_type": "markdown",
      "metadata": {
        "id": "Y38EQAV0UfbQ"
      },
      "source": [
        "We show that the prices crosses the relevant prices several times."
      ]
    },
    {
      "cell_type": "code",
      "execution_count": null,
      "metadata": {
        "colab": {
          "base_uri": "https://localhost:8080/",
          "height": 445
        },
        "id": "jlRejFHi0TKz",
        "outputId": "0574383e-2fe3-41af-ebd1-ad742da7667e"
      },
      "outputs": [
        {
          "output_type": "execute_result",
          "data": {
            "text/plain": [
              "<matplotlib.legend.Legend at 0x7fc620c44e10>"
            ]
          },
          "metadata": {},
          "execution_count": 61
        },
        {
          "output_type": "display_data",
          "data": {
            "text/plain": [
              "<Figure size 1512x504 with 1 Axes>"
            ],
            "image/png": "[encoded data removed]"
          },
          "metadata": {
            "needs_background": "light"
          }
        }
      ],
      "source": [
        "fig, axs = plt.subplots(1,1, figsize = (21, 7))\n",
        "axs.plot(list(P_ETH), label = 'P_ETH', c = 'blue')\n",
        "axs.axhline(y = P_floor, color = 'r', linestyle = '--', label = 'floor')\n",
        "axs.axhline(y = P_floor_threshold, color = 'b', linestyle = '--', label = 'floor threshold')\n",
        "axs.axhline(y = P_close_short, color = 'magenta', linestyle = '--', label = 'close short')\n",
        "axs.axhline(y = P_put_limit_order, color = 'orange', linestyle = '--', label = 'put limit order')\n",
        "axs.grid()\n",
        "axs.legend(loc = 'upper left')"
      ]
    },
    {
      "cell_type": "markdown",
      "metadata": {
        "id": "7oXfKBSIU2KN"
      },
      "source": [
        "Now we define all the intervals where price cuold fall. Note that we use math.inf as the right border of I_out to contemplate all prices above P_trigger."
      ]
    },
    {
      "cell_type": "code",
      "execution_count": null,
      "metadata": {
        "id": "gg741-oRxPmu"
      },
      "outputs": [],
      "source": [
        "import math \n",
        "I_infty = [P_close_AAVE, math.inf]\n",
        "I_close_AAVE = [P_add_coll_AAVE, P_close_AAVE]\n",
        "I_add_coll_AAVE = [P_remove_coll_DyDx, P_add_coll_AAVE]\n",
        "I_remove_coll_DyDx = [P_add_coll_DyDx, P_remove_coll_DyDx]\n",
        "I_add_coll_DyDx = [P_put_limit_order, P_add_coll_DyDx]\n",
        "I_put_limit_order = [P_close_short,P_put_limit_order]\n",
        "I_close_short = [P_floor_threshold, P_close_short]\n",
        "I_open_short = [P_floor, P_floor_threshold]\n",
        "I_minus_infty = [-math.inf, P_floor]\n",
        "I_AAVE_LTV_limit = float('nan')\n"
      ]
    },
    {
      "cell_type": "code",
      "execution_count": null,
      "metadata": {
        "id": "84LF1-2vnefI"
      },
      "outputs": [],
      "source": [
        "intervals = {}\n",
        "# intervals[\"I_entry\"]=I_entry\n",
        "intervals[\"I_infty\"] = I_infty\n",
        "intervals[\"I_close_AAVE\"] = I_close_AAVE\n",
        "intervals[\"I_add_coll_AAVE\"] = I_add_coll_AAVE\n",
        "intervals[\"I_remove_coll_DyDx\"] = I_remove_coll_DyDx\n",
        "intervals[\"I_add_coll_DyDx\"] = I_add_coll_DyDx\n",
        "intervals[\"I_put_limit_order\"] = I_put_limit_order\n",
        "intervals[\"I_close_short\"] = I_close_short\n",
        "intervals[\"I_open_short\"] = I_open_short\n",
        "intervals[\"I_minus_infty\"] = I_minus_infty"
      ]
    },
    {
      "cell_type": "code",
      "execution_count": null,
      "metadata": {
        "colab": {
          "base_uri": "https://localhost:8080/"
        },
        "id": "ib4fjwCAn8ML",
        "outputId": "a3d42cda-94f9-4078-a738-043aff439837"
      },
      "outputs": [
        {
          "output_type": "execute_result",
          "data": {
            "text/plain": [
              "{'I_add_coll_AAVE': [1190, 1200],\n",
              " 'I_add_coll_DyDx': [1170, 1180],\n",
              " 'I_close_AAVE': [1200, 1250],\n",
              " 'I_close_short': [1160, 1150],\n",
              " 'I_floor_threshold': [1140, 1160],\n",
              " 'I_infty': [1250, inf],\n",
              " 'I_minus_infty': [-inf, 1140],\n",
              " 'I_put_limit_order': [1150, 1170],\n",
              " 'I_remove_coll_DyDx': [1180, 1190]}"
            ]
          },
          "metadata": {},
          "execution_count": 78
        }
      ],
      "source": [
        "intervals"
      ]
    },
    {
      "cell_type": "markdown",
      "metadata": {
        "id": "im6loRJkVR-_"
      },
      "source": [
        "Let's now define a summary with the historical data. This is useful in order to run the algo. The 'interval_name' feature is just because is easier to understand the interval in which the price falls by reading its name than by remembering the interval values."
      ]
    },
    {
      "cell_type": "code",
      "execution_count": null,
      "metadata": {
        "id": "KvW-T66fwzOl"
      },
      "outputs": [],
      "source": [
        "summary = {'market_price': P_ETH,\n",
        "           'price_in_interval': [[0,0]]*len(P_ETH),\n",
        "           'interval_name': ['0']*len(P_ETH)}"
      ]
    },
    {
      "cell_type": "code",
      "execution_count": null,
      "metadata": {
        "id": "9yD8Z-rcw0zE"
      },
      "outputs": [],
      "source": [
        "for loc in range(len(summary['market_price'])):\n",
        "  P = summary['market_price'][loc]\n",
        "  for i in range(len(intervals.keys())):\n",
        "    if intervals[list(intervals.keys())[i]][0] < P <= intervals[list(intervals.keys())[i]][1]:\n",
        "      summary['price_in_interval'][loc] = intervals[list(intervals.keys())[i]]\n",
        "      summary['interval_name'][loc] = list(intervals.keys())[i]"
      ]
    },
    {
      "cell_type": "code",
      "execution_count": null,
      "metadata": {
        "id": "gfmwUGRtpXQq",
        "colab": {
          "base_uri": "https://localhost:8080/",
          "height": 394
        },
        "outputId": "a494a8bd-e5ec-4334-9528-cfcb45a08b1d"
      },
      "outputs": [
        {
          "output_type": "execute_result",
          "data": {
            "text/plain": [
              "                    market_price price_in_interval      interval_name\n",
              "timestamp                                                            \n",
              "2022-07-06 07:50:00      1138.06      [-inf, 1140]      I_minus_infty\n",
              "2022-07-06 07:55:00      1138.25      [-inf, 1140]      I_minus_infty\n",
              "2022-07-06 08:00:00      1134.89      [-inf, 1140]      I_minus_infty\n",
              "2022-07-06 08:05:00      1144.24      [1140, 1160]  I_floor_threshold\n",
              "2022-07-06 08:10:00      1144.31      [1140, 1160]  I_floor_threshold\n",
              "2022-07-06 08:15:00      1143.07      [1140, 1160]  I_floor_threshold\n",
              "2022-07-06 08:20:00      1143.33      [1140, 1160]  I_floor_threshold\n",
              "2022-07-06 08:25:00      1141.85      [1140, 1160]  I_floor_threshold\n",
              "2022-07-06 08:30:00      1142.31      [1140, 1160]  I_floor_threshold\n",
              "2022-07-06 08:35:00      1141.84      [1140, 1160]  I_floor_threshold"
            ],
            "text/html": [
              "\n",
              "  <div id=\"df-f7c0ae75-3d25-4f5b-8a34-fb70e05ada16\">\n",
              "    <div class=\"colab-df-container\">\n",
              "      <div>\n",
              "<style scoped>\n",
              "    .dataframe tbody tr th:only-of-type {\n",
              "        vertical-align: middle;\n",
              "    }\n",
              "\n",
              "    .dataframe tbody tr th {\n",
              "        vertical-align: top;\n",
              "    }\n",
              "\n",
              "    .dataframe thead th {\n",
              "        text-align: right;\n",
              "    }\n",
              "</style>\n",
              "<table border=\"1\" class=\"dataframe\">\n",
              "  <thead>\n",
              "    <tr style=\"text-align: right;\">\n",
              "      <th></th>\n",
              "      <th>market_price</th>\n",
              "      <th>price_in_interval</th>\n",
              "      <th>interval_name</th>\n",
              "    </tr>\n",
              "    <tr>\n",
              "      <th>timestamp</th>\n",
              "      <th></th>\n",
              "      <th></th>\n",
              "      <th></th>\n",
              "    </tr>\n",
              "  </thead>\n",
              "  <tbody>\n",
              "    <tr>\n",
              "      <th>2022-07-06 07:50:00</th>\n",
              "      <td>1138.06</td>\n",
              "      <td>[-inf, 1140]</td>\n",
              "      <td>I_minus_infty</td>\n",
              "    </tr>\n",
              "    <tr>\n",
              "      <th>2022-07-06 07:55:00</th>\n",
              "      <td>1138.25</td>\n",
              "      <td>[-inf, 1140]</td>\n",
              "      <td>I_minus_infty</td>\n",
              "    </tr>\n",
              "    <tr>\n",
              "      <th>2022-07-06 08:00:00</th>\n",
              "      <td>1134.89</td>\n",
              "      <td>[-inf, 1140]</td>\n",
              "      <td>I_minus_infty</td>\n",
              "    </tr>\n",
              "    <tr>\n",
              "      <th>2022-07-06 08:05:00</th>\n",
              "      <td>1144.24</td>\n",
              "      <td>[1140, 1160]</td>\n",
              "      <td>I_floor_threshold</td>\n",
              "    </tr>\n",
              "    <tr>\n",
              "      <th>2022-07-06 08:10:00</th>\n",
              "      <td>1144.31</td>\n",
              "      <td>[1140, 1160]</td>\n",
              "      <td>I_floor_threshold</td>\n",
              "    </tr>\n",
              "    <tr>\n",
              "      <th>2022-07-06 08:15:00</th>\n",
              "      <td>1143.07</td>\n",
              "      <td>[1140, 1160]</td>\n",
              "      <td>I_floor_threshold</td>\n",
              "    </tr>\n",
              "    <tr>\n",
              "      <th>2022-07-06 08:20:00</th>\n",
              "      <td>1143.33</td>\n",
              "      <td>[1140, 1160]</td>\n",
              "      <td>I_floor_threshold</td>\n",
              "    </tr>\n",
              "    <tr>\n",
              "      <th>2022-07-06 08:25:00</th>\n",
              "      <td>1141.85</td>\n",
              "      <td>[1140, 1160]</td>\n",
              "      <td>I_floor_threshold</td>\n",
              "    </tr>\n",
              "    <tr>\n",
              "      <th>2022-07-06 08:30:00</th>\n",
              "      <td>1142.31</td>\n",
              "      <td>[1140, 1160]</td>\n",
              "      <td>I_floor_threshold</td>\n",
              "    </tr>\n",
              "    <tr>\n",
              "      <th>2022-07-06 08:35:00</th>\n",
              "      <td>1141.84</td>\n",
              "      <td>[1140, 1160]</td>\n",
              "      <td>I_floor_threshold</td>\n",
              "    </tr>\n",
              "  </tbody>\n",
              "</table>\n",
              "</div>\n",
              "      <button class=\"colab-df-convert\" onclick=\"convertToInteractive('df-f7c0ae75-3d25-4f5b-8a34-fb70e05ada16')\"\n",
              "              title=\"Convert this dataframe to an interactive table.\"\n",
              "              style=\"display:none;\">\n",
              "        \n",
              "  <svg xmlns=\"http://www.w3.org/2000/svg\" height=\"24px\"viewBox=\"0 0 24 24\"\n",
              "       width=\"24px\">\n",
              "    <path d=\"M0 0h24v24H0V0z\" fill=\"none\"/>\n",
              "    <path d=\"M18.56 5.44l.94 2.06.94-2.06 2.06-.94-2.06-.94-.94-2.06-.94 2.06-2.06.94zm-11 1L8.5 8.5l.94-2.06 2.06-.94-2.06-.94L8.5 2.5l-.94 2.06-2.06.94zm10 10l.94 2.06.94-2.06 2.06-.94-2.06-.94-.94-2.06-.94 2.06-2.06.94z\"/><path d=\"M17.41 7.96l-1.37-1.37c-.4-.4-.92-.59-1.43-.59-.52 0-1.04.2-1.43.59L10.3 9.45l-7.72 7.72c-.78.78-.78 2.05 0 2.83L4 21.41c.39.39.9.59 1.41.59.51 0 1.02-.2 1.41-.59l7.78-7.78 2.81-2.81c.8-.78.8-2.07 0-2.86zM5.41 20L4 18.59l7.72-7.72 1.47 1.35L5.41 20z\"/>\n",
              "  </svg>\n",
              "      </button>\n",
              "      \n",
              "  <style>\n",
              "    .colab-df-container {\n",
              "      display:flex;\n",
              "      flex-wrap:wrap;\n",
              "      gap: 12px;\n",
              "    }\n",
              "\n",
              "    .colab-df-convert {\n",
              "      background-color: #E8F0FE;\n",
              "      border: none;\n",
              "      border-radius: 50%;\n",
              "      cursor: pointer;\n",
              "      display: none;\n",
              "      fill: #1967D2;\n",
              "      height: 32px;\n",
              "      padding: 0 0 0 0;\n",
              "      width: 32px;\n",
              "    }\n",
              "\n",
              "    .colab-df-convert:hover {\n",
              "      background-color: #E2EBFA;\n",
              "      box-shadow: 0px 1px 2px rgba(60, 64, 67, 0.3), 0px 1px 3px 1px rgba(60, 64, 67, 0.15);\n",
              "      fill: #174EA6;\n",
              "    }\n",
              "\n",
              "    [theme=dark] .colab-df-convert {\n",
              "      background-color: #3B4455;\n",
              "      fill: #D2E3FC;\n",
              "    }\n",
              "\n",
              "    [theme=dark] .colab-df-convert:hover {\n",
              "      background-color: #434B5C;\n",
              "      box-shadow: 0px 1px 3px 1px rgba(0, 0, 0, 0.15);\n",
              "      filter: drop-shadow(0px 1px 2px rgba(0, 0, 0, 0.3));\n",
              "      fill: #FFFFFF;\n",
              "    }\n",
              "  </style>\n",
              "\n",
              "      <script>\n",
              "        const buttonEl =\n",
              "          document.querySelector('#df-f7c0ae75-3d25-4f5b-8a34-fb70e05ada16 button.colab-df-convert');\n",
              "        buttonEl.style.display =\n",
              "          google.colab.kernel.accessAllowed ? 'block' : 'none';\n",
              "\n",
              "        async function convertToInteractive(key) {\n",
              "          const element = document.querySelector('#df-f7c0ae75-3d25-4f5b-8a34-fb70e05ada16');\n",
              "          const dataTable =\n",
              "            await google.colab.kernel.invokeFunction('convertToInteractive',\n",
              "                                                     [key], {});\n",
              "          if (!dataTable) return;\n",
              "\n",
              "          const docLinkHtml = 'Like what you see? Visit the ' +\n",
              "            '<a target=\"_blank\" href=https://colab.research.google.com/notebooks/data_table.ipynb>data table notebook</a>'\n",
              "            + ' to learn more about interactive tables.';\n",
              "          element.innerHTML = '';\n",
              "          dataTable['output_type'] = 'display_data';\n",
              "          await google.colab.output.renderOutput(dataTable, element);\n",
              "          const docLink = document.createElement('div');\n",
              "          docLink.innerHTML = docLinkHtml;\n",
              "          element.appendChild(docLink);\n",
              "        }\n",
              "      </script>\n",
              "    </div>\n",
              "  </div>\n",
              "  "
            ]
          },
          "metadata": {},
          "execution_count": 81
        }
      ],
      "source": [
        "summary_df = pd.DataFrame.from_dict(summary)\n",
        "summary_df.iloc[250:260]"
      ]
    },
    {
      "cell_type": "markdown",
      "metadata": {
        "id": "AsSKB37hP94X"
      },
      "source": [
        "Something we have to figure out is the criteria for reducing the collateral once the price starts growing. In order to finish the modules with test values, what we do is the following. Once the price starts growing and it changed intervals we\n",
        "  - Find the last time the price was in I_current\n",
        "  - Update all the parameters using the values they had that last time\n",
        "So, the idea here is that as we start the strategy when price is moving down, by the time it starts going up it should fall in previously visited intervals. It means that if we can somehow store the old data, we can re-use it.\n",
        "\n",
        "In order to store data we will define one dictionary for AAVE and one for DyDx with all the historical parameters, and then we will convert them to dataframes (bc is easier to fill them up as the simulations moves forward). Note that we will also add two keys for\n",
        "  - market price: to have the history of the changes according to every price in our data\n",
        "  - interval: this is necessary to find the last time the price was in I_current (we will find in the AAVE historical data frame the indexes that matches with I_current, and for those indexes we will use the 'collateral' columns values).\n",
        "\n",
        "In the future these parameters will probably change for every new price."
      ]
    },
    {
      "cell_type": "code",
      "execution_count": null,
      "metadata": {
        "id": "g8lYP8M2xyBr"
      },
      "outputs": [],
      "source": [
        "AAVE_historical = {'.market_price': P_ETH,\n",
        "                   '.interval_name': summary['interval_name'],\n",
        "                   'coll': [0]*len(P_ETH),#[coll]*len(P_ETH),\n",
        "                   'Debt': [0] * len(P_ETH),\n",
        "                   'LTV': [0]*len(P_ETH),#[LTV]*len(P_ETH),\n",
        "                   'P_LTV_AAVE': [0]*len(P_ETH),#[P_LTV_AAVE[0]]*len(P_ETH),\n",
        "                   'lend rate':0*P_ETH,\n",
        "                   'borrow rate':0*P_ETH,\n",
        "                   'AAVE_strategy_status': [False]*len(P_ETH)}\n",
        "DyDx_historical = {'.market_price':P_ETH,\n",
        "                   '.interval_name': summary['interval_name'],\n",
        "                   'size_ETH': 0*P_ETH,\n",
        "                   'equity': 0*P_ETH,\n",
        "                   'notional': 0*P_ETH,\n",
        "                   'leverage': 0*P_ETH,\n",
        "                   'P_repay_Debt':0*P_ETH,\n",
        "                   'short_status': [False]*len(P_ETH)}\n",
        "                  #  'P_liquidation_DyDx': 0*P_ETH}"
      ]
    },
    {
      "cell_type": "code",
      "execution_count": null,
      "metadata": {
        "id": "cVtKJpW1yNSX"
      },
      "outputs": [],
      "source": [
        "AAVE_historical_df = pd.DataFrame.from_dict(AAVE_historical)\n",
        "DyDx_historical_df = pd.DataFrame.from_dict(DyDx_historical)"
      ]
    },
    {
      "cell_type": "code",
      "execution_count": null,
      "metadata": {
        "id": "9XB1KVd7iY7y"
      },
      "outputs": [],
      "source": [
        "AAVE_historical_df"
      ]
    },
    {
      "cell_type": "code",
      "execution_count": null,
      "metadata": {
        "id": "Ov-gdbEm5rfW"
      },
      "outputs": [],
      "source": [
        "DyDx_historical_df"
      ]
    },
    {
      "cell_type": "markdown",
      "metadata": {
        "id": "rpPcWyASEYcU"
      },
      "source": [
        "### Modules"
      ]
    },
    {
      "cell_type": "markdown",
      "metadata": {
        "id": "UZuOtyM43v3E"
      },
      "source": [
        "Next we define a function to compare intervals. Note that if this function return False it is the same as beeing I_1 > I_2 because all the intervals are disjoint."
      ]
    },
    {
      "cell_type": "code",
      "execution_count": null,
      "metadata": {
        "id": "z4yH1sRv2emm"
      },
      "outputs": [],
      "source": [
        "# note that if this function return False it is the same as beeing I_1 > I_2 because all the intervals are disjoint\n",
        "def is_lower(I_1, I_2):\n",
        "  if I_1[1] <= I_2[0]:\n",
        "    return True\n",
        "  else:\n",
        "    return False"
      ]
    },
    {
      "cell_type": "markdown",
      "metadata": {
        "id": "kGaItwXW3044"
      },
      "source": [
        "Next, we define the different modules for the algo\n",
        "\n",
        "- stgy_1(): Will simulate the bot action for the historical data P\n",
        "- scenarios(): Will compare the intervals and return the updated parameters and values\n",
        "- update(): Will update the parameters and values with respect to the case scenario received from scenarios()."
      ]
    },
    {
      "cell_type": "code",
      "execution_count": null,
      "metadata": {
        "id": "wLibsOxzvxV4"
      },
      "outputs": [],
      "source": [
        "def stgy_1(market_prices, intervals):\n",
        "  I_old = I_infty\n",
        "  AAVE_parameters = AAVE_historical_df.iloc[0]\n",
        "  DyDx_parameters = DyDx_historical_df.iloc[0]\n",
        "  for i in range(1,len(market_prices)-1):\n",
        "    I_previous = intervals[i-1]\n",
        "    # P_previous = P[i-1]\n",
        "    I_current = intervals[i]\n",
        "    P = market_prices[i]\n",
        "    # We could pass the whole AAVE_historical_df, DyDx_historical_df as parameters for scenarios if necessary\n",
        "    AAVE_parameters_aux, DyDx_parameters_aux = scenarios(P,\n",
        "                                                 I_old, I_current,\n",
        "                                                 AAVE_historical_df.iloc[i-1], DyDx_historical_df.iloc[i-1])\n",
        "    AAVE_historical_df.iloc[i] = AAVE_parameters_aux\n",
        "    DyDx_historical_df.iloc[i] = DyDx_parameters_aux\n",
        "    if I_previous != I_current:\n",
        "      I_old = I_previous"
      ]
    },
    {
      "cell_type": "code",
      "execution_count": null,
      "metadata": {
        "id": "Uz4b68Uf-Uha"
      },
      "outputs": [],
      "source": [
        "# AAVE methods\n",
        "\n",
        "def close_AAVE(P,I_current):\n",
        "  # AAVE parameters\n",
        "  AAVE_strategy_status = False\n",
        "  # P_entry_AAVE = 0\n",
        "  coll = 0\n",
        "  Debt = 0\n",
        "  LTV = 0\n",
        "\n",
        "  P_LTV_AAVE = 0 # We have to define the criteria for this price\n",
        "  r_L = 0\n",
        "  r_B = 0\n",
        "  I_current_name = list(intervals.keys())[list(intervals.values()).index(I_current)]\n",
        "  \n",
        "  AAVE_parameters = [P, I_current_name, coll, Debt, LTV, P_LTV_AAVE, r_L, r_B, AAVE_strategy_status]\n",
        "\n",
        "  # I_floor = [P_LTV_AAVE, P_floor]\n",
        "  # intervals['I_floor'] = I_floor\n",
        "  # I_minus_infty = [-math.inf, P_LTV_AAVE]\n",
        "  # intervals['I_minus_infty'] = I_minus_infty\n",
        "  return AAVE_parameters\n",
        "\n",
        "def borrow_USDC(P, I_current):\n",
        "  # AAVE parameters\n",
        "  AAVE_strategy_status = True\n",
        "  P_entry_AAVE = P\n",
        "  coll = stk\n",
        "  Debt = stk * P_entry_AAVE * 0.2\n",
        "  LTV = LTV_function(coll,P_entry_AAVE)\n",
        "\n",
        "  P_LTV_AAVE = round(P_entry_AAVE *0.99,3) # We have to define the criteria for this price\n",
        "  r_L = 0\n",
        "  r_B = 0\n",
        "  I_current_name = list(intervals.keys())[list(intervals.values()).index(I_current)]\n",
        "  \n",
        "  AAVE_parameters = [P, I_current_name, coll, Debt, LTV, P_LTV_AAVE, r_L, r_B, AAVE_strategy_status]\n",
        "\n",
        "  I_floor = [P_LTV_AAVE, P_floor]\n",
        "  intervals['I_floor'] = I_floor\n",
        "  I_minus_infty = [-math.inf, P_LTV_AAVE]\n",
        "  intervals['I_minus_infty'] = I_minus_infty\n",
        "  return I_floor, AAVE_parameters\n",
        "\n",
        "def repay_AAVE(P, AAVE_parameters, DyDx_parameters):\n",
        "  p_AAVE, interval_AAVE, coll, Debt, LTV, P_LTV_AAVE, r_L, r_B, AAVE_strategy_status = AAVE_parameters\n",
        "  p_DyDx, interval_DyDx, size_ETH, equity, notional, L, short_status = DyDx_parameters\n",
        "  #\n",
        "  fees = fees_function(coll, r_L, r_B)\n",
        "  size_ETH_for_debt = (Debt + fees) / (P-P_entry_DyDx)\n",
        "  new_size_ETH = size_ETH - size_ETH_for_debt\n",
        "\n",
        "  pnl_for_debt = pnl(size_ETH_for_debt, P)\n",
        "  Debt = Debt + fees - pnl_for_debt\n",
        "\n",
        "  size_ETH = new_size_ETH\n",
        "  equity = Equity(size_ETH,P)\n",
        "  notional = Notional(size_ETH, P)\n",
        "  L = leverage(size_ETH, P)\n",
        "  # Note that a negative Debt is actually a profit\n",
        "  # We update the parameters\n",
        "  if Debt >0 :\n",
        "    AAVE_strategy_status = True\n",
        "  else:\n",
        "    AAVE_strategy_status = False\n",
        "\n",
        "  AAVE_parameters_aux = [p_AAVE, interval_AAVE, coll, Debt, LTV, P_LTV_AAVE, r_L, r_B, AAVE_strategy_status]\n",
        "  DyDx_parameters_aux = [p_DyDx, interval_DyDx, size_ETH, equity, notional, L, short_status]\n",
        "\n",
        "  return AAVE_parameters_aux, DyDx_parameters_aux\n",
        "\n",
        "# DyDx methods\n",
        "def remove_coll_DyDx(P, I_current, AAVE_parameters):\n",
        "  short_status = False\n",
        "  # DyDx parameters\n",
        "  p_AAVE, interval_AAVE, coll, Debt, LTV, P_LTV_AAVE, r_L, r_B, AAVE_strategy_status = AAVE_parameters\n",
        "  P_entry_DyDx = 0\n",
        "  size_ETH = 0\n",
        "  margin = 0\n",
        "  notional = Notional(size_ETH, P_entry_DyDx)\n",
        "  equity = Equity(size_ETH, P_entry_DyDx)\n",
        "  L = leverage(size_ETH, P_entry_DyDx)\n",
        "  P_repay_debt = P_to_cover_AAVE_debt_function(size_ETH, coll, r_B, r_L, 1.5) # We have to define the criteria for this price\n",
        "\n",
        "  I_current_name = list(intervals.keys())[list(intervals.values()).index(I_current)]\n",
        "  DyDx_parameters = [P, I_current_name, size_ETH, equity, notional, L, P_repay_debt, short_status]\n",
        "  \n",
        "  return DyDx_parameters \n",
        "\n",
        "def add_coll_DyDx(P, I_current, AAVE_parameters):\n",
        "  short_status = False\n",
        "  # DyDx parameters\n",
        "  p_AAVE, interval_AAVE, coll, Debt, LTV, P_LTV_AAVE, r_L, r_B, AAVE_strategy_status = AAVE_parameters\n",
        "  P_entry_DyDx = 0\n",
        "  size_ETH = 0\n",
        "  margin = Debt\n",
        "  notional = Notional(size_ETH, P_entry_DyDx)\n",
        "  equity = Equity(size_ETH, P_entry_DyDx)\n",
        "  L = leverage(size_ETH, P_entry_DyDx)\n",
        "  P_repay_debt = P_to_cover_AAVE_debt_function(size_ETH, coll, r_B, r_L, 1.5) # We have to define the criteria for this price\n",
        "\n",
        "  I_current_name = list(intervals.keys())[list(intervals.values()).index(I_current)]\n",
        "  DyDx_parameters = [P, I_current_name, size_ETH, equity, notional, L, P_repay_debt, short_status]\n",
        "  \n",
        "  return DyDx_parameters\n",
        "\n",
        "# def put_limit_order(P, I_current, AAVE_parameters):\n",
        "#   short_status = False\n",
        "#   # DyDx parameters\n",
        "#   p_AAVE, interval_AAVE, coll, Debt, LTV, P_LTV_AAVE, r_L, r_B, AAVE_strategy_status = AAVE_parameters\n",
        "#   P_entry_DyDx = P_floor_threshold\n",
        "#   size_ETH = 0\n",
        "#   margin = Debt\n",
        "#   notional = Notional(size_ETH, P_entry_DyDx)\n",
        "#   equity = Equity(size_ETH, P_entry_DyDx)\n",
        "#   L = leverage(size_ETH, P_entry_DyDx)\n",
        "#   P_repay_debt = P_to_cover_AAVE_debt_function(size_ETH, coll, r_B, r_L, 1.5) # We have to define the criteria for this price\n",
        "\n",
        "#   I_current_name = list(intervals.keys())[list(intervals.values()).index(I_current)]\n",
        "#   DyDx_parameters = [P, I_current_name, size_ETH, equity, notional, L, P_repay_debt, short_status]\n",
        "  \n",
        "#   return DyDx_parameters\n",
        "\n",
        "# We use open_short as the put_limit_order() method for now\n",
        "def open_short(P, I_current, AAVE_parameters):\n",
        "  short_status = True\n",
        "  # DyDx parameters\n",
        "  p_AAVE, interval_AAVE, coll, Debt, LTV, P_LTV_AAVE, r_L, r_B, AAVE_strategy_status = AAVE_parameters\n",
        "  P_entry_DyDx = P\n",
        "  size_ETH = -coll\n",
        "  margin = Debt\n",
        "  notional = Notional(size_ETH, P_entry_DyDx)\n",
        "  equity = Equity(size_ETH, P_entry_DyDx)\n",
        "  L = leverage(size_ETH, P_entry_DyDx)\n",
        "  P_repay_debt = P_to_cover_AAVE_debt_function(size_ETH, coll, r_B, r_L, 1.5) # We have to define the criteria for this price\n",
        "\n",
        "  I_current_name = list(intervals.keys())[list(intervals.values()).index(I_current)]\n",
        "  DyDx_parameters = [P, I_current_name, size_ETH, equity, notional, L, P_repay_debt, short_status]\n",
        "  \n",
        "  return DyDx_parameters\n",
        "  \n",
        "def close_short(P, I_current, DyDx_parameters):\n",
        "  short_status = False\n",
        "  # DyDx parameters\n",
        "  # update profit parameters\n",
        "  p_DyDx, interval_DyDx, size_ETH, equity, notional, L, P_repay_debt, short_status = DyDx_parameters\n",
        "  pnl_position = pnl(size_ETH, P)\n",
        "  equity = Equity(size_ETH, P)\n",
        "  # close position\n",
        "  size_ETH = 0\n",
        "  notional = Notional(size_ETH, P)\n",
        "  L = leverage(size_ETH, P)\n",
        "  P_repay_debt = 0\n",
        "\n",
        "  I_current_name = list(intervals.keys())[list(intervals.values()).index(I_current)]\n",
        "  DyDx_parameters = [P, I_current_name, size_ETH, equity, notional, L, P_repay_debt, short_status]\n",
        "  return DyDx_parameters"
      ]
    },
    {
      "cell_type": "code",
      "source": [
        "P_entry_DyDx = 0\n",
        "leverage(0, 0)"
      ],
      "metadata": {
        "colab": {
          "base_uri": "https://localhost:8080/"
        },
        "id": "l26fV1b9_dQH",
        "outputId": "3d250827-2091-4cd2-a0f4-acaac25c0b34"
      },
      "execution_count": null,
      "outputs": [
        {
          "output_type": "execute_result",
          "data": {
            "text/plain": [
              "0.0"
            ]
          },
          "metadata": {},
          "execution_count": 87
        }
      ]
    },
    {
      "cell_type": "code",
      "execution_count": null,
      "metadata": {
        "id": "pPulnpfFrtUn"
      },
      "outputs": [],
      "source": [
        "def scenarios(P, # current values\n",
        "              I_old, I_current,\n",
        "              AAVE_parameters, DyDx_parameters): # intervals\n",
        "  \n",
        "  p_AAVE, interval_AAVE, coll, Debt, LTV, P_LTV_AAVE, r_L, r_B, AAVE_strategy_status = AAVE_parameters\n",
        "  p_DyDx, interval_DyDx, size_ETH, equity, notional, L, P_repay_debt, short_status = DyDx_parameters\n",
        "  \n",
        "  # We update only the first two parameters\n",
        "  I_current_name = list(intervals.keys())[list(intervals.values()).index(I_current)]\n",
        "  DyDx_parameters = [P, I_current_name, size_ETH, equity, notional, L, P_repay_debt, short_status]\n",
        "  AAVE_parameters = [P, I_current_name, coll, Debt, LTV, P_LTV_AAVE, r_L, r_B, AAVE_strategy_status]\n",
        "  \n",
        "  # P increasing case: P being in I_current and coming from I_old with I_old < I_current means P is increasing\n",
        "  # if I_old < I_current:\n",
        "  if is_lower(I_old, I_current):\n",
        "\n",
        "    # Case: P in I_out we have to repay AAVE debt if Debt > 0\n",
        "    if (I_current == I_out) & (Debt > 0):\n",
        "      AAVE_parameters_aux, DyDx_parameters_aux = pay_debt(P, AAVE_parameters, DyDx_parameters)\n",
        "      AVE_parameters = AAVE_parameters_aux\n",
        "      DyDx_parameters = DyDx_parameters_aux\n",
        "\n",
        "    # Case: Short position close\n",
        "    # Remember that I_limit = [P_floor, P_stop] and I_trigger = [P_stop, P_trigger] \n",
        "    if (is_lower(I_old, I_stop_threshold)) & (is_lower(I_stop_threshold, I_current)):\n",
        "      DyDx_parameters_aux = close_short(P, size_ETH)\n",
        "      # we update DyDx parameters as they became 0\n",
        "      DyDx_parameters = DyDx_parameters_aux\n",
        "   \n",
        "  # P decreasing case: P being in I_current and coming from I_old with I_old > I_current means P is increasing\n",
        "  else:\n",
        "    # Case: Trigger AAVE\n",
        "    if (is_lower(I_out, I_old)) & (is_lower(I_current, I_stop_threshold)):\n",
        "      I_AAVE_LTV_limit, AAVE_parameters_aux = run_AAVE(P, I_current)\n",
        "      AAVE_parameters = AAVE_parameters_aux\n",
        "      intervals[\"I_AAVE_LTV_limit\"] = I_AAVE_LTV_limit\n",
        "    # Case: Open Short position\n",
        "    elif (is_lower(I_current, I_floor_threshold)) & (is_lower(I_floor_threshold, I_old)):\n",
        "        DyDx_parameters_aux = open_short(P, I_current, AAVE_parameters)\n",
        "        DyDx_parameters = DyDx_parameters_aux\n",
        "        P_repay_debt = DyDx_parameters[6]\n",
        "    # Case: Repay whole AAVE debt\n",
        "    elif P_LTV_AAVE < P < P_repay_debt:\n",
        "      AAVE_parameters_aux, DyDx_parameters_aux = pay_debt(P, AAVE_parameters, DyDx_parameters)\n",
        "      AVE_parameters = AAVE_parameters_aux\n",
        "      DyDx_parameters = DyDx_parameters_aux\n",
        "\n",
        "    elif P_repay_debt < P < P_LTV_AAVE:\n",
        "      AAVE_parameters_aux, DyDx_parameters_aux = pay_debt(P, AAVE_parameters, DyDx_parameters)\n",
        "      AVE_parameters = AAVE_parameters_aux\n",
        "      DyDx_parameters = DyDx_parameters_aux\n",
        "\n",
        "    elif (I_current in LTV_intervals.values()) & (Debt > 0):\n",
        "      AAVE_parameters_aux, DyDx_parameters_aux = update(AAVE_parameters, DyDx_parameters,I_current,\n",
        "      case = \"increase_collateral\") # Case\n",
        "      AAVE_parameters = AAVE_parameters_aux\n",
        "      DyDx_parameters = DyDx_parameters_aux\n",
        "                                                \n",
        "  return AAVE_parameters, DyDx_parameters"
      ]
    },
    {
      "cell_type": "code",
      "execution_count": null,
      "metadata": {
        "id": "CM-hupUOq_rM"
      },
      "outputs": [],
      "source": [
        "float('nan')"
      ]
    },
    {
      "cell_type": "code",
      "execution_count": null,
      "metadata": {
        "id": "t7mFW9cCXSze"
      },
      "outputs": [],
      "source": [
        "def update(AAVE_parameters, DyDx_parameters,I_current,\n",
        "    #coll, Debt, r_L, r_B, P, # AAVE parameters\n",
        "     #       size_ETH,\n",
        "           case): # DyDx parameters\n",
        "  p_AAVE, interval_AAVE, coll, Debt, LTV, P_LTV_AAVE, r_L, r_B, AAVE_strategy_status = AAVE_parameters\n",
        "  p_DyDx, interval_DyDx, size_ETH, equity, notional, L, P_repay_debt, short_status = DyDx_parameters\n",
        "  \n",
        "  if case == 'increase_collateral': \n",
        "    # we probably have to change P_LTV_AAVE for market_price, bc the bot could execute in a slightly diffent price than P_LTV_AAVE\n",
        "    # DyDx parameters first\n",
        "    size_ETH_old = size_ETH\n",
        "    size_ETH = (Debt + fees_function(coll, r_L, r_B)) / (P - P_entry_DyDx)\n",
        "    equity = Equity(size_ETH,P)\n",
        "    notional = Notional(size_ETH, P)\n",
        "    L = leverage(size_ETH, P)\n",
        "    # P_liquidation_DyDx = P_liquidation_DyDx_function(equity,P)\n",
        "    partial_pnl = pnl(size_ETH_old-size_ETH,P)\n",
        "    partial_pnl_ETH = partial_pnl / P\n",
        "\n",
        "    # AAVE parameter now\n",
        "    coll = coll+partial_pnl_ETH\n",
        "    LTV = LTV_function(coll, P)\n",
        "    P_LTV_AAVE = P_LTV_AAVE_function(P,size_ETH, coll, r_L,r_B)\n",
        "\n",
        "  AAVE_parameters_aux = [p_AAVE, interval_AAVE, coll, Debt, LTV, P_LTV_AAVE, r_L, r_B, AAVE_strategy_status]\n",
        "  DyDx_parameters_aux = [p_DyDx, interval_DyDx, size_ETH, equity, notional, L, P_repay_debt, short_status]\n",
        "\n",
        "  return AAVE_parameters_aux, DyDx_parameters_aux"
      ]
    },
    {
      "cell_type": "markdown",
      "metadata": {
        "id": "Kpe3KOA1y92Z"
      },
      "source": [
        "### Simulations"
      ]
    },
    {
      "cell_type": "markdown",
      "metadata": {
        "id": "-ycqihGybM2W"
      },
      "source": [
        "Let's run the algo using the summary we defined earlier."
      ]
    },
    {
      "cell_type": "code",
      "execution_count": null,
      "metadata": {
        "id": "mARj0sbmY_i8"
      },
      "outputs": [],
      "source": [
        "stgy_1(summary['market_price'],summary['price_in_interval'])"
      ]
    },
    {
      "cell_type": "code",
      "execution_count": null,
      "metadata": {
        "id": "GBX2oa6emxyD"
      },
      "outputs": [],
      "source": [
        "AAVE_historical_df"
      ]
    },
    {
      "cell_type": "code",
      "execution_count": null,
      "metadata": {
        "id": "ojNJUhKwk1lK"
      },
      "outputs": [],
      "source": [
        "DyDx_historical_df"
      ]
    },
    {
      "cell_type": "markdown",
      "metadata": {
        "id": "nlxbkJrgbUsF"
      },
      "source": [
        "Let's now define a plot function to see how our parameters evolve as price changes."
      ]
    },
    {
      "cell_type": "code",
      "execution_count": null,
      "metadata": {
        "id": "_-RLuCq9ZN-A"
      },
      "outputs": [],
      "source": [
        "def plot_(P, intervals):\n",
        "  stgy_1(P,intervals)\n",
        "  pnl_ = pnl(list(DyDx_historical_df['size_ETH']), P)\n",
        "  fig, axs = plt.subplots(1,1, figsize = (21, 7))\n",
        "  axs.plot(list(P), label = 'market price')\n",
        "  axs.plot(list(pnl_), label = 'DyDx pnl')\n",
        "  axs.grid()\n",
        "  axs.legend(loc = 'lower left')"
      ]
    },
    {
      "cell_type": "code",
      "execution_count": null,
      "metadata": {
        "id": "5JwTllLUcCKB"
      },
      "outputs": [],
      "source": [
        "DyDx_historical_df"
      ]
    },
    {
      "cell_type": "code",
      "execution_count": null,
      "metadata": {
        "id": "0ulbWbdxZ8PL"
      },
      "outputs": [],
      "source": [
        "plot_(summary['market_price'],summary['price_in_interval'])"
      ]
    }
  ],
  "metadata": {
    "colab": {
      "collapsed_sections": [
        "UL8cWr7wg3ZL",
        "ufZfhFUEtiFm",
        "Kpe3KOA1y92Z"
      ],
      "name": "strategy_dydx_aave.ipynb",
      "provenance": []
    },
    "kernelspec": {
      "display_name": "Python 3",
      "name": "python3"
    },
    "language_info": {
      "name": "python"
    }
  },
  "nbformat": 4,
  "nbformat_minor": 0
}