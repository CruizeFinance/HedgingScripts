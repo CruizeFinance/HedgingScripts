{
  "nbformat": 4,
  "nbformat_minor": 0,
  "metadata": {
    "colab": {
      "name": "Balancer 2 token simulation.ipynb",
      "provenance": [],
      "collapsed_sections": [
        "dqJhPe6PTc4N"
      ]
    },
    "kernelspec": {
      "name": "python3",
      "display_name": "Python 3"
    },
    "language_info": {
      "name": "python"
    }
  },
  "cells": [
    {
      "cell_type": "markdown",
      "source": [
        "# Libraries y previous functions\n"
      ],
      "metadata": {
        "id": "tOktJspAThdA"
      }
    },
    {
      "cell_type": "code",
      "source": [
        "import numpy as np\n",
        "import pandas as pd\n",
        "import matplotlib.pyplot as plt"
      ],
      "metadata": {
        "id": "SaV8Cx3YSRgm"
      },
      "execution_count": null,
      "outputs": []
    },
    {
      "cell_type": "markdown",
      "source": [
        "The next functions were obtained through Balancer's whitepaper. Namely\n",
        "\n",
        "- OutGivenIn: Returns the amount A_o (o = out) of token j = 1-i we would obtain if we enter A_i (i = in) units of token i.\n",
        "- InGivenOut: Returns the amount A_i of token j = 1-i we need to enter into the pool to obtain A_o units of token i.\n",
        "- InGivenPrice: Returns the amount of token j = 1-i we need to enter if we want to change the pool relative price P_pool to a new price P_new, entering the token i."
      ],
      "metadata": {
        "id": "w1mfmJ_5ot6u"
      }
    },
    {
      "cell_type": "code",
      "source": [
        " # **********************************************************************************************\n",
        "    # calcSpotPrice                                                                             //\n",
        "    # sP = spotPrice                                                                            //\n",
        "    # bI = token_balance_in                ( bI / wI )         1                                  //\n",
        "    # bO = token_balance_out         sP =  -----------  *  ----------                             //\n",
        "    # wI = token_weight_in                 ( bO / wO )     ( 1 - sF )                             //\n",
        "    # wO = token_weight_out                                                                       //\n",
        "    # sF = swap_fee                                                                              //\n",
        "    # **********************************************************************************************/\n",
        "def calc_spot_price(token_balance_in, token_weight_in,\n",
        "                    token_balance_out, token_weight_out,\n",
        "                    swap_fee):\n",
        "  numer = token_balance_in / token_weight_in\n",
        "  denom = token_balance_out / token_weight_out\n",
        "  ratio = numer / denom\n",
        "  scale = 1 / (1 - swap_fee)\n",
        "  return ratio * scale\n",
        "\n",
        "# **********************************************************************************************\n",
        "    # calcOutGivenIn                                                                            //\n",
        "    # aO = token_amount_out                                                                       //\n",
        "    # bO = token_balance_out                                                                      //\n",
        "    # bI = token_balance_in              /      /            bI             \\    (wI / wO) \\      //\n",
        "    # aI = token_amount_in    aO = bO * |  1 - | --------------------------  | ^            |     //\n",
        "    # wI = token_weight_in               \\      \\ ( bI + ( aI * ( 1 - sF )) /              /      //\n",
        "    # wO = token_weight_out                                                                       //\n",
        "    # sF = swap_fee                                                                              //\n",
        "    # **********************************************************************************************/\n",
        "def calc_out_given_in(\n",
        "            token_amount_in, \n",
        "            token_balance_in, token_weight_in,\n",
        "            token_balance_out, token_weight_out,\n",
        "            swap_fee):\n",
        "  weight_ratio = token_weight_in / token_weight_out\n",
        "  adjusted_in = token_amount_in * (1 - swap_fee)\n",
        "  y = token_balance_in / (token_balance_in + adjusted_in)\n",
        "  foo = pow(y, weight_ratio)\n",
        "  bar = 1 - foo\n",
        "  token_amount_out = token_balance_out * bar\n",
        "  return {'token_amount_out': token_amount_out, \n",
        "          'fee_for_pool': token_amount_in - adjusted_in}\n",
        "          \n",
        "# **********************************************************************************************\n",
        "    # calcInGivenOut                                                                            //\n",
        "    # aI = token_amount_in                                                                        //\n",
        "    # bO = token_balance_out               /  /     bO      \\    (wO / wI)      \\                 //\n",
        "    # bI = token_balance_in          bI * |  | ------------  | ^            - 1  |                //\n",
        "    # aO = token_amount_out    aI =        \\  \\ ( bO - aO ) /                   /                 //\n",
        "    # wI = token_weight_in           --------------------------------------------                 //\n",
        "    # wO = token_weight_out                          ( 1 - sF )                                   //\n",
        "    # sF = swap_fee                                                                              //\n",
        "    # **********************************************************************************************/\n",
        "\n",
        "def calc_in_given_out(\n",
        "            token_balance_out,\n",
        "            token_balance_in,\n",
        "            token_amount_out,\n",
        "            token_weight_in,\n",
        "            token_weight_out,\n",
        "            swap_fee):\n",
        "  weight_ratio = token_weight_out / token_weight_in\n",
        "  diff = token_balance_out - token_amount_out\n",
        "  y = token_balance_out / diff\n",
        "  foo = pow(y, weight_ratio)\n",
        "  foo = foo - 1\n",
        "  fee_adjustment = 1 - swap_fee\n",
        "  token_amount_in_no_fee = (token_balance_in * foo)\n",
        "  token_amount_in = token_amount_in_no_fee / fee_adjustment\n",
        "\n",
        "  return {'token_amount_in_no_fee': token_amount_in_no_fee,\n",
        "          'token_amount_in': token_amount_in, \n",
        "          'fee_for_pool': token_amount_in - token_amount_in_no_fee}\n",
        "\n",
        "def calc_in_given_price(\n",
        "            token_balance_out,\n",
        "            token_balance_in,\n",
        "            new_spot_price,\n",
        "            token_weight_in,\n",
        "            token_weight_out,\n",
        "            swap_fee):\n",
        "  weight_ratio = token_weight_out / (token_weight_out + token_weight_in)\n",
        "  spot_price = calc_spot_price(token_balance_in, token_weight_in,\n",
        "                    token_balance_out, token_weight_out,\n",
        "                    swap_fee)\n",
        "  y = new_spot_price / spot_price\n",
        "  foo = pow(y, weight_ratio)\n",
        "  foo = foo - 1\n",
        "  fee_adjustment = 1 - swap_fee\n",
        "  token_amount_in_no_fee = (token_balance_in * foo)\n",
        "  token_amount_in = token_amount_in_no_fee / fee_adjustment\n",
        "\n",
        "  return {'token_amount_in_no_fee': token_amount_in_no_fee,\n",
        "          'token_amount_in': token_amount_in, \n",
        "          'fee_for_pool': token_amount_in - token_amount_in_no_fee}\n",
        "\n",
        "# def InGivenPrice(balance, pool_weights, P_new, i):\n",
        "#   P_pool = balance[0] / balance[1]\n",
        "#   w_i = pool_weights[i]\n",
        "#   w_o = pool_weights[i-1]\n",
        "#   B_i = balance[i]\n",
        "#   # if i==0:\n",
        "#   #   B_i = balance[0]\n",
        "#   #   B_o = balance[1]\n",
        "#   # else:\n",
        "#   #   B_i = balance[1]\n",
        "#   #   B_o = balance[0]\n",
        "#   A_i = B_i * ((P_new/P_pool)**(w_o/(w_o+w_i))-1)\n",
        "#   return A_i"
      ],
      "metadata": {
        "id": "P-sSx_6GTkZh"
      },
      "execution_count": null,
      "outputs": []
    },
    {
      "cell_type": "markdown",
      "source": [
        "Next, we define\n",
        "- balances_changes: Given balance_1 (new balance) and balance_0 (old/previous balance), it returns the change of each token's balance as a percentage and in units. We know that the variation ratio between both balances (how much balance_1 change with respect to balance_0) is calculated as balance_1 / balance_0 - 1.\n",
        "- new_balance: Given P_new and previous_balance it returns the new balance of the pool such that P_pool = P_new\n",
        "[We calculate how many ETH (USDC) we need to put in (take out) in order to change P_pool to P_new.\n",
        "Ex: If ETH price goes up in the market, then the pool has to reduce ETH balance. So, we just need to calculate how many USDC we need to put in the pool in order to reflect P_new (InGivenPrice) and then, for that A_i, we need to calculate how many A_o units of ETH we would receive in exchange (OutGivenIn). Finally, we just have to add A_i to the USDC balance and substract A_o from the ETH balance]"
      ],
      "metadata": {
        "id": "2P_gUtOxpv5N"
      }
    },
    {
      "cell_type": "code",
      "source": [
        "def balances_changes(balance_1, balance_0):\n",
        "  r_USDC = balance_1[0] / balance_0[0] -1\n",
        "  r_ETH = balance_1[1] / balance_0[1] -1\n",
        "  return {'pcg': [r_USDC, r_ETH],\n",
        "          'units': [balance_1[0]-balance_0[0], balance_1[1]-balance_0[1]]}\n",
        "def new_balance(previous_token_balance_in, \n",
        "                previous_token_balance_out, \n",
        "                new_spot_price,\n",
        "                token_weight_in,\n",
        "                token_weight_out,\n",
        "                swap_fee):\n",
        "  # previous_spot_price = calc_spot_price(previous_token_balance_in, token_weight_in,\n",
        "  #                   previous_token_balance_out, token_weight_out,\n",
        "  #                   swap_fee)\n",
        "  A_i = calc_in_given_price(\n",
        "          previous_token_balance_out,\n",
        "          previous_token_balance_in,\n",
        "          new_spot_price,\n",
        "          token_weight_in,\n",
        "          token_weight_out,\n",
        "          swap_fee)['token_amount_in']\n",
        "  new_balance_in = previous_token_balance_in + abs(A_i)\n",
        "  A_o = calc_out_given_in(\n",
        "            A_i, \n",
        "            new_balance_in, token_weight_in,\n",
        "            previous_token_balance_out, token_weight_out,\n",
        "            swap_fee)['token_amount_out']\n",
        "  return {'new_balance_in': new_balance_in,\n",
        "          'new_balance_out': previous_token_balance_out - abs(A_o)}"
      ],
      "metadata": {
        "id": "AEikcS_DXljR"
      },
      "execution_count": null,
      "outputs": []
    },
    {
      "cell_type": "markdown",
      "source": [
        "# Historical data from binance"
      ],
      "metadata": {
        "id": "dqJhPe6PTc4N"
      }
    },
    {
      "cell_type": "markdown",
      "source": [
        "In this section we define a function to request historical data from Binance for a variety of frequencies (\"1m\", \"5m\", \"10m\", \"15m\", \"1h\", \"6h\", \"12h\", \"1d\"). We set initial_date = '31 Mar 2021' but we can change it.\n",
        "[I use my private api keys]"
      ],
      "metadata": {
        "id": "rD0zjDFXnlGN"
      }
    },
    {
      "cell_type": "code",
      "source": [
        "!pip install python-binance"
      ],
      "metadata": {
        "id": "RC3BvJrzp7ab",
        "colab": {
          "base_uri": "https://localhost:8080/"
        },
        "outputId": "38dc2bce-58b4-4f80-9e82-2a967cb3a094"
      },
      "execution_count": null,
      "outputs": [
        {
          "output_type": "stream",
          "name": "stdout",
          "text": [
            "Looking in indexes: https://pypi.org/simple, https://us-python.pkg.dev/colab-wheels/public/simple/\n",
            "Collecting python-binance\n",
            "  Downloading python_binance-1.0.16-py2.py3-none-any.whl (65 kB)\n",
            "\u001b[K     |████████████████████████████████| 65 kB 509 kB/s \n",
            "\u001b[?25hCollecting aiohttp\n",
            "  Downloading aiohttp-3.8.1-cp37-cp37m-manylinux_2_5_x86_64.manylinux1_x86_64.manylinux_2_12_x86_64.manylinux2010_x86_64.whl (1.1 MB)\n",
            "\u001b[K     |████████████████████████████████| 1.1 MB 11.5 MB/s \n",
            "\u001b[?25hCollecting websockets\n",
            "  Downloading websockets-10.3-cp37-cp37m-manylinux_2_5_x86_64.manylinux1_x86_64.manylinux_2_12_x86_64.manylinux2010_x86_64.whl (112 kB)\n",
            "\u001b[K     |████████████████████████████████| 112 kB 57.3 MB/s \n",
            "\u001b[?25hCollecting dateparser\n",
            "  Downloading dateparser-1.1.1-py2.py3-none-any.whl (288 kB)\n",
            "\u001b[K     |████████████████████████████████| 288 kB 59.7 MB/s \n",
            "\u001b[?25hCollecting ujson\n",
            "  Downloading ujson-5.3.0-cp37-cp37m-manylinux_2_17_x86_64.manylinux2014_x86_64.whl (45 kB)\n",
            "\u001b[K     |████████████████████████████████| 45 kB 2.7 MB/s \n",
            "\u001b[?25hRequirement already satisfied: six in /usr/local/lib/python3.7/dist-packages (from python-binance) (1.15.0)\n",
            "Requirement already satisfied: requests in /usr/local/lib/python3.7/dist-packages (from python-binance) (2.23.0)\n",
            "Collecting multidict<7.0,>=4.5\n",
            "  Downloading multidict-6.0.2-cp37-cp37m-manylinux_2_17_x86_64.manylinux2014_x86_64.whl (94 kB)\n",
            "\u001b[K     |████████████████████████████████| 94 kB 3.4 MB/s \n",
            "\u001b[?25hCollecting aiosignal>=1.1.2\n",
            "  Downloading aiosignal-1.2.0-py3-none-any.whl (8.2 kB)\n",
            "Collecting asynctest==0.13.0\n",
            "  Downloading asynctest-0.13.0-py3-none-any.whl (26 kB)\n",
            "Collecting async-timeout<5.0,>=4.0.0a3\n",
            "  Downloading async_timeout-4.0.2-py3-none-any.whl (5.8 kB)\n",
            "Collecting frozenlist>=1.1.1\n",
            "  Downloading frozenlist-1.3.0-cp37-cp37m-manylinux_2_5_x86_64.manylinux1_x86_64.manylinux_2_17_x86_64.manylinux2014_x86_64.whl (144 kB)\n",
            "\u001b[K     |████████████████████████████████| 144 kB 54.6 MB/s \n",
            "\u001b[?25hRequirement already satisfied: charset-normalizer<3.0,>=2.0 in /usr/local/lib/python3.7/dist-packages (from aiohttp->python-binance) (2.0.12)\n",
            "Requirement already satisfied: attrs>=17.3.0 in /usr/local/lib/python3.7/dist-packages (from aiohttp->python-binance) (21.4.0)\n",
            "Collecting yarl<2.0,>=1.0\n",
            "  Downloading yarl-1.7.2-cp37-cp37m-manylinux_2_5_x86_64.manylinux1_x86_64.manylinux_2_12_x86_64.manylinux2010_x86_64.whl (271 kB)\n",
            "\u001b[K     |████████████████████████████████| 271 kB 46.7 MB/s \n",
            "\u001b[?25hRequirement already satisfied: typing-extensions>=3.7.4 in /usr/local/lib/python3.7/dist-packages (from aiohttp->python-binance) (4.1.1)\n",
            "Requirement already satisfied: idna>=2.0 in /usr/local/lib/python3.7/dist-packages (from yarl<2.0,>=1.0->aiohttp->python-binance) (2.10)\n",
            "Requirement already satisfied: tzlocal in /usr/local/lib/python3.7/dist-packages (from dateparser->python-binance) (1.5.1)\n",
            "Collecting regex!=2019.02.19,!=2021.8.27,<2022.3.15\n",
            "  Downloading regex-2022.3.2-cp37-cp37m-manylinux_2_17_x86_64.manylinux2014_x86_64.whl (749 kB)\n",
            "\u001b[K     |████████████████████████████████| 749 kB 42.6 MB/s \n",
            "\u001b[?25hRequirement already satisfied: python-dateutil in /usr/local/lib/python3.7/dist-packages (from dateparser->python-binance) (2.8.2)\n",
            "Requirement already satisfied: pytz in /usr/local/lib/python3.7/dist-packages (from dateparser->python-binance) (2022.1)\n",
            "Requirement already satisfied: urllib3!=1.25.0,!=1.25.1,<1.26,>=1.21.1 in /usr/local/lib/python3.7/dist-packages (from requests->python-binance) (1.24.3)\n",
            "Requirement already satisfied: certifi>=2017.4.17 in /usr/local/lib/python3.7/dist-packages (from requests->python-binance) (2022.6.15)\n",
            "Requirement already satisfied: chardet<4,>=3.0.2 in /usr/local/lib/python3.7/dist-packages (from requests->python-binance) (3.0.4)\n",
            "Installing collected packages: multidict, frozenlist, yarl, regex, asynctest, async-timeout, aiosignal, websockets, ujson, dateparser, aiohttp, python-binance\n",
            "  Attempting uninstall: regex\n",
            "    Found existing installation: regex 2022.6.2\n",
            "    Uninstalling regex-2022.6.2:\n",
            "      Successfully uninstalled regex-2022.6.2\n",
            "Successfully installed aiohttp-3.8.1 aiosignal-1.2.0 async-timeout-4.0.2 asynctest-0.13.0 dateparser-1.1.1 frozenlist-1.3.0 multidict-6.0.2 python-binance-1.0.16 regex-2022.3.2 ujson-5.3.0 websockets-10.3 yarl-1.7.2\n"
          ]
        }
      ]
    },
    {
      "cell_type": "code",
      "source": [
        "import pandas as pd\n",
        "import math\n",
        "import os.path\n",
        "import time\n",
        "from binance.client import Client\n",
        "from datetime import timedelta, datetime\n",
        "from dateutil import parser\n",
        "from tqdm import tqdm_notebook #(Optional, used for progress-bars)\n",
        "\n",
        "### API\n",
        "binance_api_key = '9zFIgetckRO80d4RciWs8jc4XSwAMEnFIuwVhAoaYIstQ9RWlfqiV6zcAGu0Ta8R'    #Enter your own API-key here\n",
        "binance_api_secret = 'Uu8vtNEmH1PPDPDchX51jivxBENEbNwDmDcQrnhPJBJwFcbqjnvxL2MeQJuTc4Kg' #Enter your own API-secret here\n",
        "\n",
        "### CONSTANTS\n",
        "binsizes = {\"1m\": 1, \"5m\": 5, \"10m\": 10, \"15m\": 15, \"1h\": 60, \"6h\": 360, \"12h\": 720, \"1d\": 1440}\n",
        "\n",
        "batch_size = 750\n",
        "binance_client = Client(api_key=binance_api_key, api_secret=binance_api_secret)\n",
        "\n",
        "# initial_date = '1 Jan 2017'\n",
        "initial_date = '31 Mar 2021'\n",
        "### FUNCTIONS\n",
        "def minutes_of_new_data(symbol, kline_size, data, source):\n",
        "    if len(data) > 0:  old = parser.parse(data[\"timestamp\"].iloc[-1])\n",
        "    elif source == \"binance\": old = datetime.strptime(initial_date, '%d %b %Y')\n",
        "    if source == \"binance\": new = pd.to_datetime(binance_client.get_klines(symbol=symbol, interval=kline_size)[-1][0], unit='ms')\n",
        "    return old, new\n",
        "\n",
        "def get_all_binance(symbol, kline_size, save = False):\n",
        "    filename = '%s-%s-data.csv' % (symbol, kline_size)\n",
        "    if os.path.isfile(filename): data_df = pd.read_csv(filename)\n",
        "    else: data_df = pd.DataFrame()\n",
        "    oldest_point, newest_point = minutes_of_new_data(symbol, kline_size, data_df, source = \"binance\")\n",
        "    delta_min = (newest_point - oldest_point).total_seconds()/60\n",
        "    available_data = math.ceil(delta_min/binsizes[kline_size])\n",
        "    if oldest_point == datetime.strptime(initial_date, '%d %b %Y'): print('Downloading all available %s data for %s. Be patient..!' % (kline_size, symbol))\n",
        "    else: print('Downloading %d minutes of new data available for %s, i.e. %d instances of %s data.' % (delta_min, symbol, available_data, kline_size))\n",
        "    klines = binance_client.get_historical_klines(symbol, kline_size, oldest_point.strftime(\"%d %b %Y %H:%M:%S\"), newest_point.strftime(\"%d %b %Y %H:%M:%S\"))\n",
        "    data = pd.DataFrame(klines, columns = ['timestamp', 'open', 'high', 'low', 'close', 'volume', 'close_time', 'quote_av', 'trades', 'tb_base_av', 'tb_quote_av', 'ignore' ])\n",
        "    data['timestamp'] = pd.to_datetime(data['timestamp'], unit='ms')\n",
        "    if len(data_df) > 0:\n",
        "        temp_df = pd.DataFrame(data)\n",
        "        data_df = data_df.append(temp_df)\n",
        "    else: data_df = data\n",
        "    data_df.set_index('timestamp', inplace=True)\n",
        "    if save: data_df.to_csv(filename)\n",
        "    print('All caught up..!')\n",
        "    return data_df\n"
      ],
      "metadata": {
        "id": "u2Z1IoPsU8zm"
      },
      "execution_count": null,
      "outputs": []
    },
    {
      "cell_type": "markdown",
      "source": [
        "We request historical data for ETHUSDC with 5m frequency."
      ],
      "metadata": {
        "id": "LNCkEKyanznF"
      }
    },
    {
      "cell_type": "code",
      "source": [
        "# lista = [\"ETHUSDC\"]\n",
        "\n",
        "# BTC ETH MATIC UNI COMP AAVE YFI CRV MKR LINK KP3R SFI SUSHI 1INCH CAKE \n",
        "symbol = \"ETHUSDC\"\n",
        "# Frecuencia: 1m, 5m, 10m, 15m, 1h, 1d, 1m\n",
        "freq = \"5m\"\n",
        "\n",
        "# Descarga de datos\n",
        "ETH_historical = get_all_binance(symbol, freq, save = True)"
      ],
      "metadata": {
        "id": "TzBMvBB_VD2B",
        "colab": {
          "base_uri": "https://localhost:8080/"
        },
        "outputId": "b2ecefc6-7138-4657-bdae-d5a6fe8c6f18"
      },
      "execution_count": null,
      "outputs": [
        {
          "output_type": "stream",
          "name": "stdout",
          "text": [
            "Downloading all available 5m data for ETHUSDC. Be patient..!\n",
            "All caught up..!\n"
          ]
        }
      ]
    },
    {
      "cell_type": "code",
      "source": [
        "len(ETH_historical)"
      ],
      "metadata": {
        "colab": {
          "base_uri": "https://localhost:8080/"
        },
        "id": "CDEicxyQoLGD",
        "outputId": "131bca93-cb21-41e5-f896-d0db6e786e75"
      },
      "execution_count": null,
      "outputs": [
        {
          "output_type": "execute_result",
          "data": {
            "text/plain": [
              "129256"
            ]
          },
          "metadata": {},
          "execution_count": 7
        }
      ]
    },
    {
      "cell_type": "code",
      "source": [
        "ETH_historical"
      ],
      "metadata": {
        "colab": {
          "base_uri": "https://localhost:8080/"
        },
        "id": "xdVZi1ZtwTz4",
        "outputId": "b3aa49e7-dbde-4f4b-cb9e-bd2c8cb2d267"
      },
      "execution_count": null,
      "outputs": [
        {
          "output_type": "execute_result",
          "data": {
            "text/plain": [
              "                              open           high            low  \\\n",
              "timestamp                                                          \n",
              "2021-03-31 00:00:00  1841.29000000  1845.35000000  1841.12000000   \n",
              "2021-03-31 00:05:00  1844.39000000  1847.08000000  1843.99000000   \n",
              "2021-03-31 00:10:00  1845.54000000  1849.53000000  1845.54000000   \n",
              "2021-03-31 00:15:00  1848.96000000  1850.35000000  1847.50000000   \n",
              "2021-03-31 00:20:00  1848.12000000  1849.12000000  1846.00000000   \n",
              "...                            ...            ...            ...   \n",
              "2022-06-23 08:35:00  1093.43000000  1095.20000000  1092.34000000   \n",
              "2022-06-23 08:40:00  1092.35000000  1093.75000000  1091.74000000   \n",
              "2022-06-23 08:45:00  1093.00000000  1094.00000000  1090.63000000   \n",
              "2022-06-23 08:50:00  1092.59000000  1093.66000000  1092.07000000   \n",
              "2022-06-23 08:55:00  1092.60000000  1098.00000000  1092.59000000   \n",
              "\n",
              "                             close        volume     close_time  \\\n",
              "timestamp                                                         \n",
              "2021-03-31 00:00:00  1845.35000000   13.45650000  1617149099999   \n",
              "2021-03-31 00:05:00  1846.29000000   54.69818000  1617149399999   \n",
              "2021-03-31 00:10:00  1848.96000000   10.56434000  1617149699999   \n",
              "2021-03-31 00:15:00  1847.50000000  126.93107000  1617149999999   \n",
              "2021-03-31 00:20:00  1846.00000000   16.03979000  1617150299999   \n",
              "...                            ...           ...            ...   \n",
              "2022-06-23 08:35:00  1092.50000000  117.97020000  1655973599999   \n",
              "2022-06-23 08:40:00  1092.99000000  135.64430000  1655973899999   \n",
              "2022-06-23 08:45:00  1092.25000000  103.10660000  1655974199999   \n",
              "2022-06-23 08:50:00  1092.95000000   55.55480000  1655974499999   \n",
              "2022-06-23 08:55:00  1097.17000000   76.55950000  1655974799999   \n",
              "\n",
              "                            quote_av  trades   tb_base_av      tb_quote_av  \\\n",
              "timestamp                                                                    \n",
              "2021-03-31 00:00:00   24811.47621960      39   4.46207000    8228.10868710   \n",
              "2021-03-31 00:05:00  100898.41600010      50  18.71127000   34521.30106140   \n",
              "2021-03-31 00:10:00   19523.84183440      31   6.35202000   11739.72432620   \n",
              "2021-03-31 00:15:00  234808.65135190     117  70.35710000  130155.06817220   \n",
              "2021-03-31 00:20:00   29631.68322550      61   3.04496000    5630.11817930   \n",
              "...                              ...     ...          ...              ...   \n",
              "2022-06-23 08:35:00  128990.69626700     212  38.98100000   42626.99228500   \n",
              "2022-06-23 08:40:00  148202.42054000     321  98.54730000  107668.89856300   \n",
              "2022-06-23 08:45:00  112639.58373200     252  60.01640000   65563.74815400   \n",
              "2022-06-23 08:50:00   60708.16583100     119  35.37430000   38653.44117000   \n",
              "2022-06-23 08:55:00   83865.52735200     196  53.57760000   58683.67722600   \n",
              "\n",
              "                    ignore  \n",
              "timestamp                   \n",
              "2021-03-31 00:00:00      0  \n",
              "2021-03-31 00:05:00      0  \n",
              "2021-03-31 00:10:00      0  \n",
              "2021-03-31 00:15:00      0  \n",
              "2021-03-31 00:20:00      0  \n",
              "...                    ...  \n",
              "2022-06-23 08:35:00      0  \n",
              "2022-06-23 08:40:00      0  \n",
              "2022-06-23 08:45:00      0  \n",
              "2022-06-23 08:50:00      0  \n",
              "2022-06-23 08:55:00      0  \n",
              "\n",
              "[129256 rows x 11 columns]"
            ],
            "text/html": [
              "\n",
              "  <div id=\"df-c89cb1d1-9bad-49c8-a70c-698b69f1d8a7\">\n",
              "    <div class=\"colab-df-container\">\n",
              "      <div>\n",
              "<style scoped>\n",
              "    .dataframe tbody tr th:only-of-type {\n",
              "        vertical-align: middle;\n",
              "    }\n",
              "\n",
              "    .dataframe tbody tr th {\n",
              "        vertical-align: top;\n",
              "    }\n",
              "\n",
              "    .dataframe thead th {\n",
              "        text-align: right;\n",
              "    }\n",
              "</style>\n",
              "<table border=\"1\" class=\"dataframe\">\n",
              "  <thead>\n",
              "    <tr style=\"text-align: right;\">\n",
              "      <th></th>\n",
              "      <th>open</th>\n",
              "      <th>high</th>\n",
              "      <th>low</th>\n",
              "      <th>close</th>\n",
              "      <th>volume</th>\n",
              "      <th>close_time</th>\n",
              "      <th>quote_av</th>\n",
              "      <th>trades</th>\n",
              "      <th>tb_base_av</th>\n",
              "      <th>tb_quote_av</th>\n",
              "      <th>ignore</th>\n",
              "    </tr>\n",
              "    <tr>\n",
              "      <th>timestamp</th>\n",
              "      <th></th>\n",
              "      <th></th>\n",
              "      <th></th>\n",
              "      <th></th>\n",
              "      <th></th>\n",
              "      <th></th>\n",
              "      <th></th>\n",
              "      <th></th>\n",
              "      <th></th>\n",
              "      <th></th>\n",
              "      <th></th>\n",
              "    </tr>\n",
              "  </thead>\n",
              "  <tbody>\n",
              "    <tr>\n",
              "      <th>2021-03-31 00:00:00</th>\n",
              "      <td>1841.29000000</td>\n",
              "      <td>1845.35000000</td>\n",
              "      <td>1841.12000000</td>\n",
              "      <td>1845.35000000</td>\n",
              "      <td>13.45650000</td>\n",
              "      <td>1617149099999</td>\n",
              "      <td>24811.47621960</td>\n",
              "      <td>39</td>\n",
              "      <td>4.46207000</td>\n",
              "      <td>8228.10868710</td>\n",
              "      <td>0</td>\n",
              "    </tr>\n",
              "    <tr>\n",
              "      <th>2021-03-31 00:05:00</th>\n",
              "      <td>1844.39000000</td>\n",
              "      <td>1847.08000000</td>\n",
              "      <td>1843.99000000</td>\n",
              "      <td>1846.29000000</td>\n",
              "      <td>54.69818000</td>\n",
              "      <td>1617149399999</td>\n",
              "      <td>100898.41600010</td>\n",
              "      <td>50</td>\n",
              "      <td>18.71127000</td>\n",
              "      <td>34521.30106140</td>\n",
              "      <td>0</td>\n",
              "    </tr>\n",
              "    <tr>\n",
              "      <th>2021-03-31 00:10:00</th>\n",
              "      <td>1845.54000000</td>\n",
              "      <td>1849.53000000</td>\n",
              "      <td>1845.54000000</td>\n",
              "      <td>1848.96000000</td>\n",
              "      <td>10.56434000</td>\n",
              "      <td>1617149699999</td>\n",
              "      <td>19523.84183440</td>\n",
              "      <td>31</td>\n",
              "      <td>6.35202000</td>\n",
              "      <td>11739.72432620</td>\n",
              "      <td>0</td>\n",
              "    </tr>\n",
              "    <tr>\n",
              "      <th>2021-03-31 00:15:00</th>\n",
              "      <td>1848.96000000</td>\n",
              "      <td>1850.35000000</td>\n",
              "      <td>1847.50000000</td>\n",
              "      <td>1847.50000000</td>\n",
              "      <td>126.93107000</td>\n",
              "      <td>1617149999999</td>\n",
              "      <td>234808.65135190</td>\n",
              "      <td>117</td>\n",
              "      <td>70.35710000</td>\n",
              "      <td>130155.06817220</td>\n",
              "      <td>0</td>\n",
              "    </tr>\n",
              "    <tr>\n",
              "      <th>2021-03-31 00:20:00</th>\n",
              "      <td>1848.12000000</td>\n",
              "      <td>1849.12000000</td>\n",
              "      <td>1846.00000000</td>\n",
              "      <td>1846.00000000</td>\n",
              "      <td>16.03979000</td>\n",
              "      <td>1617150299999</td>\n",
              "      <td>29631.68322550</td>\n",
              "      <td>61</td>\n",
              "      <td>3.04496000</td>\n",
              "      <td>5630.11817930</td>\n",
              "      <td>0</td>\n",
              "    </tr>\n",
              "    <tr>\n",
              "      <th>...</th>\n",
              "      <td>...</td>\n",
              "      <td>...</td>\n",
              "      <td>...</td>\n",
              "      <td>...</td>\n",
              "      <td>...</td>\n",
              "      <td>...</td>\n",
              "      <td>...</td>\n",
              "      <td>...</td>\n",
              "      <td>...</td>\n",
              "      <td>...</td>\n",
              "      <td>...</td>\n",
              "    </tr>\n",
              "    <tr>\n",
              "      <th>2022-06-23 08:35:00</th>\n",
              "      <td>1093.43000000</td>\n",
              "      <td>1095.20000000</td>\n",
              "      <td>1092.34000000</td>\n",
              "      <td>1092.50000000</td>\n",
              "      <td>117.97020000</td>\n",
              "      <td>1655973599999</td>\n",
              "      <td>128990.69626700</td>\n",
              "      <td>212</td>\n",
              "      <td>38.98100000</td>\n",
              "      <td>42626.99228500</td>\n",
              "      <td>0</td>\n",
              "    </tr>\n",
              "    <tr>\n",
              "      <th>2022-06-23 08:40:00</th>\n",
              "      <td>1092.35000000</td>\n",
              "      <td>1093.75000000</td>\n",
              "      <td>1091.74000000</td>\n",
              "      <td>1092.99000000</td>\n",
              "      <td>135.64430000</td>\n",
              "      <td>1655973899999</td>\n",
              "      <td>148202.42054000</td>\n",
              "      <td>321</td>\n",
              "      <td>98.54730000</td>\n",
              "      <td>107668.89856300</td>\n",
              "      <td>0</td>\n",
              "    </tr>\n",
              "    <tr>\n",
              "      <th>2022-06-23 08:45:00</th>\n",
              "      <td>1093.00000000</td>\n",
              "      <td>1094.00000000</td>\n",
              "      <td>1090.63000000</td>\n",
              "      <td>1092.25000000</td>\n",
              "      <td>103.10660000</td>\n",
              "      <td>1655974199999</td>\n",
              "      <td>112639.58373200</td>\n",
              "      <td>252</td>\n",
              "      <td>60.01640000</td>\n",
              "      <td>65563.74815400</td>\n",
              "      <td>0</td>\n",
              "    </tr>\n",
              "    <tr>\n",
              "      <th>2022-06-23 08:50:00</th>\n",
              "      <td>1092.59000000</td>\n",
              "      <td>1093.66000000</td>\n",
              "      <td>1092.07000000</td>\n",
              "      <td>1092.95000000</td>\n",
              "      <td>55.55480000</td>\n",
              "      <td>1655974499999</td>\n",
              "      <td>60708.16583100</td>\n",
              "      <td>119</td>\n",
              "      <td>35.37430000</td>\n",
              "      <td>38653.44117000</td>\n",
              "      <td>0</td>\n",
              "    </tr>\n",
              "    <tr>\n",
              "      <th>2022-06-23 08:55:00</th>\n",
              "      <td>1092.60000000</td>\n",
              "      <td>1098.00000000</td>\n",
              "      <td>1092.59000000</td>\n",
              "      <td>1097.17000000</td>\n",
              "      <td>76.55950000</td>\n",
              "      <td>1655974799999</td>\n",
              "      <td>83865.52735200</td>\n",
              "      <td>196</td>\n",
              "      <td>53.57760000</td>\n",
              "      <td>58683.67722600</td>\n",
              "      <td>0</td>\n",
              "    </tr>\n",
              "  </tbody>\n",
              "</table>\n",
              "<p>129256 rows × 11 columns</p>\n",
              "</div>\n",
              "      <button class=\"colab-df-convert\" onclick=\"convertToInteractive('df-c89cb1d1-9bad-49c8-a70c-698b69f1d8a7')\"\n",
              "              title=\"Convert this dataframe to an interactive table.\"\n",
              "              style=\"display:none;\">\n",
              "        \n",
              "  <svg xmlns=\"http://www.w3.org/2000/svg\" height=\"24px\"viewBox=\"0 0 24 24\"\n",
              "       width=\"24px\">\n",
              "    <path d=\"M0 0h24v24H0V0z\" fill=\"none\"/>\n",
              "    <path d=\"M18.56 5.44l.94 2.06.94-2.06 2.06-.94-2.06-.94-.94-2.06-.94 2.06-2.06.94zm-11 1L8.5 8.5l.94-2.06 2.06-.94-2.06-.94L8.5 2.5l-.94 2.06-2.06.94zm10 10l.94 2.06.94-2.06 2.06-.94-2.06-.94-.94-2.06-.94 2.06-2.06.94z\"/><path d=\"M17.41 7.96l-1.37-1.37c-.4-.4-.92-.59-1.43-.59-.52 0-1.04.2-1.43.59L10.3 9.45l-7.72 7.72c-.78.78-.78 2.05 0 2.83L4 21.41c.39.39.9.59 1.41.59.51 0 1.02-.2 1.41-.59l7.78-7.78 2.81-2.81c.8-.78.8-2.07 0-2.86zM5.41 20L4 18.59l7.72-7.72 1.47 1.35L5.41 20z\"/>\n",
              "  </svg>\n",
              "      </button>\n",
              "      \n",
              "  <style>\n",
              "    .colab-df-container {\n",
              "      display:flex;\n",
              "      flex-wrap:wrap;\n",
              "      gap: 12px;\n",
              "    }\n",
              "\n",
              "    .colab-df-convert {\n",
              "      background-color: #E8F0FE;\n",
              "      border: none;\n",
              "      border-radius: 50%;\n",
              "      cursor: pointer;\n",
              "      display: none;\n",
              "      fill: #1967D2;\n",
              "      height: 32px;\n",
              "      padding: 0 0 0 0;\n",
              "      width: 32px;\n",
              "    }\n",
              "\n",
              "    .colab-df-convert:hover {\n",
              "      background-color: #E2EBFA;\n",
              "      box-shadow: 0px 1px 2px rgba(60, 64, 67, 0.3), 0px 1px 3px 1px rgba(60, 64, 67, 0.15);\n",
              "      fill: #174EA6;\n",
              "    }\n",
              "\n",
              "    [theme=dark] .colab-df-convert {\n",
              "      background-color: #3B4455;\n",
              "      fill: #D2E3FC;\n",
              "    }\n",
              "\n",
              "    [theme=dark] .colab-df-convert:hover {\n",
              "      background-color: #434B5C;\n",
              "      box-shadow: 0px 1px 3px 1px rgba(0, 0, 0, 0.15);\n",
              "      filter: drop-shadow(0px 1px 2px rgba(0, 0, 0, 0.3));\n",
              "      fill: #FFFFFF;\n",
              "    }\n",
              "  </style>\n",
              "\n",
              "      <script>\n",
              "        const buttonEl =\n",
              "          document.querySelector('#df-c89cb1d1-9bad-49c8-a70c-698b69f1d8a7 button.colab-df-convert');\n",
              "        buttonEl.style.display =\n",
              "          google.colab.kernel.accessAllowed ? 'block' : 'none';\n",
              "\n",
              "        async function convertToInteractive(key) {\n",
              "          const element = document.querySelector('#df-c89cb1d1-9bad-49c8-a70c-698b69f1d8a7');\n",
              "          const dataTable =\n",
              "            await google.colab.kernel.invokeFunction('convertToInteractive',\n",
              "                                                     [key], {});\n",
              "          if (!dataTable) return;\n",
              "\n",
              "          const docLinkHtml = 'Like what you see? Visit the ' +\n",
              "            '<a target=\"_blank\" href=https://colab.research.google.com/notebooks/data_table.ipynb>data table notebook</a>'\n",
              "            + ' to learn more about interactive tables.';\n",
              "          element.innerHTML = '';\n",
              "          dataTable['output_type'] = 'display_data';\n",
              "          await google.colab.output.renderOutput(dataTable, element);\n",
              "          const docLink = document.createElement('div');\n",
              "          docLink.innerHTML = docLinkHtml;\n",
              "          element.appendChild(docLink);\n",
              "        }\n",
              "      </script>\n",
              "    </div>\n",
              "  </div>\n",
              "  "
            ]
          },
          "metadata": {},
          "execution_count": 8
        }
      ]
    },
    {
      "cell_type": "markdown",
      "source": [
        "# Balance simulation"
      ],
      "metadata": {
        "id": "WK9cB2P2XAK7"
      }
    },
    {
      "cell_type": "markdown",
      "source": [
        "Given that we have too much data, we will stay with less data (say 2000 prices)."
      ],
      "metadata": {
        "id": "D8PTIclcn7yc"
      }
    },
    {
      "cell_type": "code",
      "source": [
        "P_ETH = ETH_historical[:2000]['close']\n",
        "for i in range(len(P_ETH)):\n",
        "  P_ETH[i] = float(P_ETH[i])"
      ],
      "metadata": {
        "id": "H2HnKxKOVPqS",
        "colab": {
          "base_uri": "https://localhost:8080/"
        },
        "outputId": "b21184f4-c4cd-43a5-96e4-7d30b406a6c4"
      },
      "execution_count": null,
      "outputs": [
        {
          "output_type": "stream",
          "name": "stderr",
          "text": [
            "/usr/local/lib/python3.7/dist-packages/ipykernel_launcher.py:3: SettingWithCopyWarning: \n",
            "A value is trying to be set on a copy of a slice from a DataFrame\n",
            "\n",
            "See the caveats in the documentation: https://pandas.pydata.org/pandas-docs/stable/user_guide/indexing.html#returning-a-view-versus-a-copy\n",
            "  This is separate from the ipykernel package so we can avoid doing imports until\n",
            "/usr/local/lib/python3.7/dist-packages/pandas/core/series.py:1056: SettingWithCopyWarning: \n",
            "A value is trying to be set on a copy of a slice from a DataFrame\n",
            "\n",
            "See the caveats in the documentation: https://pandas.pydata.org/pandas-docs/stable/user_guide/indexing.html#returning-a-view-versus-a-copy\n",
            "  cacher_needs_updating = self._check_is_chained_assignment_possible()\n"
          ]
        }
      ]
    },
    {
      "cell_type": "code",
      "source": [
        "plt.plot(list(P_ETH))\n",
        "# plt.figsize(20,7)"
      ],
      "metadata": {
        "colab": {
          "base_uri": "https://localhost:8080/",
          "height": 282
        },
        "id": "6G4pU35Wq9VM",
        "outputId": "fe7f43a8-463a-4f04-9b11-a4ed9f8b58a4"
      },
      "execution_count": null,
      "outputs": [
        {
          "output_type": "execute_result",
          "data": {
            "text/plain": [
              "[<matplotlib.lines.Line2D at 0x7fe4a62dc890>]"
            ]
          },
          "metadata": {},
          "execution_count": 10
        },
        {
          "output_type": "display_data",
          "data": {
            "text/plain": [
              "<Figure size 432x288 with 1 Axes>"
            ],
            "image/png": "[encoded data removed]"
          },
          "metadata": {
            "needs_background": "light"
          }
        }
      ]
    },
    {
      "cell_type": "markdown",
      "source": [
        "Next, we will define an initial balance composed by 50000 units of ETH, a market price of P_ETH[0] and the corresponding units of USDC (50% each token at first).\n",
        "\n",
        "Moreover, using new_balance y balances_changes functions we calculate how the balances would change if it changed for every new price (5m).\n",
        "\n",
        "Note that in real life the balance won't necessarily change for every new market price (but when traders/arbitrators decide to operate it), but we want to reflect the underlying dynamics of Balancer."
      ],
      "metadata": {
        "id": "tSYFDmyVoQ9G"
      }
    },
    {
      "cell_type": "code",
      "source": [
        "P_entry = P_ETH[0]\n",
        "initial_balance = [P_entry*50000, 50000]\n",
        "weight_USDC = 0.5\n",
        "weight_ETH = 0.5\n",
        "swap_fee = 0\n",
        "new_balances_ = [initial_balance]\n",
        "balance_changes_pcg = [[0,0]]\n",
        "balance_changes_units = [[0,0]]\n",
        "for i in range(1,len(P_ETH)):\n",
        "  new_market_price = P_ETH[i]\n",
        "  pool_price = calc_spot_price(new_balances_[i-1][0], weight_USDC,\n",
        "                    new_balances_[i-1][1], weight_ETH,\n",
        "                    swap_fee)\n",
        "  if new_market_price < pool_price: # ETH has a lower market price, so the pool has to increase the balance of ETH\n",
        "    new_balance_in, new_balance_out = list(new_balance(new_balances_[i-1][1], # token_in = ETH\n",
        "                new_balances_[i-1][0], # token_out = USDC\n",
        "                new_market_price,\n",
        "                weight_ETH,\n",
        "                weight_USDC,\n",
        "                swap_fee).values())\n",
        "    new_balances_.append([new_balance_in, new_balance_out])\n",
        "  else:\n",
        "    new_balance_in, new_balance_out = list(new_balance(new_balances_[i-1][0], # token_in = USDC\n",
        "                new_balances_[i-1][1], # token_out = ETH\n",
        "                new_market_price,\n",
        "                weight_USDC,\n",
        "                weight_ETH,\n",
        "                swap_fee).values())\n",
        "    new_balances_.append([new_balance_in, new_balance_out])\n",
        "  # balance_changes_pcg.append(balances_changes(new_balances_[i], new_balances_[i-1])['pcg'])\n",
        "  # balance_changes_units.append(balances_changes(new_balances_[i], new_balances_[i-1])['units'])"
      ],
      "metadata": {
        "id": "iHkK9UmLXCW3"
      },
      "execution_count": null,
      "outputs": []
    },
    {
      "cell_type": "markdown",
      "source": [
        "We check that new_balances_ variation coincides with theoretical variations."
      ],
      "metadata": {
        "id": "TUt0oMdCrkzX"
      }
    },
    {
      "cell_type": "code",
      "source": [
        "i = 1\n",
        "new_balances_[i][0]/new_balances_[i-1][0] -1, balance_changes_pcg[i][0]"
      ],
      "metadata": {
        "colab": {
          "base_uri": "https://localhost:8080/",
          "height": 183
        },
        "id": "fGJ7-z5SrlwY",
        "outputId": "1a4975ce-0d49-4c34-d410-f7c6be789470"
      },
      "execution_count": null,
      "outputs": [
        {
          "output_type": "error",
          "ename": "IndexError",
          "evalue": "ignored",
          "traceback": [
            "\u001b[0;31m---------------------------------------------------------------------------\u001b[0m",
            "\u001b[0;31mIndexError\u001b[0m                                Traceback (most recent call last)",
            "\u001b[0;32m<ipython-input-12-c71e3dd94c2a>\u001b[0m in \u001b[0;36m<module>\u001b[0;34m()\u001b[0m\n\u001b[1;32m      1\u001b[0m \u001b[0mi\u001b[0m \u001b[0;34m=\u001b[0m \u001b[0;36m1\u001b[0m\u001b[0;34m\u001b[0m\u001b[0;34m\u001b[0m\u001b[0m\n\u001b[0;32m----> 2\u001b[0;31m \u001b[0mnew_balances_\u001b[0m\u001b[0;34m[\u001b[0m\u001b[0mi\u001b[0m\u001b[0;34m]\u001b[0m\u001b[0;34m[\u001b[0m\u001b[0;36m0\u001b[0m\u001b[0;34m]\u001b[0m\u001b[0;34m/\u001b[0m\u001b[0mnew_balances_\u001b[0m\u001b[0;34m[\u001b[0m\u001b[0mi\u001b[0m\u001b[0;34m-\u001b[0m\u001b[0;36m1\u001b[0m\u001b[0;34m]\u001b[0m\u001b[0;34m[\u001b[0m\u001b[0;36m0\u001b[0m\u001b[0;34m]\u001b[0m \u001b[0;34m-\u001b[0m\u001b[0;36m1\u001b[0m\u001b[0;34m,\u001b[0m \u001b[0mbalance_changes_pcg\u001b[0m\u001b[0;34m[\u001b[0m\u001b[0mi\u001b[0m\u001b[0;34m]\u001b[0m\u001b[0;34m[\u001b[0m\u001b[0;36m0\u001b[0m\u001b[0;34m]\u001b[0m\u001b[0;34m\u001b[0m\u001b[0;34m\u001b[0m\u001b[0m\n\u001b[0m",
            "\u001b[0;31mIndexError\u001b[0m: list index out of range"
          ]
        }
      ]
    },
    {
      "cell_type": "markdown",
      "source": [
        "Let's see how the balances change and check that market_spot = pool_spot."
      ],
      "metadata": {
        "id": "jpXYgBvn9LAA"
      }
    },
    {
      "cell_type": "code",
      "source": [
        "historical_balances = pd.DataFrame(new_balances_, index = P_ETH.index)\n",
        "historical_balances.columns = ['balance_USDC', 'balance_ETH']\n",
        "comparacion_precios = pd.concat([P_ETH, \n",
        "                             pd.DataFrame([calc_spot_price(new_balances_[i][0], weight_USDC,\n",
        "                    new_balances_[i][1], weight_ETH,\n",
        "                    swap_fee) for i in range(len(new_balances_))], index = P_ETH.index)], axis = 1)\n",
        "          #  pd.DataFrame([V_hold[i]-V_hold_2[i] for i in range(len(V_pool))], index = P_ETH.index)], axis = 1)\n",
        "comparacion_precios.columns = ['market_spot', 'pool_spot']\n",
        "pd.concat([historical_balances, comparacion_precios], axis = 1)"
      ],
      "metadata": {
        "colab": {
          "base_uri": "https://localhost:8080/",
          "height": 455
        },
        "id": "6ytMiLKwwDks",
        "outputId": "b5072e71-2f1a-4abe-ce04-8f107fc4bff0"
      },
      "execution_count": null,
      "outputs": [
        {
          "output_type": "execute_result",
          "data": {
            "text/plain": [
              "                     balance_USDC   balance_ETH market_spot  pool_spot\n",
              "timestamp                                                             \n",
              "2021-03-31 00:00:00  9.226750e+07  50000.000000     1845.35    1845.35\n",
              "2021-03-31 00:05:00  9.229100e+07  49987.270152     1846.29    1846.29\n",
              "2021-03-31 00:10:00  9.235771e+07  49951.164928     1848.96    1848.96\n",
              "2021-03-31 00:15:00  9.232123e+07  49970.898161      1847.5    1847.50\n",
              "2021-03-31 00:20:00  9.228375e+07  49991.196408      1846.0    1846.00\n",
              "...                           ...           ...         ...        ...\n",
              "2021-04-06 22:15:00  9.863784e+07  46770.844061     2108.96    2108.96\n",
              "2021-04-06 22:20:00  9.880654e+07  46690.989319     2116.18    2116.18\n",
              "2021-04-06 22:25:00  9.870213e+07  46740.380190     2111.71    2111.71\n",
              "2021-04-06 22:30:00  9.883268e+07  46678.638489      2117.3    2117.30\n",
              "2021-04-06 22:35:00  9.885228e+07  46669.381796     2118.14    2118.14\n",
              "\n",
              "[2000 rows x 4 columns]"
            ],
            "text/html": [
              "\n",
              "  <div id=\"df-8928f3e3-e46e-42f1-a955-3e4fc90a5a9d\">\n",
              "    <div class=\"colab-df-container\">\n",
              "      <div>\n",
              "<style scoped>\n",
              "    .dataframe tbody tr th:only-of-type {\n",
              "        vertical-align: middle;\n",
              "    }\n",
              "\n",
              "    .dataframe tbody tr th {\n",
              "        vertical-align: top;\n",
              "    }\n",
              "\n",
              "    .dataframe thead th {\n",
              "        text-align: right;\n",
              "    }\n",
              "</style>\n",
              "<table border=\"1\" class=\"dataframe\">\n",
              "  <thead>\n",
              "    <tr style=\"text-align: right;\">\n",
              "      <th></th>\n",
              "      <th>balance_USDC</th>\n",
              "      <th>balance_ETH</th>\n",
              "      <th>market_spot</th>\n",
              "      <th>pool_spot</th>\n",
              "    </tr>\n",
              "    <tr>\n",
              "      <th>timestamp</th>\n",
              "      <th></th>\n",
              "      <th></th>\n",
              "      <th></th>\n",
              "      <th></th>\n",
              "    </tr>\n",
              "  </thead>\n",
              "  <tbody>\n",
              "    <tr>\n",
              "      <th>2021-03-31 00:00:00</th>\n",
              "      <td>9.226750e+07</td>\n",
              "      <td>50000.000000</td>\n",
              "      <td>1845.35</td>\n",
              "      <td>1845.35</td>\n",
              "    </tr>\n",
              "    <tr>\n",
              "      <th>2021-03-31 00:05:00</th>\n",
              "      <td>9.229100e+07</td>\n",
              "      <td>49987.270152</td>\n",
              "      <td>1846.29</td>\n",
              "      <td>1846.29</td>\n",
              "    </tr>\n",
              "    <tr>\n",
              "      <th>2021-03-31 00:10:00</th>\n",
              "      <td>9.235771e+07</td>\n",
              "      <td>49951.164928</td>\n",
              "      <td>1848.96</td>\n",
              "      <td>1848.96</td>\n",
              "    </tr>\n",
              "    <tr>\n",
              "      <th>2021-03-31 00:15:00</th>\n",
              "      <td>9.232123e+07</td>\n",
              "      <td>49970.898161</td>\n",
              "      <td>1847.5</td>\n",
              "      <td>1847.50</td>\n",
              "    </tr>\n",
              "    <tr>\n",
              "      <th>2021-03-31 00:20:00</th>\n",
              "      <td>9.228375e+07</td>\n",
              "      <td>49991.196408</td>\n",
              "      <td>1846.0</td>\n",
              "      <td>1846.00</td>\n",
              "    </tr>\n",
              "    <tr>\n",
              "      <th>...</th>\n",
              "      <td>...</td>\n",
              "      <td>...</td>\n",
              "      <td>...</td>\n",
              "      <td>...</td>\n",
              "    </tr>\n",
              "    <tr>\n",
              "      <th>2021-04-06 22:15:00</th>\n",
              "      <td>9.863784e+07</td>\n",
              "      <td>46770.844061</td>\n",
              "      <td>2108.96</td>\n",
              "      <td>2108.96</td>\n",
              "    </tr>\n",
              "    <tr>\n",
              "      <th>2021-04-06 22:20:00</th>\n",
              "      <td>9.880654e+07</td>\n",
              "      <td>46690.989319</td>\n",
              "      <td>2116.18</td>\n",
              "      <td>2116.18</td>\n",
              "    </tr>\n",
              "    <tr>\n",
              "      <th>2021-04-06 22:25:00</th>\n",
              "      <td>9.870213e+07</td>\n",
              "      <td>46740.380190</td>\n",
              "      <td>2111.71</td>\n",
              "      <td>2111.71</td>\n",
              "    </tr>\n",
              "    <tr>\n",
              "      <th>2021-04-06 22:30:00</th>\n",
              "      <td>9.883268e+07</td>\n",
              "      <td>46678.638489</td>\n",
              "      <td>2117.3</td>\n",
              "      <td>2117.30</td>\n",
              "    </tr>\n",
              "    <tr>\n",
              "      <th>2021-04-06 22:35:00</th>\n",
              "      <td>9.885228e+07</td>\n",
              "      <td>46669.381796</td>\n",
              "      <td>2118.14</td>\n",
              "      <td>2118.14</td>\n",
              "    </tr>\n",
              "  </tbody>\n",
              "</table>\n",
              "<p>2000 rows × 4 columns</p>\n",
              "</div>\n",
              "      <button class=\"colab-df-convert\" onclick=\"convertToInteractive('df-8928f3e3-e46e-42f1-a955-3e4fc90a5a9d')\"\n",
              "              title=\"Convert this dataframe to an interactive table.\"\n",
              "              style=\"display:none;\">\n",
              "        \n",
              "  <svg xmlns=\"http://www.w3.org/2000/svg\" height=\"24px\"viewBox=\"0 0 24 24\"\n",
              "       width=\"24px\">\n",
              "    <path d=\"M0 0h24v24H0V0z\" fill=\"none\"/>\n",
              "    <path d=\"M18.56 5.44l.94 2.06.94-2.06 2.06-.94-2.06-.94-.94-2.06-.94 2.06-2.06.94zm-11 1L8.5 8.5l.94-2.06 2.06-.94-2.06-.94L8.5 2.5l-.94 2.06-2.06.94zm10 10l.94 2.06.94-2.06 2.06-.94-2.06-.94-.94-2.06-.94 2.06-2.06.94z\"/><path d=\"M17.41 7.96l-1.37-1.37c-.4-.4-.92-.59-1.43-.59-.52 0-1.04.2-1.43.59L10.3 9.45l-7.72 7.72c-.78.78-.78 2.05 0 2.83L4 21.41c.39.39.9.59 1.41.59.51 0 1.02-.2 1.41-.59l7.78-7.78 2.81-2.81c.8-.78.8-2.07 0-2.86zM5.41 20L4 18.59l7.72-7.72 1.47 1.35L5.41 20z\"/>\n",
              "  </svg>\n",
              "      </button>\n",
              "      \n",
              "  <style>\n",
              "    .colab-df-container {\n",
              "      display:flex;\n",
              "      flex-wrap:wrap;\n",
              "      gap: 12px;\n",
              "    }\n",
              "\n",
              "    .colab-df-convert {\n",
              "      background-color: #E8F0FE;\n",
              "      border: none;\n",
              "      border-radius: 50%;\n",
              "      cursor: pointer;\n",
              "      display: none;\n",
              "      fill: #1967D2;\n",
              "      height: 32px;\n",
              "      padding: 0 0 0 0;\n",
              "      width: 32px;\n",
              "    }\n",
              "\n",
              "    .colab-df-convert:hover {\n",
              "      background-color: #E2EBFA;\n",
              "      box-shadow: 0px 1px 2px rgba(60, 64, 67, 0.3), 0px 1px 3px 1px rgba(60, 64, 67, 0.15);\n",
              "      fill: #174EA6;\n",
              "    }\n",
              "\n",
              "    [theme=dark] .colab-df-convert {\n",
              "      background-color: #3B4455;\n",
              "      fill: #D2E3FC;\n",
              "    }\n",
              "\n",
              "    [theme=dark] .colab-df-convert:hover {\n",
              "      background-color: #434B5C;\n",
              "      box-shadow: 0px 1px 3px 1px rgba(0, 0, 0, 0.15);\n",
              "      filter: drop-shadow(0px 1px 2px rgba(0, 0, 0, 0.3));\n",
              "      fill: #FFFFFF;\n",
              "    }\n",
              "  </style>\n",
              "\n",
              "      <script>\n",
              "        const buttonEl =\n",
              "          document.querySelector('#df-8928f3e3-e46e-42f1-a955-3e4fc90a5a9d button.colab-df-convert');\n",
              "        buttonEl.style.display =\n",
              "          google.colab.kernel.accessAllowed ? 'block' : 'none';\n",
              "\n",
              "        async function convertToInteractive(key) {\n",
              "          const element = document.querySelector('#df-8928f3e3-e46e-42f1-a955-3e4fc90a5a9d');\n",
              "          const dataTable =\n",
              "            await google.colab.kernel.invokeFunction('convertToInteractive',\n",
              "                                                     [key], {});\n",
              "          if (!dataTable) return;\n",
              "\n",
              "          const docLinkHtml = 'Like what you see? Visit the ' +\n",
              "            '<a target=\"_blank\" href=https://colab.research.google.com/notebooks/data_table.ipynb>data table notebook</a>'\n",
              "            + ' to learn more about interactive tables.';\n",
              "          element.innerHTML = '';\n",
              "          dataTable['output_type'] = 'display_data';\n",
              "          await google.colab.output.renderOutput(dataTable, element);\n",
              "          const docLink = document.createElement('div');\n",
              "          docLink.innerHTML = docLinkHtml;\n",
              "          element.appendChild(docLink);\n",
              "        }\n",
              "      </script>\n",
              "    </div>\n",
              "  </div>\n",
              "  "
            ]
          },
          "metadata": {},
          "execution_count": 23
        }
      ]
    },
    {
      "cell_type": "markdown",
      "source": [
        "# Dynamic weights"
      ],
      "metadata": {
        "id": "WIvPQeYo5HCe"
      }
    },
    {
      "cell_type": "markdown",
      "source": [
        "We know that by reducing the weight of a token, we are incentivizing traders/arbitrators to buy it, i.e. to swap it for the other token. Therefore, decreasing one token's weight and increasing the other will likely increase the first's balance and decrease the second's balance.\n",
        "\n",
        "The idea is to start a pool with almost all the weight concentrated in ETH, in order to incentivize arbitrators to swap their USDC for our ETH and therefore increasing our reserves of USDC. So, in a sense we will be selling ETH for USDC. We will keep the incentive like this (THINK HOW WEIGHTS SHOULD CHANGE) until ETH goes back to the floor price. Once ETH's price is greater than the floor price we will change the weights in order to incentivize arbitrators to swap their ETH for our USDC, i.e. we will be buying back the ETH.\n",
        "\n",
        "**<font color='red'>Problem</font>**: If we buy back the ETH for a price greater than the floor price, we will be losing money (sell_price <= floor price <= buy_price).\n",
        "\n",
        "**<font color='green'>Possible solution</font>**: We could sell the ETH not at the floor price but some price slightly above that and buy it back at a slightly lower price than the floor price (buy_price = floor_price - \\epsilon < sell_price = floor_price + \\epsilon). We should define:\n",
        "- a threshold (floor_price, floor_price + \\delta] in which we trigger the selling strategy for a sell_price = floor_price + \\epsilon < floor_price + \\delta\n",
        "- a threshold [floor_price -\\delta, floor_price) in which we trigger the buying back strategy for a buy_price = floor_price - \\epsilon > floor_price - \\delta\n",
        "\n",
        "This way, as price moves between [floor_price + \\epsilon, floor_price + \\delta] (resp. [floor_price - \\delta, floor_price - \\epsilon] ), we have time to wait for the arbitrators to act.\n",
        "\n",
        "We have to define some criteria to avoid losing money at all costs, i.e. to avoid buying back ETH at a higger price than the sell_price."
      ],
      "metadata": {
        "id": "xutTczH8-3gg"
      }
    },
    {
      "cell_type": "code",
      "source": [
        "# This function is crucial. I return constant weights bc I'm just testing the code\n",
        "def dynamic_weights(market_spot, pool_spot):\n",
        "  weight_USDC, weight_ETH = 0.01, 0.99\n",
        "  return [weight_USDC, weight_ETH]"
      ],
      "metadata": {
        "id": "HAN4ZjKCL90N"
      },
      "execution_count": null,
      "outputs": []
    },
    {
      "cell_type": "code",
      "source": [
        "P_entry = P_ETH[0]\n",
        "weight_USDC_initial = 0.01\n",
        "weight_ETH_initial = 0.99\n",
        "initial_balance = [P_entry*5*weight_USDC_initial, 5*weight_ETH_initial]\n",
        "new_balances_ = [initial_balance]\n",
        "balance_changes_pcg = [[0,0]]\n",
        "balance_changes_units = [[0,0]]\n",
        "for i in range(1,len(P_ETH)):\n",
        "  new_market_price = P_ETH[i]\n",
        "  pool_price = calc_spot_price(new_balances_[i-1][0], weight_USDC,\n",
        "                    new_balances_[i-1][1], weight_ETH,\n",
        "                    swap_fee)\n",
        "  weight_USDC, weight_ETH = dynamic_weights(new_market_price, pool_price)\n",
        "  swap_fee = 0\n",
        "  if new_market_price < pool_price: # ETH has a lower market price, so the pool has to increase the balance of ETH\n",
        "    new_balance_in, new_balance_out = list(new_balance(new_balances_[i-1][1], # token_in = ETH\n",
        "                new_balances_[i-1][0], # token_out = USDC\n",
        "                new_market_price,\n",
        "                weight_ETH,\n",
        "                weight_USDC,\n",
        "                swap_fee).values())\n",
        "    new_balances_.append([new_balance_in, new_balance_out])\n",
        "  else:\n",
        "    new_balance_in, new_balance_out = list(new_balance(new_balances_[i-1][0], # token_in = USDC\n",
        "                new_balances_[i-1][1], # token_out = ETH\n",
        "                new_market_price,\n",
        "                weight_USDC,\n",
        "                weight_ETH,\n",
        "                swap_fee).values())\n",
        "    new_balances_.append([new_balance_in, new_balance_out])\n",
        "  # print(i)\n",
        "  # balance_changes_pcg.append(balances_changes(new_balances_[i], new_balances_[i-1])['pcg'])\n",
        "  # balance_changes_units.append(balances_changes(new_balances_[i], new_balances_[i-1])['units'])"
      ],
      "metadata": {
        "colab": {
          "base_uri": "https://localhost:8080/",
          "height": 356
        },
        "id": "vBYeyzL9HqaP",
        "outputId": "03fc96bd-fd4a-4b27-9fc4-7a1de8b9af1d"
      },
      "execution_count": null,
      "outputs": [
        {
          "output_type": "error",
          "ename": "ZeroDivisionError",
          "evalue": "ignored",
          "traceback": [
            "\u001b[0;31m---------------------------------------------------------------------------\u001b[0m",
            "\u001b[0;31mZeroDivisionError\u001b[0m                         Traceback (most recent call last)",
            "\u001b[0;32m<ipython-input-15-1bfbbea85043>\u001b[0m in \u001b[0;36m<module>\u001b[0;34m()\u001b[0m\n\u001b[1;32m      8\u001b[0m   spot_price = calc_spot_price(new_balances_[i-1][0], weight_USDC,\n\u001b[1;32m      9\u001b[0m                     \u001b[0mnew_balances_\u001b[0m\u001b[0;34m[\u001b[0m\u001b[0mi\u001b[0m\u001b[0;34m-\u001b[0m\u001b[0;36m1\u001b[0m\u001b[0;34m]\u001b[0m\u001b[0;34m[\u001b[0m\u001b[0;36m1\u001b[0m\u001b[0;34m]\u001b[0m\u001b[0;34m,\u001b[0m \u001b[0mweight_ETH\u001b[0m\u001b[0;34m,\u001b[0m\u001b[0;34m\u001b[0m\u001b[0;34m\u001b[0m\u001b[0m\n\u001b[0;32m---> 10\u001b[0;31m                     swap_fee)\n\u001b[0m\u001b[1;32m     11\u001b[0m   \u001b[0mweight_USDC\u001b[0m\u001b[0;34m,\u001b[0m \u001b[0mweight_ETH\u001b[0m \u001b[0;34m=\u001b[0m \u001b[0mdynamic_weights\u001b[0m\u001b[0;34m(\u001b[0m\u001b[0mnew_spot_price\u001b[0m\u001b[0;34m,\u001b[0m \u001b[0mspot_price\u001b[0m\u001b[0;34m)\u001b[0m\u001b[0;34m\u001b[0m\u001b[0;34m\u001b[0m\u001b[0m\n\u001b[1;32m     12\u001b[0m   \u001b[0mswap_fee\u001b[0m \u001b[0;34m=\u001b[0m \u001b[0;36m0\u001b[0m\u001b[0;34m\u001b[0m\u001b[0;34m\u001b[0m\u001b[0m\n",
            "\u001b[0;32m<ipython-input-2-cd27885d12b8>\u001b[0m in \u001b[0;36mcalc_spot_price\u001b[0;34m(token_balance_in, token_weight_in, token_balance_out, token_weight_out, swap_fee)\u001b[0m\n\u001b[1;32m     13\u001b[0m  \u001b[0mnumer\u001b[0m \u001b[0;34m=\u001b[0m \u001b[0mtoken_balance_in\u001b[0m \u001b[0;34m/\u001b[0m \u001b[0mtoken_weight_in\u001b[0m\u001b[0;34m\u001b[0m\u001b[0;34m\u001b[0m\u001b[0m\n\u001b[1;32m     14\u001b[0m  \u001b[0mdenom\u001b[0m \u001b[0;34m=\u001b[0m \u001b[0mtoken_balance_out\u001b[0m \u001b[0;34m/\u001b[0m \u001b[0mtoken_weight_out\u001b[0m\u001b[0;34m\u001b[0m\u001b[0;34m\u001b[0m\u001b[0m\n\u001b[0;32m---> 15\u001b[0;31m  \u001b[0mratio\u001b[0m \u001b[0;34m=\u001b[0m \u001b[0mnumer\u001b[0m \u001b[0;34m/\u001b[0m \u001b[0mdenom\u001b[0m\u001b[0;34m\u001b[0m\u001b[0;34m\u001b[0m\u001b[0m\n\u001b[0m\u001b[1;32m     16\u001b[0m  \u001b[0mscale\u001b[0m \u001b[0;34m=\u001b[0m \u001b[0;36m1\u001b[0m \u001b[0;34m/\u001b[0m \u001b[0;34m(\u001b[0m\u001b[0;36m1\u001b[0m \u001b[0;34m-\u001b[0m \u001b[0mswap_fee\u001b[0m\u001b[0;34m)\u001b[0m\u001b[0;34m\u001b[0m\u001b[0;34m\u001b[0m\u001b[0m\n\u001b[1;32m     17\u001b[0m  \u001b[0;32mreturn\u001b[0m \u001b[0mratio\u001b[0m \u001b[0;34m*\u001b[0m \u001b[0mscale\u001b[0m\u001b[0;34m\u001b[0m\u001b[0;34m\u001b[0m\u001b[0m\n",
            "\u001b[0;31mZeroDivisionError\u001b[0m: float division by zero"
          ]
        }
      ]
    },
    {
      "cell_type": "code",
      "source": [
        "# normalized_usdc = new_balances_[2][0] / weight_USDC,\n",
        "normalized_eth = new_balances_[2][1]/ weight_ETH,\n",
        "# swap_fee\n",
        "new_balances_[2]"
      ],
      "metadata": {
        "id": "90119QiNIB0l"
      },
      "execution_count": null,
      "outputs": []
    },
    {
      "cell_type": "code",
      "source": [
        "weight_USDC_initial = 0.01\n",
        "weight_ETH_initial = 0.99\n",
        "initial_balance = [P_entry*5*weight_USDC_initial, 5*weight_ETH_initial]\n",
        "new_balances_ = [initial_balance]"
      ],
      "metadata": {
        "id": "Sh5kwh5lIxV9"
      },
      "execution_count": null,
      "outputs": []
    },
    {
      "cell_type": "code",
      "source": [
        "normalized_USDC = initial_balance[0] / weight_USDC\n",
        "normalized_ETH = initial_balance[1] / weight_ETH\n",
        "pool_price = normalized_USDC / normalized_ETH\n",
        "normalized_USDC, normalized_ETH, pool_price"
      ],
      "metadata": {
        "colab": {
          "base_uri": "https://localhost:8080/"
        },
        "id": "-dcM7NwV1_Tv",
        "outputId": "e45ef088-e55f-4327-d301-809b4e5dce80"
      },
      "execution_count": null,
      "outputs": [
        {
          "output_type": "execute_result",
          "data": {
            "text/plain": [
              "(9226.75, 5.0, 1845.35)"
            ]
          },
          "metadata": {},
          "execution_count": 97
        }
      ]
    },
    {
      "cell_type": "code",
      "source": [
        "del new_balances_[-1]"
      ],
      "metadata": {
        "id": "X-E9FxOG4O8d"
      },
      "execution_count": null,
      "outputs": []
    },
    {
      "cell_type": "code",
      "source": [
        "i = 3\n",
        "new_market_price = P_ETH[i]\n",
        "pool_price = calc_spot_price(new_balances_[i-1][0], weight_USDC,\n",
        "                  new_balances_[i-1][1], weight_ETH,\n",
        "                  swap_fee)\n",
        "weight_USDC, weight_ETH = dynamic_weights(new_market_price, pool_price)\n",
        "swap_fee = 0\n",
        "if new_market_price < pool_price: # ETH has a lower market price, so the pool has to increase the balance of ETH\n",
        "  new_balance_in, new_balance_out = list(new_balance(new_balances_[i-1][1], # token_in = ETH\n",
        "              new_balances_[i-1][0], # token_out = USDC\n",
        "              new_market_price,\n",
        "              weight_ETH,\n",
        "              weight_USDC,\n",
        "              swap_fee).values())\n",
        "  new_balances_.append([new_balance_out, new_balance_in])\n",
        "else:\n",
        "  new_balance_in, new_balance_out = list(new_balance(new_balances_[i-1][0], # token_in = USDC\n",
        "              new_balances_[i-1][1], # token_out = ETH\n",
        "              new_market_price,\n",
        "              weight_USDC,\n",
        "              weight_ETH,\n",
        "              swap_fee).values())\n",
        "  new_balances_.append([new_balance_in, new_balance_out])\n",
        "print(new_balances_, [new_market_price, pool_price])"
      ],
      "metadata": {
        "colab": {
          "base_uri": "https://localhost:8080/"
        },
        "id": "ymoKRW0vItxa",
        "outputId": "03d813fd-15c5-4c24-9349-3e85bb3b2f58"
      },
      "execution_count": null,
      "outputs": [
        {
          "output_type": "stream",
          "name": "stdout",
          "text": [
            "[[92.2675, 4.95], [92.31402988151109, 4.949974791755141], [92.4461932532731, 4.949903260251188], [0.00022117832143919713, 5.753496204021758]] [1847.5, 1848.9599999999998]\n"
          ]
        }
      ]
    },
    {
      "cell_type": "code",
      "source": [
        "calc_spot_price(new_balances_[3][0], weight_USDC,\n",
        "                  new_balances_[3][1], weight_ETH,\n",
        "                  swap_fee)"
      ],
      "metadata": {
        "colab": {
          "base_uri": "https://localhost:8080/"
        },
        "id": "DLkLqg8O8uZZ",
        "outputId": "b9394300-776e-4eed-e5c4-baf0d5d294d7"
      },
      "execution_count": null,
      "outputs": [
        {
          "output_type": "execute_result",
          "data": {
            "text/plain": [
              "0.00380579964703453"
            ]
          },
          "metadata": {},
          "execution_count": 82
        }
      ]
    },
    {
      "cell_type": "code",
      "source": [
        "normalized_USDC = new_balances_[3][0] / weight_USDC\n",
        "normalized_ETH = new_balances_[3][1] / weight_ETH\n",
        "pool_price = normalized_USDC / normalized_ETH\n",
        "normalized_USDC, normalized_ETH, pool_price"
      ],
      "metadata": {
        "colab": {
          "base_uri": "https://localhost:8080/"
        },
        "id": "iE5uSLM07bfe",
        "outputId": "b320e8e4-d86a-4361-f9e9-8e3687453686"
      },
      "execution_count": null,
      "outputs": [
        {
          "output_type": "execute_result",
          "data": {
            "text/plain": [
              "(0.022117832143919713, 5.811612327294705, 0.00380579964703453)"
            ]
          },
          "metadata": {},
          "execution_count": 102
        }
      ]
    },
    {
      "cell_type": "code",
      "source": [
        "i = 3\n",
        "P_ETH[i], calc_spot_price(new_balances_[i-1][0], weight_USDC,\n",
        "                  new_balances_[i-1][1], weight_ETH,\n",
        "                  swap_fee)"
      ],
      "metadata": {
        "colab": {
          "base_uri": "https://localhost:8080/"
        },
        "id": "LyBtq8oI3tfL",
        "outputId": "cea1dc9f-c0c9-4a18-8a90-b2d96acf0499"
      },
      "execution_count": null,
      "outputs": [
        {
          "output_type": "execute_result",
          "data": {
            "text/plain": [
              "(1847.5, 1848.9599999999998)"
            ]
          },
          "metadata": {},
          "execution_count": 47
        }
      ]
    },
    {
      "cell_type": "code",
      "source": [
        "new_balance(new_balances_[i-1][1], # token_in = ETH\n",
        "              new_balances_[i-1][0], # token_out = USDC\n",
        "              P_ETH[i],\n",
        "              weight_ETH,\n",
        "              weight_USDC,\n",
        "              swap_fee)"
      ],
      "metadata": {
        "colab": {
          "base_uri": "https://localhost:8080/"
        },
        "id": "PNIYzaQ54tns",
        "outputId": "60c4702a-5e3c-4bfc-df94-1b9a7572be11"
      },
      "execution_count": null,
      "outputs": [
        {
          "output_type": "execute_result",
          "data": {
            "text/plain": [
              "{'new_balance_in': 5.753496204021758,\n",
              " 'new_balance_out': 3.1456629642434564e-05}"
            ]
          },
          "metadata": {},
          "execution_count": 58
        }
      ]
    },
    {
      "cell_type": "code",
      "source": [
        "A_i = calc_in_given_price(new_balances_[i-1][0], # token_out = USDC\n",
        "              new_balances_[i-1][1], # token_in = ETH\n",
        "              P_ETH[i],\n",
        "              weight_ETH,\n",
        "              weight_USDC,\n",
        "              swap_fee)['token_amount_in']\n",
        "A_o = calc_out_given_in(\n",
        "            A_i, \n",
        "            new_balances_[i-1][1]+A_i, weight_ETH,\n",
        "            new_balances_[i-1][0], weight_USDC,\n",
        "            swap_fee)['token_amount_out']\n",
        "A_i, A_o"
      ],
      "metadata": {
        "colab": {
          "base_uri": "https://localhost:8080/"
        },
        "id": "gar88Qly5Nf8",
        "outputId": "12c97da4-904b-48da-aded-2fefa3e6a4e2"
      },
      "execution_count": null,
      "outputs": [
        {
          "output_type": "execute_result",
          "data": {
            "text/plain": [
              "(0.8035929437705706, 92.44597207495165)"
            ]
          },
          "metadata": {},
          "execution_count": 103
        }
      ]
    },
    {
      "cell_type": "code",
      "source": [
        "((new_balances_[i-1][0]-A_o)*weight_ETH) / ((new_balances_[i-1][1]+A_i)*weight_USDC)"
      ],
      "metadata": {
        "colab": {
          "base_uri": "https://localhost:8080/"
        },
        "id": "M-1bgiUsFV-K",
        "outputId": "1ae7b7b2-acda-4b5f-e23f-6844c2567505"
      },
      "execution_count": null,
      "outputs": [
        {
          "output_type": "execute_result",
          "data": {
            "text/plain": [
              "0.00380579964703453"
            ]
          },
          "metadata": {},
          "execution_count": 110
        }
      ]
    },
    {
      "cell_type": "code",
      "source": [
        "92.4461932532731 - 92.44616179664345"
      ],
      "metadata": {
        "colab": {
          "base_uri": "https://localhost:8080/"
        },
        "id": "dn_2RTNm8Uzh",
        "outputId": "0b49b35f-5410-4630-91c1-e92a4ee85d92"
      },
      "execution_count": null,
      "outputs": [
        {
          "output_type": "execute_result",
          "data": {
            "text/plain": [
              "3.1456629642434564e-05"
            ]
          },
          "metadata": {},
          "execution_count": 76
        }
      ]
    },
    {
      "cell_type": "code",
      "source": [
        "calc_in_given_price(new_balances_[i-1][0], # token_out = USDC\n",
        "              new_balances_[i-1][1], # token_in = ETH\n",
        "              P_ETH[i],\n",
        "              weight_ETH,\n",
        "              weight_USDC,\n",
        "              swap_fee)['token_amount_in']"
      ],
      "metadata": {
        "colab": {
          "base_uri": "https://localhost:8080/"
        },
        "id": "hEQdlG_-6qQy",
        "outputId": "b312757b-3d66-4a0a-9ecb-37e2e3305f6e"
      },
      "execution_count": null,
      "outputs": [
        {
          "output_type": "execute_result",
          "data": {
            "text/plain": [
              "0.8035929437705706"
            ]
          },
          "metadata": {},
          "execution_count": 63
        }
      ]
    }
  ]
}