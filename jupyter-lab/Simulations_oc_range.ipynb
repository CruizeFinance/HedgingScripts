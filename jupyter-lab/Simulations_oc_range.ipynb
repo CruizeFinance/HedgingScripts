{
 "cells": [
  {
   "cell_type": "code",
   "execution_count": 1,
   "metadata": {},
   "outputs": [
    {
     "name": "stdout",
     "output_type": "stream",
     "text": [
      "Requirement already satisfied: pandas in /home/ubuntu/cruize/env/lib/python3.10/site-packages (1.5.0)\n",
      "Requirement already satisfied: scipy in /home/ubuntu/cruize/env/lib/python3.10/site-packages (1.9.1)\n",
      "Requirement already satisfied: pygsheets in /home/ubuntu/cruize/env/lib/python3.10/site-packages (2.0.5)\n",
      "Requirement already satisfied: matplotlib in /home/ubuntu/cruize/env/lib/python3.10/site-packages (3.6.0)\n",
      "Requirement already satisfied: numpy>=1.21.0 in /home/ubuntu/cruize/env/lib/python3.10/site-packages (from pandas) (1.23.3)\n",
      "Requirement already satisfied: python-dateutil>=2.8.1 in /home/ubuntu/cruize/env/lib/python3.10/site-packages (from pandas) (2.8.2)\n",
      "Requirement already satisfied: pytz>=2020.1 in /home/ubuntu/cruize/env/lib/python3.10/site-packages (from pandas) (2022.2.1)\n",
      "Requirement already satisfied: google-api-python-client>=1.5.5 in /home/ubuntu/cruize/env/lib/python3.10/site-packages (from pygsheets) (2.63.0)\n",
      "Requirement already satisfied: google-auth-oauthlib in /home/ubuntu/cruize/env/lib/python3.10/site-packages (from pygsheets) (0.5.3)\n",
      "Requirement already satisfied: kiwisolver>=1.0.1 in /home/ubuntu/cruize/env/lib/python3.10/site-packages (from matplotlib) (1.4.4)\n",
      "Requirement already satisfied: fonttools>=4.22.0 in /home/ubuntu/cruize/env/lib/python3.10/site-packages (from matplotlib) (4.37.3)\n",
      "Requirement already satisfied: packaging>=20.0 in /home/ubuntu/cruize/env/lib/python3.10/site-packages (from matplotlib) (21.3)\n",
      "Requirement already satisfied: cycler>=0.10 in /home/ubuntu/cruize/env/lib/python3.10/site-packages (from matplotlib) (0.11.0)\n",
      "Requirement already satisfied: contourpy>=1.0.1 in /home/ubuntu/cruize/env/lib/python3.10/site-packages (from matplotlib) (1.0.5)\n",
      "Requirement already satisfied: pyparsing>=2.2.1 in /home/ubuntu/cruize/env/lib/python3.10/site-packages (from matplotlib) (3.0.9)\n",
      "Requirement already satisfied: pillow>=6.2.0 in /home/ubuntu/cruize/env/lib/python3.10/site-packages (from matplotlib) (9.2.0)\n",
      "Requirement already satisfied: httplib2<1dev,>=0.15.0 in /home/ubuntu/cruize/env/lib/python3.10/site-packages (from google-api-python-client>=1.5.5->pygsheets) (0.20.4)\n",
      "Requirement already satisfied: google-auth-httplib2>=0.1.0 in /home/ubuntu/cruize/env/lib/python3.10/site-packages (from google-api-python-client>=1.5.5->pygsheets) (0.1.0)\n",
      "Requirement already satisfied: uritemplate<5,>=3.0.1 in /home/ubuntu/cruize/env/lib/python3.10/site-packages (from google-api-python-client>=1.5.5->pygsheets) (4.1.1)\n",
      "Requirement already satisfied: google-auth<3.0.0dev,>=1.19.0 in /home/ubuntu/cruize/env/lib/python3.10/site-packages (from google-api-python-client>=1.5.5->pygsheets) (2.12.0)\n",
      "Requirement already satisfied: google-api-core!=2.0.*,!=2.1.*,!=2.2.*,!=2.3.0,<3.0.0dev,>=1.31.5 in /home/ubuntu/cruize/env/lib/python3.10/site-packages (from google-api-python-client>=1.5.5->pygsheets) (2.10.1)\n",
      "Requirement already satisfied: six>=1.5 in /home/ubuntu/cruize/env/lib/python3.10/site-packages (from python-dateutil>=2.8.1->pandas) (1.16.0)\n",
      "Requirement already satisfied: requests-oauthlib>=0.7.0 in /home/ubuntu/cruize/env/lib/python3.10/site-packages (from google-auth-oauthlib->pygsheets) (1.3.1)\n",
      "Requirement already satisfied: googleapis-common-protos<2.0dev,>=1.56.2 in /home/ubuntu/cruize/env/lib/python3.10/site-packages (from google-api-core!=2.0.*,!=2.1.*,!=2.2.*,!=2.3.0,<3.0.0dev,>=1.31.5->google-api-python-client>=1.5.5->pygsheets) (1.56.4)\n",
      "Requirement already satisfied: requests<3.0.0dev,>=2.18.0 in /home/ubuntu/cruize/env/lib/python3.10/site-packages (from google-api-core!=2.0.*,!=2.1.*,!=2.2.*,!=2.3.0,<3.0.0dev,>=1.31.5->google-api-python-client>=1.5.5->pygsheets) (2.28.1)\n",
      "Requirement already satisfied: protobuf<5.0.0dev,>=3.20.1 in /home/ubuntu/cruize/env/lib/python3.10/site-packages (from google-api-core!=2.0.*,!=2.1.*,!=2.2.*,!=2.3.0,<3.0.0dev,>=1.31.5->google-api-python-client>=1.5.5->pygsheets) (4.21.7)\n",
      "Requirement already satisfied: pyasn1-modules>=0.2.1 in /home/ubuntu/cruize/env/lib/python3.10/site-packages (from google-auth<3.0.0dev,>=1.19.0->google-api-python-client>=1.5.5->pygsheets) (0.2.8)\n",
      "Requirement already satisfied: rsa<5,>=3.1.4 in /home/ubuntu/cruize/env/lib/python3.10/site-packages (from google-auth<3.0.0dev,>=1.19.0->google-api-python-client>=1.5.5->pygsheets) (4.9)\n",
      "Requirement already satisfied: cachetools<6.0,>=2.0.0 in /home/ubuntu/cruize/env/lib/python3.10/site-packages (from google-auth<3.0.0dev,>=1.19.0->google-api-python-client>=1.5.5->pygsheets) (5.2.0)\n",
      "Requirement already satisfied: oauthlib>=3.0.0 in /home/ubuntu/cruize/env/lib/python3.10/site-packages (from requests-oauthlib>=0.7.0->google-auth-oauthlib->pygsheets) (3.2.1)\n",
      "Requirement already satisfied: pyasn1<0.5.0,>=0.4.6 in /home/ubuntu/cruize/env/lib/python3.10/site-packages (from pyasn1-modules>=0.2.1->google-auth<3.0.0dev,>=1.19.0->google-api-python-client>=1.5.5->pygsheets) (0.4.8)\n",
      "Requirement already satisfied: certifi>=2017.4.17 in /home/ubuntu/cruize/env/lib/python3.10/site-packages (from requests<3.0.0dev,>=2.18.0->google-api-core!=2.0.*,!=2.1.*,!=2.2.*,!=2.3.0,<3.0.0dev,>=1.31.5->google-api-python-client>=1.5.5->pygsheets) (2022.9.24)\n",
      "Requirement already satisfied: idna<4,>=2.5 in /home/ubuntu/cruize/env/lib/python3.10/site-packages (from requests<3.0.0dev,>=2.18.0->google-api-core!=2.0.*,!=2.1.*,!=2.2.*,!=2.3.0,<3.0.0dev,>=1.31.5->google-api-python-client>=1.5.5->pygsheets) (3.4)\n",
      "Requirement already satisfied: charset-normalizer<3,>=2 in /home/ubuntu/cruize/env/lib/python3.10/site-packages (from requests<3.0.0dev,>=2.18.0->google-api-core!=2.0.*,!=2.1.*,!=2.2.*,!=2.3.0,<3.0.0dev,>=1.31.5->google-api-python-client>=1.5.5->pygsheets) (2.1.1)\n",
      "Requirement already satisfied: urllib3<1.27,>=1.21.1 in /home/ubuntu/cruize/env/lib/python3.10/site-packages (from requests<3.0.0dev,>=2.18.0->google-api-core!=2.0.*,!=2.1.*,!=2.2.*,!=2.3.0,<3.0.0dev,>=1.31.5->google-api-python-client>=1.5.5->pygsheets) (1.26.12)\n",
      "\n",
      "\u001b[1m[\u001b[0m\u001b[34;49mnotice\u001b[0m\u001b[1;39;49m]\u001b[0m\u001b[39;49m A new release of pip available: \u001b[0m\u001b[31;49m22.2.2\u001b[0m\u001b[39;49m -> \u001b[0m\u001b[32;49m22.3\u001b[0m\n",
      "\u001b[1m[\u001b[0m\u001b[34;49mnotice\u001b[0m\u001b[1;39;49m]\u001b[0m\u001b[39;49m To update, run: \u001b[0m\u001b[32;49mpip install --upgrade pip\u001b[0m\n"
     ]
    }
   ],
   "source": [
    "!pip install pandas scipy pygsheets matplotlib\n",
    "\n",
    "import os\n",
    "import pygsheets\n",
    "import matplotlib.pyplot as plt\n",
    "from scipy.stats import norm\n",
    "import csv\n",
    "import pandas as pd\n",
    "import numpy as np\n",
    "import json\n",
    "import math\n",
    "import random"
   ]
  },
  {
   "cell_type": "markdown",
   "metadata": {
    "tags": []
   },
   "source": [
    "# Classes"
   ]
  },
  {
   "cell_type": "markdown",
   "metadata": {
    "tags": []
   },
   "source": [
    "## StgyApp"
   ]
  },
  {
   "cell_type": "markdown",
   "metadata": {},
   "source": [
    "The main class for initializing everything and running simulations through reading prices in the dataset, updating all the parameters involved and executing the needed actions."
   ]
  },
  {
   "cell_type": "code",
   "execution_count": 2,
   "metadata": {
    "tags": []
   },
   "outputs": [],
   "source": [
    "class StgyApp(object):\n",
    "\n",
    "    def __init__(self, config):\n",
    "\n",
    "        self.stk = config[\"stk\"]\n",
    "        self.total_costs_from_aave_n_dydx = 0\n",
    "        self.total_pnl = 0\n",
    "        self.gas_fees = 0\n",
    "\n",
    "        # prices and intervals\n",
    "        self.trigger_prices = {}\n",
    "        self.intervals = {}\n",
    "\n",
    "        # clients for data\n",
    "        # self.binance_client = binance_client_.BinanceClient(config[\"binance_client\"])\n",
    "        # self.dydx_client = dydx_client.DydxClient(config[\"dydx_client\"])\n",
    "        # self.sm_interactor = sm_interactor.SmInteractor(config[\"sm_interactor\"])\n",
    "        # self.historical_data =\n",
    "\n",
    "        # We create attributes to fill later\n",
    "        self.aave = None\n",
    "        self.aave_features = None\n",
    "        self.aave_rates = None\n",
    "\n",
    "        self.dydx = None\n",
    "        self.dydx_features = None\n",
    "\n",
    "        # self.volatility_calculator = None\n",
    "\n",
    "        self.parameter_manager = ParameterManager()\n",
    "\n",
    "        self.historical_data = None\n",
    "\n",
    "        self.data_dumper = DataDamperNPlotter()\n",
    "\n",
    "    def launch(self, config):\n",
    "        # self.call_binance_data_loader()\n",
    "        self.initialize_aave(config['initial_parameters']['aave'])\n",
    "        self.initialize_dydx(config['initial_parameters']['dydx'])\n",
    "\n",
    "    # call clients functions\n",
    "    def get_historical_data(self, symbol, freq,\n",
    "                                 initial_date, save):\n",
    "        eth_historical = self.binance_client.get_all_binance(symbol=symbol, freq=freq,\n",
    "                                                             initial_date=initial_date, save=save)\n",
    "        # self.historical_data = eth_historical\n",
    "        self.historical_data = eth_historical[\"close\"]\n",
    "        for i in range(len(self.historical_data)):\n",
    "            self.historical_data[i] = float(self.historical_data[i])\n",
    "        # self.load_intervals()\n",
    "\n",
    "    # initialize classes\n",
    "    def initialize_aave(self, config):\n",
    "        # We initialize aave and dydx classes instances\n",
    "        self.aave = Aave(config)\n",
    "        # We load methods and attributes for aave and dydx to use later\n",
    "        self.aave_features = {\"methods\": [func for func in dir(self.aave)\n",
    "                                          if (callable(getattr(self.aave, func))) & (not func.startswith('__'))],\n",
    "                              \"attributes\": {\"values\": list(self.aave.__dict__.values()),\n",
    "                                             \"keys\": list(self.aave.__dict__.keys())}}\n",
    "        # We create an attribute for historical data\n",
    "        self.aave_historical_data = []\n",
    "\n",
    "    def initialize_dydx(self, config):\n",
    "        self.dydx = Dydx(config)\n",
    "        self.dydx_features = {\"methods\": [func for func in dir(self.dydx)\n",
    "                                          if (callable(getattr(self.dydx, func))) & (not func.startswith('__'))],\n",
    "                              \"attributes\": {\"values\": list(self.dydx.__dict__.values()),\n",
    "                                             \"keys\": list(self.dydx.__dict__.keys())}}\n",
    "        self.dydx_historical_data = []"
   ]
  },
  {
   "cell_type": "markdown",
   "metadata": {},
   "source": [
    "## Aave and DyDx modules"
   ]
  },
  {
   "cell_type": "markdown",
   "metadata": {},
   "source": [
    "Modules with parameters for the protocols involved in the strategy (Aave and DyDx), methods for updating all the parameters given a new price read by the bot and methods for executing the actions needed."
   ]
  },
  {
   "cell_type": "markdown",
   "metadata": {
    "tags": []
   },
   "source": [
    "### Aave"
   ]
  },
  {
   "cell_type": "code",
   "execution_count": 3,
   "metadata": {},
   "outputs": [],
   "source": [
    "class Aave(object):\n",
    "\n",
    "    def __init__(self, config):\n",
    "        # assert self.dydx_class_instance == isinstance(dydx)\n",
    "        # assert config['debt'] == config['collateral_eth'] * config['borrowed_pcg']\n",
    "        self.market_price = config['market_price']\n",
    "\n",
    "        self.entry_price = config['entry_price']\n",
    "\n",
    "        self.collateral_eth_initial = config['collateral_eth']\n",
    "        self.collateral_eth = config['collateral_eth']\n",
    "        self.collateral_usdc = config['collateral_usdc']\n",
    "\n",
    "        self.reserve_margin_eth = 0\n",
    "        self.reserve_margin_usdc = 0\n",
    "\n",
    "        self.borrowed_percentage = config['borrowed_pcg']\n",
    "        self.usdc_status = config['usdc_status']\n",
    "\n",
    "        self.debt = config['debt']\n",
    "        self.debt_initial = config['debt']\n",
    "\n",
    "        self.ltv = config['ltv']\n",
    "        self.price_to_ltv_limit = config['price_to_ltv_limit']\n",
    "\n",
    "        self.lending_rate = 0\n",
    "        self.lending_rate_hourly = 0\n",
    "        self.interest_on_lending_eth = 0  # aggregated fees\n",
    "        self.interest_on_lending_usd = 0\n",
    "        self.lending_fees_eth = 0 # fees between last 2 prices\n",
    "        self.lending_fees_usd = 0\n",
    "\n",
    "        self.borrowing_rate = 0\n",
    "        self.borrowing_rate_hourly = 0\n",
    "        self.interest_on_borrowing = 0 # aggregated fees\n",
    "        self.borrowing_fees = 0 # fees between last 2 prices\n",
    "\n",
    "        self.lend_minus_borrow_interest = 0\n",
    "\n",
    "        self.costs = 0\n",
    "        # self.historical = pd.DataFrame()\n",
    "        # self.dydx_class_instance = dydx_class_instance\n",
    "        # self.staked_in_protocol = stk\n",
    "\n",
    "    # def update_costs(self):\n",
    "    #     \"\"\"\n",
    "    #     it requires having called borrowing_fees_calc() in order to use updated values of last earned fees\n",
    "    #     \"\"\"\n",
    "    #     # We have to substract lend_minus_borrow in order to increase the cost (negative cost means profit)\n",
    "    #     self.costs = self.costs - self.lend_minus_borrow_interest\n",
    "\n",
    "    def collateral_usd(self):\n",
    "        return self.collateral_eth * self.market_price\n",
    "\n",
    "    def update_debt(self):\n",
    "        \"\"\"\n",
    "        it requires having called borrowing_fees_calc() in order to use updated values of last earned fees\n",
    "        \"\"\"\n",
    "        self.debt = self.debt + self.borrowing_fees\n",
    "\n",
    "    def update_collateral(self):\n",
    "        \"\"\"\n",
    "        it requires having called lending_fees_calc() in order to use updated values of last earned fees\n",
    "        \"\"\"\n",
    "        self.collateral_eth = self.collateral_eth + self.lending_fees_eth\n",
    "        self.collateral_usdc = self.collateral_usd()\n",
    "\n",
    "    def track_lend_borrow_interest(self):\n",
    "        \"\"\"\n",
    "        it requires having called borrowing_fees_calc() and lending_fees_calc()\n",
    "        in order to use updated values of last earned fees\n",
    "        \"\"\"\n",
    "        self.lend_minus_borrow_interest = self.interest_on_lending_usd - self.interest_on_borrowing\n",
    "\n",
    "    def lending_fees_calc(self, freq):\n",
    "        self.simulate_lending_rate()\n",
    "        self.lending_rate_freq = self.lending_rate / freq\n",
    "\n",
    "        # fees from lending are added to collateral? YES\n",
    "        # lending rate is applied to coll+lend fees every time or just to initial coll? COLL+LEND ie LAST VALUE\n",
    "        self.lending_fees_eth = self.collateral_eth * self.lending_rate_freq\n",
    "        self.lending_fees_usd = self.lending_fees_eth * self.market_price\n",
    "        self.interest_on_lending_eth = self.interest_on_lending_eth + self.lending_fees_eth\n",
    "        self.interest_on_lending_usd = self.interest_on_lending_usd + self.lending_fees_usd\n",
    "\n",
    "    def borrowing_fees_calc(self, freq):\n",
    "        self.simulate_borrowing_rate()\n",
    "        self.borrowing_rate_freq = self.borrowing_rate / freq\n",
    "\n",
    "        # fees from borrow are added to debt? YES\n",
    "        # borrowing rate is applied to debt+borrow fees every time or just to initial debt? DEBT+BORROW ie LAST VALUE\n",
    "        self.borrowing_fees = self.debt * self.borrowing_rate_freq\n",
    "        self.interest_on_borrowing = self.interest_on_borrowing + self.borrowing_fees\n",
    "\n",
    "    def simulate_lending_rate(self):\n",
    "        # self.lending_rate = round(random.choice(list(np.arange(0.5/100, 1.5/100, 0.25/100))), 6)  # config['lending_rate']\n",
    "\n",
    "        # best case\n",
    "        # self.lending_rate = 1.5 / 100\n",
    "\n",
    "        # worst case\n",
    "        self.lending_rate = 0.5 / 100\n",
    "\n",
    "    def simulate_borrowing_rate(self):\n",
    "        # self.borrowing_rate = round(random.choice(list(np.arange(1.5/100, 2.5/100, 0.25/100))), 6)  # config['borrowing_rate']\n",
    "\n",
    "        # best case\n",
    "        # self.borrowing_rate = 1.5/100\n",
    "\n",
    "        # worst case\n",
    "        self.borrowing_rate = 2.5/100\n",
    "\n",
    "    def ltv_calc(self):\n",
    "        if self.collateral_usd() == 0:\n",
    "            return 0\n",
    "        else:\n",
    "            return self.debt / self.collateral_usd()\n",
    "\n",
    "    def price_to_liquidation(self, dydx_class_instance):\n",
    "        return self.entry_price - (dydx_class_instance.pnl()\n",
    "                                   + self.debt - self.lend_minus_borrow_interest) / self.collateral_eth\n",
    "\n",
    "    def price_to_ltv_limit_calc(self):\n",
    "        return round(self.entry_price * self.borrowed_percentage / self.ltv_limit(), 3)\n",
    "\n",
    "    def buffer_for_repay(self):\n",
    "        return 0.01\n",
    "\n",
    "    def ltv_limit(self):\n",
    "        return 0.5\n",
    "\n",
    "    # Actions to take\n",
    "    def return_usdc(self, stgy_instance):\n",
    "        gas_fees = stgy_instance.gas_fees\n",
    "        time = 0\n",
    "        if self.usdc_status:\n",
    "            # simulate 2min delay for tx\n",
    "            # update parameters\n",
    "            # AAVE parameters\n",
    "            self.usdc_status = False\n",
    "            # self.collateral_eth = 0\n",
    "            # self.collateral_usdc = 0\n",
    "            self.debt = 0\n",
    "            self.ltv = 0\n",
    "            self.price_to_ltv_limit = 0\n",
    "            # self.lending_rate = 0\n",
    "            # self.borrowing_rate = 0\n",
    "\n",
    "            # fees\n",
    "            self.costs = self.costs + gas_fees\n",
    "\n",
    "            time = 1\n",
    "        return time\n",
    "\n",
    "    def repay_aave(self, stgy_instance):\n",
    "        gas_fees = stgy_instance.gas_fees\n",
    "        dydx_class_instance = stgy_instance.dydx\n",
    "        # aave_class_instance = stgy_instance.aave\n",
    "        # dydx_client_class_instance = stgy_instance.dydx_client\n",
    "        #\n",
    "        time = 0\n",
    "        if self.usdc_status:\n",
    "            # update parameters\n",
    "            short_size_for_debt = self.debt / (self.market_price - dydx_class_instance.entry_price)\n",
    "            new_short_size = dydx_class_instance.short_size - short_size_for_debt\n",
    "\n",
    "            # pnl_for_debt = dydx_class_instance.pnl()\n",
    "            # We have to repeat the calculations for pnl and notional methods, but using different size_eth\n",
    "            pnl_for_debt = short_size_for_debt * (self.market_price - dydx_class_instance.entry_price)\n",
    "            self.debt = self.debt - pnl_for_debt\n",
    "            self.ltv = self.ltv_calc()\n",
    "\n",
    "            self.price_to_ltv_limit = round(self.entry_price * (self.debt / self.collateral_usdc) / self.ltv_limit(), 3)\n",
    "            self.costs = self.costs + gas_fees\n",
    "\n",
    "            dydx_class_instance.short_size = new_short_size\n",
    "            dydx_class_instance.notional = dydx_class_instance.notional_calc()\n",
    "            dydx_class_instance.equity = dydx_class_instance.equity_calc()\n",
    "            dydx_class_instance.leverage = dydx_class_instance.leverage_calc()\n",
    "            dydx_class_instance.pnl = dydx_class_instance.pnl_calc()\n",
    "            # dydx_class_instance.price_to_liquidation = \\\n",
    "            #     dydx_class_instance.price_to_liquidation_calc(dydx_client_class_instance)\n",
    "\n",
    "            # fees\n",
    "            # withdrawal_fees = pnl_for_debt * dydx_class_instance.withdrawal_fees\n",
    "            dydx_class_instance.simulate_maker_taker_fees()\n",
    "            notional_for_fees = abs(short_size_for_debt) * self.market_price\n",
    "            dydx_class_instance.costs = dydx_class_instance.costs \\\n",
    "                                        + dydx_class_instance.maker_taker_fees * notional_for_fees \\\n",
    "                                        + pnl_for_debt * dydx_class_instance.withdrawal_fees\n",
    "\n",
    "            # Note that a negative self.debt is actually a profit\n",
    "            # We update the parameters\n",
    "            if self.debt > 0:\n",
    "                self.usdc_status = True\n",
    "            else:\n",
    "                self.usdc_status = False\n",
    "            # simulate 2min delay for tx\n",
    "            time = 1\n",
    "        return time"
   ]
  },
  {
   "cell_type": "markdown",
   "metadata": {
    "tags": []
   },
   "source": [
    "### DyDx"
   ]
  },
  {
   "cell_type": "code",
   "execution_count": 4,
   "metadata": {},
   "outputs": [],
   "source": [
    "class Dydx(object):\n",
    "\n",
    "    def __init__(self, config):\n",
    "        # assert aave_class == isinstance(aave)\n",
    "        self.market_price = config['market_price']\n",
    " \n",
    "        self.entry_price = config['entry_price']\n",
    "        self.short_size = config['short_size']\n",
    "        self.collateral = config['collateral']\n",
    "        self.notional = config['notional']\n",
    "        self.equity = config['equity']\n",
    "        self.leverage = config['leverage']\n",
    "        self.pnl = config['pnl']\n",
    "        # self.price_to_liquidation = config['price_to_liquidation']\n",
    "        self.collateral_status = config['collateral_status']\n",
    "        self.short_status = config['short_status']\n",
    "        self.order_status = True\n",
    "        self.withdrawal_fees = 0.01/100\n",
    "        self.funding_rates = 0\n",
    "        self.maker_taker_fees = 0\n",
    "        self.maker_fees_counter = 0\n",
    "        self.costs = 0\n",
    "\n",
    "    # auxiliary functions\n",
    "    def pnl_calc(self):\n",
    "        return self.short_size * (self.market_price-self.entry_price)\n",
    "\n",
    "    def notional_calc(self):\n",
    "        return abs(self.short_size)*self.market_price\n",
    "\n",
    "    def equity_calc(self):\n",
    "        return self.collateral + self.pnl_calc()\n",
    "\n",
    "    def leverage_calc(self):\n",
    "        if self.equity_calc() == 0:\n",
    "            return 0\n",
    "        else:\n",
    "            return self.notional_calc() / self.equity_calc()\n",
    "\n",
    "    def price_to_repay_aave_debt_calc(self, pcg_of_debt_to_cover, aave_class_instance):\n",
    "        return self.entry_price \\\n",
    "               + aave_class_instance.debt * pcg_of_debt_to_cover / self.short_size\n",
    "\n",
    "    @staticmethod\n",
    "    def price_to_liquidation_calc(dydx_client_class_instance):\n",
    "        return dydx_client_class_instance.dydx_margin_parameters[\"liquidation_price\"]\n",
    "\n",
    "    def add_funding_rates(self):\n",
    "        self.simulate_funding_rates()\n",
    "        self.costs = self.costs - self.funding_rates * self.notional\n",
    "\n",
    "    def simulate_funding_rates(self):\n",
    "        # self.funding_rates = round(random.choice(list(np.arange(-0.0075/100, 0.0075/100, 0.0005/100))), 6)\n",
    "\n",
    "        # best case\n",
    "        # self.funding_rates = 0.0075 / 100\n",
    "\n",
    "        # average -0.00443%\n",
    "\n",
    "        # worst case\n",
    "        self.funding_rates = -0.0075 / 100\n",
    "\n",
    "    def simulate_maker_taker_fees(self):\n",
    "        # We add a counter for how many times we call this function\n",
    "        # i.e. how many times we open and close the short\n",
    "        self.maker_fees_counter += 1\n",
    "        # self.maker_taker_fees = round(random.choice(list(np.arange(0.01/100, 0.035/100, 0.0025/100))), 6)\n",
    "        \n",
    "        # maker fees\n",
    "        self.maker_taker_fees = 0.05 / 100 # <1M\n",
    "        # self.maker_taker_fees = 0.04 / 100 # <5M\n",
    "        # self.maker_taker_fees = 0.035 / 100 # <10M\n",
    "        # self.maker_taker_fees = 0.03 / 100 # <50M\n",
    "        # self.maker_taker_fees = 0.025 / 100 # <200M\n",
    "        # self.maker_taker_fees = 0.02 / 100  # >200M\n",
    "\n",
    "    # Actions to take\n",
    "    def remove_collateral(self, stgy_instance):\n",
    "        self.cancel_order()\n",
    "        time = 0\n",
    "        if self.collateral_status:\n",
    "            self.collateral_status = False\n",
    "            withdrawal_fees = self.collateral * self.withdrawal_fees\n",
    "            self.collateral = 0\n",
    "            # self.price_to_liquidation = 0\n",
    "\n",
    "            # fees\n",
    "            self.costs = self.costs + withdrawal_fees\n",
    "\n",
    "            time = 1\n",
    "        return time\n",
    "\n",
    "\n",
    "    def open_short(self, stgy_instance):\n",
    "        aave_class_instance = stgy_instance.aave\n",
    "        # dydx_client_class_instance = stgy_instance.dydx_client\n",
    "        if (not self.short_status) and self.order_status:\n",
    "            self.short_status = True\n",
    "            # dydx parameters\n",
    "            # if self.market_price <= stgy_instance.trigger_prices['floor']:\n",
    "            #     print(\"CAUTION: OPEN PRICE LESS OR EQUAL TO FLOOR!\")\n",
    "            #     print(\"Difference of: \", stgy_instance.trigger_prices['floor'] - self.market_price)\n",
    "\n",
    "            # if self.market_price <= stgy_instance.trigger_prices['open_close']:\n",
    "            #     print(\"CAUTION: OPEN PRICE LOWER THAN open_close!\")\n",
    "            #     print(\"Difference of: \", stgy_instance.trigger_prices['open_close'] - self.market_price)\n",
    "            self.entry_price = self.market_price\n",
    "            self.short_size = -aave_class_instance.collateral_eth_initial\n",
    "            # self.collateral = aave_class_instance.debt_initial\n",
    "            self.notional = self.notional_calc()\n",
    "            self.equity = self.equity_calc()\n",
    "            self.leverage = self.leverage_calc()\n",
    "            # Simulate maker taker fees\n",
    "            self.simulate_maker_taker_fees()\n",
    "            # Add costs\n",
    "            self.costs = self.costs + self.maker_taker_fees * self.notional\n",
    "\n",
    "            stgy_instance.trigger_prices['repay_aave'] = self.price_to_repay_aave_debt_calc(1 + aave_class_instance.buffer_for_repay(),\n",
    "                                                                     aave_class_instance)\n",
    "            # stgy_instance.trigger_prices['ltv_limit'] = price_to_ltv_limit\n",
    "            i = 0\n",
    "            while stgy_instance.trigger_prices['ltv_limit'] > stgy_instance.trigger_prices['repay_aave']:\n",
    "                print(\"CAUTION: P_ltv > P_repay\")\n",
    "                print(\"Difference of: \", stgy_instance.trigger_prices['ltv_limit'] - stgy_instance.trigger_prices['repay_aave'])\n",
    "                stgy_instance.trigger_prices['repay_aave'] = self.price_to_repay_aave_debt_calc(0.5, aave_class_instance)\n",
    "                i += 1\n",
    "                print(\"P_repay defined to repay 0.5 (half) of debt. This logic was repeated\" + str(i) + \" times.\")\n",
    "            self.order_status = False\n",
    "        return 0\n",
    "\n",
    "    def close_short(self, stgy_instance):\n",
    "        if self.short_status:\n",
    "            # Next if is to move up the threshold if we didnt execute at exactly open_close\n",
    "            # if self.market_price >= stgy_instance.trigger_prices['open_close']:\n",
    "            #     # new_open_close = self.market_price\n",
    "            #     print(\"CAUTION: SHORT CLOSED AT A PRICE GREATER OR EQUAL TO CLOSE_SHORT!\")\n",
    "            #     print(\"Difference of: \", self.market_price - stgy_instance.trigger_prices['open_close'])\n",
    "                # stgy_instance.target_prices['open_close'] = self.market_price\n",
    "            self.notional = self.notional_calc()\n",
    "            self.equity = self.equity_calc()\n",
    "            self.leverage = self.leverage_calc()\n",
    "            self.pnl = self.pnl_calc()\n",
    "            stgy_instance.total_pnl = stgy_instance.total_pnl + self.pnl\n",
    "            # We update short parameters after the calculation of pnl\n",
    "            self.entry_price = 0\n",
    "            self.short_status = False\n",
    "            self.short_size = 0\n",
    "            self.simulate_maker_taker_fees()\n",
    "            self.costs = self.costs + self.maker_taker_fees * self.notional\n",
    "            self.place_order(stgy_instance.trigger_prices['open_close'])\n",
    "        return 0\n",
    "\n",
    "    def place_order(self, price):\n",
    "        self.order_status = True\n",
    "        # self.\n",
    "\n",
    "    def cancel_order(self):\n",
    "        self.order_status = False"
   ]
  },
  {
   "cell_type": "markdown",
   "metadata": {
    "tags": []
   },
   "source": [
    "## ParameterManager Module"
   ]
  },
  {
   "cell_type": "markdown",
   "metadata": {},
   "source": [
    "This module is in charge of defining trigger points and intervals, updating parameters given a new price, and fining/executing the needed actions."
   ]
  },
  {
   "cell_type": "code",
   "execution_count": 5,
   "metadata": {},
   "outputs": [],
   "source": [
    "class ParameterManager(object):\n",
    "    # auxiliary functions\n",
    "    @staticmethod\n",
    "    def define_target_prices(stgy_instance, slippage, vol, floor, trailing):\n",
    "        mu = vol[0]\n",
    "        sigma = vol[1]\n",
    "        p_open_close = math.inf#floor * (1+slippage) * (1+mu+2*sigma)\n",
    "        p_trailing = floor * (1-trailing) # We dont use this trailing initially but we need to define it anyway in order to have the interval defined\n",
    "        ##########################################################\n",
    "        # We define the intervals\n",
    "        list_of_triggers = [\"open_close\",\n",
    "                             \"floor\",\n",
    "                             \"trailing_stop\",\n",
    "                             \"ltv_limit\"]\n",
    "        list_of_trigger_prices = [p_open_close,\n",
    "                                  floor,\n",
    "                                  p_trailing, \n",
    "                                  stgy_instance.aave.price_to_ltv_limit]\n",
    "        # We define/update trigger prices\n",
    "        for i in range(len(list_of_triggers)):\n",
    "            trigger_name = list_of_triggers[i]\n",
    "            trigger_price = list_of_trigger_prices[i]\n",
    "            stgy_instance.trigger_prices[trigger_name] = trigger_price\n",
    "\n",
    "    @staticmethod\n",
    "    def find_oc(current_oc, ocs, vol):\n",
    "        mu, sigma = vol\n",
    "        oc_up = current_oc * (1+slippage)*(1+mu+2*sigma)\n",
    "        oc_down = current_oc * (1+slippage)*(1+mu-2*sigma)\n",
    "        distances = []\n",
    "        next_oc_up = []\n",
    "        next_oc_down = []\n",
    "        for i in range(len(ocs)):\n",
    "            oci = ocs[i]\n",
    "            if oc_up < oci:\n",
    "                next_oc_up.append(oci)\n",
    "                # ocs['up'].append(oci)\n",
    "            elif oc_down > oci:\n",
    "                next_oc_down.append(oci)\n",
    "                # ocs['down'].append(oci)\n",
    "            distances.append(current_oc-oci)\n",
    "        # If we get here then we didnt return anything, so we return the farthest oc\n",
    "        # Furthest down (positive distance current_oc > oci)\n",
    "        max_value = max(distances)\n",
    "        max_index = distances.index(max_value)\n",
    "        # Furthest up (negative distance current_oc < oci)\n",
    "        min_value = min(distances)\n",
    "        min_index = distances.index(min_value)\n",
    "        # print(next_oc_up)\n",
    "        # print(next_oc_down)\n",
    "        return {'up_choices': next_oc_up,\n",
    "               'down_choices': next_oc_down,\n",
    "               'max_distance_up': ocs[min_index],\n",
    "               'max_distance_down': ocs[max_index]}\n",
    "    \n",
    "    @staticmethod\n",
    "    def calc_vol(last_date, data):\n",
    "        periods_for_vol = [6*30*24*60, 3*30*24*60, 1*30*24*60]\n",
    "        last_six_months = data.loc[:last_date][-periods_for_vol[0]:]\n",
    "        for i in range(len(periods_for_vol)):\n",
    "            N = periods_for_vol[i]\n",
    "            log_returns = np.log(last_six_months[-N:]['close']) - np.log(last_six_months[-N:]['close'].shift(1))\n",
    "            globals()['sigma_'+str(i)] = log_returns.ewm(alpha=0.8, adjust=False).std().mean()\n",
    "            globals()['mu_'+str(i)] = log_returns.ewm(alpha=0.8, adjust=False).mean().mean()\n",
    "        mu = mu_0 * 0.1 + mu_1 * 0.3 + mu_2 * 0.6\n",
    "        sigma = sigma_0 * 0.1 + sigma_1 * 0.3 + sigma_2 * 0.6\n",
    "        vol = [mu, sigma]\n",
    "        return vol\n",
    "    \n",
    "    @staticmethod\n",
    "    # Checking and updating data\n",
    "    def update_parameters(stgy_instance, new_market_price):\n",
    "        # AAVE\n",
    "        stgy_instance.aave.market_price = new_market_price\n",
    "        # Before updating collateral and debt we have to calculate last earned fees + update interests earned until now\n",
    "        # As we are using hourly data we have to convert anual rate interest into hourly interest, therefore freq=365*24\n",
    "        stgy_instance.aave.lending_fees_calc(freq=365 * 24 * 60)\n",
    "        stgy_instance.aave.borrowing_fees_calc(freq=365 * 24 * 60)\n",
    "        # We have to execute track_ first because we need the fees for current collateral and debt values\n",
    "        stgy_instance.aave.track_lend_borrow_interest()\n",
    "        # stgy_instance.aave.update_costs() # we add lend_borrow_interest to costs\n",
    "        stgy_instance.aave.update_debt()  # we add the last borrowing fees to the debt\n",
    "        stgy_instance.aave.update_collateral()  # we add the last lending fees to the collateral and update both eth and usd values\n",
    "        stgy_instance.aave.ltv = stgy_instance.aave.ltv_calc()\n",
    "\n",
    "        # DYDX\n",
    "        stgy_instance.dydx.market_price = new_market_price\n",
    "        stgy_instance.dydx.notional = stgy_instance.dydx.notional_calc()\n",
    "        stgy_instance.dydx.equity = stgy_instance.dydx.equity_calc()\n",
    "        stgy_instance.dydx.leverage = stgy_instance.dydx.leverage_calc()\n",
    "        stgy_instance.dydx.pnl = stgy_instance.dydx.pnl_calc()\n",
    "        # stgy_instance.dydx.price_to_liquidation = stgy_instance.dydx.price_to_liquidation_calc(stgy_instance.dydx_client)\n",
    "\n",
    "    @staticmethod\n",
    "    def reset_costs(stgy_instance):\n",
    "        # We reset the costs in order to always start in 0\n",
    "        stgy_instance.aave.costs = 0\n",
    "        stgy_instance.dydx.costs = 0\n",
    "        \n",
    "        \n",
    "    def find_scenario(self, stgy_instance, market_price, previous_market_price, index):\n",
    "        actions = self.actions_to_take(stgy_instance, market_price, previous_market_price)\n",
    "        self.simulate_fees(stgy_instance)\n",
    "        time = 0\n",
    "        time_aave = 0\n",
    "        time_dydx = 0\n",
    "        for action in actions:\n",
    "            if action == \"borrow_usdc_n_add_coll\":\n",
    "                time_aave = stgy_instance.aave.borrow_usdc(stgy_instance)\n",
    "                market_price = stgy_instance.historical_data[\"close\"][index + time_aave]\n",
    "                time_dydx = stgy_instance.dydx.add_collateral(stgy_instance)\n",
    "                time_aave = 0\n",
    "            elif action in stgy_instance.aave_features[\"methods\"]:\n",
    "                time_aave = getattr(stgy_instance.aave, action)(stgy_instance)\n",
    "            elif action in stgy_instance.dydx_features[\"methods\"]:\n",
    "                time_dydx = getattr(stgy_instance.dydx, action)(stgy_instance)\n",
    "            time += time_aave + time_dydx\n",
    "            # print(stgy_instance.aave_features[\"methods\"])\n",
    "            # print(stgy_instance.dydx_features[\"methods\"])\n",
    "        return time\n",
    "            # stgy_instance.append(action)\n",
    "\n",
    "    @staticmethod\n",
    "    def actions_to_take(stgy_instance, market_price, previous_market_price):\n",
    "        actions = []\n",
    "        \n",
    "        # Case P decreasing: \n",
    "        # We need to ask both P_t-1 > trigger and trigger > P_t bc if we only ask the later we will execute\n",
    "        # the action for all prices below trigger. Same logic for Case P increasing.\n",
    "#         if (previous_market_price >= stgy_instance.trigger_prices['open_close']) and \\\n",
    "#         (stgy_instance.trigger_prices['open_close'] > market_price):\n",
    "#             actions.append('open_short')\n",
    "            \n",
    "#         elif (previous_market_price >= stgy_instance.trigger_prices['trailing_stop']) and \\\n",
    "#         (stgy_instance.trigger_prices['trailing_stop'] > market_price):\n",
    "#             actions.append('open_short')\n",
    "        \n",
    "        if stgy_instance.dydx.short_status:\n",
    "            if (previous_market_price >= stgy_instance.trigger_prices['repay_aave']) and \\\n",
    "            (stgy_instance.trigger_prices['repay_aave'] > market_price):\n",
    "                actions.append('repay_aave')\n",
    "        \n",
    "        \n",
    "        # Case P increasing\n",
    "        # if (previous_market_price <= stgy_instance.trigger_prices['open_close']) and \\\n",
    "        # (stgy_instance.trigger_prices['open_close'] < market_price):\n",
    "        #         actions.append('close_short')\n",
    "        # if (previous_market_price <= stgy_instance.trigger_prices['trailing_stop']) and \\\n",
    "        # (stgy_instance.trigger_prices['trailing_stop'] < market_price):\n",
    "        #     actions.append('close_short')\n",
    "       \n",
    "        return actions\n",
    "\n",
    "    @staticmethod\n",
    "    def simulate_fees(stgy_instance):\n",
    "        # stgy_instance.gas_fees = round(random.choice(list(np.arange(1, 10, 0.5))), 6)\n",
    "\n",
    "        # best case\n",
    "        # stgy_instance.gas_fees = 1\n",
    "\n",
    "        # stgy_instance.gas_fees = 3\n",
    "\n",
    "        # stgy_instance.gas_fees = 6\n",
    "\n",
    "        # worst case\n",
    "        stgy_instance.gas_fees = 10\n",
    "\n",
    "    @staticmethod\n",
    "    def update_pnl(stgy_instance):\n",
    "        stgy_instance.total_pnl = stgy_instance.total_pnl - stgy_instance.aave.costs - stgy_instance.dydx.costs + stgy_instance.aave.lending_fees_usd - stgy_instance.aave.borrowing_fees\n",
    "\n",
    "    @staticmethod\n",
    "    def add_costs(stgy_instance):\n",
    "        stgy_instance.total_costs_from_aave_n_dydx = stgy_instance.total_costs_from_aave_n_dydx \\\n",
    "                                                     + stgy_instance.aave.costs + stgy_instance.dydx.costs"
   ]
  },
  {
   "cell_type": "markdown",
   "metadata": {
    "tags": []
   },
   "source": [
    "## DataDamperNPlotter Module"
   ]
  },
  {
   "cell_type": "markdown",
   "metadata": {},
   "source": [
    "This module will write the results and is also used for plotting (for analysis porpuses)."
   ]
  },
  {
   "cell_type": "code",
   "execution_count": 123,
   "metadata": {},
   "outputs": [],
   "source": [
    "class DataDamperNPlotter:\n",
    "    def __init__(self):\n",
    "        self.historical_data = None\n",
    "\n",
    "    @staticmethod\n",
    "    def write_data(stgy_instance, previous_price, last_outside, current_outside,\n",
    "                   date, period,oc1,\n",
    "                   sheet=False):\n",
    "        aave_instance = stgy_instance.aave\n",
    "        dydx_instance = stgy_instance.dydx\n",
    "        data_aave = []\n",
    "        data_dydx = []\n",
    "        aave_wanted_keys = [\n",
    "            \"market_price\",\n",
    "            \"entry_price\",\n",
    "            \"collateral_eth\",\n",
    "            \"usdc_status\",\n",
    "            \"debt\",\n",
    "            \"ltv\",\n",
    "            \"lending_rate\",\n",
    "            \"interest_on_lending_usd\",\n",
    "            \"borrowing_rate\",\n",
    "            \"interest_on_borrowing\",\n",
    "            \"lend_minus_borrow_interest\",\n",
    "            \"costs\"]\n",
    "        dydx_wanted_keys = [\n",
    "            \"market_price\",\n",
    "            \"entry_price\",\n",
    "            \"short_size\",\n",
    "            # \"collateral\",\n",
    "            # \"notional\",\n",
    "            # \"equity\",\n",
    "            # \"leverage\",\n",
    "            \"pnl\",\n",
    "            # \"price_to_liquidation\",\n",
    "            # \"collateral_status\",\n",
    "            \"short_status\",\n",
    "            # \"order_status\",\n",
    "            # \"withdrawal_fees\",\n",
    "            \"funding_rates\",\n",
    "            # \"maker_taker_fees\",\n",
    "            \"maker_fees_counter\",\n",
    "            \"costs\"]\n",
    "            # \"gas_fees\"]\n",
    "\n",
    "            \n",
    "        data_aave.append(date)\n",
    "        data_dydx.append(date)\n",
    "        for i in range(len(aave_instance.__dict__.values())):\n",
    "            if list(aave_instance.__dict__.keys())[i] in aave_wanted_keys:\n",
    "                if list(aave_instance.__dict__.keys())[i] == \"market_price\":\n",
    "                    data_aave.append(str(list(aave_instance.__dict__.values())[i]))\n",
    "                    data_aave.append(stgy_instance.open_close_range[0])\n",
    "                    data_aave.append(stgy_instance.open_close_range[1])\n",
    "                    data_aave.append(stgy_instance.trigger_prices['trailing_stop'])\n",
    "                else:\n",
    "                    # print(list(aave_instance.__dict__.keys())[i])\n",
    "                    data_aave.append(str(list(aave_instance.__dict__.values())[i]))\n",
    "        for i in range(len(dydx_instance.__dict__.values())):\n",
    "            if list(dydx_instance.__dict__.keys())[i] in dydx_wanted_keys:\n",
    "                if list(dydx_instance.__dict__.keys())[i] == \"market_price\":\n",
    "                    data_dydx.append(str(list(dydx_instance.__dict__.values())[i]))\n",
    "                    data_dydx.append(stgy_instance.open_close_range[0])\n",
    "                    data_dydx.append(stgy_instance.open_close_range[1])\n",
    "                    data_dydx.append(current_outside)\n",
    "                    data_dydx.append(last_outside)\n",
    "                    data_dydx.append(stgy_instance.trailing_stop_range[0])\n",
    "                    data_dydx.append(stgy_instance.trigger_prices['trailing_stop'])\n",
    "                    data_dydx.append(stgy_instance.trailing_stop_range[1])\n",
    "                else:\n",
    "                    data_dydx.append(str(list(dydx_instance.__dict__.values())[i]))\n",
    "        # We add the index number of the appareance of market price in historical_data.csv order to find useful test values quicker\n",
    "        data_aave.append(stgy_instance.gas_fees)\n",
    "        data_aave.append(stgy_instance.total_costs_from_aave_n_dydx)\n",
    "        data_aave.append(stgy_instance.total_pnl)\n",
    "        # data_aave.append(mkt_price_index)\n",
    "\n",
    "\n",
    "        # data_dydx.append(stgy_instance.gas_fees)\n",
    "        data_dydx.append(stgy_instance.total_costs_from_aave_n_dydx)\n",
    "        data_dydx.append(stgy_instance.total_pnl)\n",
    "        # data_dydx.append(mkt_price_index)\n",
    "        # print(interval_old.name)\n",
    "#         print(data_dydx, list(dydx_instance.__dict__.keys()))\n",
    "        if sheet == True:\n",
    "            gc = pygsheets.authorize(service_file=\n",
    "                                     'stgy-1-simulations-e0ee0453ddf8.json')\n",
    "            sh = gc.open('aave/dydx simulations')\n",
    "            sh[0].append_table(data_aave, end=None, dimension='ROWS', overwrite=False)\n",
    "            sh[1].append_table(data_dydx, end=None, dimension='ROWS', overwrite=False)\n",
    "        else:\n",
    "            path_to_aave = 'Files/Tests/From_%s_to_%s_open_close_at_%s/aave_results.csv' % (period[0], period[1], int(oc1))#int(stgy_instance.trigger_prices['open_close']))\n",
    "            path_to_dydx = 'Files/Tests/From_%s_to_%s_open_close_at_%s/dydx_results.csv' % (period[0], period[1], int(oc1))#int(stgy_instance.trigger_prices['open_close']))\n",
    "            with open(path_to_aave, 'a') as file:\n",
    "                writer = csv.writer(file, lineterminator='\\n')\n",
    "                writer.writerow(data_aave)\n",
    "            with open(path_to_dydx, 'a',\n",
    "                      newline='', encoding='utf-8') as file:\n",
    "                writer = csv.writer(file, lineterminator='\\n')\n",
    "                writer.writerow(data_dydx)\n",
    "\n",
    "    @staticmethod\n",
    "    def delete_results(stgy_instance, period, oc1):\n",
    "        file_aave = 'Files/Tests/From_%s_to_%s_open_close_at_%s/aave_results.csv' % (period[0], period[1], int(oc1))#int(stgy_instance.trigger_prices['open_close']))\n",
    "        file_dydx = 'Files/Tests/From_%s_to_%s_open_close_at_%s/dydx_results.csv' % (period[0], period[1], int(oc1))#int(stgy_instance.trigger_prices['open_close']))\n",
    "        if (os.path.exists(file_aave) and os.path.isfile(file_aave)):\n",
    "            os.remove(file_aave)\n",
    "        if (os.path.exists(file_dydx) and os.path.isfile(file_dydx)):\n",
    "            os.remove(file_dydx)\n",
    "\n",
    "    @staticmethod\n",
    "    def add_header(stgy_instance, period, oc1):\n",
    "        aave_headers = [\n",
    "            \"date\",\n",
    "            \"market_price\",\n",
    "            \"oc_range_0\",\n",
    "            \"oc_range_1\",\n",
    "            \"trailing_stop\",\n",
    "            \"entry_price\",\n",
    "            \"collateral_eth\",\n",
    "            \"usdc_status\",\n",
    "            \"debt\",\n",
    "            \"ltv\",\n",
    "            \"lending_rate\",\n",
    "            \"interest_on_lending_usd\",\n",
    "            \"borrowing_rate\",\n",
    "            \"interest_on_borrowing\",\n",
    "            \"lend_minus_borrow_interest\",\n",
    "            \"costs\",\n",
    "            \"gas_fees\",\n",
    "            \"total_costs_from_aave_n_dydx\",\n",
    "            \"total_stgy_pnl\"]\n",
    "            # \"index_of_mkt_price\"]\n",
    "        dydx_headers = [\n",
    "            \"date\",\n",
    "            \"P\",\n",
    "            \"oc_rge_0\",\n",
    "            \"oc_rge_1\",\n",
    "            \"out\",\n",
    "            \"l_out\",\n",
    "            \"trail_stp_rge_0\",\n",
    "            \"trail_stp\",\n",
    "            \"trail_stp_rge_1\",\n",
    "            \"entry\",\n",
    "            \"short_size\",\n",
    "            # \"collateral\",\n",
    "            # \"notional\",\n",
    "            # \"equity\",\n",
    "            # \"leverage\",\n",
    "            \"pnl\",\n",
    "            # \"price_to_liquidation\",\n",
    "            # \"collateral_status\",\n",
    "            \"short_status\",\n",
    "            # \"order_status\",\n",
    "            # \"withdrawal_fees\",\n",
    "            \"funding_rates\",\n",
    "            # \"maker_taker_fees\",\n",
    "            \"maker_fees_counter\",\n",
    "            \"costs\",\n",
    "            # \"gas_fees\",\n",
    "            \"total_costs_from_aave_n_dydx\",\n",
    "            \"total_stgy_pnl\"]\n",
    "            # \"index_of_mkt_price\"]\n",
    "        \n",
    "        path_to_aave = 'Files/Tests/From_%s_to_%s_open_close_at_%s/aave_results.csv' % (period[0], period[1], int(oc1))#int(stgy_instance.trigger_prices['open_close']))\n",
    "        path_to_dydx = 'Files/Tests/From_%s_to_%s_open_close_at_%s/dydx_results.csv' % (period[0], period[1], int(oc1))#int(stgy_instance.trigger_prices['open_close']))\n",
    "        with open(path_to_aave, 'a') as file:\n",
    "            writer = csv.writer(file, lineterminator='\\n')\n",
    "            writer.writerow(aave_headers)\n",
    "        with open(path_to_dydx, 'a',\n",
    "                  newline='', encoding='utf-8') as file:\n",
    "            writer = csv.writer(file, lineterminator='\\n')\n",
    "            writer.writerow(dydx_headers)"
   ]
  },
  {
   "cell_type": "markdown",
   "metadata": {
    "tags": []
   },
   "source": [
    "## Simulations"
   ]
  },
  {
   "cell_type": "markdown",
   "metadata": {},
   "source": [
    "First of all lets read the dataset containing prices for ETH in minutes basis from 2019-09-01 to 2022-09-01."
   ]
  },
  {
   "cell_type": "code",
   "execution_count": 7,
   "metadata": {},
   "outputs": [],
   "source": [
    "# Track historical data\n",
    "# symbol = 'ETHUSDC'\n",
    "# freq = '1m'\n",
    "# initial_date = \"1 Jan 2019\"\n",
    "# stgy.get_historical_data(symbol=symbol, freq=freq,\n",
    "#                               initial_date=initial_date, save=True)\n",
    "\n",
    "# Load historical data if previously tracked and saved\n",
    "\n",
    "historical_data = pd.read_csv(\"Files/ETHUSDC-1m-data_since_1 Sep 2019.csv\")\n",
    "# # assign data to stgy instance + define index as dates\n",
    "timestamp = pd.to_datetime(historical_data['timestamp'])\n",
    "historical_data = pd.DataFrame(historical_data[\"close\"], columns=['close'])\n",
    "historical_data.index = timestamp\n",
    "#\n",
    "# #######################################################\n"
   ]
  },
  {
   "cell_type": "markdown",
   "metadata": {},
   "source": [
    "In order to test pnl/costs of the whole strategy let's find a period of time and a relevant price (i.e. a price that is crossed many times)."
   ]
  },
  {
   "cell_type": "code",
   "execution_count": 55,
   "metadata": {},
   "outputs": [],
   "source": [
    "# Period of Simulations\n",
    "period = [\"2020-05-01\",\"2020-11-01\"]\n",
    "data = historical_data.loc[period[0]+' 00:00:00':period[1]+' 00:00:00']\n"
   ]
  },
  {
   "cell_type": "markdown",
   "metadata": {},
   "source": [
    "Let's analyze historical 6month weighted volatility to check if 5% is enough space to move between OCs. We will compare \n",
    "$$5\\% \\text{ vs } (1+slippgae)(1+\\mu+2\\sigma),$$\n",
    "where $\\sigma=vol$."
   ]
  },
  {
   "cell_type": "code",
   "execution_count": null,
   "metadata": {},
   "outputs": [],
   "source": [
    "# First we calculate weighted vol\n",
    "last_date = \"2021-06-01\"\n",
    "slippage = 0.0005\n",
    "periods_for_vol = [6*30*24*60, 3*30*24*60, 1*30*24*60]\n",
    "data = historical_data.loc[:last_date][-periods_for_vol[0]-3*60:-3*60]\n",
    "for i in range(len(periods_for_vol)):\n",
    "    N = periods_for_vol[i]\n",
    "    log_returns = np.log(data[-N:]['close']) - np.log(data[-N:]['close'].shift(1))\n",
    "    globals()['sigma_'+str(i)] = log_returns.ewm(alpha=0.8, adjust=False).std().mean()\n",
    "    globals()['mu_'+str(i)] = log_returns.ewm(alpha=0.8, adjust=False).mean().mean()\n",
    "    globals()['mu_max_'+str(i)] = log_returns.ewm(alpha=0.8, adjust=False).mean().max()\n",
    "    globals()['mu_min_'+str(i)] = log_returns.ewm(alpha=0.8, adjust=False).mean().min()\n",
    "vol = sigma_0 * 0.1 + sigma_1 * 0.3 + sigma_2 * 0.6\n",
    "mu = mu_0 * 0.1 + mu_1 * 0.3 + mu_2 * 0.6\n",
    "print(\"weighted mu: \", str(mu*100)+'%')\n",
    "print(\"weighted sigmas: \", str(vol*100)+'%')\n",
    "print(\"[min_6m_change, max_6m_change]: \", [str(mu_min_0*100)+'%', str(mu_max_0*100)+'%'])\n",
    "print(\"avg movement: (1+slip)(1+mu+2vol): \", str((1+slippage)*(1+mu+2*vol)*100-100)+'%')\n",
    "# vol, mu, mu_max_0, mu_min_0, mu_0, (1+slippage)*(1+mu+2*vol)"
   ]
  },
  {
   "cell_type": "code",
   "execution_count": null,
   "metadata": {},
   "outputs": [],
   "source": [
    "vol = sigma_2\n",
    "mu = mu_2\n",
    "print(\"weighted sigmas: \", str(vol*100)+'%')\n",
    "print(\"avg movement: (1+mu+2vol): \", str((1+mu+2*vol)*100-100)+'%')"
   ]
  },
  {
   "cell_type": "markdown",
   "metadata": {},
   "source": [
    "We conclude that 5% is several times higher than the common movement of price within 1 minute, so we should have spaced enough OCs to choose if we executed too many txs."
   ]
  },
  {
   "cell_type": "code",
   "execution_count": null,
   "metadata": {},
   "outputs": [],
   "source": [
    "# normal_std = std\n",
    "# medium_std = 2*std\n",
    "# high_std = 4*std\n",
    "# extreme_std = 6*std\n",
    "# normal_std, medium_std, high_std, extreme_std"
   ]
  },
  {
   "cell_type": "markdown",
   "metadata": {},
   "source": [
    "Let's find such a relevant price manually by taking a look at the price plot."
   ]
  },
  {
   "cell_type": "code",
   "execution_count": 8,
   "metadata": {},
   "outputs": [
    {
     "data": {
      "image/png": "[encoded data removed]",
      "text/plain": [
       "<Figure size 2100x700 with 1 Axes>"
      ]
     },
     "metadata": {},
     "output_type": "display_data"
    }
   ],
   "source": [
    "# Period of Simulations\n",
    "period = [\"2020-05-31\",\"2020-06-07\"]\n",
    "data = historical_data.loc[period[0]+' 00:00:00':period[1]+' 00:00:00']\n",
    "\n",
    "fig, axs = plt.subplots(1, 1, figsize=(21, 7))\n",
    "axs.plot(data['close'], color='tab:blue', label='market price')\n",
    "# axs.axhline(floor, color='darkgoldenrod', linestyle='--', label='floor')\n",
    "axs.axhline(y=240, color='red', linestyle='--', label='open_close')\n",
    "axs.axhline(y=247.2, color='red', linestyle='--', label='open_close2')\n",
    "# axs.axhline(y=390, color='red', linestyle='--', label='open_close')\n",
    "axs.grid()\n",
    "axs.legend(loc='lower left')\n",
    "plt.show()"
   ]
  },
  {
   "cell_type": "markdown",
   "metadata": {},
   "source": [
    "Next we define a function that will\n",
    "- Initiallize the main module + loading the data + definning the floor in a way that the open_close we get is the relevant price previously mentioned + define trigger_prices\n",
    "- Create a new directory \"Files/Tests/From_\"from period\"_to_\"to period\"_open_close_at_\"relevant price\" + save the historical_data with the intervals of every price added\n",
    "- Initiallize all the parameters for both protocols + add the trigger point price_to_ltv_limit \n",
    "- Call data_dumper to create aave_results.csv and dydx_results.csv only with the headers\n",
    "- Run through the code executing everything as discussed in the dev doc.\n",
    "\n",
    "This function is useful because we can run simulations for different periods of times and relevant prices (just by using a list of periods and relevant prices and looping thorugh it) and saving the results in descriptive directories."
   ]
  },
  {
   "cell_type": "code",
   "execution_count": 145,
   "metadata": {
    "tags": []
   },
   "outputs": [],
   "source": [
    "def run_sim(period, open_close, slippage, max_txs, L, trailing, increment):\n",
    "    global ocs\n",
    "    # Initialize everything\n",
    "    with open(\"Files/StgyApp_config.json\") as json_file:\n",
    "        config = json.load(json_file)\n",
    "\n",
    "    # Initialize stgyApp\n",
    "    stgy = StgyApp(config)\n",
    "    # Period of Simulations\n",
    "    # period = [\"2019-09-01\",\"2019-12-31\"]\n",
    "    stgy.historical_data = historical_data.loc[period[0]+' 00:00:00':period[1]+' 00:00:00']\n",
    "    # For vol updates we take all data up to the last date\n",
    "    stgy.launch(config)\n",
    "    # First we calculate weighted vol\n",
    "    last_date = period[1]+' 00:00:00'\n",
    "    vol = stgy.parameter_manager.calc_vol(last_date, historical_data)\n",
    "    mu, sigma = vol\n",
    "    # floor just in order to get triger_price['open_close_1'] = open_close_1\n",
    "    floor = open_close / ((1+slippage)*(1+mu+2*sigma))\n",
    "    # Now we define prices \n",
    "    stgy.parameter_manager.define_target_prices(stgy, slippage, vol, floor, trailing)\n",
    "    # We create five equidistant OCs\n",
    "    oc1 = open_close\n",
    "    # oc2 = oc1 * (1+6/2/100)\n",
    "    # ocs = [oc1]\n",
    "    # # print(\"oc1=\",round(oc1,3))\n",
    "    # for i in range(1,7):\n",
    "    #     globals()[\"oc\"+str(i+1)] = oc1 * (1-0.005)**i # We define 5 OCs based on a top width of 3%\n",
    "    #     ocs.append(globals()[\"oc\"+str(i+1)])\n",
    "        # print(\"oc\"+str(i+1)+\"=\",round(globals()[\"oc\"+str(i+1)],3))\n",
    "    # print(ocs)\n",
    "    # But we start with the first oc1\n",
    "    # stgy.trigger_prices['open_close'] = oc1\n",
    "    \n",
    "    # print(\"Volatility:\", vol)\n",
    "    # print(\"Floor:\", stgy.trigger_prices['floor'])\n",
    "    # print(\"Open_close1:\", oc1)\n",
    "    # print(\"Open_close2:\", oc2)\n",
    "    # print(\"1-OC2/OC1 - 1:\", 1-oc2/oc1)\n",
    "    #########################\n",
    "    # Save historical data with trigger prices and thresholds loaded\n",
    "    # checking if the directory demo_folder \n",
    "    # exist or not.\n",
    "    if not os.path.exists(\"Files/Tests/From_%s_to_%s_open_close_at_%s\" % (period[0], period[1], open_close)):\n",
    "        # if the demo_folder directory is not present \n",
    "        # then create it.\n",
    "        os.makedirs(\"Files/Tests/From_%s_to_%s_open_close_at_%s\" % (period[0], period[1], open_close))\n",
    "    stgy.historical_data.to_csv(\"Files/Tests/From_%s_to_%s_open_close_at_%s/stgy.historical_data.csv\" \n",
    "                                % (period[0], period[1], open_close))\n",
    "    #########################\n",
    "    # Here we define initial parameters for AAVE and DyDx depending on the price at which we are starting simulations\n",
    "\n",
    "    # Define initial and final index if needed in order to only run simulations in periods of several trigger prices\n",
    "    # As we calculate vol using first week of data, we initialize simulations from that week on\n",
    "    initial_index = 1\n",
    "\n",
    "    # Stk eth\n",
    "    stgy.stk = 1000000/stgy.historical_data['close'][initial_index]\n",
    "\n",
    "    # AAVE\n",
    "    stgy.aave.market_price = stgy.historical_data['close'][initial_index]\n",
    "\n",
    "    # What is the price at which we place the collateral in AAVE given our initial_index?\n",
    "    stgy.aave.entry_price = stgy.aave.market_price\n",
    "    # We place 90% of staked as collateral and save 10% as a reserve margin\n",
    "    stgy.aave.collateral_eth = round(stgy.stk * 0.9, 3)\n",
    "    stgy.aave.collateral_eth_initial = round(stgy.stk * 0.9, 3)\n",
    "    stgy.reserve_margin_eth = stgy.stk * 0.1\n",
    "    # We calculate collateral and reserve current value\n",
    "    stgy.aave.collateral_usdc = stgy.aave.collateral_eth * stgy.aave.market_price\n",
    "    stgy.reserve_margin_usdc = stgy.aave.reserve_margin_eth * stgy.aave.market_price\n",
    "\n",
    "    # What is the usdc_status for our initial_index?\n",
    "    stgy.aave.usdc_status = True\n",
    "    stgy.aave.debt = (stgy.aave.collateral_eth_initial * stgy.aave.entry_price) * stgy.aave.borrowed_percentage\n",
    "    stgy.aave.debt_initial = (stgy.aave.collateral_eth_initial * stgy.aave.entry_price) * stgy.aave.borrowed_percentage\n",
    "    # debt_initial\n",
    "    stgy.aave.price_to_ltv_limit = round(stgy.aave.entry_price * stgy.aave.borrowed_percentage / stgy.aave.ltv_limit(), 3)\n",
    "    # stgy.total_costs = 104\n",
    "\n",
    "    # DyDx\n",
    "    stgy.dydx.market_price = stgy.historical_data['close'][initial_index]\n",
    "    stgy.dydx.collateral = stgy.aave.debt\n",
    "    stgy.dydx.equity = stgy.dydx.equity_calc()\n",
    "    stgy.dydx.collateral_status = True\n",
    "    \n",
    "    stgy.open_close_range = [open_close * (1-increment), \n",
    "                                   open_close * (1+increment)]\n",
    "    # stgy.trigger_prices['trailing_stop'] = stgy.open_close_range[0] * (1-trailing)\n",
    "    stgy.trailing_stop_range = [stgy.open_close_range[0] * (1-increment)**2, \n",
    "                                   stgy.open_close_range[0]]\n",
    "    \n",
    "    # print((stgy.dydx.market_price <= stgy.trigger_prices['start']) and (stgy.dydx.market_price > stgy.trigger_prices['floor']))\n",
    "    if (stgy.dydx.market_price <= stgy.open_close_range[1]):\n",
    "        stgy.dydx.open_short(stgy)\n",
    "    #########################\n",
    "    # Clear previous csv data for aave and dydx\n",
    "    stgy.data_dumper.delete_results(stgy, period, open_close)\n",
    "    #########################\n",
    "    # add header to csv of aave and dydx\n",
    "    stgy.data_dumper.add_header(stgy, period, open_close)\n",
    "    ##################################\n",
    "    # Run through dataset\n",
    "    #########################\n",
    "    # import time\n",
    "    # # run simulations\n",
    "    # starttime = time.time()\n",
    "    # print('starttime:', starttime)\n",
    "    # for i in range(initial_index, len(stgy.historical_data)):\n",
    "    i = initial_index\n",
    "\n",
    "    maker_fees_counter = []\n",
    "    \n",
    "    # stgy.trigger_prices['trailing_stop'] = oc4 * (1-trailing)\n",
    "    \n",
    "    \n",
    "    market_price = stgy.historical_data['close'][i-1]\n",
    "    if (stgy.open_close_range[1] < market_price):\n",
    "        last_outside = 1\n",
    "    elif (stgy.open_close_range[0] <= market_price) and (market_price <= stgy.open_close_range[1]):\n",
    "        last_outside = False\n",
    "    elif (market_price < stgy.open_close_range[0]):\n",
    "        last_outside = -1\n",
    "    \n",
    "    if (stgy.trailing_stop_range[1] < market_price):\n",
    "        last_trailing_outside = 1\n",
    "    elif (stgy.trailing_stop_range[0] <= market_price) and (market_price <= stgy.trailing_stop_range[1]):\n",
    "        last_trailing_outside = False\n",
    "    elif (market_price < stgy.trailing_stop_range[0]):\n",
    "        last_trailing_outside = -1\n",
    "        \n",
    "    while(i < len(stgy.historical_data)):\n",
    "    # for i in range(initial_index, len(stgy.historical_data)):\n",
    "        # pass\n",
    "        # We reset costs in every instance\n",
    "        stgy.parameter_manager.reset_costs(stgy)\n",
    "        market_price = stgy.historical_data[\"close\"][i]\n",
    "        previous_price = stgy.historical_data[\"close\"][i-1]\n",
    "        \n",
    "        if (stgy.open_close_range[1] < market_price):\n",
    "            outside = 1\n",
    "        elif (stgy.open_close_range[0] <= market_price) and (market_price <= stgy.open_close_range[1]):\n",
    "            outside = False\n",
    "        elif (market_price < stgy.open_close_range[0]):\n",
    "            outside = -1\n",
    "            \n",
    "        if (stgy.trailing_stop_range[1] < market_price):\n",
    "            trailing_outside = 1\n",
    "        elif (stgy.trailing_stop_range[0] <= market_price) and (market_price <= stgy.trailing_stop_range[1]):\n",
    "            trailing_outside = False\n",
    "        elif (market_price < stgy.trailing_stop_range[0]):\n",
    "            trailing_outside = -1\n",
    "        #########################\n",
    "        # Update parameters\n",
    "        # First we update everything in order to execute scenarios with updated values\n",
    "        # We have to update\n",
    "        # AAVE: market_price, lending and borrowing fees (and the diference),\n",
    "        # debt value, collateral value and ltv value\n",
    "        # DyDx: market_price, notional, equity, leverage and pnl\n",
    "        stgy.parameter_manager.update_parameters(stgy, market_price)\n",
    "        \n",
    "        # open_close_range action\n",
    "        if (last_outside == 1) and (outside == -1):\n",
    "            stgy.dydx.open_short(stgy)\n",
    "            last_outside = outside\n",
    "            # i += 1\n",
    "        elif (last_outside == -1) and (outside == 1):\n",
    "            stgy.dydx.close_short(stgy)\n",
    "            last_outside = outside\n",
    "            # i += 1\n",
    "        # else:\n",
    "        #     i += 1\n",
    "            \n",
    "        # open_close_range action\n",
    "        if (last_trailing_outside == 1) and (trailing_outside == -1):\n",
    "            stgy.dydx.open_short(stgy)\n",
    "            last_trailing_outside = trailing_outside\n",
    "            # i += 1\n",
    "        elif (last_trailing_outside == -1) and (trailing_outside == 1):\n",
    "            stgy.dydx.close_short(stgy)\n",
    "            last_trailing_outside = trailing_outside\n",
    "            # i += 1\n",
    "        # else:\n",
    "        #     i += 1\n",
    "        i += 1\n",
    "        # Here we identify price movent direction by comparing current price, previous price and all the triggers\n",
    "        # and we execute all the actions involved between both (current and previous prices)\n",
    "        time_used = stgy.parameter_manager.find_scenario(stgy, market_price, previous_price, i)\n",
    "        ##############################        \n",
    "        # We update trailing\n",
    "        # Everytime price moves down more than (1+trailing) / (1-increment) we update trailing_stop\n",
    "        # (1+trailing) is to contemplate a pcg between current_price and trailing stop\n",
    "        # 1/(1-increment) is to assure that we update when the price crossed the whole trailing_range\n",
    "        # if (market_price*(1+trailing) <= stgy.trigger_prices['trailing_stop']):\n",
    "        # if (market_price*(1+trailing)/(1-increment) <= stgy.trigger_prices['trailing_stop']):\n",
    "        if (market_price <= stgy.trailing_stop_range[0]):\n",
    "            # stgy.trigger_prices['trailing_stop'] = market_price * (1+trailing)\n",
    "            stgy.trailing_stop_range = [market_price, \n",
    "                                   market_price * (1+increment)**2]\n",
    "        # # If price moves above trailing we move trailing up in order to save that profit\n",
    "        # # Is important to change trailing after finding scenarios (because we need to close the short first)\n",
    "        # elif (market_price > stgy.trigger_prices['trailing_stop']):\n",
    "        #     if trailing_update_hours == 0:\n",
    "        #         pass\n",
    "        #     elif (i % (trailing_update_hours*60) == 0):\n",
    "        #         if not stgy.dydx.short_status:\n",
    "        #             stgy.trigger_prices['trailing_stop'] = min(stgy.trigger_prices['open_close']* (1-trailing), market_price)\n",
    "        ################################\n",
    "        ################################\n",
    "        # OC LOGIC\n",
    "        # If prices goes above the topmost oc (floor + slip + vol) then we repeat the oc logic\n",
    "        # if market_price >= stgy.open_close_range[1]:\n",
    "        #     stgy.trailing_stop_range = [stgy.open_close_range[0] * (1-increment)**2, \n",
    "        #                            stgy.open_close_range[0]]\n",
    "        #     trailing_outside = 1\n",
    "        #     last_trailing_outside = 1\n",
    "\n",
    "            \n",
    "        # We update vol and ocs if short_status = False\n",
    "        # if not stgy.dydx.short_status:\n",
    "        #     current_date = list(stgy.historical_data.index)[i]\n",
    "        #     vol = stgy.parameter_manager.calc_vol(current_date, data_for_vol)\n",
    "        #     mu, sigma = vol\n",
    "        #     oc1 = floor * (1+slippage) * (1+mu+2*sigma)\n",
    "        #     ocs = [oc1]\n",
    "        #     for i in range(1,5):\n",
    "        #         globals()[\"oc\"+str(i+1)] = oc1 * (1+0.03/5)**i # We define 5 OCs based on a top width of 3%\n",
    "        #         ocs.append(globals()[\"oc\"+str(i+1)])\n",
    "\n",
    "        \n",
    "        # If we executed more txs than hat_L*20 then we change to K_2\n",
    "        # if (stgy.dydx.maker_fees_counter >= max_txs):\n",
    "        #     # stgy.historical_data = stgy.historical_data_OC2\n",
    "        #     # print(stgy.dydx.maker_fees_counter)\n",
    "        #     current_date = str(stgy.historical_data.index[i])\n",
    "        #     current_oc = stgy.trigger_prices['open_close']\n",
    "        #     vol = stgy.parameter_manager.calc_vol(current_date, stgy.historical_data)\n",
    "        #     ocs_choices = stgy.parameter_manager.find_oc(current_oc, ocs, vol)\n",
    "        #     # if short = open and if there are up_choices available, we take the last option (the furthest)\n",
    "        #     # if there isn't options we take max_distance\n",
    "        #     # random.seed(4)\n",
    "        #     # maker_fees_counter.append({'oc':stgy.trigger_prices['open_close'], \n",
    "        #     #                            'txs': stgy.dydx.maker_fees_counter, \n",
    "        #     #                            # 'index': i,\n",
    "        #     #                            'date': str(stgy.historical_data.index[i])})\n",
    "        #     if not stgy.dydx.short_status:\n",
    "        #         if stgy.trigger_prices['open_close'] == oc1:\n",
    "        #             stgy.trigger_prices['open_close'] = oc4\n",
    "        #             # oc_choice_up = random.choice(range(len(ocs_choices['up_choices'])))\n",
    "        #             # stgy.trigger_prices['open_close'] = ocs_choices['up_choices'][oc_choice_up]            \n",
    "        #     elif stgy.dydx.short_status:\n",
    "        #         if len(ocs_choices['up_choices']) != 0:\n",
    "        #             stgy.trigger_prices['open_close'] = ocs_choices['up_choices'][0]\n",
    "        #             # oc_choice_up = random.choice(range(len(ocs_choices['up_choices'])))\n",
    "        #             # stgy.trigger_prices['open_close'] = ocs_choices['up_choices'][oc_choice_up]\n",
    "        #     # If we didnt change oc we dont clean maker_fees_counter\n",
    "        #     if current_oc != stgy.trigger_prices['open_close']:\n",
    "        #         maker_fees_counter.append({'oc':stgy.trigger_prices['open_close'], \n",
    "        #                                'txs': stgy.dydx.maker_fees_counter, \n",
    "        #                                # 'index': i,\n",
    "        #                                'date': str(stgy.historical_data.index[i])})\n",
    "        #         stgy.dydx.maker_fees_counter = 0\n",
    "        ########################\n",
    "        ########################\n",
    "        # Funding rates\n",
    "        # We add funding rates every 8hs (we need to express those 8hs based on our historical data time frequency)\n",
    "        # Moreover, we nee.named to call this method after find_scenarios in order to have all costs updated.\n",
    "        # Calling it before find_scenarios will overwrite the funding by 0\n",
    "        # We have to check all the indexes between old index i and next index i+time_used\n",
    "        # for index in range(i, i+time_used):\n",
    "        if (i % (8 * 60) == 0) and (stgy.dydx.short_status):\n",
    "            stgy.dydx.add_funding_rates()\n",
    "            # stgy.total_costs = stgy.total_costs + stgy.dydx.funding_rates\n",
    "        #########################\n",
    "        # Add costs\n",
    "        stgy.parameter_manager.add_costs(stgy)\n",
    "        stgy.parameter_manager.update_pnl(stgy)\n",
    "        #########################\n",
    "        # Write data\n",
    "        # We write the data into the google sheet or csv file acording to sheet value\n",
    "        # (sheet = True --> sheet, sheet = False --> csv)\n",
    "        current_date = str(stgy.historical_data.index[i-1])\n",
    "        stgy.data_dumper.write_data(stgy, previous_price, last_outside, outside,\n",
    "                                    current_date, period, open_close,\n",
    "                                    sheet=False)\n",
    "        #########################\n",
    "        # we increment index by the time consumed in executing actions\n",
    "        # i += time_used\n",
    "        # i += 1\n",
    "    return stgy.dydx.maker_fees_counter"
   ]
  },
  {
   "cell_type": "markdown",
   "metadata": {},
   "source": [
    "Now let's define a list with some periods of time and relevant prices to use for calling the previous function and run several simulations at once."
   ]
  },
  {
   "cell_type": "code",
   "execution_count": 165,
   "metadata": {},
   "outputs": [],
   "source": [
    "periods_n_open_close = [[[\"2019-09-01\",\"2019-12-31\"],148], [[\"2019-09-01\",\"2019-12-31\"],185], \n",
    "                        [[\"2020-01-01\",\"2020-05-01\"],135]]#, [[\"2020-05-01\",\"2020-09-01\"],240]]\n",
    "periods_n_open_close = [[[\"2019-09-01\",\"2019-12-31\"],185]]\n",
    "periods_n_open_close = [[[\"2020-05-31\",\"2020-12-01\"],240]]\n",
    "# periods_n_open_close = [[[\"2020-06-02\",\"2020-07-02\"],240]]\n",
    "# Worst cases\n",
    "worst_1_week = [[[\"2020-05-31\",\"2020-06-07\"],240]]\n",
    "worst_1_month = [[[\"2020-05-31\",\"2020-06-30\"],240]]\n",
    "worst_3_month = [[[\"2020-05-31\",\"2020-09-01\"],240]]\n",
    "worst_6_month = [[[\"2020-02-20\",\"2020-09-01\"],240]]\n",
    "worst_1_year = [[[\"2019-09-01\",\"2020-09-01\"],170]]\n",
    "# p = 243\n",
    "# periods_n_open_close = [[[\"2020-05-31\",\"2020-06-30\"],240]]\n",
    "# periods_n_open_close = [[[\"2020-06-02\",\"2020-07-22\"],243]]\n",
    "# periods_n_open_close = [[[\"2020-05-31\",\"2020-06-07\"],240]]"
   ]
  },
  {
   "cell_type": "code",
   "execution_count": 166,
   "metadata": {},
   "outputs": [
    {
     "data": {
      "text/plain": [
       "354"
      ]
     },
     "execution_count": 166,
     "metadata": {},
     "output_type": "execute_result"
    }
   ],
   "source": [
    "# Period of Simulations\n",
    "periods_n_open_close = worst_6_month\n",
    "period = periods_n_open_close[0][0]\n",
    "p = periods_n_open_close[0][1]\n",
    "data_set = historical_data.loc[period[0]+' 00:00:00':period[1]+' 00:00:00']\n",
    "crosses = cross_counter(data_set, p)\n",
    "crosses['down']['crossed_down'] + crosses['up']['crossed_up']"
   ]
  },
  {
   "cell_type": "code",
   "execution_count": 167,
   "metadata": {
    "tags": []
   },
   "outputs": [
    {
     "name": "stdout",
     "output_type": "stream",
     "text": [
      "Fees counter for (pcg = 0.005, increment = 0.0005) =  322\n",
      "PnL for (pcg = 0.005, increment = 0.0005) =  -159700.58932288198\n",
      "Fees counter for (pcg = 0.005, increment = 0.001) =  260\n",
      "PnL for (pcg = 0.005, increment = 0.001) =  -157572.0970661439\n",
      "Fees counter for (pcg = 0.005, increment = 0.002) =  194\n",
      "PnL for (pcg = 0.005, increment = 0.002) =  -104398.10832875544\n",
      "Fees counter for (pcg = 0.005, increment = 0.003) =  136\n",
      "PnL for (pcg = 0.005, increment = 0.003) =  -40176.11423351267\n",
      "Fees counter for (pcg = 0.005, increment = 0.005) =  96\n",
      "PnL for (pcg = 0.005, increment = 0.005) =  -52110.249370017846\n",
      "Fees counter for (pcg = 0.005, increment = 0.007) =  74\n",
      "PnL for (pcg = 0.005, increment = 0.007) =  -9654.954697517012\n",
      "Fees counter for (pcg = 0.005, increment = 0.01) =  56\n",
      "PnL for (pcg = 0.005, increment = 0.01) =  25778.04723751844\n"
     ]
    }
   ],
   "source": [
    "max_txs = 8 # we wont execute more than 4 late closes (each one has a loss of ~-5k which means -5k/1M = -0.5% loss each time we close late)\n",
    "L = 5 * 0.07\n",
    "trailings = [0.005]#[0.001, 0.003,0.005,0.01,0.02, 0.03,0.05]  #[0.02, 0.03]\n",
    "trailing_time = 0\n",
    "# trailing_update_hours = [0, 1, 3, 8, 12, 24]\n",
    "increments = [0.0005, 0.001, 0.002, 0.003, 0.005, 0.007, 0.01]\n",
    "# increment = 0.003\n",
    "maker_fees_counter_lengths = {}\n",
    "pnl_results = {}\n",
    "for period_n_open_close in periods_n_open_close:\n",
    "    for increment in increments:\n",
    "        for trailing in trailings:\n",
    "            period = period_n_open_close[0]\n",
    "            open_close = period_n_open_close[1]\n",
    "            slippage = 0.0005\n",
    "            maker_fees_counter = run_sim(period, open_close, slippage, max_txs, L, trailing, increment)\n",
    "            maker_fees_counter_lengths[\"pcg = \"+str(trailing) + \", increment = \" + str(increment)]=maker_fees_counter\n",
    "            print(\"Fees counter for (pcg = \"+str(trailing) + \", increment = \" + str(increment) + \") = \", \n",
    "                 maker_fees_counter_lengths[\"pcg = \"+str(trailing) + \", increment = \" + str(increment)])\n",
    "            directory = \"From_%s_to_%s_open_close_at_%s/dydx_results.csv\" % (period[0], period[1], open_close)#\"From_2020-05-31_to_2020-12-01_open_close_at_240/dydx_results.csv\"\n",
    "            dydx_results = pd.read_csv(\"Files/Tests/\" + directory, low_memory=False)\n",
    "            pnl_results[\"pcg = \"+str(trailing) + \", increment = \" + str(increment)]=dydx_results['total_stgy_pnl'][len(dydx_results)-1]\n",
    "            print(\"PnL for (pcg = \"+str(trailing) + \", increment = \" + str(increment) + \") = \", \n",
    "                  pnl_results[\"pcg = \"+str(trailing) + \", increment = \" + str(increment)])"
   ]
  },
  {
   "cell_type": "code",
   "execution_count": 80,
   "metadata": {},
   "outputs": [
    {
     "data": {
      "text/plain": [
       "'From_2019-09-01_to_2020-09-01_open_close_at_170'"
      ]
     },
     "execution_count": 80,
     "metadata": {},
     "output_type": "execute_result"
    }
   ],
   "source": [
    "\"From_%s_to_%s_open_close_at_%s\" % (period[0], period[1], p)"
   ]
  },
  {
   "cell_type": "code",
   "execution_count": 89,
   "metadata": {},
   "outputs": [],
   "source": [
    "price_jump_in_open = {}\n",
    "price_jump_in_close = {}\n",
    "\n",
    "for i in range(len(dydx_results)-1):\n",
    "    if dydx_results['entry_price'][i]==0 and dydx_results['entry_price'][i+1]!=0:\n",
    "        price_jump_in_open[str(dydx_results['date'][i])] = abs(dydx_results['market_price'][i+1] / dydx_results['market_price'][i]-1)\n",
    "    elif dydx_results['entry_price'][i]!=0 and dydx_results['entry_price'][i+1]==0:\n",
    "        price_jump_in_close[str(dydx_results['date'][i])] = abs(dydx_results['market_price'][i+1] / dydx_results['market_price'][i]-1)"
   ]
  },
  {
   "cell_type": "code",
   "execution_count": 97,
   "metadata": {},
   "outputs": [
    {
     "name": "stdout",
     "output_type": "stream",
     "text": [
      "Min price jump at open: 0.0041%\n",
      "Mean price jump at open: 0.1688%\n",
      "Max price jump at open: 2.5665%\n"
     ]
    }
   ],
   "source": [
    "print(\"Min price jump at open:\",str(round(min(list(price_jump_in_open.values())),6)*100)+\"%\")\n",
    "print(\"Mean price jump at open:\",str(round(np.mean(list(price_jump_in_open.values())),6)*100)+\"%\")\n",
    "print(\"Max price jump at open:\",str(round(max(list(price_jump_in_open.values())),6)*100)+\"%\")"
   ]
  },
  {
   "cell_type": "code",
   "execution_count": 100,
   "metadata": {},
   "outputs": [
    {
     "name": "stdout",
     "output_type": "stream",
     "text": [
      "Min price jump at close: 0.0082%\n",
      "Mean price jump at close: 0.1646%\n",
      "Max price jump at close: 1.717%\n"
     ]
    }
   ],
   "source": [
    "print(\"Min price jump at close:\",str(round(min(list(price_jump_in_close.values())),6)*100)+\"%\")\n",
    "print(\"Mean price jump at close:\",str(round(np.mean(list(price_jump_in_close.values())),6)*100)+\"%\")\n",
    "print(\"Max price jump at close:\",str(round(max(list(price_jump_in_close.values())),5)*100)+\"%\")"
   ]
  },
  {
   "cell_type": "code",
   "execution_count": 136,
   "metadata": {},
   "outputs": [],
   "source": [
    "periods_n_open_close = [[[\"2019-09-01\",\"2019-12-01\"],148], [[\"2019-09-01\",\"2019-12-31\"],185], \n",
    "                        [[\"2020-01-01\",\"2020-05-01\"],135]]#, [[\"2020-05-01\",\"2020-09-01\"],240]]\n",
    "periods_n_open_close = [[[\"2019-09-01\",\"2019-12-31\"],185]]\n",
    "periods_n_open_close = [[[\"2019-09-01\",\"2019-12-01\"],185]]"
   ]
  },
  {
   "cell_type": "code",
   "execution_count": 164,
   "metadata": {},
   "outputs": [
    {
     "data": {
      "text/plain": [
       "354"
      ]
     },
     "execution_count": 164,
     "metadata": {},
     "output_type": "execute_result"
    }
   ],
   "source": [
    "# Period of Simulations\n",
    "# periods_n_open_close = worst_1_month\n",
    "period = periods_n_open_close[0][0]\n",
    "p = periods_n_open_close[0][1]\n",
    "data_set = historical_data.loc[period[0]+' 00:00:00':period[1]+' 00:00:00']\n",
    "crosses = cross_counter(data_set, p)\n",
    "crosses['down']['crossed_down'] + crosses['up']['crossed_up']"
   ]
  },
  {
   "cell_type": "code",
   "execution_count": 163,
   "metadata": {},
   "outputs": [
    {
     "data": {
      "image/png": "[encoded data removed]",
      "text/plain": [
       "<Figure size 2100x700 with 1 Axes>"
      ]
     },
     "metadata": {},
     "output_type": "display_data"
    }
   ],
   "source": [
    "# Period of Simulations\n",
    "\n",
    "worst_6_month = [[[\"2020-02-20\",\"2020-09-01\"],240]]\n",
    "worst_1_year = [[[\"2019-09-01\",\"2020-03-01\"],170]]\n",
    "periods_n_open_close = worst_3_month\n",
    "period = periods_n_open_close[0][0]\n",
    "data = historical_data.loc[period[0]+' 00:00:00':period[1]+' 00:00:00']\n",
    "parameter_manager = ParameterManager()\n",
    "last_date = period[1]+' 00:00:00'\n",
    "vol = parameter_manager.calc_vol(last_date, data)\n",
    "mu, sigma = vol\n",
    "open_close = periods_n_open_close[0][1]\n",
    "# floor just in order to get triger_price['open_close_1'] = open_close_1\n",
    "floor = open_close / ((1+slippage)*(1+mu+2*sigma))\n",
    "fig, axs = plt.subplots(1, 1, figsize=(21, 7))\n",
    "axs.plot(data['close'], color='tab:blue', label='market price')\n",
    "axs.axhline(y=open_close, \n",
    "            color='green', \n",
    "            linestyle='--', \n",
    "            label='oc1='+str(round(open_close,3)))\n",
    "# axs.axhline(y=243, \n",
    "#             color='red', \n",
    "#             linestyle='--', \n",
    "#             label='oc2='+str(round(243,3)))\n",
    "# axs.axhline(y=p_open_close_2, color='darkgoldenrod', linestyle='--', label='open_close2')\n",
    "# axs.axhline(y=390, color='red', linestyle='--', label='open_close')\n",
    "axs.grid()\n",
    "axs.legend(loc='lower left')\n",
    "plt.show()"
   ]
  },
  {
   "cell_type": "code",
   "execution_count": 38,
   "metadata": {},
   "outputs": [
    {
     "data": {
      "text/plain": [
       "0.07894394589673559"
      ]
     },
     "execution_count": 38,
     "metadata": {},
     "output_type": "execute_result"
    }
   ],
   "source": [
    "data['close'].pct_change(1*24*60).dropna().max()"
   ]
  },
  {
   "cell_type": "code",
   "execution_count": 92,
   "metadata": {},
   "outputs": [
    {
     "data": {
      "text/plain": [
       "-93714.29797685935"
      ]
     },
     "execution_count": 92,
     "metadata": {},
     "output_type": "execute_result"
    }
   ],
   "source": [
    "directory = \"From_2020-05-15_to_2020-06-15_open_close_at_240/dydx_results.csv\"\n",
    "dydx_results = pd.read_csv(\"Files/Tests/\" + directory)\n",
    "dydx_results['total_stgy_pnl'][len(dydx_results)-1]"
   ]
  },
  {
   "cell_type": "code",
   "execution_count": 65,
   "metadata": {},
   "outputs": [
    {
     "data": {
      "text/plain": [
       "'2020-05-01'"
      ]
     },
     "execution_count": 65,
     "metadata": {},
     "output_type": "execute_result"
    }
   ],
   "source": [
    "period"
   ]
  },
  {
   "cell_type": "code",
   "execution_count": 28,
   "metadata": {},
   "outputs": [
    {
     "data": {
      "text/plain": [
       "'2019-09-01 00:00:00'"
      ]
     },
     "execution_count": 28,
     "metadata": {},
     "output_type": "execute_result"
    }
   ],
   "source": [
    "str(historical_data.index[0])"
   ]
  },
  {
   "cell_type": "code",
   "execution_count": 29,
   "metadata": {},
   "outputs": [],
   "source": [
    "data = historical_data.loc[periods_n_open_close[0][0][0]+' 00:00:00':periods_n_open_close[0][0][1]+' 00:00:00']"
   ]
  },
  {
   "cell_type": "code",
   "execution_count": 30,
   "metadata": {},
   "outputs": [],
   "source": [
    "returns = data['close'].pct_change().dropna()\n",
    "log_returns = np.log(data['close']) \\\n",
    "        - np.log(data['close'].shift(1))"
   ]
  },
  {
   "cell_type": "code",
   "execution_count": 31,
   "metadata": {},
   "outputs": [],
   "source": [
    "std_ema_log_returns = log_returns.ewm(alpha=0.8, adjust=False).std().mean()\n",
    "std_ema_returns = returns.ewm(alpha=0.8, adjust=False).std().mean()\n",
    "mu_log_returns = log_returns.mean()\n",
    "mu_abs_log_returns = abs(log_returns).mean()\n",
    "std_ema_abs_log_returns = abs(log_returns).ewm(alpha=0.8, adjust=False).std().mean()\n",
    "mu_log_returns_max = log_returns.max()\n",
    "mu_log_returns_min = log_returns.min()\n",
    "mu_returns = returns.mean()\n",
    "mu_abs_returns = abs(returns).mean()\n",
    "mu_returns_max = returns.max()\n",
    "mu_returns_min = returns.min()"
   ]
  },
  {
   "cell_type": "code",
   "execution_count": null,
   "metadata": {},
   "outputs": [],
   "source": [
    "mu_returns_max, mu_returns_min"
   ]
  },
  {
   "cell_type": "code",
   "execution_count": null,
   "metadata": {},
   "outputs": [],
   "source": [
    "K = 3\n",
    "condition = (mu_abs_log_returns-K*std_ema_log_returns<log_returns)&(log_returns<mu_abs_log_returns+K*std_ema_log_returns)"
   ]
  },
  {
   "cell_type": "code",
   "execution_count": null,
   "metadata": {},
   "outputs": [],
   "source": [
    "mu_abs_log_returns+K*std_ema_log_returns"
   ]
  },
  {
   "cell_type": "code",
   "execution_count": null,
   "metadata": {},
   "outputs": [],
   "source": [
    "len(log_returns[condition]),len(log_returns),len(log_returns[condition])/len(log_returns)"
   ]
  },
  {
   "cell_type": "code",
   "execution_count": null,
   "metadata": {},
   "outputs": [],
   "source": [
    "plt.hist(log_returns[condition], bins=100)"
   ]
  },
  {
   "cell_type": "code",
   "execution_count": null,
   "metadata": {},
   "outputs": [],
   "source": [
    "len(log_returns)"
   ]
  },
  {
   "cell_type": "code",
   "execution_count": 22,
   "metadata": {},
   "outputs": [
    {
     "data": {
      "text/plain": [
       "(239.4380835398584, 240.0, 247.20000000000002)"
      ]
     },
     "execution_count": 22,
     "metadata": {},
     "output_type": "execute_result"
    }
   ],
   "source": [
    "slippage = 0.0005\n",
    "K_1 = 2\n",
    "K_2 = 6\n",
    "mu = 0.0004973569978282845\n",
    "sigma = 0.0006742666391824819\n",
    "floor = 240 / ((1+slippage)*(1+mu+K_1*sigma))\n",
    "p_open_close_1 = floor * (1+slippage) * (1+mu+K_1*sigma)\n",
    "p_open_close_2 = p_open_close_1 * (1+K_2/K_1/100)\n",
    "floor, p_open_close_1, p_open_close_2"
   ]
  },
  {
   "cell_type": "code",
   "execution_count": 29,
   "metadata": {},
   "outputs": [
    {
     "data": {
      "text/plain": [
       "1.0050452283113396"
      ]
     },
     "execution_count": 29,
     "metadata": {},
     "output_type": "execute_result"
    }
   ],
   "source": [
    "(1+slippage)*(1+mu+6*sigma)"
   ]
  },
  {
   "cell_type": "code",
   "execution_count": 22,
   "metadata": {},
   "outputs": [],
   "source": [
    "max_loss = 0.05\n",
    "p_open_close_1 = floor * (1+slippage) * (1+mu+K_1*sigma)\n",
    "oc1 = p_open_close_1\n",
    "for i in range(1,5):\n",
    "    globals()['oc'+str(i+1)] = oc1 * 1.01**i # jumps of 1%"
   ]
  },
  {
   "cell_type": "code",
   "execution_count": 18,
   "metadata": {},
   "outputs": [
    {
     "data": {
      "text/plain": [
       "-0.029126213592233108"
      ]
     },
     "execution_count": 18,
     "metadata": {},
     "output_type": "execute_result"
    }
   ],
   "source": [
    "p_open_close_1/p_open_close_2-1"
   ]
  },
  {
   "cell_type": "code",
   "execution_count": 37,
   "metadata": {},
   "outputs": [
    {
     "data": {
      "text/plain": [
       "timestamp\n",
       "2020-06-01 00:17:00    233.48\n",
       "2020-06-01 00:18:00    233.48\n",
       "2020-06-01 01:29:00    233.48\n",
       "2020-06-01 01:30:00    233.48\n",
       "2020-06-01 01:31:00    233.48\n",
       "2020-06-01 01:32:00    233.48\n",
       "2020-06-02 16:00:00    233.48\n",
       "Name: close, dtype: float64"
      ]
     },
     "execution_count": 37,
     "metadata": {},
     "output_type": "execute_result"
    }
   ],
   "source": [
    "data['close'].loc[data['close']==233.48]"
   ]
  },
  {
   "cell_type": "markdown",
   "metadata": {},
   "source": [
    "## Extras"
   ]
  },
  {
   "cell_type": "markdown",
   "metadata": {},
   "source": [
    "Let's define a function to count how many times a given price is cross given a dataset."
   ]
  },
  {
   "cell_type": "code",
   "execution_count": 14,
   "metadata": {},
   "outputs": [],
   "source": [
    "def cross_counter(data_set, price):\n",
    "    crossed_down = 0\n",
    "    crossed_up = 0\n",
    "    index_up = []\n",
    "    index_down = []\n",
    "    for index in range(1,len(data_set)):\n",
    "        previous_price = data_set['close'][index-1]\n",
    "        current_price = data_set['close'][index]\n",
    "        if previous_price <= price < current_price:\n",
    "            crossed_up += 1\n",
    "            index_up.append(index-1)\n",
    "        elif previous_price >= price > current_price:\n",
    "            crossed_down += 1\n",
    "            index_down.append(index-1)\n",
    "    return {'down':\n",
    "                {'crossed_down': crossed_down,\n",
    "                'index_down': index_down},\n",
    "            'up':\n",
    "                {'crossed_up': crossed_up,\n",
    "                'index_up': index_up}}"
   ]
  },
  {
   "cell_type": "code",
   "execution_count": 70,
   "metadata": {},
   "outputs": [],
   "source": [
    "# Period of Simulations\n",
    "periods_n_open_close = [[[\"2019-09-01\",\"2020-09-01\"],240]]\n",
    "period = periods_n_open_close[0][0]\n",
    "data_set = historical_data.loc[period[0]+' 00:00:00':period[1]+' 00:00:00']\n",
    "price = periods_n_open_close[0][1]"
   ]
  },
  {
   "cell_type": "code",
   "execution_count": 55,
   "metadata": {},
   "outputs": [
    {
     "data": {
      "image/png": "[encoded data removed]",
      "text/plain": [
       "<Figure size 2100x700 with 1 Axes>"
      ]
     },
     "metadata": {},
     "output_type": "display_data"
    }
   ],
   "source": [
    "fig, axs = plt.subplots(1, 1, figsize=(21, 7))\n",
    "axs.plot(data_set['close'], color='tab:blue', label='market price')\n",
    "# axs.axhline(floor, color='darkgoldenrod', linestyle='--', label='floor')\n",
    "axs.axhline(y=243, color='red', linestyle='--', label='open_close')\n",
    "# axs.axhline(y=185, color='red', linestyle='--', label='open_close')\n",
    "# axs.axhline(y=170, color='red', linestyle='--', label='open_close')\n",
    "# axs.axhline(y=130, color='red', linestyle='--', label='open_close')\n",
    "axs.grid()\n",
    "axs.legend(loc='lower left')\n",
    "plt.show()"
   ]
  },
  {
   "cell_type": "code",
   "execution_count": 75,
   "metadata": {
    "tags": []
   },
   "outputs": [
    {
     "data": {
      "text/plain": [
       "558"
      ]
     },
     "execution_count": 75,
     "metadata": {},
     "output_type": "execute_result"
    }
   ],
   "source": [
    "# Period of Simulations\n",
    "p = 170\n",
    "periods_n_open_close = [[[\"2019-09-01\",\"2020-09-01\"],p]]\n",
    "period = periods_n_open_close[0][0]\n",
    "data_set = historical_data.loc[period[0]+' 00:00:00':period[1]+' 00:00:00']\n",
    "crosses = cross_counter(data_set, p)\n",
    "crosses['down']['crossed_down'] + crosses['up']['crossed_up']"
   ]
  },
  {
   "cell_type": "code",
   "execution_count": 61,
   "metadata": {},
   "outputs": [],
   "source": [
    "dydx_results = pd.read_csv(\"Files/Tests/From_2020-05-01_to_2020-09-01_open_close_at_240/dydx_results.csv\")"
   ]
  },
  {
   "cell_type": "code",
   "execution_count": 62,
   "metadata": {},
   "outputs": [
    {
     "data": {
      "text/plain": [
       "market_price                    176910\n",
       "I_current                       176910\n",
       "I_old                           176910\n",
       "entry_price                      53220\n",
       "short_size                       53220\n",
       "collateral                      176910\n",
       "notional                         53375\n",
       "equity                          176910\n",
       "leverage                         53375\n",
       "pnl                              53066\n",
       "collateral_status               176910\n",
       "short_status                     53220\n",
       "order_status                    123690\n",
       "withdrawal_fees                 176910\n",
       "funding_rates                   176910\n",
       "maker_taker_fees                133516\n",
       "maker_fees_counter              133516\n",
       "costs                              421\n",
       "gas_fees                        176910\n",
       "total_costs_from_aave_n_dydx    133516\n",
       "total_stgy_pnl                  176910\n",
       "index_of_mkt_price              176910\n",
       "dtype: int64"
      ]
     },
     "execution_count": 62,
     "metadata": {},
     "output_type": "execute_result"
    }
   ],
   "source": [
    "dydx_results.astype(bool).sum(axis=0)"
   ]
  },
  {
   "cell_type": "markdown",
   "metadata": {},
   "source": [
    "Let's define a function to count down in which rows of the results a maker_fee is added. This will be helpful to analize the moments in which we close the short (therefore being able to calculate close_price - entry_price) and to compare if the amount of maker_fees is equal to the times the relevant price is crosses (both should coincide). "
   ]
  },
  {
   "cell_type": "code",
   "execution_count": 70,
   "metadata": {},
   "outputs": [],
   "source": [
    "def count_maker_fees_increment(data_set):\n",
    "    index_of_maker_fee = []\n",
    "    for index in range(1,len(data_set)):\n",
    "        previous_maker_fee_counter = data_set['maker_fees_counter'][index-1]\n",
    "        current_maker_fee_counter = data_set['maker_fees_counter'][index]\n",
    "        if previous_maker_fee_counter < current_maker_fee_counter:\n",
    "            index_of_maker_fee.append(index)\n",
    "    return {'indexes': index_of_maker_fee}"
   ]
  },
  {
   "cell_type": "code",
   "execution_count": 72,
   "metadata": {},
   "outputs": [],
   "source": [
    "results_maker_fee_counter= count_maker_fees_increment(dydx_results)"
   ]
  },
  {
   "cell_type": "markdown",
   "metadata": {},
   "source": [
    "Let's count down how many indexes in which price crossed relevant price downwards coincide with indexes in which a maker fee was added. Same for price crossing relevant price upwards."
   ]
  },
  {
   "cell_type": "code",
   "execution_count": 167,
   "metadata": {},
   "outputs": [],
   "source": [
    "matches_up = 0\n",
    "matches_down = 0\n",
    "for index_up in crosses['up']['index_up']:\n",
    "    if index_up in results_maker_fee_counter['indexes']:\n",
    "        matches_up += 1\n",
    "for index_down in crosses['down']['index_down']:\n",
    "    if index_down in results_maker_fee_counter['indexes']:\n",
    "        matches_down += 1"
   ]
  },
  {
   "cell_type": "code",
   "execution_count": 170,
   "metadata": {},
   "outputs": [
    {
     "data": {
      "text/plain": [
       "(155, 136, 291)"
      ]
     },
     "execution_count": 170,
     "metadata": {},
     "output_type": "execute_result"
    }
   ],
   "source": [
    "matches_up, matches_down, matches_up + matches_down"
   ]
  },
  {
   "cell_type": "code",
   "execution_count": 173,
   "metadata": {},
   "outputs": [
    {
     "data": {
      "text/plain": [
       "(156, 156)"
      ]
     },
     "execution_count": 173,
     "metadata": {},
     "output_type": "execute_result"
    }
   ],
   "source": [
    "len(crosses['up']['index_up']), len(crosses['down']['index_down'])"
   ]
  },
  {
   "cell_type": "markdown",
   "metadata": {},
   "source": [
    "So almost all indexes for which price goes above relevant price coincide with indexes in which a maker fee was added. It means that in order to get the rows in which we close the short, we can use index_up."
   ]
  },
  {
   "cell_type": "markdown",
   "metadata": {},
   "source": [
    "Let's now calculate the average value of close_price - entry_price to have a notion of for how much usually we miss and a notion of an average amount of loss coming from closing late."
   ]
  },
  {
   "cell_type": "markdown",
   "metadata": {},
   "source": [
    "First of all note that if we look at rows of results for indexes between [index_up -2, index_up+2] we realise that \n",
    "- entry_price and short_size can be found at index_up -1\n",
    "- close_price is market_price in index = index_up"
   ]
  },
  {
   "cell_type": "code",
   "execution_count": 176,
   "metadata": {},
   "outputs": [
    {
     "data": {
      "text/html": [
       "<div>\n",
       "<style scoped>\n",
       "    .dataframe tbody tr th:only-of-type {\n",
       "        vertical-align: middle;\n",
       "    }\n",
       "\n",
       "    .dataframe tbody tr th {\n",
       "        vertical-align: top;\n",
       "    }\n",
       "\n",
       "    .dataframe thead th {\n",
       "        text-align: right;\n",
       "    }\n",
       "</style>\n",
       "<table border=\"1\" class=\"dataframe\">\n",
       "  <thead>\n",
       "    <tr style=\"text-align: right;\">\n",
       "      <th></th>\n",
       "      <th>market_price</th>\n",
       "      <th>I_current</th>\n",
       "      <th>I_old</th>\n",
       "      <th>short_size</th>\n",
       "      <th>entry_price</th>\n",
       "      <th>pnl</th>\n",
       "      <th>maker_fees_counter</th>\n",
       "      <th>total_stgy_pnl</th>\n",
       "    </tr>\n",
       "  </thead>\n",
       "  <tbody>\n",
       "    <tr>\n",
       "      <th>43393</th>\n",
       "      <td>240.70</td>\n",
       "      <td>infty</td>\n",
       "      <td>minus_infty</td>\n",
       "      <td>0.000</td>\n",
       "      <td>0.00</td>\n",
       "      <td>0.0000</td>\n",
       "      <td>0</td>\n",
       "      <td>-2.879624</td>\n",
       "    </tr>\n",
       "    <tr>\n",
       "      <th>43394</th>\n",
       "      <td>239.74</td>\n",
       "      <td>minus_infty</td>\n",
       "      <td>infty</td>\n",
       "      <td>-4334.634</td>\n",
       "      <td>239.74</td>\n",
       "      <td>0.0000</td>\n",
       "      <td>1</td>\n",
       "      <td>-522.470891</td>\n",
       "    </tr>\n",
       "    <tr>\n",
       "      <th>43395</th>\n",
       "      <td>240.94</td>\n",
       "      <td>infty</td>\n",
       "      <td>minus_infty</td>\n",
       "      <td>0.000</td>\n",
       "      <td>0.00</td>\n",
       "      <td>-5201.5608</td>\n",
       "      <td>2</td>\n",
       "      <td>-6246.223689</td>\n",
       "    </tr>\n",
       "    <tr>\n",
       "      <th>43396</th>\n",
       "      <td>240.86</td>\n",
       "      <td>infty</td>\n",
       "      <td>minus_infty</td>\n",
       "      <td>0.000</td>\n",
       "      <td>0.00</td>\n",
       "      <td>0.0000</td>\n",
       "      <td>2</td>\n",
       "      <td>-6246.222332</td>\n",
       "    </tr>\n",
       "  </tbody>\n",
       "</table>\n",
       "</div>"
      ],
      "text/plain": [
       "       market_price    I_current        I_old  short_size  entry_price  \\\n",
       "43393        240.70        infty  minus_infty       0.000         0.00   \n",
       "43394        239.74  minus_infty        infty   -4334.634       239.74   \n",
       "43395        240.94        infty  minus_infty       0.000         0.00   \n",
       "43396        240.86        infty  minus_infty       0.000         0.00   \n",
       "\n",
       "             pnl  maker_fees_counter  total_stgy_pnl  \n",
       "43393     0.0000                   0       -2.879624  \n",
       "43394     0.0000                   1     -522.470891  \n",
       "43395 -5201.5608                   2    -6246.223689  \n",
       "43396     0.0000                   2    -6246.222332  "
      ]
     },
     "execution_count": 176,
     "metadata": {},
     "output_type": "execute_result"
    }
   ],
   "source": [
    "i = 1\n",
    "index = crosses['up']['index_up'][i]\n",
    "dydx_results.iloc[index-2:index+2][['market_price', 'I_current','I_old','short_size','entry_price','pnl','maker_fees_counter','total_stgy_pnl']]"
   ]
  },
  {
   "cell_type": "markdown",
   "metadata": {},
   "source": [
    "Let's calculate the difference close - open and the cost for each time we close the short (ie for every index_up)."
   ]
  },
  {
   "cell_type": "code",
   "execution_count": 177,
   "metadata": {},
   "outputs": [],
   "source": [
    "diff = []\n",
    "cost = []\n",
    "# we dont start the loop at i = 0 because the data_set started below open_close\n",
    "# so the first time price crossed open_close doesnt matter bc we didnt assume have the short position open\n",
    "for i in range(1,len(crosses['up']['index_up'])):\n",
    "    index_up = crosses['up']['index_up'][i]\n",
    "    if index_up in results_maker_fee_counter['indexes']:\n",
    "        entry_price = dydx_results.iloc[index-1]['entry_price']\n",
    "        close_price = dydx_results.iloc[index]['market_price']\n",
    "        short_size = dydx_results.iloc[index-1]['short_size']\n",
    "        diff.append(close_price-entry_price)\n",
    "        cost.append(short_size * (close_price-entry_price))"
   ]
  },
  {
   "cell_type": "code",
   "execution_count": 180,
   "metadata": {},
   "outputs": [
    {
     "data": {
      "text/plain": [
       "(1.1999999999999886, -5201.560799999951)"
      ]
     },
     "execution_count": 180,
     "metadata": {},
     "output_type": "execute_result"
    }
   ],
   "source": [
    "np.mean(diff), np.mean(cost)"
   ]
  }
 ],
 "metadata": {
  "kernelspec": {
   "display_name": "Python 3 (ipykernel)",
   "language": "python",
   "name": "python3"
  },
  "language_info": {
   "codemirror_mode": {
    "name": "ipython",
    "version": 3
   },
   "file_extension": ".py",
   "mimetype": "text/x-python",
   "name": "python",
   "nbconvert_exporter": "python",
   "pygments_lexer": "ipython3",
   "version": "3.10.6"
  }
 },
 "nbformat": 4,
 "nbformat_minor": 4
}
