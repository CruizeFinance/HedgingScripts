{
 "cells": [
  {
   "cell_type": "code",
   "execution_count": 1,
   "id": "85ae8f22-97e8-44be-a9bc-17117dae1ce4",
   "metadata": {},
   "outputs": [],
   "source": [
    "import math\n",
    "import time\n",
    "import matplotlib.pyplot as plt\n",
    "import numpy as np"
   ]
  },
  {
   "cell_type": "code",
   "execution_count": 31,
   "id": "5ab7119a-425e-429c-84f8-67be85ccec82",
   "metadata": {},
   "outputs": [
    {
     "name": "stdout",
     "output_type": "stream",
     "text": [
      "u:  20.448541687437203\n"
     ]
    }
   ],
   "source": [
    "S = 60000 # Underlying Price of asset\n",
    "K = 50000 # Strike price\n",
    "T = 7\n",
    "iv = 1 # Implied Volatility\n",
    "V = 0\n",
    "\n",
    "u = math.sqrt(1 + (8/(iv**2 * (T/365))))\n",
    "print('u: ', u)"
   ]
  },
  {
   "cell_type": "code",
   "execution_count": 32,
   "id": "e4db169f-55ea-4191-9efd-dec3cbc051b5",
   "metadata": {},
   "outputs": [],
   "source": [
    "def get_time_value_put():\n",
    "    V = 0\n",
    "    if S >= K:\n",
    "        V = (K/u) * (S/K)**((1-u)/2)\n",
    "    else:\n",
    "        V = (K/u) * (S/K)**((1+u)/2)\n",
    "    return V"
   ]
  },
  {
   "cell_type": "code",
   "execution_count": 33,
   "id": "837c3334-dd29-4bbe-bb68-0685559cc680",
   "metadata": {},
   "outputs": [
    {
     "name": "stdout",
     "output_type": "stream",
     "text": [
      "Time Value:  415.2673446013585\n",
      "payoff:  415.2673446013585\n",
      "funding_fee:  59.32390637162264\n"
     ]
    }
   ],
   "source": [
    "V = get_time_value_put()\n",
    "print('Time Value: ', V)\n",
    "p_ever = max(K - S, 0) + V\n",
    "print('payoff: ', p_ever)\n",
    "\n",
    "funding_fee = p_ever/7\n",
    "print('funding_fee: ', funding_fee)"
   ]
  },
  {
   "cell_type": "code",
   "execution_count": null,
   "id": "d3f6fe83-f2f8-4b7b-b181-706805bc821d",
   "metadata": {},
   "outputs": [],
   "source": []
  },
  {
   "cell_type": "code",
   "execution_count": null,
   "id": "b4dd7dd0-0f2f-410d-b70d-da6c951d7507",
   "metadata": {},
   "outputs": [],
   "source": []
  }
 ],
 "metadata": {
  "kernelspec": {
   "display_name": "Python 3",
   "language": "python",
   "name": "python3"
  },
  "language_info": {
   "codemirror_mode": {
    "name": "ipython",
    "version": 3
   },
   "file_extension": ".py",
   "mimetype": "text/x-python",
   "name": "python",
   "nbconvert_exporter": "python",
   "pygments_lexer": "ipython3",
   "version": "3.8.5"
  }
 },
 "nbformat": 4,
 "nbformat_minor": 5
}
